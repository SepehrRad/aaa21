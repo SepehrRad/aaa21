{
 "cells": [
  {
   "cell_type": "code",
   "execution_count": null,
   "id": "6b471428",
   "metadata": {},
   "outputs": [],
   "source": [
    "cd .."
   ]
  },
  {
   "cell_type": "code",
   "execution_count": null,
   "id": "fb54a183",
   "metadata": {},
   "outputs": [],
   "source": [
    "import utils\n",
    "import pandas as pd"
   ]
  },
  {
   "cell_type": "code",
   "execution_count": null,
   "id": "4241b7b3",
   "metadata": {},
   "outputs": [],
   "source": [
    "chicago_df = utils.read_parquet('Taxi_Trips.parquet',columns=['Trip ID','Trip Start Timestamp'])"
   ]
  },
  {
   "cell_type": "code",
   "execution_count": null,
   "id": "5a21daf0",
   "metadata": {},
   "outputs": [],
   "source": [
    "weather_df = utils.add_weather_data(chicago_df)"
   ]
  },
  {
   "cell_type": "code",
   "execution_count": null,
   "outputs": [],
   "source": [],
   "metadata": {
    "collapsed": false,
    "pycharm": {
     "name": "#%%\n"
    }
   }
  },
  {
   "cell_type": "code",
   "execution_count": null,
   "id": "b2951fa8",
   "metadata": {},
   "outputs": [],
   "source": [
    "utils.write_parquet_from_pandas(df=weather_df,filename='Weather.parquet')"
   ]
  }
 ],
 "metadata": {
  "kernelspec": {
   "display_name": "Python 3",
   "language": "python",
   "name": "python3"
  },
  "language_info": {
   "codemirror_mode": {
    "name": "ipython",
    "version": 3
   },
   "file_extension": ".py",
   "mimetype": "text/x-python",
   "name": "python",
   "nbconvert_exporter": "python",
   "pygments_lexer": "ipython3",
   "version": "3.9.5"
  }
 },
 "nbformat": 4,
 "nbformat_minor": 5
}