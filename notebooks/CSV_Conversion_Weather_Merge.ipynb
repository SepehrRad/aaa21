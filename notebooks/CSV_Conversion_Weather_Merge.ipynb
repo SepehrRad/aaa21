{
 "cells": [
  {
   "cell_type": "markdown",
   "id": "2aaa2497",
   "metadata": {},
   "source": [
    "# Format Conversions & Weather Data\n",
    "---\n",
    "In this notebook, we build our weather dataset and also convert our CSV file to a parquet file. This approach helps us in later stages of the project to be able to read only specific columns from the entire data set. Parquet file are columnar and much faster to work with than CSVs.\n",
    "\n",
    "Furthermore, we use the gathered weather informations to build our weather dataset. This dataset has the trip id and start time as foreign keys, which will be used later for merging our data frames.\n",
    "\n",
    "The weather dataset will have the following attributes:\n",
    "- Temperature (C)\n",
    "- Humidity(%)\n",
    "- Pressure(hPa)\n",
    "- Wind Direction(Meteoro. Degree)\n",
    "- Wind Speed(M/S)\n",
    "\n",
    "_All functions that are used for data conversion and bulding the weather data frame are documented in the utils.py package_"
   ]
  },
  {
   "cell_type": "code",
   "execution_count": null,
   "id": "6b471428",
   "metadata": {},
   "outputs": [],
   "source": [
    "cd .."
   ]
  },
  {
   "cell_type": "code",
   "execution_count": null,
   "id": "fb54a183",
   "metadata": {},
   "outputs": [],
   "source": [
    "import utils\n",
    "import pandas as pd"
   ]
  },
  {
   "cell_type": "code",
   "execution_count": null,
   "id": "977252c5",
   "metadata": {},
   "outputs": [],
   "source": [
    "#Run only if you have enough local memory for the transformation\n",
    "#utils.write_parquet('../data/Taxi_Trips.csv', 'Taxi_Trips.parquet'):"
   ]
  },
  {
   "cell_type": "code",
   "execution_count": null,
   "id": "4241b7b3",
   "metadata": {},
   "outputs": [],
   "source": [
    "chicago_df = utils.read_parquet('Taxi_Trips.parquet',columns=['Trip ID','Trip Start Timestamp'])"
   ]
  },
  {
   "cell_type": "code",
   "execution_count": null,
   "id": "5a21daf0",
   "metadata": {},
   "outputs": [],
   "source": [
    "#The chicago data frame is passed to create foreign key refrences in the weather dataset\n",
    "weather_df = utils.add_weather_data(chicago_df)"
   ]
  },
  {
   "cell_type": "code",
   "execution_count": null,
   "id": "b2951fa8",
   "metadata": {},
   "outputs": [],
   "source": [
    "utils.write_parquet_from_pandas(df=weather_df,filename='Weather.parquet')"
   ]
  }
 ],
 "metadata": {
  "kernelspec": {
   "display_name": "Python 3",
   "language": "python",
   "name": "python3"
  },
  "language_info": {
   "codemirror_mode": {
    "name": "ipython",
    "version": 3
   },
   "file_extension": ".py",
   "mimetype": "text/x-python",
   "name": "python",
   "nbconvert_exporter": "python",
   "pygments_lexer": "ipython3",
   "version": "3.8.10"
  }
 },
 "nbformat": 4,
 "nbformat_minor": 5
}