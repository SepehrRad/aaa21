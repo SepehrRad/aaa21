{
 "cells": [
  {
   "cell_type": "code",
   "execution_count": 1,
   "metadata": {},
   "outputs": [
    {
     "name": "stdout",
     "output_type": "stream",
     "text": [
      "/Users/simonwolf/git/aaa21\n"
     ]
    }
   ],
   "source": [
    "cd .."
   ]
  },
  {
   "cell_type": "code",
   "execution_count": 2,
   "metadata": {
    "pycharm": {
     "name": "#%%\n"
    }
   },
   "outputs": [],
   "source": [
    "import cleaning\n",
    "import utils\n",
    "import seaborn as sns"
   ]
  },
  {
   "cell_type": "code",
   "execution_count": null,
   "metadata": {
    "pycharm": {
     "name": "#%%\n"
    },
    "scrolled": false
   },
   "outputs": [
    {
     "name": "stdout",
     "output_type": "stream",
     "text": [
      "Read the data set\n",
      "Start cleaning the data set\n",
      "5037633 invalid spatial entries have been successfully removed!\n",
      "--> 632442 invalid entries found in Trip Seconds\n",
      "--> 3967441 invalid entries found in Trip Miles\n",
      "--> 72 invalid entries found in Trip Total\n",
      "4599955 invalid entries have been successfully dropped!\n",
      "--> 685971 outlier detected and removed from Trip Seconds column using zscore\n",
      "--> 13192 outlier detected and removed from Trip Miles column using zscore\n",
      "--> 2503 outlier detected and removed from Trip Total column using zscore\n",
      "Outlier detection completed. Number of removed outlier: 701666\n",
      "20087 invalid entries from Pickup/Dropoff Centroid locations have been successfully dropped!\n",
      "Finished cleaning the data set\n",
      "Add cyclical features\n",
      "Saving the data set\n"
     ]
    }
   ],
   "source": [
    "cleaning.clean_dataset(verbose=True)"
   ]
  },
  {
   "cell_type": "code",
   "execution_count": null,
   "metadata": {},
   "outputs": [],
   "source": [
    "after = utils.read_parquet(\"Taxi_Trips_cleaned.parquet\")\n",
    "after"
   ]
  },
  {
   "cell_type": "code",
   "execution_count": null,
   "metadata": {
    "scrolled": false
   },
   "outputs": [],
   "source": [
    "for col in [\n",
    "            \"Trip Seconds\",\n",
    "            \"Trip Miles\",\n",
    "            \"Fare\",\n",
    "            \"Tips\",\n",
    "            \"Tolls\",\n",
    "            \"Extras\",\n",
    "            \"Trip Total\"\n",
    "        ]:\n",
    "    sns.displot(after, x=col, kind=\"kde\")"
   ]
  },
  {
   "cell_type": "code",
   "execution_count": null,
   "metadata": {
    "scrolled": false
   },
   "outputs": [],
   "source": [
    "after.isna().sum()"
   ]
  },
  {
   "cell_type": "code",
   "execution_count": null,
   "metadata": {},
   "outputs": [],
   "source": [
    "after.eq('').sum()"
   ]
  },
  {
   "cell_type": "code",
   "execution_count": null,
   "metadata": {},
   "outputs": [],
   "source": [
    "after.info()"
   ]
  },
  {
   "cell_type": "code",
   "execution_count": null,
   "metadata": {},
   "outputs": [],
   "source": []
  }
 ],
 "metadata": {
  "kernelspec": {
   "display_name": "Python 3",
   "language": "python",
   "name": "python3"
  },
  "language_info": {
   "codemirror_mode": {
    "name": "ipython",
    "version": 3
   },
   "file_extension": ".py",
   "mimetype": "text/x-python",
   "name": "python",
   "nbconvert_exporter": "python",
   "pygments_lexer": "ipython3",
   "version": "3.9.5"
  }
 },
 "nbformat": 4,
 "nbformat_minor": 1
}
