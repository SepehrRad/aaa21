{
 "cells": [
  {
   "cell_type": "markdown",
   "metadata": {},
   "source": [
    "# Data Cleaning\n",
    "---\n",
    "This notebook cleans the whole dataset of Taxi trips in Chicago in 2015 and adds several cyclical features such as seperated columns for the trip start/end month, day, hour, weekday and is weekend.\n",
    "\n",
    "The cleaning function reads as default the `Taxi_Trips.parquet` in the data directory and saves the cleaned dataframe later in the same directory named as `Taxi_Trips_cleaned.parquet`.\n",
    "As a first step after reading the basic dataframe, we remove faulty data such as negative numeric values in the trip duration, distance and the total amount as well as invalid spatial entries by checking if the Pickup/Dropoff Census Tract as well as the Community Area columns are both null at the same time.\n",
    "Next, we apply the z-score algorithm to eliminate outlier data by defining data entries with a standard deviation of more than two as outliers.\n",
    "Afterwards cyclical features are added as mentioned above and we convert trip miles to kilometers and trip seconds to minutes before the data is saved as `Taxi_Trips_cleaned.parquet`.\n",
    "\n",
    "_All functions that are used for cleaning the data set within reading (writing) it from (to) a parquet file are documented in the `cleaning.py` & `utils.py` package._"
   ]
  },
  {
   "cell_type": "code",
   "execution_count": 1,
   "metadata": {},
   "outputs": [
    {
     "name": "stdout",
     "output_type": "stream",
     "text": [
      "/Users/simonwolf/git/aaa21\n"
     ]
    }
   ],
   "source": [
    "cd .."
   ]
  },
  {
   "cell_type": "code",
   "execution_count": 2,
   "metadata": {
    "pycharm": {
     "name": "#%%\n"
    }
   },
   "outputs": [],
   "source": [
    "import cleaning"
   ]
  },
  {
   "cell_type": "code",
   "execution_count": null,
   "metadata": {
    "pycharm": {
     "name": "#%%\n"
    },
    "scrolled": false
   },
   "outputs": [
    {
     "name": "stdout",
     "output_type": "stream",
     "text": [
      "Read the data set\n",
      "Start cleaning the data set\n",
      "5037633 invalid spatial entries have been successfully removed!\n",
      "--> 632442 invalid entries found in Trip Seconds\n",
      "--> 3967441 invalid entries found in Trip Miles\n",
      "--> 72 invalid entries found in Trip Total\n",
      "4599955 invalid entries have been successfully dropped!\n",
      "--> 685971 outlier detected and removed from Trip Seconds column using zscore\n",
      "--> 13192 outlier detected and removed from Trip Miles column using zscore\n",
      "--> 2503 outlier detected and removed from Trip Total column using zscore\n",
      "Outlier detection completed. Number of removed outlier: 701666\n",
      "20087 invalid entries from Pickup/Dropoff Centroid locations have been successfully dropped!\n",
      "Finished cleaning the data set\n",
      "Add cyclical features\n",
      "Saving the data set\n"
     ]
    }
   ],
   "source": [
    "cleaning.clean_dataset(file=\"Taxi_Trips.parquet\",verbose=True)"
   ]
  }
 ],
 "metadata": {
  "kernelspec": {
   "display_name": "Python 3",
   "language": "python",
   "name": "python3"
  },
  "language_info": {
   "codemirror_mode": {
    "name": "ipython",
    "version": 3
   },
   "file_extension": ".py",
   "mimetype": "text/x-python",
   "name": "python",
   "nbconvert_exporter": "python",
   "pygments_lexer": "ipython3",
   "version": "3.8.10"
  }
 },
 "nbformat": 4,
 "nbformat_minor": 1
}
