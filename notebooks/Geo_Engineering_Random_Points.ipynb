{
 "cells": [
  {
   "cell_type": "markdown",
   "id": "0d640561",
   "metadata": {},
   "source": [
    "# Generating random geo data points\n",
    "---\n",
    "In this notebook, we generate random pickup and dropoff points in the corresponding community areas. We can not create random points inside of census tracts since about 11 Million of them are missing in our dataset.\n",
    "\n",
    "_This notebook was run on a cloud-environment with 128 GB ram and 4 hours execution time. Please run this notebook only if you have more 64 GB memory or more._"
   ]
  },
  {
   "cell_type": "code",
   "execution_count": 1,
   "id": "32edc2b6",
   "metadata": {},
   "outputs": [
    {
     "name": "stdout",
     "output_type": "stream",
     "text": [
      "C:\\Users\\Sepehr\\Desktop\\Master\\AdvanceAnalyticsAndApps\\project\\aaa21\\aaa21\n"
     ]
    }
   ],
   "source": [
    "cd .."
   ]
  },
  {
   "cell_type": "code",
   "execution_count": 2,
   "id": "39290195",
   "metadata": {},
   "outputs": [],
   "source": [
    "import geopandas\n",
    "import pandas as pd\n",
    "import utils, geo_engineering"
   ]
  },
  {
   "cell_type": "markdown",
   "id": "d3542a64",
   "metadata": {},
   "source": [
    "To find the boundries of each area, we download the corresponding geo-json file from [city of chicago website](https://data.cityofchicago.org/Facilities-Geographic-Boundaries/Boundaries-Community-Areas-current-/cauq-8yn6)"
   ]
  },
  {
   "cell_type": "code",
   "execution_count": 3,
   "id": "994e5fb8",
   "metadata": {},
   "outputs": [],
   "source": [
    "chicago_comm_area_geo =  geopandas.read_file(\"data/community_areas.geojson\")\n",
    "chicago_comm_area = utils.read_parquet('Taxi_Trips.parquet', columns=['Trip ID','Pickup Community Area','Dropoff Community Area'])"
   ]
  },
  {
   "cell_type": "markdown",
   "id": "68426052",
   "metadata": {},
   "source": [
    "After merging the chicago cab dataset with the geographic informations, we generate random points for each trip (pickup and dropoff) so that the generated point is in the boundries of the corresponding community area. The functions are documented and can be found in the geo_engineering.py file."
   ]
  },
  {
   "cell_type": "code",
   "execution_count": 5,
   "id": "3005a15b",
   "metadata": {},
   "outputs": [],
   "source": [
    "random_pickup_dropoff_loc_df = geo_engineering.generate_random_pickup_dropoff_loc(chicago_comm_area,chicago_comm_area_geo)"
   ]
  },
  {
   "cell_type": "markdown",
   "id": "22ba8522",
   "metadata": {},
   "source": [
    "_Saving a parquet file with more than one geometry object is not yet availble. This restriction forces us to first a temp file in a CSV format and then convert the csv file to parquet._"
   ]
  },
  {
   "cell_type": "code",
   "execution_count": 7,
   "id": "46e942d5",
   "metadata": {},
   "outputs": [],
   "source": [
    "output_mask = ['Trip ID','pickup location','dropoff location']\n",
    "random_pickup_dropoff_loc_df[output_mask].to_csv('data/random_pickup_dropoff_points.csv',index=False)\n",
    "_ = pd.read_csv('data/random_pickup_dropoff_points.csv')\n",
    "utils.write_parquet_from_pandas(_,'random_pickup_dropoff_points.parquet')"
   ]
  }
 ],
 "metadata": {
  "kernelspec": {
   "display_name": "Python 3",
   "language": "python",
   "name": "python3"
  },
  "language_info": {
   "codemirror_mode": {
    "name": "ipython",
    "version": 3
   },
   "file_extension": ".py",
   "mimetype": "text/x-python",
   "name": "python",
   "nbconvert_exporter": "python",
   "pygments_lexer": "ipython3",
   "version": "3.8.10"
  }
 },
 "nbformat": 4,
 "nbformat_minor": 5
}
