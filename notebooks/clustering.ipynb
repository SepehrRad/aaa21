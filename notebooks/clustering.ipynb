{
 "cells": [
  {
   "cell_type": "code",
   "execution_count": 1,
   "outputs": [
    {
     "name": "stdout",
     "output_type": "stream",
     "text": [
      "/Users/christianbergen/Documents/prog/aaa21\n"
     ]
    }
   ],
   "source": [
    "%cd .."
   ],
   "metadata": {
    "collapsed": false,
    "pycharm": {
     "name": "#%%\n"
    }
   }
  },
  {
   "cell_type": "code",
   "execution_count": 3,
   "metadata": {
    "collapsed": true
   },
   "outputs": [],
   "source": [
    "import clustering\n",
    "import utils\n"
   ]
  },
  {
   "cell_type": "code",
   "execution_count": null,
   "outputs": [],
   "source": [
    "chicago_df = utils.read_parquet('chicago_taxi_trips_15percent_sample.parquet',\n",
    "                                columns=['Trip ID','Pickup Community Area',\n",
    "                                         'Trip Start Hour','Trip Kilometers'])\n",
    "chicago_df.head()"
   ],
   "metadata": {
    "collapsed": false,
    "pycharm": {
     "name": "#%%\n"
    }
   }
  },
  {
   "cell_type": "code",
   "execution_count": null,
   "outputs": [],
   "source": [
    "chicago_df.drop(columns=['Trip ID','Pickup Community Area'], axis=1,inplace=True)\n"
   ],
   "metadata": {
    "collapsed": false,
    "pycharm": {
     "name": "#%%\n"
    }
   }
  },
  {
   "cell_type": "code",
   "execution_count": null,
   "outputs": [],
   "source": [
    "chicago_df['Trip Kilometers'] = chicago_df['Trip Kilometers'].astype('float')\n",
    "chicago_df_q = chicago_df[(chicago_df['Trip Kilometers'] < chicago_df['Trip Kilometers'].quantile(0.95))]"
   ],
   "metadata": {
    "collapsed": false,
    "pycharm": {
     "name": "#%%\n"
    }
   }
  },
  {
   "cell_type": "code",
   "execution_count": null,
   "outputs": [],
   "source": [
    "clustering.get_silhouette_score(chicago_df_q , \"Trip Start Hour\",\"Trip Kilometers\" , 5)"
   ],
   "metadata": {
    "collapsed": false,
    "pycharm": {
     "name": "#%%\n"
    }
   }
  },
  {
   "cell_type": "code",
   "execution_count": null,
   "outputs": [],
   "source": [
    "clustering.get_clusters_gmm(chicago_df_q,\n",
    "                 column_1=\"Trip Kilometers\",\n",
    "                 column_2=\"Trip Start Hour\",\n",
    "                 title = f\"Clustering Trip Kilometers and Trip Start Hour\",\n",
    "                 xlabel=\"Trip Kilometers\",\n",
    "                 ylabel=\"Trip Start Hour\",\n",
    "                 n_cluster=4,\n",
    "                 plot_sizes=True,\n",
    "                 plot_boxes=True,\n",
    "                 )"
   ],
   "metadata": {
    "collapsed": false,
    "pycharm": {
     "name": "#%%\n"
    }
   }
  },
  {
   "cell_type": "code",
   "execution_count": null,
   "outputs": [],
   "source": [
    "clustering.get_ellbow(chicago_df_q[[\"Trip Kilometers\", \"Trip Start Hour\"]], 5)\n",
    "\n"
   ],
   "metadata": {
    "collapsed": false,
    "pycharm": {
     "name": "#%%\n"
    }
   }
  },
  {
   "cell_type": "code",
   "execution_count": null,
   "outputs": [],
   "source": [
    "clustering.get_clusters_kmeans(chicago_df_q,\n",
    "                 column_1=\"Trip Kilometers\",\n",
    "                 column_2=\"Trip Start Hour\",\n",
    "                 numerical_columns = [\"Trip Kilometers\"],\n",
    "                 title = f\"Clustering Trip Kilometers and Trip Start Hour\",\n",
    "                 xlabel=\"Trip Kilometers\",\n",
    "                 ylabel=\"Trip Start Hour\",\n",
    "                 n_cluster=4,\n",
    "                 plot_sizes=True,\n",
    "                 plot_boxes=True,\n",
    "                )"
   ],
   "metadata": {
    "collapsed": false,
    "pycharm": {
     "name": "#%%\n"
    }
   }
  }
 ],
 "metadata": {
  "kernelspec": {
   "display_name": "Python 3",
   "language": "python",
   "name": "python3"
  },
  "language_info": {
   "codemirror_mode": {
    "name": "ipython",
    "version": 2
   },
   "file_extension": ".py",
   "mimetype": "text/x-python",
   "name": "python",
   "nbconvert_exporter": "python",
   "pygments_lexer": "ipython2",
   "version": "2.7.6"
  }
 },
 "nbformat": 4,
 "nbformat_minor": 0
}