{
 "cells": [
  {
   "cell_type": "markdown",
   "metadata": {
    "collapsed": true,
    "pycharm": {
     "name": "#%% md\n"
    }
   },
   "source": [
    "# Start And End Location Analysis\n",
    "---\n",
    "In this section we analyze the time between trips for the Chicago taxi fleet. This target shows the efficency of each company in utilizing their taxi fleet and the typical waiting time for drivers after each trip.\n",
    "\n",
    "We proceed as following:\n",
    "- Trying to get an overview of time in between trips (idle time) by looking at the total number of taxis oprating in Chicago in 2015 and idle time statistical distribution\n",
    "- Looking for extreme values (outliers) and removing them using z-score\n",
    "- Univariate analysis\n",
    "- Bivariate anaylysis with different temporal and spatial resolution\n",
    "\n",
    "\n",
    "_Note: Many visualizations in this notebook are first produced with high dpi and saved as an image and then loaded back to the notebook. This is done to avoid long running times.\n",
    "Thus the cells containing the logic to produce these plots are commented out. If you want to run these cells:\n",
    "please make sure that you have enough memory (about 32 GB) and please be patient._"
   ]
  },
  {
   "cell_type": "code",
   "execution_count": 1,
   "metadata": {
    "pycharm": {
     "name": "#%%\n"
    }
   },
   "outputs": [
    {
     "name": "stdout",
     "output_type": "stream",
     "text": [
      "/Users/christianbergen/Documents/prog/aaa21\n"
     ]
    }
   ],
   "source": [
    "cd .."
   ]
  },
  {
   "cell_type": "code",
   "execution_count": 2,
   "metadata": {
    "pycharm": {
     "name": "#%%\n"
    }
   },
   "outputs": [],
   "source": [
    "import numpy as np\n",
    "import utils,geo_engineering,eda,feature_engineering\n",
    "import matplotlib.pyplot as plt\n",
    "from matplotlib.pyplot import imshow\n",
    "import matplotlib.gridspec as gridspec\n",
    "from PIL import Image as pilim\n",
    "import seaborn as sns\n",
    "from scipy.stats import zscore\n",
    "from haversine import haversine_vector, Unit\n",
    "\n",
    "#Global visualization setting\n",
    "plt.rcParams['figure.dpi'] = 400\n",
    "sns.color_palette(\"dark\")\n",
    "sns.set_style(\"ticks\")\n",
    "\n",
    "%matplotlib inline\n"
   ]
  },
  {
   "cell_type": "code",
   "execution_count": 3,
   "metadata": {
    "pycharm": {
     "name": "#%%\n"
    }
   },
   "outputs": [
    {
     "data": {
      "text/html": [
       "<div>\n",
       "<style scoped>\n",
       "    .dataframe tbody tr th:only-of-type {\n",
       "        vertical-align: middle;\n",
       "    }\n",
       "\n",
       "    .dataframe tbody tr th {\n",
       "        vertical-align: top;\n",
       "    }\n",
       "\n",
       "    .dataframe thead th {\n",
       "        text-align: right;\n",
       "    }\n",
       "</style>\n",
       "<table border=\"1\" class=\"dataframe\">\n",
       "  <thead>\n",
       "    <tr style=\"text-align: right;\">\n",
       "      <th></th>\n",
       "      <th>Trip ID</th>\n",
       "      <th>Taxi ID</th>\n",
       "      <th>Trip Start Timestamp</th>\n",
       "      <th>Trip End Timestamp</th>\n",
       "      <th>Pickup Community Area</th>\n",
       "      <th>Dropoff Community Area</th>\n",
       "      <th>Trip Start Hour</th>\n",
       "      <th>Trip End Hour</th>\n",
       "    </tr>\n",
       "  </thead>\n",
       "  <tbody>\n",
       "    <tr>\n",
       "      <th>0</th>\n",
       "      <td>70bf5261bff10278c0a99bf9b6dfd77b59da3f7b</td>\n",
       "      <td>d227267f2ecc06b906db9813671d5c14b2ca025df56515...</td>\n",
       "      <td>2015-01-01 00:00:00</td>\n",
       "      <td>2015-01-01 00:00:00</td>\n",
       "      <td>1.0</td>\n",
       "      <td>1.0</td>\n",
       "      <td>0</td>\n",
       "      <td>0</td>\n",
       "    </tr>\n",
       "    <tr>\n",
       "      <th>1</th>\n",
       "      <td>8a01052178bc15bd780297e93aaf328dc631ef3c</td>\n",
       "      <td>aafe2cb9e0f06a82f8b995a8292190fed97bc4b41f04d3...</td>\n",
       "      <td>2015-01-01 00:30:00</td>\n",
       "      <td>2015-01-01 00:30:00</td>\n",
       "      <td>8.0</td>\n",
       "      <td>8.0</td>\n",
       "      <td>0</td>\n",
       "      <td>0</td>\n",
       "    </tr>\n",
       "    <tr>\n",
       "      <th>2</th>\n",
       "      <td>097e67b0a173656e34f6ea4e8077c802ed55ab9f</td>\n",
       "      <td>4f3bc023d606842442d6275624a11dcf86dc1cbf201c5e...</td>\n",
       "      <td>2015-01-01 00:45:00</td>\n",
       "      <td>2015-01-01 00:45:00</td>\n",
       "      <td>8.0</td>\n",
       "      <td>8.0</td>\n",
       "      <td>0</td>\n",
       "      <td>0</td>\n",
       "    </tr>\n",
       "    <tr>\n",
       "      <th>3</th>\n",
       "      <td>35c0c4859532bafa924ee1e50d3b4aae575a63fd</td>\n",
       "      <td>4f3bc023d606842442d6275624a11dcf86dc1cbf201c5e...</td>\n",
       "      <td>2015-01-01 00:45:00</td>\n",
       "      <td>2015-01-01 01:00:00</td>\n",
       "      <td>8.0</td>\n",
       "      <td>6.0</td>\n",
       "      <td>0</td>\n",
       "      <td>1</td>\n",
       "    </tr>\n",
       "    <tr>\n",
       "      <th>4</th>\n",
       "      <td>95f482f9494be7695fe051572d7928090f46fcb2</td>\n",
       "      <td>8b12673d17dc4423a80ecc1f53d090cff311496e1694d7...</td>\n",
       "      <td>2015-01-01 00:45:00</td>\n",
       "      <td>2015-01-01 01:00:00</td>\n",
       "      <td>22.0</td>\n",
       "      <td>21.0</td>\n",
       "      <td>0</td>\n",
       "      <td>1</td>\n",
       "    </tr>\n",
       "  </tbody>\n",
       "</table>\n",
       "</div>"
      ],
      "text/plain": [
       "                                    Trip ID  \\\n",
       "0  70bf5261bff10278c0a99bf9b6dfd77b59da3f7b   \n",
       "1  8a01052178bc15bd780297e93aaf328dc631ef3c   \n",
       "2  097e67b0a173656e34f6ea4e8077c802ed55ab9f   \n",
       "3  35c0c4859532bafa924ee1e50d3b4aae575a63fd   \n",
       "4  95f482f9494be7695fe051572d7928090f46fcb2   \n",
       "\n",
       "                                             Taxi ID Trip Start Timestamp  \\\n",
       "0  d227267f2ecc06b906db9813671d5c14b2ca025df56515...  2015-01-01 00:00:00   \n",
       "1  aafe2cb9e0f06a82f8b995a8292190fed97bc4b41f04d3...  2015-01-01 00:30:00   \n",
       "2  4f3bc023d606842442d6275624a11dcf86dc1cbf201c5e...  2015-01-01 00:45:00   \n",
       "3  4f3bc023d606842442d6275624a11dcf86dc1cbf201c5e...  2015-01-01 00:45:00   \n",
       "4  8b12673d17dc4423a80ecc1f53d090cff311496e1694d7...  2015-01-01 00:45:00   \n",
       "\n",
       "   Trip End Timestamp Pickup Community Area Dropoff Community Area  \\\n",
       "0 2015-01-01 00:00:00                   1.0                    1.0   \n",
       "1 2015-01-01 00:30:00                   8.0                    8.0   \n",
       "2 2015-01-01 00:45:00                   8.0                    8.0   \n",
       "3 2015-01-01 01:00:00                   8.0                    6.0   \n",
       "4 2015-01-01 01:00:00                  22.0                   21.0   \n",
       "\n",
       "   Trip Start Hour  Trip End Hour  \n",
       "0                0              0  \n",
       "1                0              0  \n",
       "2                0              0  \n",
       "3                0              1  \n",
       "4                0              1  "
      ]
     },
     "execution_count": 3,
     "metadata": {},
     "output_type": "execute_result"
    }
   ],
   "source": [
    "chicago_df = utils.read_parquet('Taxi_Trips_Cleaned.parquet',\n",
    "                                columns=['Trip ID','Taxi ID','Trip Start Timestamp',\n",
    "                                        'Trip End Timestamp','Pickup Community Area',\n",
    "                                         'Dropoff Community Area','Trip Start Hour','Trip End Hour'])\n",
    "chicago_df.head()\n",
    "\n"
   ]
  },
  {
   "cell_type": "code",
   "execution_count": 4,
   "metadata": {
    "pycharm": {
     "name": "#%%\n"
    }
   },
   "outputs": [
    {
     "data": {
      "text/html": [
       "<div>\n",
       "<style scoped>\n",
       "    .dataframe tbody tr th:only-of-type {\n",
       "        vertical-align: middle;\n",
       "    }\n",
       "\n",
       "    .dataframe tbody tr th {\n",
       "        vertical-align: top;\n",
       "    }\n",
       "\n",
       "    .dataframe thead th {\n",
       "        text-align: right;\n",
       "    }\n",
       "</style>\n",
       "<table border=\"1\" class=\"dataframe\">\n",
       "  <thead>\n",
       "    <tr style=\"text-align: right;\">\n",
       "      <th></th>\n",
       "      <th>Trip ID</th>\n",
       "      <th>Taxi ID</th>\n",
       "      <th>Trip Start Timestamp</th>\n",
       "      <th>Trip End Timestamp</th>\n",
       "      <th>Pickup Community Area</th>\n",
       "      <th>Dropoff Community Area</th>\n",
       "      <th>Trip Start Hour</th>\n",
       "      <th>Trip End Hour</th>\n",
       "    </tr>\n",
       "  </thead>\n",
       "  <tbody>\n",
       "    <tr>\n",
       "      <th>2985819</th>\n",
       "      <td>045cf48695b76f4ba35cb1b093bfb069e1bb7f8a</td>\n",
       "      <td>fdb16324f07e66dd7338161569ae6991f89e38884bac4a...</td>\n",
       "      <td>2015-02-19 09:15:00</td>\n",
       "      <td>2015-02-19 09:45:00</td>\n",
       "      <td>32.0</td>\n",
       "      <td>41.0</td>\n",
       "      <td>9</td>\n",
       "      <td>9</td>\n",
       "    </tr>\n",
       "    <tr>\n",
       "      <th>2872913</th>\n",
       "      <td>1b10f174d15f15857c8ebb6a0e4f586238207d65</td>\n",
       "      <td>adb1cb74113851b651b474182fbe95a9663783779db8cc...</td>\n",
       "      <td>2015-02-17 15:30:00</td>\n",
       "      <td>2015-02-17 15:45:00</td>\n",
       "      <td>32.0</td>\n",
       "      <td>32.0</td>\n",
       "      <td>15</td>\n",
       "      <td>15</td>\n",
       "    </tr>\n",
       "    <tr>\n",
       "      <th>13094408</th>\n",
       "      <td>550a8763c9391e62b1743a4cca557a1f69010047</td>\n",
       "      <td>3c8a3a5b0785d40229dd7adc5fd0d9620defca885601bf...</td>\n",
       "      <td>2015-07-26 02:15:00</td>\n",
       "      <td>2015-07-26 02:15:00</td>\n",
       "      <td>5.0</td>\n",
       "      <td>4.0</td>\n",
       "      <td>2</td>\n",
       "      <td>2</td>\n",
       "    </tr>\n",
       "    <tr>\n",
       "      <th>13097443</th>\n",
       "      <td>c79b56e9a2f7669a796dc8f15f714a3ebc16cd29</td>\n",
       "      <td>507b1e4d1f39a8a26e7249e6a627f5a0c798dfdafa7b16...</td>\n",
       "      <td>2015-07-26 02:00:00</td>\n",
       "      <td>2015-07-26 02:15:00</td>\n",
       "      <td>24.0</td>\n",
       "      <td>32.0</td>\n",
       "      <td>2</td>\n",
       "      <td>2</td>\n",
       "    </tr>\n",
       "    <tr>\n",
       "      <th>13214811</th>\n",
       "      <td>69c86a27af70aceb76945f9dc21aed211cbfc4e2</td>\n",
       "      <td>adfbb2f2f3f8f81a12f9ad98dd8308669f62baaa8b8f2c...</td>\n",
       "      <td>2015-07-28 15:00:00</td>\n",
       "      <td>2015-07-28 15:00:00</td>\n",
       "      <td>8.0</td>\n",
       "      <td>32.0</td>\n",
       "      <td>15</td>\n",
       "      <td>15</td>\n",
       "    </tr>\n",
       "  </tbody>\n",
       "</table>\n",
       "</div>"
      ],
      "text/plain": [
       "                                           Trip ID  \\\n",
       "2985819   045cf48695b76f4ba35cb1b093bfb069e1bb7f8a   \n",
       "2872913   1b10f174d15f15857c8ebb6a0e4f586238207d65   \n",
       "13094408  550a8763c9391e62b1743a4cca557a1f69010047   \n",
       "13097443  c79b56e9a2f7669a796dc8f15f714a3ebc16cd29   \n",
       "13214811  69c86a27af70aceb76945f9dc21aed211cbfc4e2   \n",
       "\n",
       "                                                    Taxi ID  \\\n",
       "2985819   fdb16324f07e66dd7338161569ae6991f89e38884bac4a...   \n",
       "2872913   adb1cb74113851b651b474182fbe95a9663783779db8cc...   \n",
       "13094408  3c8a3a5b0785d40229dd7adc5fd0d9620defca885601bf...   \n",
       "13097443  507b1e4d1f39a8a26e7249e6a627f5a0c798dfdafa7b16...   \n",
       "13214811  adfbb2f2f3f8f81a12f9ad98dd8308669f62baaa8b8f2c...   \n",
       "\n",
       "         Trip Start Timestamp  Trip End Timestamp Pickup Community Area  \\\n",
       "2985819   2015-02-19 09:15:00 2015-02-19 09:45:00                  32.0   \n",
       "2872913   2015-02-17 15:30:00 2015-02-17 15:45:00                  32.0   \n",
       "13094408  2015-07-26 02:15:00 2015-07-26 02:15:00                   5.0   \n",
       "13097443  2015-07-26 02:00:00 2015-07-26 02:15:00                  24.0   \n",
       "13214811  2015-07-28 15:00:00 2015-07-28 15:00:00                   8.0   \n",
       "\n",
       "         Dropoff Community Area  Trip Start Hour  Trip End Hour  \n",
       "2985819                    41.0                9              9  \n",
       "2872913                    32.0               15             15  \n",
       "13094408                    4.0                2              2  \n",
       "13097443                   32.0                2              2  \n",
       "13214811                   32.0               15             15  "
      ]
     },
     "execution_count": 4,
     "metadata": {},
     "output_type": "execute_result"
    }
   ],
   "source": [
    "chicago_df  = chicago_df.sample(frac=0.1)\n",
    "chicago_df.head()"
   ]
  },
  {
   "cell_type": "code",
   "execution_count": 5,
   "metadata": {
    "pycharm": {
     "name": "#%%\n"
    }
   },
   "outputs": [],
   "source": [
    "chicago_df = feature_engineering.add_weekday(chicago_df)"
   ]
  },
  {
   "cell_type": "code",
   "execution_count": 6,
   "metadata": {
    "pycharm": {
     "name": "#%%\n"
    }
   },
   "outputs": [],
   "source": [
    "feature_engineering.add_time_interval(chicago_df)"
   ]
  },
  {
   "cell_type": "code",
   "execution_count": 7,
   "metadata": {},
   "outputs": [],
   "source": [
    "chicago_df = geo_engineering.add_community_names(chicago_df)"
   ]
  },
  {
   "cell_type": "markdown",
   "metadata": {},
   "source": [
    "## Bivariate Analysis\n",
    "---\n",
    "In this section we analyze the relationship between start and end locations and different aspects of our data like weekday or hour. This analysis gives us a better understanding of the taxi fleet opration in Chicago.\n",
    "\n",
    "The analysis is structured as following:\n",
    "\n",
    "*Temporal Analysis*\n",
    "- Daily analysis of idle time and weekday\n",
    "- Six hour analysis showing the relationship between idle time and daily activities\n",
    "- Hourly analysis\n",
    "\n",
    "*Spatial Analysis*\n",
    "- The effect of drop-off location (community areas and h3 hexagons) on idle time\n",
    "- The macro analysis of the idle time in the city of Chicago using the h3 hexagon (res. 6)"
   ]
  },
  {
   "cell_type": "markdown",
   "metadata": {
    "pycharm": {
     "name": "#%% md\n"
    }
   },
   "source": [
    "## Top Ten Start And End Locations"
   ]
  },
  {
   "cell_type": "code",
   "execution_count": 9,
   "metadata": {
    "pycharm": {
     "name": "#%%\n"
    }
   },
   "outputs": [],
   "source": [
    "top_10_pickup = chicago_df.groupby(\"Community Area Name_pickup\").size().reset_index(name=\"Total Trips\").nlargest(10, \"Total Trips\")\n",
    "bottom_10_pickup = chicago_df.groupby(\"Community Area Name_pickup\").size().reset_index(name=\"Total Trips\").nsmallest(10, \"Total Trips\")\n",
    "\n",
    "top_10_dropoff = chicago_df.groupby(\"Community Area Name_dropoff\").size().reset_index(name=\"Total Trips\").nlargest(10, \"Total Trips\")\n",
    "bottom_10_dropoff = chicago_df.groupby(\"Community Area Name_dropoff\").size().reset_index(name=\"Total Trips\").nsmallest(10, \"Total Trips\")"
   ]
  },
  {
   "cell_type": "code",
   "execution_count": 11,
   "metadata": {},
   "outputs": [
    {
     "data": {
      "text/html": [
       "<div>\n",
       "<style scoped>\n",
       "    .dataframe tbody tr th:only-of-type {\n",
       "        vertical-align: middle;\n",
       "    }\n",
       "\n",
       "    .dataframe tbody tr th {\n",
       "        vertical-align: top;\n",
       "    }\n",
       "\n",
       "    .dataframe thead th {\n",
       "        text-align: right;\n",
       "    }\n",
       "</style>\n",
       "<table border=\"1\" class=\"dataframe\">\n",
       "  <thead>\n",
       "    <tr style=\"text-align: right;\">\n",
       "      <th></th>\n",
       "      <th>Community Area Name_pickup</th>\n",
       "      <th>Total Trips</th>\n",
       "    </tr>\n",
       "  </thead>\n",
       "  <tbody>\n",
       "    <tr>\n",
       "      <th>59</th>\n",
       "      <td>RIVERDALE</td>\n",
       "      <td>5</td>\n",
       "    </tr>\n",
       "    <tr>\n",
       "      <th>30</th>\n",
       "      <td>HEGEWISCH</td>\n",
       "      <td>8</td>\n",
       "    </tr>\n",
       "    <tr>\n",
       "      <th>46</th>\n",
       "      <td>MOUNT GREENWOOD</td>\n",
       "      <td>12</td>\n",
       "    </tr>\n",
       "    <tr>\n",
       "      <th>58</th>\n",
       "      <td>PULLMAN</td>\n",
       "      <td>13</td>\n",
       "    </tr>\n",
       "    <tr>\n",
       "      <th>20</th>\n",
       "      <td>EAST SIDE</td>\n",
       "      <td>14</td>\n",
       "    </tr>\n",
       "    <tr>\n",
       "      <th>12</th>\n",
       "      <td>BURNSIDE</td>\n",
       "      <td>22</td>\n",
       "    </tr>\n",
       "    <tr>\n",
       "      <th>73</th>\n",
       "      <td>WEST PULLMAN</td>\n",
       "      <td>24</td>\n",
       "    </tr>\n",
       "    <tr>\n",
       "      <th>45</th>\n",
       "      <td>MORGAN PARK</td>\n",
       "      <td>33</td>\n",
       "    </tr>\n",
       "    <tr>\n",
       "      <th>9</th>\n",
       "      <td>BEVERLY</td>\n",
       "      <td>39</td>\n",
       "    </tr>\n",
       "    <tr>\n",
       "      <th>63</th>\n",
       "      <td>SOUTH DEERING</td>\n",
       "      <td>49</td>\n",
       "    </tr>\n",
       "  </tbody>\n",
       "</table>\n",
       "</div>"
      ],
      "text/plain": [
       "   Community Area Name_pickup  Total Trips\n",
       "59                  RIVERDALE            5\n",
       "30                  HEGEWISCH            8\n",
       "46            MOUNT GREENWOOD           12\n",
       "58                    PULLMAN           13\n",
       "20                  EAST SIDE           14\n",
       "12                   BURNSIDE           22\n",
       "73               WEST PULLMAN           24\n",
       "45                MORGAN PARK           33\n",
       "9                     BEVERLY           39\n",
       "63              SOUTH DEERING           49"
      ]
     },
     "execution_count": 11,
     "metadata": {},
     "output_type": "execute_result"
    }
   ],
   "source": [
    "bottom_10_pickup"
   ]
  },
  {
   "cell_type": "code",
   "execution_count": 22,
   "metadata": {
    "pycharm": {
     "name": "#%%\n"
    }
   },
   "outputs": [
    {
     "data": {
      "image/png": "[encoded data removed]",
      "text/plain": [
       "<Figure size 432x432 with 1 Axes>"
      ]
     },
     "metadata": {
      "needs_background": "light"
     },
     "output_type": "display_data"
    },
    {
     "data": {
      "image/png": "[encoded data removed]",
      "text/plain": [
       "<Figure size 432x432 with 1 Axes>"
      ]
     },
     "metadata": {
      "needs_background": "light"
     },
     "output_type": "display_data"
    }
   ],
   "source": [
    "#Pickups\n",
    "_ = sns.catplot(x=\"Total Trips\", y='Community Area Name_pickup',kind=\"bar\",data=top_10_pickup,height=6,aspect=1)\n",
    "plt.title('Top 10 Pickup Locations Overall')\n",
    "plt.xticks(rotation = 45, ha=\"right\") \n",
    "_.fig.savefig('img/top_pickup_locations_all.png',bbox_inches='tight')\n",
    "\n",
    "#Dropoffs\n",
    "_ = sns.catplot(x=\"Community Area Name_dropoff\",y=\"Total Trips\",kind=\"bar\",data=top_10_dropoff,height=6,aspect=1)\n",
    "plt.title('Top 10 Dropoff Locations Overall')\n",
    "plt.xticks(rotation = 30, ha=\"right\") \n",
    "_.fig.savefig('img/top_dropoff_locations_all.png',bbox_inches='tight')\n",
    "plt.show()\n"
   ]
  },
  {
   "cell_type": "code",
   "execution_count": 7,
   "metadata": {},
   "outputs": [],
   "source": []
  },
  {
   "cell_type": "code",
   "execution_count": 10,
   "metadata": {},
   "outputs": [
    {
     "data": {
      "text/plain": [
       "77"
      ]
     },
     "execution_count": 10,
     "metadata": {},
     "output_type": "execute_result"
    }
   ],
   "source": []
  },
  {
   "cell_type": "code",
   "execution_count": 13,
   "metadata": {},
   "outputs": [],
   "source": [
    "total_pickup = merged_gdf.groupby(['Pickup Community Area', 'Distance to Center_pickup']).size().reset_index(name=\"Total Trips\")\n",
    "total_dropoff = merged_gdf.groupby(['Dropoff Community Area', 'Distance to Center_dropoff']).size().reset_index(name=\"Total Trips\")\n",
    "\n",
    "\n",
    "top_10_pickup = total_pickup.nlargest(12, \"Total Trips\")\n",
    "bottom_10_pickup = total_pickup.nsmallest(12, \"Total Trips\")\n",
    "\n",
    "top_10_dropoff = total_dropoff.nlargest(12, \"Total Trips\")\n",
    "bottom_10_dropoff = total_dropoff.nsmallest(12, \"Total Trips\")"
   ]
  },
  {
   "cell_type": "code",
   "execution_count": 17,
   "metadata": {
    "scrolled": false
   },
   "outputs": [
    {
     "data": {
      "image/png": "[encoded data removed]",
      "text/plain": [
       "<Figure size 432x288 with 1 Axes>"
      ]
     },
     "metadata": {
      "needs_background": "light"
     },
     "output_type": "display_data"
    },
    {
     "data": {
      "image/png": "[encoded data removed]",
      "text/plain": [
       "<Figure size 432x288 with 1 Axes>"
      ]
     },
     "metadata": {
      "needs_background": "light"
     },
     "output_type": "display_data"
    }
   ],
   "source": [
    "_ = sns.scatterplot(x=\"Total Trips\", y = \"Distance to Center_pickup\", data=total_pickup)\n",
    "plt.title('Scatter Test')\n",
    "plt.xlim(0,)\n",
    "plt.ylim(0,)\n",
    "plt.show()\n",
    "\n",
    "_ = sns.scatterplot(x=\"Total Trips\", y = \"Distance to Center_dropoff\", data=total_dropoff)\n",
    "plt.title('Scatter Test')\n",
    "plt.xlim(0,)\n",
    "plt.ylim(0,)\n",
    "plt.show()\n"
   ]
  },
  {
   "cell_type": "code",
   "execution_count": 18,
   "metadata": {},
   "outputs": [
    {
     "data": {
      "image/png": "[encoded data removed]",
      "text/plain": [
       "<Figure size 432x288 with 1 Axes>"
      ]
     },
     "metadata": {
      "needs_background": "light"
     },
     "output_type": "display_data"
    },
    {
     "data": {
      "image/png": "[encoded data removed]",
      "text/plain": [
       "<Figure size 432x288 with 1 Axes>"
      ]
     },
     "metadata": {
      "needs_background": "light"
     },
     "output_type": "display_data"
    }
   ],
   "source": [
    "_ = sns.scatterplot(x= \"Total Trips\", y =\"Distance to Center_dropoff\", data=top_10_dropoff)\n",
    "plt.title('Scatter Test')\n",
    "plt.xlim(0,)\n",
    "plt.ylim(0,)\n",
    "plt.show()\n",
    "\n",
    "_ = sns.scatterplot(x= \"Total Trips\", y =\"Distance to Center_dropoff\", data=bottom_10_dropoff)\n",
    "plt.title('Scatter Test')\n",
    "plt.xlim(0,)\n",
    "plt.ylim(0,)\n",
    "plt.show()"
   ]
  },
  {
   "cell_type": "code",
   "execution_count": null,
   "metadata": {},
   "outputs": [],
   "source": []
  }
 ],
 "metadata": {
  "kernelspec": {
   "display_name": "Python 3 (ipykernel)",
   "language": "python",
   "name": "python3"
  },
  "language_info": {
   "codemirror_mode": {
    "name": "ipython",
    "version": 3
   },
   "file_extension": ".py",
   "mimetype": "text/x-python",
   "name": "python",
   "nbconvert_exporter": "python",
   "pygments_lexer": "ipython3",
   "version": "3.8.10"
  }
 },
 "nbformat": 4,
 "nbformat_minor": 1
}
