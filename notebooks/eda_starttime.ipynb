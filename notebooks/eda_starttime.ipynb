{
 "cells": [
  {
   "cell_type": "markdown",
   "source": [
    "## Exploration of Trip Starting Times\n",
    "In this section we analyze the starting times of Chicago taxi trips to find out temporal demand patterns.\n",
    "\n",
    "We proceed as following:\n",
    "* Getting an overview of peak demand hours and time zones\n",
    "* Differentiating between weekday and weekend peak demand times\n",
    "* Analysis of spatial peak demand hours\n",
    "\n",
    "_Note: Many visualizations in this notebook are first produced with high dpi and saved as an image and then loaded back to the notebook. This is done to avoid long running times.\n",
    "Thus the cells containing the logic to produce these plots are commented out. If you want to run these cells:\n",
    "please make sure that you have enough memory (about 32 GB) and please be patient._"
   ],
   "metadata": {
    "collapsed": false
   }
  },
  {
   "cell_type": "code",
   "execution_count": 2,
   "metadata": {
    "collapsed": true
   },
   "outputs": [],
   "source": [
    "import utils\n",
    "import seaborn as sns\n",
    "from matplotlib import pyplot as plt\n",
    "import aggregation\n",
    "import eda_starttime"
   ]
  },
  {
   "cell_type": "code",
   "execution_count": 3,
   "outputs": [],
   "source": [
    "df = utils.read_parquet('Taxi_Trips_cleaned.parquet', utils.get_data_path(), ['Pickup Community Area', 'Dropoff Community Area','Trip Start Month', 'Trip Start Day', 'Trip Start Hour', 'Trip Start Weekday', 'Trip Start Is Weekend'])\n",
    "geo_df = utils.read_geo_dataset(\"Boundaries - Community Areas (current).geojson\")\n",
    "\n"
   ],
   "metadata": {
    "collapsed": false,
    "pycharm": {
     "name": "#%%\n"
    }
   }
  },
  {
   "cell_type": "code",
   "execution_count": 4,
   "outputs": [],
   "source": [
    "df = eda_starttime.add_time_interval(df)"
   ],
   "metadata": {
    "collapsed": false,
    "pycharm": {
     "name": "#%%\n"
    }
   }
  },
  {
   "cell_type": "code",
   "execution_count": 4,
   "outputs": [
    {
     "data": {
      "text/plain": "  Pickup Community Area Dropoff Community Area  Trip Start Month  \\\n0                   1.0                    1.0                 1   \n1                   8.0                    8.0                 1   \n2                   8.0                    8.0                 1   \n3                   8.0                    6.0                 1   \n4                  22.0                   21.0                 1   \n\n   Trip Start Day  Trip Start Hour  Trip Start Weekday  Trip Start Is Weekend  \\\n0               1                0                   3                      0   \n1               1                0                   3                      0   \n2               1                0                   3                      0   \n3               1                0                   3                      0   \n4               1                0                   3                      0   \n\n  Pickup Time_Interval  \n0                night  \n1                night  \n2                night  \n3                night  \n4                night  ",
      "text/html": "<div>\n<style scoped>\n    .dataframe tbody tr th:only-of-type {\n        vertical-align: middle;\n    }\n\n    .dataframe tbody tr th {\n        vertical-align: top;\n    }\n\n    .dataframe thead th {\n        text-align: right;\n    }\n</style>\n<table border=\"1\" class=\"dataframe\">\n  <thead>\n    <tr style=\"text-align: right;\">\n      <th></th>\n      <th>Pickup Community Area</th>\n      <th>Dropoff Community Area</th>\n      <th>Trip Start Month</th>\n      <th>Trip Start Day</th>\n      <th>Trip Start Hour</th>\n      <th>Trip Start Weekday</th>\n      <th>Trip Start Is Weekend</th>\n      <th>Pickup Time_Interval</th>\n    </tr>\n  </thead>\n  <tbody>\n    <tr>\n      <th>0</th>\n      <td>1.0</td>\n      <td>1.0</td>\n      <td>1</td>\n      <td>1</td>\n      <td>0</td>\n      <td>3</td>\n      <td>0</td>\n      <td>night</td>\n    </tr>\n    <tr>\n      <th>1</th>\n      <td>8.0</td>\n      <td>8.0</td>\n      <td>1</td>\n      <td>1</td>\n      <td>0</td>\n      <td>3</td>\n      <td>0</td>\n      <td>night</td>\n    </tr>\n    <tr>\n      <th>2</th>\n      <td>8.0</td>\n      <td>8.0</td>\n      <td>1</td>\n      <td>1</td>\n      <td>0</td>\n      <td>3</td>\n      <td>0</td>\n      <td>night</td>\n    </tr>\n    <tr>\n      <th>3</th>\n      <td>8.0</td>\n      <td>6.0</td>\n      <td>1</td>\n      <td>1</td>\n      <td>0</td>\n      <td>3</td>\n      <td>0</td>\n      <td>night</td>\n    </tr>\n    <tr>\n      <th>4</th>\n      <td>22.0</td>\n      <td>21.0</td>\n      <td>1</td>\n      <td>1</td>\n      <td>0</td>\n      <td>3</td>\n      <td>0</td>\n      <td>night</td>\n    </tr>\n  </tbody>\n</table>\n</div>"
     },
     "execution_count": 4,
     "metadata": {},
     "output_type": "execute_result"
    }
   ],
   "source": [
    "df.head()"
   ],
   "metadata": {
    "collapsed": false,
    "pycharm": {
     "name": "#%%\n"
    }
   }
  },
  {
   "cell_type": "markdown",
   "source": [
    "Total countplot..."
   ],
   "metadata": {
    "collapsed": false,
    "pycharm": {
     "name": "#%% md\n"
    }
   }
  },
  {
   "cell_type": "code",
   "execution_count": 5,
   "outputs": [
    {
     "data": {
      "text/plain": "<AxesSubplot:xlabel='Trip Start Hour', ylabel='count'>"
     },
     "execution_count": 5,
     "metadata": {},
     "output_type": "execute_result"
    },
    {
     "data": {
      "text/plain": "<Figure size 432x288 with 1 Axes>",
      "image/png": "[encoded data removed]"
     },
     "metadata": {
      "needs_background": "light"
     },
     "output_type": "display_data"
    }
   ],
   "source": [
    "eda_starttime.total_countplot(df)"
   ],
   "metadata": {
    "collapsed": false,
    "pycharm": {
     "name": "#%%\n"
    }
   }
  },
  {
   "cell_type": "markdown",
   "source": [
    "Weekdays and Weekend countplots..."
   ],
   "metadata": {
    "collapsed": false
   }
  },
  {
   "cell_type": "code",
   "execution_count": 6,
   "outputs": [
    {
     "data": {
      "text/plain": "<Figure size 1008x432 with 2 Axes>",
      "image/png": "[encoded data removed]"
     },
     "metadata": {
      "needs_background": "light"
     },
     "output_type": "display_data"
    }
   ],
   "source": [
    "eda_starttime.weekend_weekday_countplot(df, time_interval= True)"
   ],
   "metadata": {
    "collapsed": false,
    "pycharm": {
     "name": "#%%\n"
    }
   }
  },
  {
   "cell_type": "code",
   "execution_count": 7,
   "outputs": [],
   "source": [
    "df_grp = eda_starttime.area_peak_hours(df)"
   ],
   "metadata": {
    "collapsed": false,
    "pycharm": {
     "name": "#%%\n"
    }
   }
  },
  {
   "cell_type": "code",
   "execution_count": 8,
   "outputs": [
    {
     "data": {
      "text/plain": "Pickup Community Area    \n1.0                    4     4202\n                       3     4138\n                       9     4061\n                       10    3755\n                       2     3740\n                             ... \n9.0                    11      15\n                       17      14\n                       9       13\n                       12      13\n                       18      11\nName: Trip Start Hour, Length: 1836, dtype: int64"
     },
     "execution_count": 8,
     "metadata": {},
     "output_type": "execute_result"
    }
   ],
   "source": [
    "df_grp"
   ],
   "metadata": {
    "collapsed": false,
    "pycharm": {
     "name": "#%%\n"
    }
   }
  },
  {
   "cell_type": "code",
   "execution_count": null,
   "outputs": [],
   "source": [
    "eda_starttime.area_peak_hours_map(df, geo_df)"
   ],
   "metadata": {
    "collapsed": false,
    "pycharm": {
     "name": "#%%\n"
    }
   }
  },
  {
   "cell_type": "code",
   "execution_count": null,
   "outputs": [],
   "source": [
    "eda_starttime.hex_peak_hours_map()"
   ],
   "metadata": {
    "collapsed": false,
    "pycharm": {
     "name": "#%%\n"
    }
   }
  },
  {
   "cell_type": "code",
   "execution_count": null,
   "outputs": [],
   "source": [],
   "metadata": {
    "collapsed": false,
    "pycharm": {
     "name": "#%%\n"
    }
   }
  },
  {
   "cell_type": "code",
   "execution_count": null,
   "outputs": [],
   "source": [],
   "metadata": {
    "collapsed": false,
    "pycharm": {
     "name": "#%%\n"
    }
   }
  },
  {
   "cell_type": "code",
   "execution_count": null,
   "outputs": [],
   "source": [],
   "metadata": {
    "collapsed": false,
    "pycharm": {
     "name": "#%%\n"
    }
   }
  },
  {
   "cell_type": "code",
   "execution_count": null,
   "outputs": [],
   "source": [],
   "metadata": {
    "collapsed": false,
    "pycharm": {
     "name": "#%%\n"
    }
   }
  },
  {
   "cell_type": "code",
   "execution_count": null,
   "outputs": [],
   "source": [],
   "metadata": {
    "collapsed": false,
    "pycharm": {
     "name": "#%%\n"
    }
   }
  },
  {
   "cell_type": "code",
   "execution_count": null,
   "outputs": [],
   "source": [
    "#Barplot\n",
    "sns.countplot(data=df, x = 'Trip Start Hour', palette= 'YlOrRd', hue='Trip Start Is Weekend')"
   ],
   "metadata": {
    "collapsed": false,
    "pycharm": {
     "name": "#%%\n"
    }
   }
  },
  {
   "cell_type": "code",
   "execution_count": null,
   "outputs": [],
   "source": [
    "#sns.barplot(data=df, x= 'Trip Start Hour', y= df.value_counts())\n",
    "#df_jan = df.loc[df['Trip Start Month'] == 1]\n",
    "#df_jul = df.loc[df['Trip Start Month'] == 7]\n",
    "df['Trip Start Hour'].value_counts()[:5].plot(kind='barh', color = \"Orange\")"
   ],
   "metadata": {
    "collapsed": false,
    "pycharm": {
     "name": "#%%\n"
    }
   }
  },
  {
   "cell_type": "code",
   "execution_count": null,
   "outputs": [],
   "source": [
    "# Juli\n",
    "sns.countplot(data=df.loc[df['Trip Start Month'] == 7], x = 'Trip Start Hour', palette= 'YlOrRd')"
   ],
   "metadata": {
    "collapsed": false,
    "pycharm": {
     "name": "#%%\n"
    }
   }
  },
  {
   "cell_type": "code",
   "execution_count": null,
   "outputs": [],
   "source": [
    "sns.displot(df, x='Trip Start Hour', bins='24')"
   ],
   "metadata": {
    "collapsed": false,
    "pycharm": {
     "name": "#%%\n"
    }
   }
  },
  {
   "cell_type": "code",
   "execution_count": null,
   "outputs": [],
   "source": [
    "# Hours with most trips (total)\n",
    "frequent_hours = df['Trip Start Hour'].value_counts()[:5]"
   ],
   "metadata": {
    "collapsed": false,
    "pycharm": {
     "name": "#%%\n"
    }
   }
  },
  {
   "cell_type": "code",
   "execution_count": null,
   "outputs": [],
   "source": [
    "frequent_hours"
   ],
   "metadata": {
    "collapsed": false,
    "pycharm": {
     "name": "#%%\n"
    }
   }
  },
  {
   "cell_type": "code",
   "execution_count": null,
   "outputs": [],
   "source": [
    "figure, axes = plt.subplots(nrows=1, ncols=1)\n",
    "axes = sns.countplot(data=df.loc[df['Trip Start Is Weekend'] == 0], x = 'Trip Start Hour', palette= 'YlOrRd')\n",
    "#axes.hist(df['Trip Start Hour'], bins=24)\n",
    "#axes.bar(df.index,df['Trip Start Hour'])\n",
    "print(figure)"
   ],
   "metadata": {
    "collapsed": false,
    "pycharm": {
     "name": "#%%\n"
    }
   }
  },
  {
   "cell_type": "code",
   "execution_count": null,
   "outputs": [],
   "source": [
    "df_agg = aggregation.agg_stats(df['Trip Start Is Weekend'], df['Trip Start Hour'], ['count'])"
   ],
   "metadata": {
    "collapsed": false,
    "pycharm": {
     "name": "#%%\n"
    }
   }
  },
  {
   "cell_type": "code",
   "execution_count": null,
   "outputs": [],
   "source": [
    "#figure, axes = plt.subplots(nrows=1, ncols=2)\n",
    "fig, axes = plt.subplots(1,2, figsize=(12,6))\n",
    "sns.countplot(data=df.loc[df['Trip Start Is Weekend'] == 0], x = 'Trip Start Hour', palette= 'YlOrRd', ax = axes[0])\n",
    "sns.countplot(data=df.loc[df['Trip Start Is Weekend'] == 1], x = 'Trip Start Hour', palette= 'YlOrRd', ax = axes[1])\n",
    "#axes.hist(df['Trip Start Hour'], bins=24)\n",
    "#axes.bar(df.index,df['Trip Start Hour'])"
   ],
   "metadata": {
    "collapsed": false,
    "pycharm": {
     "name": "#%%\n"
    }
   }
  },
  {
   "cell_type": "code",
   "execution_count": null,
   "outputs": [],
   "source": [],
   "metadata": {
    "collapsed": false,
    "pycharm": {
     "name": "#%%\n"
    }
   }
  },
  {
   "cell_type": "code",
   "execution_count": null,
   "outputs": [],
   "source": [
    "sns.countplot(data=df.loc[df['Trip Start Is Weekend'] == 0], x = 'Trip Start Hour', palette= 'YlOrRd')"
   ],
   "metadata": {
    "collapsed": false,
    "pycharm": {
     "name": "#%%\n"
    }
   }
  },
  {
   "cell_type": "code",
   "execution_count": null,
   "outputs": [],
   "source": [
    "sns.countplot(data=df.loc[df['Trip Start Is Weekend'] == 1], x = 'Trip Start Hour', palette= 'YlOrRd')\n"
   ],
   "metadata": {
    "collapsed": false,
    "pycharm": {
     "name": "#%%\n"
    }
   }
  },
  {
   "cell_type": "code",
   "execution_count": null,
   "outputs": [],
   "source": [
    "df_agg = aggregation.agg_stats(df['Pickup Community Area'], df['Trip Start Hour'], ['mean'])"
   ],
   "metadata": {
    "collapsed": false,
    "pycharm": {
     "name": "#%%\n"
    }
   }
  },
  {
   "cell_type": "code",
   "execution_count": null,
   "outputs": [],
   "source": [
    "df_agg"
   ],
   "metadata": {
    "collapsed": false,
    "pycharm": {
     "name": "#%%\n"
    }
   }
  },
  {
   "cell_type": "code",
   "execution_count": null,
   "outputs": [],
   "source": [
    "df['Pickup Community Area'].nunique()"
   ],
   "metadata": {
    "collapsed": false,
    "pycharm": {
     "name": "#%%\n"
    }
   }
  },
  {
   "cell_type": "code",
   "execution_count": null,
   "outputs": [],
   "source": [
    "df_"
   ],
   "metadata": {
    "collapsed": false,
    "pycharm": {
     "name": "#%%\n"
    }
   }
  }
 ],
 "metadata": {
  "kernelspec": {
   "display_name": "Python 3",
   "language": "python",
   "name": "python3"
  },
  "language_info": {
   "codemirror_mode": {
    "name": "ipython",
    "version": 2
   },
   "file_extension": ".py",
   "mimetype": "text/x-python",
   "name": "python",
   "nbconvert_exporter": "python",
   "pygments_lexer": "ipython2",
   "version": "2.7.6"
  }
 },
 "nbformat": 4,
 "nbformat_minor": 0
}