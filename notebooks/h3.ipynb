{
 "cells": [
  {
   "cell_type": "code",
   "execution_count": 20,
   "outputs": [
    {
     "ename": "SyntaxError",
     "evalue": "invalid syntax (3729187224.py, line 1)",
     "output_type": "error",
     "traceback": [
      "\u001B[0;36m  File \u001B[0;32m\"/var/folders/cg/x160_vfn57vg7pn_4s7qw4dh0000gn/T/ipykernel_10666/3729187224.py\"\u001B[0;36m, line \u001B[0;32m1\u001B[0m\n\u001B[0;31m    cd ..\u001B[0m\n\u001B[0m        ^\u001B[0m\n\u001B[0;31mSyntaxError\u001B[0m\u001B[0;31m:\u001B[0m invalid syntax\n"
     ]
    }
   ],
   "source": [
    "cd .."
   ],
   "metadata": {
    "collapsed": false,
    "pycharm": {
     "name": "#%%\n"
    }
   }
  },
  {
   "cell_type": "code",
   "execution_count": 8,
   "outputs": [],
   "source": [
    "import hexagon\n",
    "import utils\n",
    "import h3.api.numpy_int as h3\n",
    "import numpy as np"
   ],
   "metadata": {
    "collapsed": false,
    "pycharm": {
     "name": "#%%\n"
    }
   }
  },
  {
   "cell_type": "code",
   "execution_count": 2,
   "outputs": [],
   "source": [
    "df = utils.read_parquet(\"Taxi_Trips_cleaned.parquet\", columns=[\n",
    "    \"Pickup Centroid Latitude\",\n",
    "    \"Pickup Centroid Longitude\",\n",
    "    \"Dropoff Centroid Latitude\",\n",
    "    \"Dropoff Centroid Longitude\"\n",
    "])"
   ],
   "metadata": {
    "collapsed": false,
    "pycharm": {
     "name": "#%%\n"
    }
   }
  },
  {
   "cell_type": "code",
   "execution_count": 3,
   "outputs": [],
   "source": [
    "#df = df.sample(1000)"
   ],
   "metadata": {
    "collapsed": false,
    "pycharm": {
     "name": "#%%\n"
    }
   }
  },
  {
   "cell_type": "markdown",
   "source": [
    "## Converting coordinates to hexagons\n",
    "Hexagons are represented as h3 indexes in h3. Conversion does not allow vectorization by default, but there is an\n",
    "experimental version: https://github.com/uber/h3-py/issues/141\n",
    "Vectoring (hexagon.get_hexagon_vect()) only takes 16 seconds compared to 4 minutes without vectorization.\n",
    "\n",
    "Results can be seen below."
   ],
   "metadata": {
    "collapsed": false,
    "pycharm": {
     "name": "#%% md\n"
    }
   }
  },
  {
   "cell_type": "code",
   "execution_count": 4,
   "outputs": [
    {
     "name": "stdout",
     "output_type": "stream",
     "text": [
      "<class 'pandas.core.frame.DataFrame'>\n",
      "RangeIndex: 22026534 entries, 0 to 22026533\n",
      "Data columns (total 4 columns):\n",
      " #   Column                      Dtype  \n",
      "---  ------                      -----  \n",
      " 0   Pickup Centroid Latitude    float64\n",
      " 1   Pickup Centroid Longitude   float64\n",
      " 2   Dropoff Centroid Latitude   float64\n",
      " 3   Dropoff Centroid Longitude  float64\n",
      "dtypes: float64(4)\n",
      "memory usage: 672.2 MB\n"
     ]
    }
   ],
   "source": [
    "df.info()"
   ],
   "metadata": {
    "collapsed": false,
    "pycharm": {
     "name": "#%%\n"
    }
   }
  },
  {
   "cell_type": "code",
   "execution_count": 5,
   "outputs": [
    {
     "name": "stdout",
     "output_type": "stream",
     "text": [
      "CPU times: user 16.1 s, sys: 274 ms, total: 16.4 s\n",
      "Wall time: 16.5 s\n"
     ]
    }
   ],
   "source": [
    "%%time\n",
    "df[\"hex_vect\"] = hexagon.get_hexagon_vect(df[\"Pickup Centroid Latitude\"], df[\"Pickup Centroid Longitude\"], res=8)"
   ],
   "metadata": {
    "collapsed": false,
    "pycharm": {
     "name": "#%%\n"
    }
   }
  },
  {
   "cell_type": "code",
   "execution_count": 6,
   "outputs": [
    {
     "name": "stdout",
     "output_type": "stream",
     "text": [
      "CPU times: user 4min 13s, sys: 2.99 s, total: 4min 16s\n",
      "Wall time: 4min 16s\n"
     ]
    }
   ],
   "source": [
    "%%time\n",
    "df[\"hex_normal\"] =  df.apply(lambda x: h3.geo_to_h3(x[\"Pickup Centroid Latitude\"], x[\"Pickup Centroid Longitude\"], resolution=8), axis=1 )"
   ],
   "metadata": {
    "collapsed": false,
    "pycharm": {
     "name": "#%%\n"
    }
   }
  },
  {
   "cell_type": "code",
   "execution_count": 10,
   "outputs": [],
   "source": [
    "df[\"compare\"] = np.where(df[\"hex_vect\"] == df[\"hex_normal\"], True, False)\n",
    "df['compare'].value_counts()"
   ],
   "metadata": {
    "collapsed": false,
    "pycharm": {
     "name": "#%%\n"
    }
   }
  },
  {
   "cell_type": "markdown",
   "source": [
    "## Creating GeoJson with boundries of hexagons\n",
    "\n"
   ],
   "metadata": {
    "collapsed": false,
    "pycharm": {
     "name": "#%% md\n"
    }
   }
  },
  {
   "cell_type": "code",
   "execution_count": 7,
   "outputs": [],
   "source": [],
   "metadata": {
    "collapsed": false,
    "pycharm": {
     "name": "#%%\n"
    }
   }
  },
  {
   "cell_type": "code",
   "execution_count": 7,
   "outputs": [],
   "source": [],
   "metadata": {
    "collapsed": false,
    "pycharm": {
     "name": "#%%\n"
    }
   }
  }
 ],
 "metadata": {
  "kernelspec": {
   "display_name": "Python 3",
   "language": "python",
   "name": "python3"
  },
  "language_info": {
   "codemirror_mode": {
    "name": "ipython",
    "version": 2
   },
   "file_extension": ".py",
   "mimetype": "text/x-python",
   "name": "python",
   "nbconvert_exporter": "python",
   "pygments_lexer": "ipython2",
   "version": "2.7.6"
  }
 },
 "nbformat": 4,
 "nbformat_minor": 0
}