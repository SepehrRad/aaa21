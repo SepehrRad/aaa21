{
 "cells": [
  {
   "cell_type": "markdown",
   "id": "7b46d141",
   "metadata": {},
   "source": [
    "# Taxi Demand Prediction - Neural Network\n",
    "---\n",
    "In this notebook, we build a model for predicting taxi demand in Chicago. The model is based on the information provided by the city of Chicago in 2015. \n",
    "\n",
    "Furthermore, the model is based on all of the available data. Since we use mini batches to train the neural network and the prediction target is taxi demand which is calculated by data aggregation. We won't encounter any memory problems. \n",
    "\n",
    "To build our demand prediction model, we proceed as following:\n"
   ]
  },
  {
   "cell_type": "code",
   "execution_count": 1,
   "id": "965f6bcd",
   "metadata": {},
   "outputs": [
    {
     "name": "stdout",
     "output_type": "stream",
     "text": [
      "C:\\Users\\Sepehr\\Desktop\\Master\\AdvanceAnalyticsAndApps\\project\\aaa21\\aaa21\n"
     ]
    }
   ],
   "source": [
    "cd .."
   ]
  },
  {
   "cell_type": "code",
   "execution_count": 4,
   "id": "62897e96",
   "metadata": {},
   "outputs": [],
   "source": [
    "import utils, feature_engineering, geo_engineering,preprocessing,prediction_nn,prediction_utils\n",
    "import pandas as pd\n",
    "import numpy as np\n",
    "from fastai.tabular.all import *\n",
    "import matplotlib.pyplot as plt\n",
    "%matplotlib inline"
   ]
  },
  {
   "cell_type": "markdown",
   "id": "77dbf005",
   "metadata": {},
   "source": [
    "# Daily Models\n",
    "---\n",
    "Explanations..."
   ]
  },
  {
   "cell_type": "markdown",
   "id": "b9bacc69",
   "metadata": {},
   "source": [
    "## Data Preparation\n",
    "---"
   ]
  },
  {
   "cell_type": "code",
   "execution_count": 3,
   "id": "9ccac300",
   "metadata": {},
   "outputs": [],
   "source": [
    "# Takes few minutes to run (16 GB RAM)\n",
    "chicago_df = utils.read_parquet('Taxi_Trips_Cleaned.parquet', \n",
    "                                columns=['Trip ID','Trip Start Timestamp','Pickup Community Area',\n",
    "                                         'Dropoff Community Area'])\n",
    "weather_df = utils.read_parquet('Weather.parquet',columns = ['Trip Start Timestamp','Humidity(%)',\n",
    "                                    'Pressure(hPa)','Temperature(C)',\n",
    "                                    'Wind Direction(Meteoro. Degree)','Wind Speed(M/S)'])\n",
    "\n",
    "daily_demand = preprocessing.create_aggregated_data(df=chicago_df,weather_df=weather_df,temporal_resolution='D')\n",
    "daily_demand_hex_7 = preprocessing.create_aggregated_data(df=chicago_df,weather_df=weather_df,temporal_resolution='D',\n",
    "                                            use_hexes=True,hex_resolution=7)\n",
    "daily_demand_hex_6 = preprocessing.create_aggregated_data(df=chicago_df,weather_df=weather_df,temporal_resolution='D',\n",
    "                                            use_hexes=True,hex_resolution=6)\n",
    "\n",
    "del chicago_df\n",
    "del weather_df"
   ]
  },
  {
   "cell_type": "markdown",
   "id": "ea913cb0",
   "metadata": {},
   "source": [
    "### Daily Model - Community Areas\n",
    "---\n",
    "Explanation"
   ]
  },
  {
   "cell_type": "code",
   "execution_count": 4,
   "id": "be16caf9",
   "metadata": {
    "scrolled": true
   },
   "outputs": [],
   "source": [
    "#Train - Test - Validation Split\n",
    "train_val_dls,test_dl = prediction_nn.split_data_sets_for_nn(daily_demand,temporal_resolution='D',\n",
    "                                                test_size=0.2,batch_size=512,validation_size=0.2)"
   ]
  },
  {
   "cell_type": "code",
   "execution_count": 5,
   "id": "0ad07301",
   "metadata": {},
   "outputs": [],
   "source": [
    "daily_model = tabular_learner(train_val_dls, layers=[100,50],\n",
    "                n_out=1, loss_func=L1LossFlat(), opt_func=Adam, lr=0.001,\n",
    "                metrics=[mse,rmse,R2Score()],\n",
    "                train_bn=True, moms=(0.95, 0.85, 0.95))"
   ]
  },
  {
   "cell_type": "code",
   "execution_count": 18,
   "id": "785c5f42",
   "metadata": {},
   "outputs": [
    {
     "data": {
      "text/html": [],
      "text/plain": [
       "<IPython.core.display.HTML object>"
      ]
     },
     "metadata": {},
     "output_type": "display_data"
    },
    {
     "data": {
      "text/plain": [
       "SuggestedLRs(lr_min=0.02570395767688751, lr_steep=0.00011220184387639165)"
      ]
     },
     "execution_count": 18,
     "metadata": {},
     "output_type": "execute_result"
    },
    {
     "data": {
      "image/png": "[encoded data removed]",
      "text/plain": [
       "<Figure size 432x288 with 1 Axes>"
      ]
     },
     "metadata": {
      "needs_background": "light"
     },
     "output_type": "display_data"
    }
   ],
   "source": [
    "daily_model.lr_find(start_lr = 1e-05,end_lr = 1e+02, num_it = 100)"
   ]
  },
  {
   "cell_type": "code",
   "execution_count": 6,
   "id": "3afdd6b5",
   "metadata": {},
   "outputs": [
    {
     "data": {
      "text/html": [],
      "text/plain": [
       "<IPython.core.display.HTML object>"
      ]
     },
     "metadata": {},
     "output_type": "display_data"
    },
    {
     "data": {
      "text/plain": [
       "TabularModel (Input shape: 64 x torch.Size([64, 9]))\n",
       "============================================================================\n",
       "Layer (type)         Output Shape         Param #    Trainable \n",
       "============================================================================\n",
       "                     64 x 18             \n",
       "Embedding                                 1404       True      \n",
       "____________________________________________________________________________\n",
       "                     64 x 2              \n",
       "Embedding                                 4          True      \n",
       "____________________________________________________________________________\n",
       "                     64 x 5              \n",
       "Embedding                                 45         True      \n",
       "Embedding                                 40         True      \n",
       "____________________________________________________________________________\n",
       "                     64 x 3              \n",
       "Embedding                                 9          True      \n",
       "Embedding                                 9          True      \n",
       "Embedding                                 9          True      \n",
       "Embedding                                 9          True      \n",
       "____________________________________________________________________________\n",
       "                     64 x 2              \n",
       "Embedding                                 4          True      \n",
       "____________________________________________________________________________\n",
       "                     64 x 3              \n",
       "Embedding                                 9          True      \n",
       "Dropout                                                        \n",
       "BatchNorm1d                               18         True      \n",
       "BatchNorm1d                               112        True      \n",
       "____________________________________________________________________________\n",
       "                     64 x 100            \n",
       "Linear                                    5600       True      \n",
       "ReLU                                                           \n",
       "BatchNorm1d                               200        True      \n",
       "____________________________________________________________________________\n",
       "                     64 x 50             \n",
       "Linear                                    5000       True      \n",
       "ReLU                                                           \n",
       "____________________________________________________________________________\n",
       "                     64 x 1              \n",
       "Linear                                    51         True      \n",
       "____________________________________________________________________________\n",
       "\n",
       "Total params: 12,523\n",
       "Total trainable params: 12,523\n",
       "Total non-trainable params: 0\n",
       "\n",
       "Optimizer used: <function Adam at 0x0000023452FB6160>\n",
       "Loss function: FlattenedLoss of L1Loss()\n",
       "\n",
       "Callbacks:\n",
       "  - TrainEvalCallback\n",
       "  - Recorder\n",
       "  - ProgressCallback"
      ]
     },
     "execution_count": 6,
     "metadata": {},
     "output_type": "execute_result"
    }
   ],
   "source": [
    "daily_model.summary()"
   ]
  },
  {
   "cell_type": "code",
   "execution_count": 7,
   "id": "3ddcd4ad",
   "metadata": {},
   "outputs": [
    {
     "data": {
      "text/html": [
       "<table border=\"1\" class=\"dataframe\">\n",
       "  <thead>\n",
       "    <tr style=\"text-align: left;\">\n",
       "      <th>epoch</th>\n",
       "      <th>train_loss</th>\n",
       "      <th>valid_loss</th>\n",
       "      <th>mse</th>\n",
       "      <th>_rmse</th>\n",
       "      <th>r2_score</th>\n",
       "      <th>time</th>\n",
       "    </tr>\n",
       "  </thead>\n",
       "  <tbody>\n",
       "    <tr>\n",
       "      <td>0</td>\n",
       "      <td>957.715088</td>\n",
       "      <td>824.265930</td>\n",
       "      <td>9625976.000000</td>\n",
       "      <td>3102.575684</td>\n",
       "      <td>-0.075942</td>\n",
       "      <td>00:04</td>\n",
       "    </tr>\n",
       "    <tr>\n",
       "      <td>1</td>\n",
       "      <td>942.624268</td>\n",
       "      <td>822.094055</td>\n",
       "      <td>9621024.000000</td>\n",
       "      <td>3101.777832</td>\n",
       "      <td>-0.075389</td>\n",
       "      <td>00:04</td>\n",
       "    </tr>\n",
       "    <tr>\n",
       "      <td>2</td>\n",
       "      <td>903.463623</td>\n",
       "      <td>815.203247</td>\n",
       "      <td>9598864.000000</td>\n",
       "      <td>3098.203125</td>\n",
       "      <td>-0.072911</td>\n",
       "      <td>00:04</td>\n",
       "    </tr>\n",
       "    <tr>\n",
       "      <td>3</td>\n",
       "      <td>889.725952</td>\n",
       "      <td>796.742249</td>\n",
       "      <td>9521688.000000</td>\n",
       "      <td>3085.723145</td>\n",
       "      <td>-0.064285</td>\n",
       "      <td>00:04</td>\n",
       "    </tr>\n",
       "    <tr>\n",
       "      <td>4</td>\n",
       "      <td>894.410950</td>\n",
       "      <td>756.289307</td>\n",
       "      <td>9287644.000000</td>\n",
       "      <td>3047.563721</td>\n",
       "      <td>-0.038125</td>\n",
       "      <td>00:05</td>\n",
       "    </tr>\n",
       "    <tr>\n",
       "      <td>5</td>\n",
       "      <td>829.123413</td>\n",
       "      <td>697.748230</td>\n",
       "      <td>8783781.000000</td>\n",
       "      <td>2963.744141</td>\n",
       "      <td>0.018194</td>\n",
       "      <td>00:04</td>\n",
       "    </tr>\n",
       "    <tr>\n",
       "      <td>6</td>\n",
       "      <td>727.181335</td>\n",
       "      <td>614.513000</td>\n",
       "      <td>7808695.000000</td>\n",
       "      <td>2794.404053</td>\n",
       "      <td>0.127184</td>\n",
       "      <td>00:04</td>\n",
       "    </tr>\n",
       "    <tr>\n",
       "      <td>7</td>\n",
       "      <td>639.604065</td>\n",
       "      <td>615.144714</td>\n",
       "      <td>6452829.500000</td>\n",
       "      <td>2540.241699</td>\n",
       "      <td>0.278736</td>\n",
       "      <td>00:03</td>\n",
       "    </tr>\n",
       "    <tr>\n",
       "      <td>8</td>\n",
       "      <td>579.580933</td>\n",
       "      <td>461.988922</td>\n",
       "      <td>4936035.500000</td>\n",
       "      <td>2221.718994</td>\n",
       "      <td>0.448275</td>\n",
       "      <td>00:04</td>\n",
       "    </tr>\n",
       "    <tr>\n",
       "      <td>9</td>\n",
       "      <td>458.574432</td>\n",
       "      <td>548.141968</td>\n",
       "      <td>2963339.500000</td>\n",
       "      <td>1721.435547</td>\n",
       "      <td>0.668773</td>\n",
       "      <td>00:06</td>\n",
       "    </tr>\n",
       "    <tr>\n",
       "      <td>10</td>\n",
       "      <td>416.466949</td>\n",
       "      <td>300.625519</td>\n",
       "      <td>1924133.375000</td>\n",
       "      <td>1387.131348</td>\n",
       "      <td>0.784930</td>\n",
       "      <td>00:04</td>\n",
       "    </tr>\n",
       "    <tr>\n",
       "      <td>11</td>\n",
       "      <td>379.653595</td>\n",
       "      <td>517.886902</td>\n",
       "      <td>1197022.000000</td>\n",
       "      <td>1094.084839</td>\n",
       "      <td>0.866203</td>\n",
       "      <td>00:05</td>\n",
       "    </tr>\n",
       "    <tr>\n",
       "      <td>12</td>\n",
       "      <td>326.167511</td>\n",
       "      <td>254.344086</td>\n",
       "      <td>449459.125000</td>\n",
       "      <td>670.417053</td>\n",
       "      <td>0.949762</td>\n",
       "      <td>00:04</td>\n",
       "    </tr>\n",
       "    <tr>\n",
       "      <td>13</td>\n",
       "      <td>269.427490</td>\n",
       "      <td>207.246246</td>\n",
       "      <td>628019.250000</td>\n",
       "      <td>792.476562</td>\n",
       "      <td>0.929803</td>\n",
       "      <td>00:04</td>\n",
       "    </tr>\n",
       "    <tr>\n",
       "      <td>14</td>\n",
       "      <td>283.511932</td>\n",
       "      <td>179.515305</td>\n",
       "      <td>438232.125000</td>\n",
       "      <td>661.990967</td>\n",
       "      <td>0.951017</td>\n",
       "      <td>00:04</td>\n",
       "    </tr>\n",
       "    <tr>\n",
       "      <td>15</td>\n",
       "      <td>258.202820</td>\n",
       "      <td>446.755768</td>\n",
       "      <td>634486.687500</td>\n",
       "      <td>796.546631</td>\n",
       "      <td>0.929080</td>\n",
       "      <td>00:04</td>\n",
       "    </tr>\n",
       "    <tr>\n",
       "      <td>16</td>\n",
       "      <td>236.893784</td>\n",
       "      <td>531.166626</td>\n",
       "      <td>690552.250000</td>\n",
       "      <td>830.994751</td>\n",
       "      <td>0.922814</td>\n",
       "      <td>00:04</td>\n",
       "    </tr>\n",
       "    <tr>\n",
       "      <td>17</td>\n",
       "      <td>200.483856</td>\n",
       "      <td>189.127731</td>\n",
       "      <td>493808.562500</td>\n",
       "      <td>702.715088</td>\n",
       "      <td>0.944805</td>\n",
       "      <td>00:04</td>\n",
       "    </tr>\n",
       "    <tr>\n",
       "      <td>18</td>\n",
       "      <td>204.484100</td>\n",
       "      <td>207.045090</td>\n",
       "      <td>485461.437500</td>\n",
       "      <td>696.750549</td>\n",
       "      <td>0.945738</td>\n",
       "      <td>00:04</td>\n",
       "    </tr>\n",
       "    <tr>\n",
       "      <td>19</td>\n",
       "      <td>203.099808</td>\n",
       "      <td>171.761047</td>\n",
       "      <td>400867.781250</td>\n",
       "      <td>633.141174</td>\n",
       "      <td>0.955193</td>\n",
       "      <td>00:04</td>\n",
       "    </tr>\n",
       "    <tr>\n",
       "      <td>20</td>\n",
       "      <td>209.810379</td>\n",
       "      <td>169.338562</td>\n",
       "      <td>431317.125000</td>\n",
       "      <td>656.747375</td>\n",
       "      <td>0.951790</td>\n",
       "      <td>00:04</td>\n",
       "    </tr>\n",
       "    <tr>\n",
       "      <td>21</td>\n",
       "      <td>190.426025</td>\n",
       "      <td>205.025070</td>\n",
       "      <td>493445.031250</td>\n",
       "      <td>702.456421</td>\n",
       "      <td>0.944845</td>\n",
       "      <td>00:04</td>\n",
       "    </tr>\n",
       "    <tr>\n",
       "      <td>22</td>\n",
       "      <td>199.358871</td>\n",
       "      <td>190.239594</td>\n",
       "      <td>444649.343750</td>\n",
       "      <td>666.820312</td>\n",
       "      <td>0.950299</td>\n",
       "      <td>00:04</td>\n",
       "    </tr>\n",
       "    <tr>\n",
       "      <td>23</td>\n",
       "      <td>191.397827</td>\n",
       "      <td>162.289444</td>\n",
       "      <td>395710.312500</td>\n",
       "      <td>629.055115</td>\n",
       "      <td>0.955770</td>\n",
       "      <td>00:04</td>\n",
       "    </tr>\n",
       "    <tr>\n",
       "      <td>24</td>\n",
       "      <td>186.533279</td>\n",
       "      <td>159.083313</td>\n",
       "      <td>418947.218750</td>\n",
       "      <td>647.261292</td>\n",
       "      <td>0.953172</td>\n",
       "      <td>00:04</td>\n",
       "    </tr>\n",
       "    <tr>\n",
       "      <td>25</td>\n",
       "      <td>170.827225</td>\n",
       "      <td>151.948898</td>\n",
       "      <td>377090.031250</td>\n",
       "      <td>614.076538</td>\n",
       "      <td>0.957851</td>\n",
       "      <td>00:04</td>\n",
       "    </tr>\n",
       "    <tr>\n",
       "      <td>26</td>\n",
       "      <td>169.255157</td>\n",
       "      <td>177.719070</td>\n",
       "      <td>465714.625000</td>\n",
       "      <td>682.432922</td>\n",
       "      <td>0.947945</td>\n",
       "      <td>00:04</td>\n",
       "    </tr>\n",
       "    <tr>\n",
       "      <td>27</td>\n",
       "      <td>169.949936</td>\n",
       "      <td>147.388123</td>\n",
       "      <td>340669.437500</td>\n",
       "      <td>583.668945</td>\n",
       "      <td>0.961922</td>\n",
       "      <td>00:04</td>\n",
       "    </tr>\n",
       "    <tr>\n",
       "      <td>28</td>\n",
       "      <td>149.073456</td>\n",
       "      <td>152.401321</td>\n",
       "      <td>328986.437500</td>\n",
       "      <td>573.573364</td>\n",
       "      <td>0.963228</td>\n",
       "      <td>00:04</td>\n",
       "    </tr>\n",
       "    <tr>\n",
       "      <td>29</td>\n",
       "      <td>171.141632</td>\n",
       "      <td>132.879547</td>\n",
       "      <td>342640.562500</td>\n",
       "      <td>585.355103</td>\n",
       "      <td>0.961701</td>\n",
       "      <td>00:04</td>\n",
       "    </tr>\n",
       "    <tr>\n",
       "      <td>30</td>\n",
       "      <td>159.785309</td>\n",
       "      <td>151.658356</td>\n",
       "      <td>343186.031250</td>\n",
       "      <td>585.820801</td>\n",
       "      <td>0.961640</td>\n",
       "      <td>00:04</td>\n",
       "    </tr>\n",
       "    <tr>\n",
       "      <td>31</td>\n",
       "      <td>162.706192</td>\n",
       "      <td>153.590256</td>\n",
       "      <td>350478.625000</td>\n",
       "      <td>592.012390</td>\n",
       "      <td>0.960825</td>\n",
       "      <td>00:04</td>\n",
       "    </tr>\n",
       "    <tr>\n",
       "      <td>32</td>\n",
       "      <td>166.043793</td>\n",
       "      <td>134.489822</td>\n",
       "      <td>290132.625000</td>\n",
       "      <td>538.639648</td>\n",
       "      <td>0.967570</td>\n",
       "      <td>00:04</td>\n",
       "    </tr>\n",
       "    <tr>\n",
       "      <td>33</td>\n",
       "      <td>154.017838</td>\n",
       "      <td>133.253677</td>\n",
       "      <td>286655.093750</td>\n",
       "      <td>535.401794</td>\n",
       "      <td>0.967959</td>\n",
       "      <td>00:04</td>\n",
       "    </tr>\n",
       "    <tr>\n",
       "      <td>34</td>\n",
       "      <td>158.831467</td>\n",
       "      <td>133.363022</td>\n",
       "      <td>270766.906250</td>\n",
       "      <td>520.352661</td>\n",
       "      <td>0.969735</td>\n",
       "      <td>00:04</td>\n",
       "    </tr>\n",
       "    <tr>\n",
       "      <td>35</td>\n",
       "      <td>138.529572</td>\n",
       "      <td>132.085373</td>\n",
       "      <td>280073.406250</td>\n",
       "      <td>529.219666</td>\n",
       "      <td>0.968695</td>\n",
       "      <td>00:04</td>\n",
       "    </tr>\n",
       "    <tr>\n",
       "      <td>36</td>\n",
       "      <td>156.527557</td>\n",
       "      <td>133.085052</td>\n",
       "      <td>271757.656250</td>\n",
       "      <td>521.303772</td>\n",
       "      <td>0.969624</td>\n",
       "      <td>00:04</td>\n",
       "    </tr>\n",
       "    <tr>\n",
       "      <td>37</td>\n",
       "      <td>153.993774</td>\n",
       "      <td>134.203842</td>\n",
       "      <td>290670.281250</td>\n",
       "      <td>539.138428</td>\n",
       "      <td>0.967510</td>\n",
       "      <td>00:04</td>\n",
       "    </tr>\n",
       "    <tr>\n",
       "      <td>38</td>\n",
       "      <td>144.122513</td>\n",
       "      <td>129.197845</td>\n",
       "      <td>257393.687500</td>\n",
       "      <td>507.339783</td>\n",
       "      <td>0.971230</td>\n",
       "      <td>00:04</td>\n",
       "    </tr>\n",
       "    <tr>\n",
       "      <td>39</td>\n",
       "      <td>144.436295</td>\n",
       "      <td>123.961342</td>\n",
       "      <td>263546.625000</td>\n",
       "      <td>513.367859</td>\n",
       "      <td>0.970542</td>\n",
       "      <td>00:04</td>\n",
       "    </tr>\n",
       "    <tr>\n",
       "      <td>40</td>\n",
       "      <td>141.482727</td>\n",
       "      <td>126.244682</td>\n",
       "      <td>278367.250000</td>\n",
       "      <td>527.605225</td>\n",
       "      <td>0.968886</td>\n",
       "      <td>00:04</td>\n",
       "    </tr>\n",
       "    <tr>\n",
       "      <td>41</td>\n",
       "      <td>142.456451</td>\n",
       "      <td>121.139465</td>\n",
       "      <td>255097.937500</td>\n",
       "      <td>505.072205</td>\n",
       "      <td>0.971486</td>\n",
       "      <td>00:04</td>\n",
       "    </tr>\n",
       "    <tr>\n",
       "      <td>42</td>\n",
       "      <td>142.238037</td>\n",
       "      <td>131.604187</td>\n",
       "      <td>296040.531250</td>\n",
       "      <td>544.096069</td>\n",
       "      <td>0.966910</td>\n",
       "      <td>00:04</td>\n",
       "    </tr>\n",
       "    <tr>\n",
       "      <td>43</td>\n",
       "      <td>133.655991</td>\n",
       "      <td>129.290939</td>\n",
       "      <td>262634.531250</td>\n",
       "      <td>512.478760</td>\n",
       "      <td>0.970644</td>\n",
       "      <td>00:04</td>\n",
       "    </tr>\n",
       "    <tr>\n",
       "      <td>44</td>\n",
       "      <td>138.706146</td>\n",
       "      <td>123.134659</td>\n",
       "      <td>259348.656250</td>\n",
       "      <td>509.262878</td>\n",
       "      <td>0.971011</td>\n",
       "      <td>00:04</td>\n",
       "    </tr>\n",
       "    <tr>\n",
       "      <td>45</td>\n",
       "      <td>146.401459</td>\n",
       "      <td>123.859108</td>\n",
       "      <td>252840.375000</td>\n",
       "      <td>502.832367</td>\n",
       "      <td>0.971739</td>\n",
       "      <td>00:04</td>\n",
       "    </tr>\n",
       "    <tr>\n",
       "      <td>46</td>\n",
       "      <td>136.093140</td>\n",
       "      <td>123.620316</td>\n",
       "      <td>259883.437500</td>\n",
       "      <td>509.787628</td>\n",
       "      <td>0.970952</td>\n",
       "      <td>00:04</td>\n",
       "    </tr>\n",
       "    <tr>\n",
       "      <td>47</td>\n",
       "      <td>140.048996</td>\n",
       "      <td>128.743729</td>\n",
       "      <td>260105.375000</td>\n",
       "      <td>510.005249</td>\n",
       "      <td>0.970927</td>\n",
       "      <td>00:04</td>\n",
       "    </tr>\n",
       "    <tr>\n",
       "      <td>48</td>\n",
       "      <td>146.241302</td>\n",
       "      <td>122.748840</td>\n",
       "      <td>250178.859375</td>\n",
       "      <td>500.178833</td>\n",
       "      <td>0.972036</td>\n",
       "      <td>00:04</td>\n",
       "    </tr>\n",
       "    <tr>\n",
       "      <td>49</td>\n",
       "      <td>152.107758</td>\n",
       "      <td>123.005196</td>\n",
       "      <td>243510.984375</td>\n",
       "      <td>493.468323</td>\n",
       "      <td>0.972782</td>\n",
       "      <td>00:04</td>\n",
       "    </tr>\n",
       "  </tbody>\n",
       "</table>"
      ],
      "text/plain": [
       "<IPython.core.display.HTML object>"
      ]
     },
     "metadata": {},
     "output_type": "display_data"
    },
    {
     "data": {
      "image/png": "[encoded data removed]",
      "text/plain": [
       "<Figure size 432x288 with 1 Axes>"
      ]
     },
     "metadata": {},
     "output_type": "display_data"
    }
   ],
   "source": [
    "daily_model.fit_one_cycle(50,cbs=[ShowGraphCallback()])"
   ]
  },
  {
   "cell_type": "code",
   "execution_count": 8,
   "id": "7e76e3ed",
   "metadata": {},
   "outputs": [
    {
     "data": {
      "image/png": "[encoded data removed]",
      "text/plain": [
       "<Figure size 432x288 with 1 Axes>"
      ]
     },
     "metadata": {
      "needs_background": "light"
     },
     "output_type": "display_data"
    }
   ],
   "source": [
    "daily_model.recorder.plot_loss()"
   ]
  },
  {
   "cell_type": "code",
   "execution_count": 9,
   "id": "b9785c88",
   "metadata": {},
   "outputs": [
    {
     "data": {
      "image/png": "[encoded data removed]",
      "text/plain": [
       "<Figure size 432x288 with 1 Axes>"
      ]
     },
     "metadata": {
      "needs_background": "light"
     },
     "output_type": "display_data"
    }
   ],
   "source": [
    "#Plotting Learning Rate\n",
    "daily_model.recorder.plot_lr_find()"
   ]
  },
  {
   "cell_type": "code",
   "execution_count": 10,
   "id": "da3a653b",
   "metadata": {
    "scrolled": true
   },
   "outputs": [
    {
     "data": {
      "image/png": "[encoded data removed]",
      "text/plain": [
       "<Figure size 864x288 with 2 Axes>"
      ]
     },
     "metadata": {
      "needs_background": "light"
     },
     "output_type": "display_data"
    }
   ],
   "source": [
    "# Plotting momentom\n",
    "daily_model.recorder.plot_sched()"
   ]
  },
  {
   "cell_type": "code",
   "execution_count": 25,
   "id": "1d7acb53",
   "metadata": {},
   "outputs": [
    {
     "name": "stdout",
     "output_type": "stream",
     "text": [
      "-------MODEL SCORES-------\n",
      "MAE:  293.838\n",
      "MSE:  1387868.360\n",
      "RMSE:  1178.078\n",
      "R2:  85.412 %\n"
     ]
    }
   ],
   "source": [
    "prediction = daily_model.get_preds(dl=test_dl)\n",
    "prediction_utils.get_prediction_scores(y_true=prediction[0],y_predicted=prediction[1])"
   ]
  },
  {
   "cell_type": "markdown",
   "id": "95d7f1db",
   "metadata": {},
   "source": [
    "#### Hyper Parameter Tuning\n",
    "---"
   ]
  },
  {
   "cell_type": "markdown",
   "id": "21970731",
   "metadata": {},
   "source": [
    "### Daily Model - Hex 7\n",
    "---\n",
    "Explanation"
   ]
  },
  {
   "cell_type": "markdown",
   "id": "a6e40869",
   "metadata": {},
   "source": [
    "### Daily Model - Hex 6\n",
    "---\n",
    "Explanation"
   ]
  },
  {
   "cell_type": "code",
   "execution_count": null,
   "id": "2cb57443",
   "metadata": {},
   "outputs": [],
   "source": [
    "#Memory Cleaning\n",
    "del daily_demand\n",
    "del daily_demand_hex_6\n",
    "del daily_demand_hex_7"
   ]
  },
  {
   "cell_type": "markdown",
   "id": "4ee6df6d",
   "metadata": {},
   "source": [
    "# 6H Models\n",
    "---\n",
    "Explanations..."
   ]
  },
  {
   "cell_type": "markdown",
   "id": "df2aa110",
   "metadata": {},
   "source": [
    "## Data Preparation\n",
    "---"
   ]
  },
  {
   "cell_type": "code",
   "execution_count": null,
   "id": "bf00563a",
   "metadata": {},
   "outputs": [],
   "source": [
    "# Takes few minutes to run (16 GB RAM)\n",
    "chicago_df = utils.read_parquet('Taxi_Trips_Cleaned.parquet', \n",
    "                                columns=['Trip ID','Trip Start Timestamp','Pickup Community Area',\n",
    "                                         'Dropoff Community Area'])\n",
    "weather_df = utils.read_parquet('Weather.parquet',columns = ['Trip Start Timestamp','Humidity(%)',\n",
    "                                    'Pressure(hPa)','Temperature(C)',\n",
    "                                    'Wind Direction(Meteoro. Degree)','Wind Speed(M/S)'])\n",
    "\n",
    "six_hour_demand = preprocessing.create_aggregated_data(df=chicago_df,weather_df=weather_df,temporal_resolution='6H')\n",
    "six_hour_demand_hex_7 = preprocessing.create_aggregated_data(df=chicago_df,weather_df=weather_df,temporal_resolution='6H',\n",
    "                                            use_hexes=True,hex_resolution=7)\n",
    "six_hour_demand_hex_6 = preprocessing.create_aggregated_data(df=chicago_df,weather_df=weather_df,temporal_resolution='6H',\n",
    "                                            use_hexes=True,hex_resolution=6)\n",
    "\n",
    "del chicago_df\n",
    "del weather_df"
   ]
  },
  {
   "cell_type": "markdown",
   "id": "2e866bd9",
   "metadata": {},
   "source": [
    "### 6H Model - Community Areas\n",
    "---\n",
    "Explanation"
   ]
  },
  {
   "cell_type": "markdown",
   "id": "8d964a8b",
   "metadata": {},
   "source": [
    "#### Hyper Parameter Tuning\n",
    "---"
   ]
  },
  {
   "cell_type": "markdown",
   "id": "8df405f9",
   "metadata": {},
   "source": [
    "### 6H Model - Hex 7\n",
    "---\n",
    "Explanation"
   ]
  },
  {
   "cell_type": "markdown",
   "id": "224db2ec",
   "metadata": {},
   "source": [
    "### 6H Model - Hex 6\n",
    "---\n",
    "Explanation"
   ]
  },
  {
   "cell_type": "code",
   "execution_count": null,
   "id": "5eff28d4",
   "metadata": {},
   "outputs": [],
   "source": [
    "#Memory Cleaning\n",
    "del six_hour_demand\n",
    "del six_hour_demand_hex_6\n",
    "del six_hour_demand_hex_7"
   ]
  },
  {
   "cell_type": "markdown",
   "id": "bb187563",
   "metadata": {},
   "source": [
    "# Hourly Models\n",
    "---\n",
    "Explanations..."
   ]
  },
  {
   "cell_type": "markdown",
   "id": "06493223",
   "metadata": {},
   "source": [
    "## Data Preparation\n",
    "---"
   ]
  },
  {
   "cell_type": "code",
   "execution_count": null,
   "id": "eaa9dae7",
   "metadata": {},
   "outputs": [],
   "source": [
    "# Takes few minutes to run (16 GB RAM)\n",
    "chicago_df = utils.read_parquet('Taxi_Trips_Cleaned.parquet', \n",
    "                                columns=['Trip ID','Trip Start Timestamp','Pickup Community Area',\n",
    "                                         'Dropoff Community Area'])\n",
    "weather_df = utils.read_parquet('Weather.parquet',columns = ['Trip Start Timestamp','Humidity(%)',\n",
    "                                    'Pressure(hPa)','Temperature(C)',\n",
    "                                    'Wind Direction(Meteoro. Degree)','Wind Speed(M/S)'])\n",
    "\n",
    "hourly_demand = preprocessing.create_aggregated_data(df=chicago_df,weather_df=weather_df,temporal_resolution='H')\n",
    "hourly_demand_hex_7 = preprocessing.create_aggregated_data(df=chicago_df,weather_df=weather_df,temporal_resolution='H',\n",
    "                                            use_hexes=True,hex_resolution=7)\n",
    "hourly_demand_hex_6 = preprocessing.create_aggregated_data(df=chicago_df,weather_df=weather_df,temporal_resolution='H',\n",
    "                                            use_hexes=True,hex_resolution=6)\n",
    "\n",
    "del chicago_df\n",
    "del weather_df"
   ]
  },
  {
   "cell_type": "markdown",
   "id": "f239405b",
   "metadata": {},
   "source": [
    "### Hourly Model - Community Areas\n",
    "---\n",
    "Explanation"
   ]
  },
  {
   "cell_type": "markdown",
   "id": "7d737494",
   "metadata": {},
   "source": [
    "#### Hyper Parameter Tuning\n",
    "---"
   ]
  },
  {
   "cell_type": "markdown",
   "id": "4806bdc0",
   "metadata": {},
   "source": [
    "### Hourly Model - Hex 7\n",
    "---\n",
    "Explanation"
   ]
  },
  {
   "cell_type": "markdown",
   "id": "7fdc5d37",
   "metadata": {},
   "source": [
    "### Hourly Model - Hex 6\n",
    "---\n",
    "Explanation"
   ]
  },
  {
   "cell_type": "markdown",
   "id": "2538f3c1",
   "metadata": {},
   "source": [
    "## Overall Scores & Outlook\n",
    "---"
   ]
  }
 ],
 "metadata": {
  "kernelspec": {
   "display_name": "Python 3",
   "language": "python",
   "name": "python3"
  },
  "language_info": {
   "codemirror_mode": {
    "name": "ipython",
    "version": 3
   },
   "file_extension": ".py",
   "mimetype": "text/x-python",
   "name": "python",
   "nbconvert_exporter": "python",
   "pygments_lexer": "ipython3",
   "version": "3.8.10"
  }
 },
 "nbformat": 4,
 "nbformat_minor": 5
}
