{
 "cells": [
  {
   "cell_type": "markdown",
   "metadata": {
    "collapsed": true,
    "pycharm": {
     "name": "#%% md\n"
    }
   },
   "source": [
    "# Taxi Demand Prediction - Support Vector Machine\n",
    "---\n",
    "In this notebook, we build a model for predicting taxi demand in Chicago. The model is based on the information provided by the city of Chicago in 2015.\n",
    "\n",
    "Furthermore, the model is based on all of the available data. Since the prediction target is taxi demand which is calculated by data aggregation, we won't encounter any memory problems.\n",
    "\n",
    "To build our demand prediction model, we proceed as following:"
   ]
  },
  {
   "cell_type": "code",
   "execution_count": 1,
   "metadata": {
    "pycharm": {
     "name": "#%%\n"
    }
   },
   "outputs": [
    {
     "name": "stdout",
     "output_type": "stream",
     "text": [
      "/Users/simonwolf/git/aaa21\n"
     ]
    }
   ],
   "source": [
    "cd .."
   ]
  },
  {
   "cell_type": "code",
   "execution_count": 2,
   "metadata": {
    "pycharm": {
     "name": "#%%\n"
    }
   },
   "outputs": [],
   "source": [
    "import utils, feature_engineering, geo_engineering, preprocessing, prediction_utils, prediction_svm\n",
    "import pandas as pd\n",
    "import numpy as np\n",
    "import matplotlib.pyplot as plt\n",
    "%matplotlib inline"
   ]
  },
  {
   "cell_type": "markdown",
   "metadata": {
    "pycharm": {
     "name": "#%% md\n"
    }
   },
   "source": [
    "# Daily Models\n",
    "---\n",
    "Explanations..."
   ]
  },
  {
   "cell_type": "markdown",
   "metadata": {},
   "source": [
    "## Data Preparation\n",
    "---"
   ]
  },
  {
   "cell_type": "code",
   "execution_count": 3,
   "metadata": {
    "pycharm": {
     "name": "#%%\n"
    }
   },
   "outputs": [],
   "source": [
    "# Takes few minutes to run (16 GB RAM)\n",
    "chicago_df = utils.read_parquet('Taxi_Trips_Cleaned.parquet',\n",
    "                                columns=['Trip ID','Trip Start Timestamp','Pickup Community Area',\n",
    "                                         'Dropoff Community Area'])\n",
    "weather_df = utils.read_parquet('Weather.parquet',columns = ['Trip Start Timestamp','Humidity(%)',\n",
    "                                    'Pressure(hPa)','Temperature(C)',\n",
    "                                    'Wind Direction(Meteoro. Degree)','Wind Speed(M/S)'])\n",
    "\n",
    "daily_demand = preprocessing.create_aggregated_data(df=chicago_df,weather_df=weather_df,temporal_resolution='D')\n",
    "#daily_demand_hex_7 = preprocessing.create_aggregated_data(df=chicago_df,weather_df=weather_df,temporal_resolution='D',\n",
    "#                                            use_hexes=True,hex_resolution=7)\n",
    "#daily_demand_hex_6 = preprocessing.create_aggregated_data(df=chicago_df,weather_df=weather_df,temporal_resolution='D',\n",
    "#                                            use_hexes=True,hex_resolution=6)\n",
    "\n",
    "del chicago_df\n",
    "del weather_df"
   ]
  },
  {
   "cell_type": "markdown",
   "metadata": {},
   "source": [
    "### Daily Model - Community Areas\n",
    "---"
   ]
  },
  {
   "cell_type": "code",
   "execution_count": 4,
   "metadata": {},
   "outputs": [
    {
     "data": {
      "text/html": [
       "<div>\n",
       "<style scoped>\n",
       "    .dataframe tbody tr th:only-of-type {\n",
       "        vertical-align: middle;\n",
       "    }\n",
       "\n",
       "    .dataframe tbody tr th {\n",
       "        vertical-align: top;\n",
       "    }\n",
       "\n",
       "    .dataframe thead th {\n",
       "        text-align: right;\n",
       "    }\n",
       "</style>\n",
       "<table border=\"1\" class=\"dataframe\">\n",
       "  <thead>\n",
       "    <tr style=\"text-align: right;\">\n",
       "      <th></th>\n",
       "      <th>Trip Start Timestamp</th>\n",
       "      <th>Pickup Community Area</th>\n",
       "      <th>Demand (D)</th>\n",
       "      <th>Humidity(%)</th>\n",
       "      <th>Pressure(hPa)</th>\n",
       "      <th>Temperature(C)</th>\n",
       "      <th>Wind Direction(Meteoro. Degree)</th>\n",
       "      <th>Wind Speed(M/S)</th>\n",
       "    </tr>\n",
       "  </thead>\n",
       "  <tbody>\n",
       "    <tr>\n",
       "      <th>0</th>\n",
       "      <td>2015-01-01</td>\n",
       "      <td>1.0</td>\n",
       "      <td>406</td>\n",
       "      <td>100.000000</td>\n",
       "      <td>1034.250777</td>\n",
       "      <td>-5.435774</td>\n",
       "      <td>249.095220</td>\n",
       "      <td>9.069681</td>\n",
       "    </tr>\n",
       "    <tr>\n",
       "      <th>1</th>\n",
       "      <td>2015-01-01</td>\n",
       "      <td>10.0</td>\n",
       "      <td>32</td>\n",
       "      <td>100.000000</td>\n",
       "      <td>1034.250777</td>\n",
       "      <td>-5.435774</td>\n",
       "      <td>249.095220</td>\n",
       "      <td>9.069681</td>\n",
       "    </tr>\n",
       "    <tr>\n",
       "      <th>2</th>\n",
       "      <td>2015-01-01</td>\n",
       "      <td>11.0</td>\n",
       "      <td>73</td>\n",
       "      <td>100.000000</td>\n",
       "      <td>1034.250777</td>\n",
       "      <td>-5.435774</td>\n",
       "      <td>249.095220</td>\n",
       "      <td>9.069681</td>\n",
       "    </tr>\n",
       "    <tr>\n",
       "      <th>3</th>\n",
       "      <td>2015-01-01</td>\n",
       "      <td>12.0</td>\n",
       "      <td>15</td>\n",
       "      <td>100.000000</td>\n",
       "      <td>1034.250777</td>\n",
       "      <td>-5.435774</td>\n",
       "      <td>249.095220</td>\n",
       "      <td>9.069681</td>\n",
       "    </tr>\n",
       "    <tr>\n",
       "      <th>4</th>\n",
       "      <td>2015-01-01</td>\n",
       "      <td>13.0</td>\n",
       "      <td>39</td>\n",
       "      <td>100.000000</td>\n",
       "      <td>1034.250777</td>\n",
       "      <td>-5.435774</td>\n",
       "      <td>249.095220</td>\n",
       "      <td>9.069681</td>\n",
       "    </tr>\n",
       "    <tr>\n",
       "      <th>...</th>\n",
       "      <td>...</td>\n",
       "      <td>...</td>\n",
       "      <td>...</td>\n",
       "      <td>...</td>\n",
       "      <td>...</td>\n",
       "      <td>...</td>\n",
       "      <td>...</td>\n",
       "      <td>...</td>\n",
       "    </tr>\n",
       "    <tr>\n",
       "      <th>25240</th>\n",
       "      <td>2015-12-31</td>\n",
       "      <td>73.0</td>\n",
       "      <td>1</td>\n",
       "      <td>75.061278</td>\n",
       "      <td>1024.788420</td>\n",
       "      <td>-2.917027</td>\n",
       "      <td>265.509481</td>\n",
       "      <td>5.001468</td>\n",
       "    </tr>\n",
       "    <tr>\n",
       "      <th>25241</th>\n",
       "      <td>2015-12-31</td>\n",
       "      <td>75.0</td>\n",
       "      <td>1</td>\n",
       "      <td>75.061278</td>\n",
       "      <td>1024.788420</td>\n",
       "      <td>-2.917027</td>\n",
       "      <td>265.509481</td>\n",
       "      <td>5.001468</td>\n",
       "    </tr>\n",
       "    <tr>\n",
       "      <th>25242</th>\n",
       "      <td>2015-12-31</td>\n",
       "      <td>76.0</td>\n",
       "      <td>1450</td>\n",
       "      <td>75.061278</td>\n",
       "      <td>1024.788420</td>\n",
       "      <td>-2.917027</td>\n",
       "      <td>265.509481</td>\n",
       "      <td>5.001468</td>\n",
       "    </tr>\n",
       "    <tr>\n",
       "      <th>25243</th>\n",
       "      <td>2015-12-31</td>\n",
       "      <td>77.0</td>\n",
       "      <td>737</td>\n",
       "      <td>75.061278</td>\n",
       "      <td>1024.788420</td>\n",
       "      <td>-2.917027</td>\n",
       "      <td>265.509481</td>\n",
       "      <td>5.001468</td>\n",
       "    </tr>\n",
       "    <tr>\n",
       "      <th>25244</th>\n",
       "      <td>2015-12-31</td>\n",
       "      <td>8.0</td>\n",
       "      <td>17965</td>\n",
       "      <td>75.061278</td>\n",
       "      <td>1024.788420</td>\n",
       "      <td>-2.917027</td>\n",
       "      <td>265.509481</td>\n",
       "      <td>5.001468</td>\n",
       "    </tr>\n",
       "  </tbody>\n",
       "</table>\n",
       "<p>25245 rows × 8 columns</p>\n",
       "</div>"
      ],
      "text/plain": [
       "      Trip Start Timestamp Pickup Community Area  Demand (D)  Humidity(%)  \\\n",
       "0               2015-01-01                   1.0         406   100.000000   \n",
       "1               2015-01-01                  10.0          32   100.000000   \n",
       "2               2015-01-01                  11.0          73   100.000000   \n",
       "3               2015-01-01                  12.0          15   100.000000   \n",
       "4               2015-01-01                  13.0          39   100.000000   \n",
       "...                    ...                   ...         ...          ...   \n",
       "25240           2015-12-31                  73.0           1    75.061278   \n",
       "25241           2015-12-31                  75.0           1    75.061278   \n",
       "25242           2015-12-31                  76.0        1450    75.061278   \n",
       "25243           2015-12-31                  77.0         737    75.061278   \n",
       "25244           2015-12-31                   8.0       17965    75.061278   \n",
       "\n",
       "       Pressure(hPa)  Temperature(C)  Wind Direction(Meteoro. Degree)  \\\n",
       "0        1034.250777       -5.435774                       249.095220   \n",
       "1        1034.250777       -5.435774                       249.095220   \n",
       "2        1034.250777       -5.435774                       249.095220   \n",
       "3        1034.250777       -5.435774                       249.095220   \n",
       "4        1034.250777       -5.435774                       249.095220   \n",
       "...              ...             ...                              ...   \n",
       "25240    1024.788420       -2.917027                       265.509481   \n",
       "25241    1024.788420       -2.917027                       265.509481   \n",
       "25242    1024.788420       -2.917027                       265.509481   \n",
       "25243    1024.788420       -2.917027                       265.509481   \n",
       "25244    1024.788420       -2.917027                       265.509481   \n",
       "\n",
       "       Wind Speed(M/S)  \n",
       "0             9.069681  \n",
       "1             9.069681  \n",
       "2             9.069681  \n",
       "3             9.069681  \n",
       "4             9.069681  \n",
       "...                ...  \n",
       "25240         5.001468  \n",
       "25241         5.001468  \n",
       "25242         5.001468  \n",
       "25243         5.001468  \n",
       "25244         5.001468  \n",
       "\n",
       "[25245 rows x 8 columns]"
      ]
     },
     "execution_count": 4,
     "metadata": {},
     "output_type": "execute_result"
    }
   ],
   "source": [
    "daily_demand"
   ]
  },
  {
   "cell_type": "code",
   "execution_count": 5,
   "metadata": {},
   "outputs": [],
   "source": [
    "import datetime\n",
    "\n",
    "df=daily_demand\n",
    "tscv = prediction_svm.TimeBasedCV(train_period=333,\n",
    "                   test_period=31,\n",
    "                   freq='days')\n",
    "\n",
    "y = df.pop(\"Demand (D)\")\n",
    "X = df"
   ]
  },
  {
   "cell_type": "code",
   "execution_count": 6,
   "metadata": {
    "scrolled": false
   },
   "outputs": [],
   "source": [
    "from sklearn.svm import SVR\n",
    "from sklearn.pipeline import make_pipeline\n",
    "from sklearn.preprocessing import StandardScaler\n",
    "from sklearn import metrics\n",
    "import math\n",
    "\n",
    "scores = []\n",
    "for train_index, test_index in tscv.split(X):\n",
    "\n",
    "    data_train   = X.loc[train_index].drop('Trip Start Timestamp', axis=1)\n",
    "    target_train = y.loc[train_index]\n",
    "\n",
    "    data_test    = X.loc[test_index].drop('Trip Start Timestamp', axis=1)\n",
    "    target_test  = y.loc[test_index]\n",
    "    \n",
    "    regr = make_pipeline(StandardScaler(), SVR(C=1.0, epsilon=0.1)) # Optimize Parameters\n",
    "    regr.fit(data_train, target_train)\n",
    "    \n",
    "    prediction = regr.predict(data_test)\n",
    "    \n",
    "    r2score = regr.score(data_test, target_test)\n",
    "    \n",
    "    scores.append(r2score)\n",
    "    \n",
    "    y_pred = regr.predict(data_test)\n",
    "    print(\"-------MODEL SCORES-------\")\n",
    "    print(f\"MAE: {metrics.mean_absolute_error(target_test, y_pred): .3f}\")\n",
    "    print(f\"MSE: {metrics.mean_squared_error(target_test, y_pred): .3f}\")\n",
    "    print(f\"RMSE: {math.sqrt(metrics.mean_squared_error(target_test, y_pred)): .3f}\")\n",
    "    print(f\"R2: {100 * metrics.r2_score(target_test, y_pred): .3f} %\")\n",
    "    \n",
    "# this is the average accuracy over all folds\n",
    "average_r2score = np.mean(scores)\n",
    "#print(average_r2score)"
   ]
  },
  {
   "cell_type": "code",
   "execution_count": null,
   "metadata": {},
   "outputs": [],
   "source": []
  }
 ],
 "metadata": {
  "kernelspec": {
   "display_name": "Python 3",
   "language": "python",
   "name": "python3"
  },
  "language_info": {
   "codemirror_mode": {
    "name": "ipython",
    "version": 3
   },
   "file_extension": ".py",
   "mimetype": "text/x-python",
   "name": "python",
   "nbconvert_exporter": "python",
   "pygments_lexer": "ipython3",
   "version": "3.9.5"
  }
 },
 "nbformat": 4,
 "nbformat_minor": 1
}