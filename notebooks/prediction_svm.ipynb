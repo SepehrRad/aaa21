{
 "cells": [
  {
   "cell_type": "markdown",
   "metadata": {
    "collapsed": true,
    "pycharm": {
     "name": "#%% md\n"
    }
   },
   "source": [
    "# Taxi Demand Prediction - Support Vector Machine\n",
    "---\n",
    "In this notebook, we build a model for predicting taxi demand in Chicago. The model is based on the information provided by the city of Chicago in 2015.\n",
    "\n",
    "Furthermore, the model is based on all of the available data. Since the prediction target is taxi demand which is calculated by data aggregation, we won't encounter any memory problems.\n",
    "\n",
    "To build our demand prediction model, we proceed as following:"
   ]
  },
  {
   "cell_type": "code",
   "execution_count": 1,
   "metadata": {
    "pycharm": {
     "name": "#%%\n"
    },
    "scrolled": false
   },
   "outputs": [
    {
     "name": "stdout",
     "output_type": "stream",
     "text": [
      "/Users/simonwolf/git/aaa21\n"
     ]
    }
   ],
   "source": [
    "cd .."
   ]
  },
  {
   "cell_type": "code",
   "execution_count": 2,
   "metadata": {
    "pycharm": {
     "name": "#%%\n"
    }
   },
   "outputs": [],
   "source": [
    "import utils, feature_engineering, geo_engineering, preprocessing, prediction_utils, prediction_svm\n",
    "import pandas as pd\n",
    "import numpy as np\n",
    "import matplotlib.pyplot as plt\n",
    "from sklearn.svm import SVR\n",
    "%matplotlib inline\n",
    "pd.options.mode.chained_assignment = None"
   ]
  },
  {
   "cell_type": "markdown",
   "metadata": {
    "pycharm": {
     "name": "#%% md\n"
    }
   },
   "source": [
    "# Daily Models\n",
    "---\n",
    "Explanations..."
   ]
  },
  {
   "cell_type": "markdown",
   "metadata": {},
   "source": [
    "## Data Preparation\n",
    "---"
   ]
  },
  {
   "cell_type": "code",
   "execution_count": 3,
   "metadata": {
    "pycharm": {
     "name": "#%%\n"
    }
   },
   "outputs": [],
   "source": [
    "# Takes few minutes to run (16 GB RAM)\n",
    "chicago_df = utils.read_parquet('Taxi_Trips_Cleaned.parquet',\n",
    "                                columns=['Trip ID','Trip Start Timestamp','Pickup Community Area',\n",
    "                                         'Dropoff Community Area'])\n",
    "weather_df = utils.read_parquet('Weather.parquet',columns = ['Trip Start Timestamp','Humidity(%)',\n",
    "                                    'Pressure(hPa)','Temperature(C)',\n",
    "                                    'Wind Direction(Meteoro. Degree)','Wind Speed(M/S)'])\n",
    "\n",
    "daily_demand = preprocessing.create_aggregated_data(df=chicago_df,weather_df=weather_df,temporal_resolution='D')\n",
    "#daily_demand_hex_7 = preprocessing.create_aggregated_data(df=chicago_df,weather_df=weather_df,temporal_resolution='D',\n",
    "#                                            use_hexes=True,hex_resolution=7)\n",
    "#daily_demand_hex_6 = preprocessing.create_aggregated_data(df=chicago_df,weather_df=weather_df,temporal_resolution='D',\n",
    "#                                            use_hexes=True,hex_resolution=6)\n",
    "\n",
    "del chicago_df\n",
    "del weather_df"
   ]
  },
  {
   "cell_type": "markdown",
   "metadata": {},
   "source": [
    "### Feature Engineering\n",
    "---\n",
    "In this section we add the following spatial and temporal features to our data before prediction.\n",
    "- Distance to Chicago City Center\n",
    "- Distance to Chicago Airport\n",
    "- Holiday Events"
   ]
  },
  {
   "cell_type": "code",
   "execution_count": 4,
   "metadata": {},
   "outputs": [],
   "source": [
    "#Spatial Features\n",
    "daily_demand = feature_engineering.add_spatial_features(daily_demand)\n",
    "#daily_demand_hex_7 = feature_engineering.add_spatial_features(daily_demand_hex_7,with_hex=7,hex_res=7)\n",
    "#daily_demand_hex_6 = feature_engineering.add_spatial_features(daily_demand_hex_6,with_hex=6,hex_res=6)\n",
    "#Holidays\n",
    "daily_demand = feature_engineering.add_holidays(daily_demand)\n",
    "#daily_demand_hex_6 = feature_engineering.add_holidays(daily_demand_hex_6)\n",
    "#daily_demand_hex_7 = feature_engineering.add_holidays(daily_demand_hex_7)"
   ]
  },
  {
   "cell_type": "markdown",
   "metadata": {},
   "source": [
    "### Daily Model - Community Areas\n",
    "---\n",
    "In this section we build our nn model for demand prediction using community areas as our geographical attributes. we build different models and opt for the final model by comparing the overall evaluation metrics."
   ]
  },
  {
   "cell_type": "markdown",
   "metadata": {},
   "source": [
    "### Model Architecture\n",
    "---\n",
    "To gain a better understanding of our data and the amount of complexity needed in the nn architecture we first start our daily model by a simple 50 * 25 structure. After observing the behavoiur of the model we adjust the layer structure. First by adding/removing nodes , Second by increasing/decreasing the number of hidden layers of the network. For the sake of brevity this notebook does not show all tested nn architectures.\n",
    "\n",
    "_Note: This was an iterative process. We didn't use brut force algorithms to search for the optimal structure on a grid as it is not computationaly feasible._"
   ]
  },
  {
   "cell_type": "markdown",
   "metadata": {},
   "source": [
    "### Suitable Metrics\n",
    "---\n",
    "To gain a better understanding which metrics we should apply to our problem we plot the prediction target to identify the distribution type."
   ]
  },
  {
   "cell_type": "code",
   "execution_count": 5,
   "metadata": {
    "pycharm": {
     "name": "#%%\n"
    }
   },
   "outputs": [
    {
     "data": {
      "image/png": "[encoded data removed]",
      "text/plain": [
       "<Figure size 432x288 with 1 Axes>"
      ]
     },
     "metadata": {
      "needs_background": "light"
     },
     "output_type": "display_data"
    }
   ],
   "source": [
    "daily_demand['Demand (D)'].plot.hist()\n",
    "plt.show()"
   ]
  },
  {
   "cell_type": "markdown",
   "metadata": {},
   "source": [
    "As we expected the target is extremely skewed. Which would make the prediction metrics non telling. To tackle this obstacle, we transform the target logarithmically. And use the mean squared logarithmic error as our metric."
   ]
  },
  {
   "cell_type": "code",
   "execution_count": 6,
   "metadata": {
    "pycharm": {
     "name": "#%%\n"
    }
   },
   "outputs": [
    {
     "data": {
      "image/png": "[encoded data removed]",
      "text/plain": [
       "<Figure size 432x288 with 1 Axes>"
      ]
     },
     "metadata": {
      "needs_background": "light"
     },
     "output_type": "display_data"
    }
   ],
   "source": [
    "daily_demand['Demand (D)'] = np.log(daily_demand['Demand (D)'])\n",
    "daily_demand['Demand (D)'].plot.hist()\n",
    "plt.show()"
   ]
  },
  {
   "cell_type": "code",
   "execution_count": 7,
   "metadata": {},
   "outputs": [],
   "source": [
    "daily_demand, target, cont_vars, cat_vars = (prediction_utils.\n",
    "                                             preprocess_data_for_prediction(daily_demand, \n",
    "                                                                            temporal_resolution='D'))"
   ]
  },
  {
   "cell_type": "code",
   "execution_count": 8,
   "metadata": {},
   "outputs": [
    {
     "data": {
      "text/html": [
       "<div>\n",
       "<style scoped>\n",
       "    .dataframe tbody tr th:only-of-type {\n",
       "        vertical-align: middle;\n",
       "    }\n",
       "\n",
       "    .dataframe tbody tr th {\n",
       "        vertical-align: top;\n",
       "    }\n",
       "\n",
       "    .dataframe thead th {\n",
       "        text-align: right;\n",
       "    }\n",
       "</style>\n",
       "<table border=\"1\" class=\"dataframe\">\n",
       "  <thead>\n",
       "    <tr style=\"text-align: right;\">\n",
       "      <th></th>\n",
       "      <th>Pickup Community Area</th>\n",
       "      <th>Demand (D)</th>\n",
       "      <th>Humidity(%)</th>\n",
       "      <th>Pressure(hPa)</th>\n",
       "      <th>Temperature(C)</th>\n",
       "      <th>Wind Direction(Meteoro. Degree)</th>\n",
       "      <th>Wind Speed(M/S)</th>\n",
       "      <th>City Center Distance</th>\n",
       "      <th>Airport Distance</th>\n",
       "      <th>Holiday</th>\n",
       "      <th>...</th>\n",
       "      <th>Day</th>\n",
       "      <th>Dayofweek</th>\n",
       "      <th>Dayofyear</th>\n",
       "      <th>Is_month_end</th>\n",
       "      <th>Is_month_start</th>\n",
       "      <th>Is_quarter_end</th>\n",
       "      <th>Is_quarter_start</th>\n",
       "      <th>Is_year_end</th>\n",
       "      <th>Is_year_start</th>\n",
       "      <th>Elapsed</th>\n",
       "    </tr>\n",
       "  </thead>\n",
       "  <tbody>\n",
       "    <tr>\n",
       "      <th>0</th>\n",
       "      <td>1</td>\n",
       "      <td>6.006353</td>\n",
       "      <td>100.0</td>\n",
       "      <td>1034.250777</td>\n",
       "      <td>-5.435774</td>\n",
       "      <td>249.09522</td>\n",
       "      <td>9.069681</td>\n",
       "      <td>14.731612</td>\n",
       "      <td>9653.373658</td>\n",
       "      <td>True</td>\n",
       "      <td>...</td>\n",
       "      <td>1</td>\n",
       "      <td>3</td>\n",
       "      <td>1</td>\n",
       "      <td>False</td>\n",
       "      <td>True</td>\n",
       "      <td>False</td>\n",
       "      <td>True</td>\n",
       "      <td>False</td>\n",
       "      <td>True</td>\n",
       "      <td>1420070400</td>\n",
       "    </tr>\n",
       "    <tr>\n",
       "      <th>1</th>\n",
       "      <td>10</td>\n",
       "      <td>3.465736</td>\n",
       "      <td>100.0</td>\n",
       "      <td>1034.250777</td>\n",
       "      <td>-5.435774</td>\n",
       "      <td>249.09522</td>\n",
       "      <td>9.069681</td>\n",
       "      <td>18.830572</td>\n",
       "      <td>9653.213140</td>\n",
       "      <td>True</td>\n",
       "      <td>...</td>\n",
       "      <td>1</td>\n",
       "      <td>3</td>\n",
       "      <td>1</td>\n",
       "      <td>False</td>\n",
       "      <td>True</td>\n",
       "      <td>False</td>\n",
       "      <td>True</td>\n",
       "      <td>False</td>\n",
       "      <td>True</td>\n",
       "      <td>1420070400</td>\n",
       "    </tr>\n",
       "    <tr>\n",
       "      <th>2</th>\n",
       "      <td>11</td>\n",
       "      <td>4.290459</td>\n",
       "      <td>100.0</td>\n",
       "      <td>1034.250777</td>\n",
       "      <td>-5.435774</td>\n",
       "      <td>249.09522</td>\n",
       "      <td>9.069681</td>\n",
       "      <td>16.315833</td>\n",
       "      <td>9653.268017</td>\n",
       "      <td>True</td>\n",
       "      <td>...</td>\n",
       "      <td>1</td>\n",
       "      <td>3</td>\n",
       "      <td>1</td>\n",
       "      <td>False</td>\n",
       "      <td>True</td>\n",
       "      <td>False</td>\n",
       "      <td>True</td>\n",
       "      <td>False</td>\n",
       "      <td>True</td>\n",
       "      <td>1420070400</td>\n",
       "    </tr>\n",
       "    <tr>\n",
       "      <th>3</th>\n",
       "      <td>12</td>\n",
       "      <td>2.708050</td>\n",
       "      <td>100.0</td>\n",
       "      <td>1034.250777</td>\n",
       "      <td>-5.435774</td>\n",
       "      <td>249.09522</td>\n",
       "      <td>9.069681</td>\n",
       "      <td>16.744923</td>\n",
       "      <td>9653.266876</td>\n",
       "      <td>True</td>\n",
       "      <td>...</td>\n",
       "      <td>1</td>\n",
       "      <td>3</td>\n",
       "      <td>1</td>\n",
       "      <td>False</td>\n",
       "      <td>True</td>\n",
       "      <td>False</td>\n",
       "      <td>True</td>\n",
       "      <td>False</td>\n",
       "      <td>True</td>\n",
       "      <td>1420070400</td>\n",
       "    </tr>\n",
       "    <tr>\n",
       "      <th>4</th>\n",
       "      <td>13</td>\n",
       "      <td>3.663562</td>\n",
       "      <td>100.0</td>\n",
       "      <td>1034.250777</td>\n",
       "      <td>-5.435774</td>\n",
       "      <td>249.09522</td>\n",
       "      <td>9.069681</td>\n",
       "      <td>14.040299</td>\n",
       "      <td>9653.330387</td>\n",
       "      <td>True</td>\n",
       "      <td>...</td>\n",
       "      <td>1</td>\n",
       "      <td>3</td>\n",
       "      <td>1</td>\n",
       "      <td>False</td>\n",
       "      <td>True</td>\n",
       "      <td>False</td>\n",
       "      <td>True</td>\n",
       "      <td>False</td>\n",
       "      <td>True</td>\n",
       "      <td>1420070400</td>\n",
       "    </tr>\n",
       "  </tbody>\n",
       "</table>\n",
       "<p>5 rows × 23 columns</p>\n",
       "</div>"
      ],
      "text/plain": [
       "  Pickup Community Area  Demand (D)  Humidity(%)  Pressure(hPa)  \\\n",
       "0                     1    6.006353        100.0    1034.250777   \n",
       "1                    10    3.465736        100.0    1034.250777   \n",
       "2                    11    4.290459        100.0    1034.250777   \n",
       "3                    12    2.708050        100.0    1034.250777   \n",
       "4                    13    3.663562        100.0    1034.250777   \n",
       "\n",
       "   Temperature(C)  Wind Direction(Meteoro. Degree)  Wind Speed(M/S)  \\\n",
       "0       -5.435774                        249.09522         9.069681   \n",
       "1       -5.435774                        249.09522         9.069681   \n",
       "2       -5.435774                        249.09522         9.069681   \n",
       "3       -5.435774                        249.09522         9.069681   \n",
       "4       -5.435774                        249.09522         9.069681   \n",
       "\n",
       "   City Center Distance  Airport Distance  Holiday  ...  Day  Dayofweek  \\\n",
       "0             14.731612       9653.373658     True  ...    1          3   \n",
       "1             18.830572       9653.213140     True  ...    1          3   \n",
       "2             16.315833       9653.268017     True  ...    1          3   \n",
       "3             16.744923       9653.266876     True  ...    1          3   \n",
       "4             14.040299       9653.330387     True  ...    1          3   \n",
       "\n",
       "   Dayofyear  Is_month_end  Is_month_start  Is_quarter_end  Is_quarter_start  \\\n",
       "0          1         False            True           False              True   \n",
       "1          1         False            True           False              True   \n",
       "2          1         False            True           False              True   \n",
       "3          1         False            True           False              True   \n",
       "4          1         False            True           False              True   \n",
       "\n",
       "   Is_year_end  Is_year_start     Elapsed  \n",
       "0        False           True  1420070400  \n",
       "1        False           True  1420070400  \n",
       "2        False           True  1420070400  \n",
       "3        False           True  1420070400  \n",
       "4        False           True  1420070400  \n",
       "\n",
       "[5 rows x 23 columns]"
      ]
     },
     "execution_count": 8,
     "metadata": {},
     "output_type": "execute_result"
    }
   ],
   "source": [
    "#Preprocessed data\n",
    "daily_demand.head(5)"
   ]
  },
  {
   "cell_type": "code",
   "execution_count": 9,
   "metadata": {
    "scrolled": false
   },
   "outputs": [],
   "source": [
    "#Train - Test Split\n",
    "daily_demand_train, daily_demand_test = prediction_svm.split_data_sets_for_svm(daily_demand, test_size=0.2)"
   ]
  },
  {
   "cell_type": "code",
   "execution_count": 10,
   "metadata": {
    "scrolled": false
   },
   "outputs": [
    {
     "name": "stdout",
     "output_type": "stream",
     "text": [
      "Continuous variables:\n",
      "['Humidity(%)', 'Pressure(hPa)', 'Temperature(C)', 'Wind Direction(Meteoro. Degree)', 'Wind Speed(M/S)', 'City Center Distance', 'Airport Distance', 'Elapsed']\n",
      "\n",
      "Categorical variables:\n",
      "['Pickup Community Area', 'Holiday', 'Year', 'Month', 'Day', 'Dayofweek', 'Is_month_end', 'Is_month_start', 'Is_quarter_end', 'Is_quarter_start', 'Is_year_end', 'Is_year_start', 'Dayofyear', 'Week']\n"
     ]
    }
   ],
   "source": [
    "#Categorical and Continuous Variables\n",
    "print('Continuous variables:')\n",
    "print(cont_vars)\n",
    "print('\\nCategorical variables:')\n",
    "print(cat_vars)"
   ]
  },
  {
   "cell_type": "markdown",
   "metadata": {},
   "source": [
    "#### SVM Model With Linear Kernel\n",
    "---"
   ]
  },
  {
   "cell_type": "code",
   "execution_count": 11,
   "metadata": {},
   "outputs": [],
   "source": [
    "# Target Extraction\n",
    "daily_demand_train_target = daily_demand_train.pop(target)\n",
    "daily_demand_test_target = daily_demand_test[target]\n",
    "X_test = daily_demand_test.drop(columns=[target])"
   ]
  },
  {
   "cell_type": "code",
   "execution_count": 12,
   "metadata": {},
   "outputs": [
    {
     "data": {
      "text/plain": [
       "Pipeline(steps=[('preprocessor',\n",
       "                 ColumnTransformer(transformers=[('numerical scaler',\n",
       "                                                  Pipeline(steps=[('standard_scaler',\n",
       "                                                                   StandardScaler())]),\n",
       "                                                  ['Humidity(%)',\n",
       "                                                   'Pressure(hPa)',\n",
       "                                                   'Temperature(C)',\n",
       "                                                   'Wind Direction(Meteoro. '\n",
       "                                                   'Degree)',\n",
       "                                                   'Wind Speed(M/S)',\n",
       "                                                   'City Center Distance',\n",
       "                                                   'Airport Distance',\n",
       "                                                   'Elapsed']),\n",
       "                                                 ('one hot encoder',\n",
       "                                                  Pipeline(steps=[('one_hot_encoder',\n",
       "                                                                   OneHotEncoder(handle_unknown='ignore'))]),\n",
       "                                                  ['Pickup Community Area',\n",
       "                                                   'Holiday', 'Year', 'Month',\n",
       "                                                   'Day', 'Dayofweek',\n",
       "                                                   'Is_month_end',\n",
       "                                                   'Is_month_start',\n",
       "                                                   'Is_quarter_end',\n",
       "                                                   'Is_quarter_start',\n",
       "                                                   'Is_year_end',\n",
       "                                                   'Is_year_start', 'Dayofyear',\n",
       "                                                   'Week'])])),\n",
       "                ('svr model', SVR(kernel='linear'))])"
      ]
     },
     "execution_count": 12,
     "metadata": {},
     "output_type": "execute_result"
    }
   ],
   "source": [
    "svr_linear = SVR(kernel='linear')\n",
    "\n",
    "pipeline = prediction_svm.make_pipeline_for_svm(cat_vars, cont_vars, svr_linear)\n",
    "\n",
    "pipeline"
   ]
  },
  {
   "cell_type": "code",
   "execution_count": 13,
   "metadata": {
    "scrolled": true
   },
   "outputs": [],
   "source": [
    "# Training SVM Linear Kernel\n",
    "svr_linear_fitted = pipeline.fit(daily_demand_train, daily_demand_train_target)"
   ]
  },
  {
   "cell_type": "code",
   "execution_count": 14,
   "metadata": {
    "scrolled": true
   },
   "outputs": [
    {
     "name": "stdout",
     "output_type": "stream",
     "text": [
      "-------MODEL SCORES-------\n",
      "MAPE:  45.838 %\n",
      "sMAPE:  34.270 %\n",
      "MAE:  208.861\n",
      "MSE:  819865.833\n",
      "RMSE:  905.464\n",
      "R2:  90.508 %\n",
      "Max Residual Error:  16213.439\n"
     ]
    }
   ],
   "source": [
    "# Model Scores\n",
    "y_pred = pipeline.predict(X_test)\n",
    "\n",
    "prediction_utils.get_prediction_scores(y_true=np.exp(daily_demand_test_target), \n",
    "                                       y_predicted=np.exp(y_pred), \n",
    "                                       s_mape=True,\n",
    "                                       prediction_type='svr')"
   ]
  },
  {
   "cell_type": "markdown",
   "metadata": {},
   "source": [
    "#### SVM Model With Polynomial Kernel\n",
    "---"
   ]
  },
  {
   "cell_type": "code",
   "execution_count": 15,
   "metadata": {},
   "outputs": [
    {
     "data": {
      "text/plain": [
       "Pipeline(steps=[('preprocessor',\n",
       "                 ColumnTransformer(transformers=[('numerical scaler',\n",
       "                                                  Pipeline(steps=[('standard_scaler',\n",
       "                                                                   StandardScaler())]),\n",
       "                                                  ['Humidity(%)',\n",
       "                                                   'Pressure(hPa)',\n",
       "                                                   'Temperature(C)',\n",
       "                                                   'Wind Direction(Meteoro. '\n",
       "                                                   'Degree)',\n",
       "                                                   'Wind Speed(M/S)',\n",
       "                                                   'City Center Distance',\n",
       "                                                   'Airport Distance',\n",
       "                                                   'Elapsed']),\n",
       "                                                 ('one hot encoder',\n",
       "                                                  Pipeline(steps=[('one_hot_encoder',\n",
       "                                                                   OneHotEncoder(handle_unknown='ignore'))]),\n",
       "                                                  ['Pickup Community Area',\n",
       "                                                   'Holiday', 'Year', 'Month',\n",
       "                                                   'Day', 'Dayofweek',\n",
       "                                                   'Is_month_end',\n",
       "                                                   'Is_month_start',\n",
       "                                                   'Is_quarter_end',\n",
       "                                                   'Is_quarter_start',\n",
       "                                                   'Is_year_end',\n",
       "                                                   'Is_year_start', 'Dayofyear',\n",
       "                                                   'Week'])])),\n",
       "                ('svr model', SVR(degree=2, kernel='poly'))])"
      ]
     },
     "execution_count": 15,
     "metadata": {},
     "output_type": "execute_result"
    }
   ],
   "source": [
    "svr_poly_2 = SVR(kernel='poly', degree=2)\n",
    "\n",
    "pipeline = prediction_svm.make_pipeline_for_svm(cat_vars, cont_vars, svr_poly_2)\n",
    "\n",
    "pipeline"
   ]
  },
  {
   "cell_type": "code",
   "execution_count": 16,
   "metadata": {
    "scrolled": true
   },
   "outputs": [],
   "source": [
    "# Training SVM Polynomial Degree 2 Kernel\n",
    "svr_poly_2_fitted = pipeline.fit(daily_demand_train, daily_demand_train_target)"
   ]
  },
  {
   "cell_type": "code",
   "execution_count": 17,
   "metadata": {
    "scrolled": true
   },
   "outputs": [
    {
     "name": "stdout",
     "output_type": "stream",
     "text": [
      "-------MODEL SCORES-------\n",
      "MAPE:  45.630 %\n",
      "sMAPE:  33.216 %\n",
      "MAE:  188.442\n",
      "MSE:  684351.091\n",
      "RMSE:  827.255\n",
      "R2:  92.077 %\n",
      "Max Residual Error:  13199.804\n"
     ]
    }
   ],
   "source": [
    "# Model Scores\n",
    "y_pred = pipeline.predict(X_test)\n",
    "\n",
    "prediction_utils.get_prediction_scores(y_true=np.exp(daily_demand_test_target), \n",
    "                                       y_predicted=np.exp(y_pred), \n",
    "                                       s_mape=True,\n",
    "                                       prediction_type='svr')"
   ]
  },
  {
   "cell_type": "code",
   "execution_count": 18,
   "metadata": {},
   "outputs": [
    {
     "data": {
      "text/plain": [
       "Pipeline(steps=[('preprocessor',\n",
       "                 ColumnTransformer(transformers=[('numerical scaler',\n",
       "                                                  Pipeline(steps=[('standard_scaler',\n",
       "                                                                   StandardScaler())]),\n",
       "                                                  ['Humidity(%)',\n",
       "                                                   'Pressure(hPa)',\n",
       "                                                   'Temperature(C)',\n",
       "                                                   'Wind Direction(Meteoro. '\n",
       "                                                   'Degree)',\n",
       "                                                   'Wind Speed(M/S)',\n",
       "                                                   'City Center Distance',\n",
       "                                                   'Airport Distance',\n",
       "                                                   'Elapsed']),\n",
       "                                                 ('one hot encoder',\n",
       "                                                  Pipeline(steps=[('one_hot_encoder',\n",
       "                                                                   OneHotEncoder(handle_unknown='ignore'))]),\n",
       "                                                  ['Pickup Community Area',\n",
       "                                                   'Holiday', 'Year', 'Month',\n",
       "                                                   'Day', 'Dayofweek',\n",
       "                                                   'Is_month_end',\n",
       "                                                   'Is_month_start',\n",
       "                                                   'Is_quarter_end',\n",
       "                                                   'Is_quarter_start',\n",
       "                                                   'Is_year_end',\n",
       "                                                   'Is_year_start', 'Dayofyear',\n",
       "                                                   'Week'])])),\n",
       "                ('svr model', SVR(kernel='poly'))])"
      ]
     },
     "execution_count": 18,
     "metadata": {},
     "output_type": "execute_result"
    }
   ],
   "source": [
    "# Checking degree 3\n",
    "svr_poly_3 = SVR(kernel='poly', degree=3)\n",
    "\n",
    "pipeline = prediction_svm.make_pipeline_for_svm(cat_vars, cont_vars, svr_poly_3)\n",
    "\n",
    "pipeline"
   ]
  },
  {
   "cell_type": "code",
   "execution_count": 19,
   "metadata": {
    "scrolled": true
   },
   "outputs": [],
   "source": [
    "# Training SVM Polynomial Degree 3 Kernel\n",
    "svr_poly_3_fitted = pipeline.fit(daily_demand_train, daily_demand_train_target)"
   ]
  },
  {
   "cell_type": "code",
   "execution_count": 20,
   "metadata": {
    "scrolled": true
   },
   "outputs": [
    {
     "name": "stdout",
     "output_type": "stream",
     "text": [
      "-------MODEL SCORES-------\n",
      "MAPE:  50.439 %\n",
      "sMAPE:  35.670 %\n",
      "MAE:  213.529\n",
      "MSE:  906322.564\n",
      "RMSE:  952.010\n",
      "R2:  89.507 %\n",
      "Max Residual Error:  16541.819\n"
     ]
    }
   ],
   "source": [
    "# Model Scores\n",
    "y_pred = pipeline.predict(X_test)\n",
    "\n",
    "prediction_utils.get_prediction_scores(y_true=np.exp(daily_demand_test_target), \n",
    "                                       y_predicted=np.exp(y_pred), \n",
    "                                       s_mape=True,\n",
    "                                       prediction_type='svr')"
   ]
  },
  {
   "cell_type": "markdown",
   "metadata": {},
   "source": [
    "#### SVM Model With RBF Kernel\n",
    "---"
   ]
  },
  {
   "cell_type": "code",
   "execution_count": 21,
   "metadata": {},
   "outputs": [
    {
     "data": {
      "text/plain": [
       "Pipeline(steps=[('preprocessor',\n",
       "                 ColumnTransformer(transformers=[('numerical scaler',\n",
       "                                                  Pipeline(steps=[('standard_scaler',\n",
       "                                                                   StandardScaler())]),\n",
       "                                                  ['Humidity(%)',\n",
       "                                                   'Pressure(hPa)',\n",
       "                                                   'Temperature(C)',\n",
       "                                                   'Wind Direction(Meteoro. '\n",
       "                                                   'Degree)',\n",
       "                                                   'Wind Speed(M/S)',\n",
       "                                                   'City Center Distance',\n",
       "                                                   'Airport Distance',\n",
       "                                                   'Elapsed']),\n",
       "                                                 ('one hot encoder',\n",
       "                                                  Pipeline(steps=[('one_hot_encoder',\n",
       "                                                                   OneHotEncoder(handle_unknown='ignore'))]),\n",
       "                                                  ['Pickup Community Area',\n",
       "                                                   'Holiday', 'Year', 'Month',\n",
       "                                                   'Day', 'Dayofweek',\n",
       "                                                   'Is_month_end',\n",
       "                                                   'Is_month_start',\n",
       "                                                   'Is_quarter_end',\n",
       "                                                   'Is_quarter_start',\n",
       "                                                   'Is_year_end',\n",
       "                                                   'Is_year_start', 'Dayofyear',\n",
       "                                                   'Week'])])),\n",
       "                ('svr model', SVR())])"
      ]
     },
     "execution_count": 21,
     "metadata": {},
     "output_type": "execute_result"
    }
   ],
   "source": [
    "svr_rbf = SVR(kernel='rbf')\n",
    "\n",
    "pipeline = prediction_svm.make_pipeline_for_svm(cat_vars, cont_vars, svr_rbf)\n",
    "\n",
    "pipeline"
   ]
  },
  {
   "cell_type": "code",
   "execution_count": 22,
   "metadata": {
    "scrolled": true
   },
   "outputs": [],
   "source": [
    "# Training SVM RBF Kernel\n",
    "svr_rbf_fitted = pipeline.fit(daily_demand_train, daily_demand_train_target)"
   ]
  },
  {
   "cell_type": "code",
   "execution_count": 23,
   "metadata": {
    "scrolled": true
   },
   "outputs": [
    {
     "name": "stdout",
     "output_type": "stream",
     "text": [
      "-------MODEL SCORES-------\n",
      "MAPE:  68.662 %\n",
      "sMAPE:  43.156 %\n",
      "MAE:  259.653\n",
      "MSE:  1528861.184\n",
      "RMSE:  1236.471\n",
      "R2:  82.299 %\n",
      "Max Residual Error:  18220.975\n"
     ]
    }
   ],
   "source": [
    "# Model Scores\n",
    "y_pred = pipeline.predict(X_test)\n",
    "\n",
    "prediction_utils.get_prediction_scores(y_true=np.exp(daily_demand_test_target), \n",
    "                                       y_predicted=np.exp(y_pred), \n",
    "                                       s_mape=True,\n",
    "                                       prediction_type='svr')"
   ]
  },
  {
   "cell_type": "markdown",
   "metadata": {},
   "source": [
    "Overfit to training data -> tune hyperparameter!"
   ]
  },
  {
   "cell_type": "markdown",
   "metadata": {},
   "source": [
    "#### Tuning hyperparameter\n",
    "---"
   ]
  },
  {
   "cell_type": "code",
   "execution_count": 24,
   "metadata": {},
   "outputs": [
    {
     "data": {
      "text/plain": [
       "Pipeline(steps=[('preprocessor',\n",
       "                 ColumnTransformer(transformers=[('numerical scaler',\n",
       "                                                  Pipeline(steps=[('standard_scaler',\n",
       "                                                                   StandardScaler())]),\n",
       "                                                  ['Humidity(%)',\n",
       "                                                   'Pressure(hPa)',\n",
       "                                                   'Temperature(C)',\n",
       "                                                   'Wind Direction(Meteoro. '\n",
       "                                                   'Degree)',\n",
       "                                                   'Wind Speed(M/S)',\n",
       "                                                   'City Center Distance',\n",
       "                                                   'Airport Distance',\n",
       "                                                   'Elapsed']),\n",
       "                                                 ('one hot encoder',\n",
       "                                                  Pipeline(steps=[('one_hot_encoder',\n",
       "                                                                   OneHotEncoder(handle_unknown='ignore'))]),\n",
       "                                                  ['Pickup Community Area',\n",
       "                                                   'Holiday', 'Year', 'Month',\n",
       "                                                   'Day', 'Dayofweek',\n",
       "                                                   'Is_month_end',\n",
       "                                                   'Is_month_start',\n",
       "                                                   'Is_quarter_end',\n",
       "                                                   'Is_quarter_start',\n",
       "                                                   'Is_year_end',\n",
       "                                                   'Is_year_start', 'Dayofyear',\n",
       "                                                   'Week'])])),\n",
       "                ('svr model', SVR(degree=2, kernel='poly'))])"
      ]
     },
     "execution_count": 24,
     "metadata": {},
     "output_type": "execute_result"
    }
   ],
   "source": [
    "svr_poly_2 = SVR(kernel='poly', degree=2)\n",
    "\n",
    "pipeline = prediction_svm.make_pipeline_for_svm(cat_vars, cont_vars, svr_poly_2)\n",
    "\n",
    "pipeline"
   ]
  },
  {
   "cell_type": "code",
   "execution_count": 25,
   "metadata": {},
   "outputs": [],
   "source": [
    "# Define Model Parameters for First Grid Search [0.5, 4, 32, 256]\n",
    "model_params = {\n",
    "                'svr model__C':[2**j for j in range(-1,10,3)], \n",
    "                'svr model__epsilon':[2**j for j in range(-1,10,3)],\n",
    "                'svr model__coef0':[2**j for j in range(-1,10,3)],\n",
    "                'svr model__gamma':[2**j for j in range(-1,10,3)]\n",
    "                }"
   ]
  },
  {
   "cell_type": "code",
   "execution_count": 26,
   "metadata": {
    "scrolled": false
   },
   "outputs": [
    {
     "name": "stdout",
     "output_type": "stream",
     "text": [
      "Running grid search for the model based on neg_mean_absolute_error\n",
      "Fitting 5 folds for each of 256 candidates, totalling 1280 fits\n",
      "Best neg_mean_absolute_error Score was: -0.377129530428002\n",
      "The best hyper parameters for the model are:\n",
      "{'svr model__C': 0.5, 'svr model__coef0': 256, 'svr model__epsilon': 0.5, 'svr model__gamma': 0.5}\n"
     ]
    }
   ],
   "source": [
    "# First Grid Search\n",
    "prediction_svm.find_best_parameters_for_model(pipeline, \n",
    "                                              daily_demand_train, \n",
    "                                              daily_demand_train_target, \n",
    "                                              model_params, \n",
    "                                              scoring='neg_mean_absolute_error',\n",
    "                                              verbose=10)"
   ]
  },
  {
   "cell_type": "code",
   "execution_count": 49,
   "metadata": {},
   "outputs": [],
   "source": [
    "# Define Model Parameters for Second Grid Search (TODO)\n",
    "model_params = {\n",
    "                'svr model__C':[2**j for j in range(-1,10,3)], \n",
    "                'svr model__epsilon':[2**j for j in range(-1,10,3)],\n",
    "                'svr model__coef0':[2**j for j in range(-1,10,3)],\n",
    "                'svr model__gamma':[2**j for j in range(-1,10,3)]\n",
    "                }"
   ]
  },
  {
   "cell_type": "code",
   "execution_count": 50,
   "metadata": {
    "scrolled": false
   },
   "outputs": [
    {
     "name": "stdout",
     "output_type": "stream",
     "text": [
      "Running grid search for the model based on neg_mean_absolute_error\n",
      "Fitting 5 folds for each of 343 candidates, totalling 1715 fits\n"
     ]
    },
    {
     "ename": "KeyboardInterrupt",
     "evalue": "",
     "output_type": "error",
     "traceback": [
      "\u001B[0;31m---------------------------------------------------------------------------\u001B[0m",
      "\u001B[0;31mKeyboardInterrupt\u001B[0m                         Traceback (most recent call last)",
      "\u001B[0;32m<ipython-input-50-91840048d66b>\u001B[0m in \u001B[0;36m<module>\u001B[0;34m\u001B[0m\n\u001B[1;32m      1\u001B[0m \u001B[0;31m# Grid Search\u001B[0m\u001B[0;34m\u001B[0m\u001B[0;34m\u001B[0m\u001B[0;34m\u001B[0m\u001B[0m\n\u001B[0;32m----> 2\u001B[0;31m prediction_svm.find_best_parameters_for_model(pipeline, \n\u001B[0m\u001B[1;32m      3\u001B[0m                                               \u001B[0mdaily_demand_train\u001B[0m\u001B[0;34m,\u001B[0m\u001B[0;34m\u001B[0m\u001B[0;34m\u001B[0m\u001B[0m\n\u001B[1;32m      4\u001B[0m                                               \u001B[0mdaily_demand_train_target\u001B[0m\u001B[0;34m,\u001B[0m\u001B[0;34m\u001B[0m\u001B[0;34m\u001B[0m\u001B[0m\n\u001B[1;32m      5\u001B[0m                                               \u001B[0mmodel_params\u001B[0m\u001B[0;34m,\u001B[0m\u001B[0;34m\u001B[0m\u001B[0;34m\u001B[0m\u001B[0m\n",
      "\u001B[0;32m~/git/aaa21/prediction_svm.py\u001B[0m in \u001B[0;36mfind_best_parameters_for_model\u001B[0;34m(pipeline, X_train, y_train, model_params, scoring, verbose)\u001B[0m\n\u001B[1;32m     58\u001B[0m         \u001B[0mverbose\u001B[0m\u001B[0;34m=\u001B[0m\u001B[0mverbose\u001B[0m\u001B[0;34m,\u001B[0m\u001B[0;34m\u001B[0m\u001B[0;34m\u001B[0m\u001B[0m\n\u001B[1;32m     59\u001B[0m     )\n\u001B[0;32m---> 60\u001B[0;31m     \u001B[0mgrid_pipeline\u001B[0m\u001B[0;34m.\u001B[0m\u001B[0mfit\u001B[0m\u001B[0;34m(\u001B[0m\u001B[0mX_train\u001B[0m\u001B[0;34m,\u001B[0m \u001B[0my_train\u001B[0m\u001B[0;34m)\u001B[0m\u001B[0;34m\u001B[0m\u001B[0;34m\u001B[0m\u001B[0m\n\u001B[0m\u001B[1;32m     61\u001B[0m     \u001B[0mprint\u001B[0m\u001B[0;34m(\u001B[0m\u001B[0;34mf\"Best {scoring} Score was: {grid_pipeline.best_score_}\"\u001B[0m\u001B[0;34m)\u001B[0m\u001B[0;34m\u001B[0m\u001B[0;34m\u001B[0m\u001B[0m\n\u001B[1;32m     62\u001B[0m     \u001B[0mprint\u001B[0m\u001B[0;34m(\u001B[0m\u001B[0;34mf\"The best hyper parameters for the model are:\"\u001B[0m\u001B[0;34m)\u001B[0m\u001B[0;34m\u001B[0m\u001B[0;34m\u001B[0m\u001B[0m\n",
      "\u001B[0;32m~/opt/anaconda3/envs/aaa21/lib/python3.9/site-packages/sklearn/utils/validation.py\u001B[0m in \u001B[0;36minner_f\u001B[0;34m(*args, **kwargs)\u001B[0m\n\u001B[1;32m     61\u001B[0m             \u001B[0mextra_args\u001B[0m \u001B[0;34m=\u001B[0m \u001B[0mlen\u001B[0m\u001B[0;34m(\u001B[0m\u001B[0margs\u001B[0m\u001B[0;34m)\u001B[0m \u001B[0;34m-\u001B[0m \u001B[0mlen\u001B[0m\u001B[0;34m(\u001B[0m\u001B[0mall_args\u001B[0m\u001B[0;34m)\u001B[0m\u001B[0;34m\u001B[0m\u001B[0;34m\u001B[0m\u001B[0m\n\u001B[1;32m     62\u001B[0m             \u001B[0;32mif\u001B[0m \u001B[0mextra_args\u001B[0m \u001B[0;34m<=\u001B[0m \u001B[0;36m0\u001B[0m\u001B[0;34m:\u001B[0m\u001B[0;34m\u001B[0m\u001B[0;34m\u001B[0m\u001B[0m\n\u001B[0;32m---> 63\u001B[0;31m                 \u001B[0;32mreturn\u001B[0m \u001B[0mf\u001B[0m\u001B[0;34m(\u001B[0m\u001B[0;34m*\u001B[0m\u001B[0margs\u001B[0m\u001B[0;34m,\u001B[0m \u001B[0;34m**\u001B[0m\u001B[0mkwargs\u001B[0m\u001B[0;34m)\u001B[0m\u001B[0;34m\u001B[0m\u001B[0;34m\u001B[0m\u001B[0m\n\u001B[0m\u001B[1;32m     64\u001B[0m \u001B[0;34m\u001B[0m\u001B[0m\n\u001B[1;32m     65\u001B[0m             \u001B[0;31m# extra_args > 0\u001B[0m\u001B[0;34m\u001B[0m\u001B[0;34m\u001B[0m\u001B[0;34m\u001B[0m\u001B[0m\n",
      "\u001B[0;32m~/opt/anaconda3/envs/aaa21/lib/python3.9/site-packages/sklearn/model_selection/_search.py\u001B[0m in \u001B[0;36mfit\u001B[0;34m(self, X, y, groups, **fit_params)\u001B[0m\n\u001B[1;32m    839\u001B[0m                 \u001B[0;32mreturn\u001B[0m \u001B[0mresults\u001B[0m\u001B[0;34m\u001B[0m\u001B[0;34m\u001B[0m\u001B[0m\n\u001B[1;32m    840\u001B[0m \u001B[0;34m\u001B[0m\u001B[0m\n\u001B[0;32m--> 841\u001B[0;31m             \u001B[0mself\u001B[0m\u001B[0;34m.\u001B[0m\u001B[0m_run_search\u001B[0m\u001B[0;34m(\u001B[0m\u001B[0mevaluate_candidates\u001B[0m\u001B[0;34m)\u001B[0m\u001B[0;34m\u001B[0m\u001B[0;34m\u001B[0m\u001B[0m\n\u001B[0m\u001B[1;32m    842\u001B[0m \u001B[0;34m\u001B[0m\u001B[0m\n\u001B[1;32m    843\u001B[0m             \u001B[0;31m# multimetric is determined here because in the case of a callable\u001B[0m\u001B[0;34m\u001B[0m\u001B[0;34m\u001B[0m\u001B[0;34m\u001B[0m\u001B[0m\n",
      "\u001B[0;32m~/opt/anaconda3/envs/aaa21/lib/python3.9/site-packages/sklearn/model_selection/_search.py\u001B[0m in \u001B[0;36m_run_search\u001B[0;34m(self, evaluate_candidates)\u001B[0m\n\u001B[1;32m   1294\u001B[0m     \u001B[0;32mdef\u001B[0m \u001B[0m_run_search\u001B[0m\u001B[0;34m(\u001B[0m\u001B[0mself\u001B[0m\u001B[0;34m,\u001B[0m \u001B[0mevaluate_candidates\u001B[0m\u001B[0;34m)\u001B[0m\u001B[0;34m:\u001B[0m\u001B[0;34m\u001B[0m\u001B[0;34m\u001B[0m\u001B[0m\n\u001B[1;32m   1295\u001B[0m         \u001B[0;34m\"\"\"Search all candidates in param_grid\"\"\"\u001B[0m\u001B[0;34m\u001B[0m\u001B[0;34m\u001B[0m\u001B[0m\n\u001B[0;32m-> 1296\u001B[0;31m         \u001B[0mevaluate_candidates\u001B[0m\u001B[0;34m(\u001B[0m\u001B[0mParameterGrid\u001B[0m\u001B[0;34m(\u001B[0m\u001B[0mself\u001B[0m\u001B[0;34m.\u001B[0m\u001B[0mparam_grid\u001B[0m\u001B[0;34m)\u001B[0m\u001B[0;34m)\u001B[0m\u001B[0;34m\u001B[0m\u001B[0;34m\u001B[0m\u001B[0m\n\u001B[0m\u001B[1;32m   1297\u001B[0m \u001B[0;34m\u001B[0m\u001B[0m\n\u001B[1;32m   1298\u001B[0m \u001B[0;34m\u001B[0m\u001B[0m\n",
      "\u001B[0;32m~/opt/anaconda3/envs/aaa21/lib/python3.9/site-packages/sklearn/model_selection/_search.py\u001B[0m in \u001B[0;36mevaluate_candidates\u001B[0;34m(candidate_params, cv, more_results)\u001B[0m\n\u001B[1;32m    793\u001B[0m                               n_splits, n_candidates, n_candidates * n_splits))\n\u001B[1;32m    794\u001B[0m \u001B[0;34m\u001B[0m\u001B[0m\n\u001B[0;32m--> 795\u001B[0;31m                 out = parallel(delayed(_fit_and_score)(clone(base_estimator),\n\u001B[0m\u001B[1;32m    796\u001B[0m                                                        \u001B[0mX\u001B[0m\u001B[0;34m,\u001B[0m \u001B[0my\u001B[0m\u001B[0;34m,\u001B[0m\u001B[0;34m\u001B[0m\u001B[0;34m\u001B[0m\u001B[0m\n\u001B[1;32m    797\u001B[0m                                                        \u001B[0mtrain\u001B[0m\u001B[0;34m=\u001B[0m\u001B[0mtrain\u001B[0m\u001B[0;34m,\u001B[0m \u001B[0mtest\u001B[0m\u001B[0;34m=\u001B[0m\u001B[0mtest\u001B[0m\u001B[0;34m,\u001B[0m\u001B[0;34m\u001B[0m\u001B[0;34m\u001B[0m\u001B[0m\n",
      "\u001B[0;32m~/opt/anaconda3/envs/aaa21/lib/python3.9/site-packages/joblib/parallel.py\u001B[0m in \u001B[0;36m__call__\u001B[0;34m(self, iterable)\u001B[0m\n\u001B[1;32m   1052\u001B[0m \u001B[0;34m\u001B[0m\u001B[0m\n\u001B[1;32m   1053\u001B[0m             \u001B[0;32mwith\u001B[0m \u001B[0mself\u001B[0m\u001B[0;34m.\u001B[0m\u001B[0m_backend\u001B[0m\u001B[0;34m.\u001B[0m\u001B[0mretrieval_context\u001B[0m\u001B[0;34m(\u001B[0m\u001B[0;34m)\u001B[0m\u001B[0;34m:\u001B[0m\u001B[0;34m\u001B[0m\u001B[0;34m\u001B[0m\u001B[0m\n\u001B[0;32m-> 1054\u001B[0;31m                 \u001B[0mself\u001B[0m\u001B[0;34m.\u001B[0m\u001B[0mretrieve\u001B[0m\u001B[0;34m(\u001B[0m\u001B[0;34m)\u001B[0m\u001B[0;34m\u001B[0m\u001B[0;34m\u001B[0m\u001B[0m\n\u001B[0m\u001B[1;32m   1055\u001B[0m             \u001B[0;31m# Make sure that we get a last message telling us we are done\u001B[0m\u001B[0;34m\u001B[0m\u001B[0;34m\u001B[0m\u001B[0;34m\u001B[0m\u001B[0m\n\u001B[1;32m   1056\u001B[0m             \u001B[0melapsed_time\u001B[0m \u001B[0;34m=\u001B[0m \u001B[0mtime\u001B[0m\u001B[0;34m.\u001B[0m\u001B[0mtime\u001B[0m\u001B[0;34m(\u001B[0m\u001B[0;34m)\u001B[0m \u001B[0;34m-\u001B[0m \u001B[0mself\u001B[0m\u001B[0;34m.\u001B[0m\u001B[0m_start_time\u001B[0m\u001B[0;34m\u001B[0m\u001B[0;34m\u001B[0m\u001B[0m\n",
      "\u001B[0;32m~/opt/anaconda3/envs/aaa21/lib/python3.9/site-packages/joblib/parallel.py\u001B[0m in \u001B[0;36mretrieve\u001B[0;34m(self)\u001B[0m\n\u001B[1;32m    931\u001B[0m             \u001B[0;32mtry\u001B[0m\u001B[0;34m:\u001B[0m\u001B[0;34m\u001B[0m\u001B[0;34m\u001B[0m\u001B[0m\n\u001B[1;32m    932\u001B[0m                 \u001B[0;32mif\u001B[0m \u001B[0mgetattr\u001B[0m\u001B[0;34m(\u001B[0m\u001B[0mself\u001B[0m\u001B[0;34m.\u001B[0m\u001B[0m_backend\u001B[0m\u001B[0;34m,\u001B[0m \u001B[0;34m'supports_timeout'\u001B[0m\u001B[0;34m,\u001B[0m \u001B[0;32mFalse\u001B[0m\u001B[0;34m)\u001B[0m\u001B[0;34m:\u001B[0m\u001B[0;34m\u001B[0m\u001B[0;34m\u001B[0m\u001B[0m\n\u001B[0;32m--> 933\u001B[0;31m                     \u001B[0mself\u001B[0m\u001B[0;34m.\u001B[0m\u001B[0m_output\u001B[0m\u001B[0;34m.\u001B[0m\u001B[0mextend\u001B[0m\u001B[0;34m(\u001B[0m\u001B[0mjob\u001B[0m\u001B[0;34m.\u001B[0m\u001B[0mget\u001B[0m\u001B[0;34m(\u001B[0m\u001B[0mtimeout\u001B[0m\u001B[0;34m=\u001B[0m\u001B[0mself\u001B[0m\u001B[0;34m.\u001B[0m\u001B[0mtimeout\u001B[0m\u001B[0;34m)\u001B[0m\u001B[0;34m)\u001B[0m\u001B[0;34m\u001B[0m\u001B[0;34m\u001B[0m\u001B[0m\n\u001B[0m\u001B[1;32m    934\u001B[0m                 \u001B[0;32melse\u001B[0m\u001B[0;34m:\u001B[0m\u001B[0;34m\u001B[0m\u001B[0;34m\u001B[0m\u001B[0m\n\u001B[1;32m    935\u001B[0m                     \u001B[0mself\u001B[0m\u001B[0;34m.\u001B[0m\u001B[0m_output\u001B[0m\u001B[0;34m.\u001B[0m\u001B[0mextend\u001B[0m\u001B[0;34m(\u001B[0m\u001B[0mjob\u001B[0m\u001B[0;34m.\u001B[0m\u001B[0mget\u001B[0m\u001B[0;34m(\u001B[0m\u001B[0;34m)\u001B[0m\u001B[0;34m)\u001B[0m\u001B[0;34m\u001B[0m\u001B[0;34m\u001B[0m\u001B[0m\n",
      "\u001B[0;32m~/opt/anaconda3/envs/aaa21/lib/python3.9/site-packages/joblib/_parallel_backends.py\u001B[0m in \u001B[0;36mwrap_future_result\u001B[0;34m(future, timeout)\u001B[0m\n\u001B[1;32m    540\u001B[0m         AsyncResults.get from multiprocessing.\"\"\"\n\u001B[1;32m    541\u001B[0m         \u001B[0;32mtry\u001B[0m\u001B[0;34m:\u001B[0m\u001B[0;34m\u001B[0m\u001B[0;34m\u001B[0m\u001B[0m\n\u001B[0;32m--> 542\u001B[0;31m             \u001B[0;32mreturn\u001B[0m \u001B[0mfuture\u001B[0m\u001B[0;34m.\u001B[0m\u001B[0mresult\u001B[0m\u001B[0;34m(\u001B[0m\u001B[0mtimeout\u001B[0m\u001B[0;34m=\u001B[0m\u001B[0mtimeout\u001B[0m\u001B[0;34m)\u001B[0m\u001B[0;34m\u001B[0m\u001B[0;34m\u001B[0m\u001B[0m\n\u001B[0m\u001B[1;32m    543\u001B[0m         \u001B[0;32mexcept\u001B[0m \u001B[0mCfTimeoutError\u001B[0m \u001B[0;32mas\u001B[0m \u001B[0me\u001B[0m\u001B[0;34m:\u001B[0m\u001B[0;34m\u001B[0m\u001B[0;34m\u001B[0m\u001B[0m\n\u001B[1;32m    544\u001B[0m             \u001B[0;32mraise\u001B[0m \u001B[0mTimeoutError\u001B[0m \u001B[0;32mfrom\u001B[0m \u001B[0me\u001B[0m\u001B[0;34m\u001B[0m\u001B[0;34m\u001B[0m\u001B[0m\n",
      "\u001B[0;32m~/opt/anaconda3/envs/aaa21/lib/python3.9/concurrent/futures/_base.py\u001B[0m in \u001B[0;36mresult\u001B[0;34m(self, timeout)\u001B[0m\n\u001B[1;32m    438\u001B[0m                     \u001B[0;32mreturn\u001B[0m \u001B[0mself\u001B[0m\u001B[0;34m.\u001B[0m\u001B[0m__get_result\u001B[0m\u001B[0;34m(\u001B[0m\u001B[0;34m)\u001B[0m\u001B[0;34m\u001B[0m\u001B[0;34m\u001B[0m\u001B[0m\n\u001B[1;32m    439\u001B[0m \u001B[0;34m\u001B[0m\u001B[0m\n\u001B[0;32m--> 440\u001B[0;31m                 \u001B[0mself\u001B[0m\u001B[0;34m.\u001B[0m\u001B[0m_condition\u001B[0m\u001B[0;34m.\u001B[0m\u001B[0mwait\u001B[0m\u001B[0;34m(\u001B[0m\u001B[0mtimeout\u001B[0m\u001B[0;34m)\u001B[0m\u001B[0;34m\u001B[0m\u001B[0;34m\u001B[0m\u001B[0m\n\u001B[0m\u001B[1;32m    441\u001B[0m \u001B[0;34m\u001B[0m\u001B[0m\n\u001B[1;32m    442\u001B[0m                 \u001B[0;32mif\u001B[0m \u001B[0mself\u001B[0m\u001B[0;34m.\u001B[0m\u001B[0m_state\u001B[0m \u001B[0;32min\u001B[0m \u001B[0;34m[\u001B[0m\u001B[0mCANCELLED\u001B[0m\u001B[0;34m,\u001B[0m \u001B[0mCANCELLED_AND_NOTIFIED\u001B[0m\u001B[0;34m]\u001B[0m\u001B[0;34m:\u001B[0m\u001B[0;34m\u001B[0m\u001B[0;34m\u001B[0m\u001B[0m\n",
      "\u001B[0;32m~/opt/anaconda3/envs/aaa21/lib/python3.9/threading.py\u001B[0m in \u001B[0;36mwait\u001B[0;34m(self, timeout)\u001B[0m\n\u001B[1;32m    310\u001B[0m         \u001B[0;32mtry\u001B[0m\u001B[0;34m:\u001B[0m    \u001B[0;31m# restore state no matter what (e.g., KeyboardInterrupt)\u001B[0m\u001B[0;34m\u001B[0m\u001B[0;34m\u001B[0m\u001B[0m\n\u001B[1;32m    311\u001B[0m             \u001B[0;32mif\u001B[0m \u001B[0mtimeout\u001B[0m \u001B[0;32mis\u001B[0m \u001B[0;32mNone\u001B[0m\u001B[0;34m:\u001B[0m\u001B[0;34m\u001B[0m\u001B[0;34m\u001B[0m\u001B[0m\n\u001B[0;32m--> 312\u001B[0;31m                 \u001B[0mwaiter\u001B[0m\u001B[0;34m.\u001B[0m\u001B[0macquire\u001B[0m\u001B[0;34m(\u001B[0m\u001B[0;34m)\u001B[0m\u001B[0;34m\u001B[0m\u001B[0;34m\u001B[0m\u001B[0m\n\u001B[0m\u001B[1;32m    313\u001B[0m                 \u001B[0mgotit\u001B[0m \u001B[0;34m=\u001B[0m \u001B[0;32mTrue\u001B[0m\u001B[0;34m\u001B[0m\u001B[0;34m\u001B[0m\u001B[0m\n\u001B[1;32m    314\u001B[0m             \u001B[0;32melse\u001B[0m\u001B[0;34m:\u001B[0m\u001B[0;34m\u001B[0m\u001B[0;34m\u001B[0m\u001B[0m\n",
      "\u001B[0;31mKeyboardInterrupt\u001B[0m: "
     ]
    }
   ],
   "source": [
    "# Second Grid Search\n",
    "prediction_svm.find_best_parameters_for_model(pipeline, \n",
    "                                              daily_demand_train, \n",
    "                                              daily_demand_train_target, \n",
    "                                              model_params, \n",
    "                                              scoring='neg_mean_absolute_error',\n",
    "                                              verbose=10)"
   ]
  },
  {
   "cell_type": "code",
   "execution_count": 27,
   "metadata": {},
   "outputs": [
    {
     "data": {
      "text/plain": [
       "Pipeline(steps=[('preprocessor',\n",
       "                 ColumnTransformer(transformers=[('numerical scaler',\n",
       "                                                  Pipeline(steps=[('standard_scaler',\n",
       "                                                                   StandardScaler())]),\n",
       "                                                  ['Humidity(%)',\n",
       "                                                   'Pressure(hPa)',\n",
       "                                                   'Temperature(C)',\n",
       "                                                   'Wind Direction(Meteoro. '\n",
       "                                                   'Degree)',\n",
       "                                                   'Wind Speed(M/S)',\n",
       "                                                   'City Center Distance',\n",
       "                                                   'Airport Distance',\n",
       "                                                   'Elapsed']),\n",
       "                                                 ('one hot encoder',\n",
       "                                                  Pipeline(steps=[('one_hot_encoder',\n",
       "                                                                   OneHotEncoder(handle_unknown='ignore'))]),\n",
       "                                                  ['Pickup Community Area',\n",
       "                                                   'Holiday', 'Year', 'Month',\n",
       "                                                   'Day', 'Dayofweek',\n",
       "                                                   'Is_month_end',\n",
       "                                                   'Is_month_start',\n",
       "                                                   'Is_quarter_end',\n",
       "                                                   'Is_quarter_start',\n",
       "                                                   'Is_year_end',\n",
       "                                                   'Is_year_start', 'Dayofyear',\n",
       "                                                   'Week'])])),\n",
       "                ('svr model',\n",
       "                 SVR(C=0.5, coef0=256, degree=2, epsilon=0.5, gamma=0.5,\n",
       "                     kernel='poly'))])"
      ]
     },
     "execution_count": 27,
     "metadata": {},
     "output_type": "execute_result"
    }
   ],
   "source": [
    "# Train Model with fitted hyperparameters\n",
    "svr_tuned = SVR(kernel='poly', degree=2, C=0.5, gamma=0.5, epsilon=0.5, coef0=256)\n",
    "\n",
    "pipeline = prediction_svm.make_pipeline_for_svm(cat_vars, cont_vars, svr_tuned)\n",
    "\n",
    "pipeline"
   ]
  },
  {
   "cell_type": "code",
   "execution_count": 28,
   "metadata": {},
   "outputs": [],
   "source": [
    "svr_tuned_fitted = pipeline.fit(daily_demand_train, daily_demand_train_target)"
   ]
  },
  {
   "cell_type": "code",
   "execution_count": 29,
   "metadata": {},
   "outputs": [
    {
     "name": "stdout",
     "output_type": "stream",
     "text": [
      "-------MODEL SCORES-------\n",
      "MAPE:  43.844 %\n",
      "sMAPE:  35.071 %\n",
      "MAE:  197.255\n",
      "MSE:  602595.634\n",
      "RMSE:  776.270\n",
      "R2:  93.023 %\n",
      "Max Residual Error:  13669.722\n"
     ]
    }
   ],
   "source": [
    "# Model Scores\n",
    "y_pred = pipeline.predict(X_test)\n",
    "\n",
    "prediction_utils.get_prediction_scores(y_true=np.exp(daily_demand_test_target), \n",
    "                                       y_predicted=np.exp(y_pred), \n",
    "                                       s_mape=True,\n",
    "                                       prediction_type='svr')"
   ]
  },
  {
   "cell_type": "markdown",
   "metadata": {},
   "source": [
    "#### Adding Demand to visualize Prediction in the end\n",
    "---"
   ]
  },
  {
   "cell_type": "code",
   "execution_count": null,
   "metadata": {
    "scrolled": false
   },
   "outputs": [],
   "source": [
    "daily_demand_test['Demand (D)'] = np.exp(daily_demand_test['Demand (D)']).astype(int)\n",
    "daily_demand_test['Demand (D) Prediction'] = np.exp(y_pred).astype(int)\n",
    "daily_demand_test"
   ]
  },
  {
   "cell_type": "markdown",
   "metadata": {},
   "source": [
    "### Daily Model - Hex 7\n",
    "---"
   ]
  },
  {
   "cell_type": "code",
   "execution_count": 11,
   "metadata": {},
   "outputs": [],
   "source": [
    "#Log transformation\n",
    "daily_demand_hex_7['Demand (D)'] = np.log(daily_demand_hex_7['Demand (D)'])"
   ]
  },
  {
   "cell_type": "code",
   "execution_count": 12,
   "metadata": {},
   "outputs": [],
   "source": [
    "#Train - Validation - Test Split\n",
    "train_data, val_data, test_data = prediction_svm.split_data_sets_for_svm(daily_demand_hex_7, \n",
    "                                                                         temporal_resolution='D',\n",
    "                                                                         test_size=0.2, \n",
    "                                                                         validation_size=0.2)"
   ]
  },
  {
   "cell_type": "code",
   "execution_count": 13,
   "metadata": {},
   "outputs": [
    {
     "data": {
      "text/html": [
       "<div>\n",
       "<style scoped>\n",
       "    .dataframe tbody tr th:only-of-type {\n",
       "        vertical-align: middle;\n",
       "    }\n",
       "\n",
       "    .dataframe tbody tr th {\n",
       "        vertical-align: top;\n",
       "    }\n",
       "\n",
       "    .dataframe thead th {\n",
       "        text-align: right;\n",
       "    }\n",
       "</style>\n",
       "<table border=\"1\" class=\"dataframe\">\n",
       "  <thead>\n",
       "    <tr style=\"text-align: right;\">\n",
       "      <th></th>\n",
       "      <th>Demand (D)</th>\n",
       "      <th>Holiday_True</th>\n",
       "      <th>Holiday_False</th>\n",
       "      <th>Year_2015.0</th>\n",
       "      <th>Month_1.0</th>\n",
       "      <th>Month_2.0</th>\n",
       "      <th>Month_3.0</th>\n",
       "      <th>Month_4.0</th>\n",
       "      <th>Month_5.0</th>\n",
       "      <th>Month_6.0</th>\n",
       "      <th>...</th>\n",
       "      <th>hex_7_pickup_6.08661347831382e+17</th>\n",
       "      <th>hex_7_pickup_6.086613320104673e+17</th>\n",
       "      <th>Humidity(%)</th>\n",
       "      <th>Pressure(hPa)</th>\n",
       "      <th>Temperature(C)</th>\n",
       "      <th>Wind Direction(Meteoro. Degree)</th>\n",
       "      <th>Wind Speed(M/S)</th>\n",
       "      <th>City Center Distance</th>\n",
       "      <th>Airport Distance</th>\n",
       "      <th>Elapsed</th>\n",
       "    </tr>\n",
       "  </thead>\n",
       "  <tbody>\n",
       "    <tr>\n",
       "      <th>0</th>\n",
       "      <td>0.000000</td>\n",
       "      <td>1</td>\n",
       "      <td>0</td>\n",
       "      <td>1</td>\n",
       "      <td>1</td>\n",
       "      <td>0</td>\n",
       "      <td>0</td>\n",
       "      <td>0</td>\n",
       "      <td>0</td>\n",
       "      <td>0</td>\n",
       "      <td>...</td>\n",
       "      <td>0</td>\n",
       "      <td>0</td>\n",
       "      <td>1.48221</td>\n",
       "      <td>0.603976</td>\n",
       "      <td>-1.075427</td>\n",
       "      <td>0.827983</td>\n",
       "      <td>3.181182</td>\n",
       "      <td>2.659386</td>\n",
       "      <td>2.396822</td>\n",
       "      <td>-1.717593</td>\n",
       "    </tr>\n",
       "    <tr>\n",
       "      <th>1</th>\n",
       "      <td>0.693147</td>\n",
       "      <td>1</td>\n",
       "      <td>0</td>\n",
       "      <td>1</td>\n",
       "      <td>1</td>\n",
       "      <td>0</td>\n",
       "      <td>0</td>\n",
       "      <td>0</td>\n",
       "      <td>0</td>\n",
       "      <td>0</td>\n",
       "      <td>...</td>\n",
       "      <td>0</td>\n",
       "      <td>0</td>\n",
       "      <td>1.48221</td>\n",
       "      <td>0.603976</td>\n",
       "      <td>-1.075427</td>\n",
       "      <td>0.827983</td>\n",
       "      <td>3.181182</td>\n",
       "      <td>1.828555</td>\n",
       "      <td>1.870248</td>\n",
       "      <td>-1.717593</td>\n",
       "    </tr>\n",
       "    <tr>\n",
       "      <th>2</th>\n",
       "      <td>6.493754</td>\n",
       "      <td>1</td>\n",
       "      <td>0</td>\n",
       "      <td>1</td>\n",
       "      <td>1</td>\n",
       "      <td>0</td>\n",
       "      <td>0</td>\n",
       "      <td>0</td>\n",
       "      <td>0</td>\n",
       "      <td>0</td>\n",
       "      <td>...</td>\n",
       "      <td>0</td>\n",
       "      <td>0</td>\n",
       "      <td>1.48221</td>\n",
       "      <td>0.603976</td>\n",
       "      <td>-1.075427</td>\n",
       "      <td>0.827983</td>\n",
       "      <td>3.181182</td>\n",
       "      <td>0.790359</td>\n",
       "      <td>-0.357017</td>\n",
       "      <td>-1.717593</td>\n",
       "    </tr>\n",
       "    <tr>\n",
       "      <th>3</th>\n",
       "      <td>1.098612</td>\n",
       "      <td>1</td>\n",
       "      <td>0</td>\n",
       "      <td>1</td>\n",
       "      <td>1</td>\n",
       "      <td>0</td>\n",
       "      <td>0</td>\n",
       "      <td>0</td>\n",
       "      <td>0</td>\n",
       "      <td>0</td>\n",
       "      <td>...</td>\n",
       "      <td>0</td>\n",
       "      <td>0</td>\n",
       "      <td>1.48221</td>\n",
       "      <td>0.603976</td>\n",
       "      <td>-1.075427</td>\n",
       "      <td>0.827983</td>\n",
       "      <td>3.181182</td>\n",
       "      <td>0.762346</td>\n",
       "      <td>-0.093047</td>\n",
       "      <td>-1.717593</td>\n",
       "    </tr>\n",
       "    <tr>\n",
       "      <th>4</th>\n",
       "      <td>0.000000</td>\n",
       "      <td>1</td>\n",
       "      <td>0</td>\n",
       "      <td>1</td>\n",
       "      <td>1</td>\n",
       "      <td>0</td>\n",
       "      <td>0</td>\n",
       "      <td>0</td>\n",
       "      <td>0</td>\n",
       "      <td>0</td>\n",
       "      <td>...</td>\n",
       "      <td>0</td>\n",
       "      <td>0</td>\n",
       "      <td>1.48221</td>\n",
       "      <td>0.603976</td>\n",
       "      <td>-1.075427</td>\n",
       "      <td>0.827983</td>\n",
       "      <td>3.181182</td>\n",
       "      <td>0.808911</td>\n",
       "      <td>0.170834</td>\n",
       "      <td>-1.717593</td>\n",
       "    </tr>\n",
       "  </tbody>\n",
       "</table>\n",
       "<p>5 rows × 564 columns</p>\n",
       "</div>"
      ],
      "text/plain": [
       "   Demand (D) Holiday_True Holiday_False Year_2015.0 Month_1.0 Month_2.0  \\\n",
       "0    0.000000            1             0           1         1         0   \n",
       "1    0.693147            1             0           1         1         0   \n",
       "2    6.493754            1             0           1         1         0   \n",
       "3    1.098612            1             0           1         1         0   \n",
       "4    0.000000            1             0           1         1         0   \n",
       "\n",
       "  Month_3.0 Month_4.0 Month_5.0 Month_6.0  ...  \\\n",
       "0         0         0         0         0  ...   \n",
       "1         0         0         0         0  ...   \n",
       "2         0         0         0         0  ...   \n",
       "3         0         0         0         0  ...   \n",
       "4         0         0         0         0  ...   \n",
       "\n",
       "  hex_7_pickup_6.08661347831382e+17 hex_7_pickup_6.086613320104673e+17  \\\n",
       "0                                 0                                  0   \n",
       "1                                 0                                  0   \n",
       "2                                 0                                  0   \n",
       "3                                 0                                  0   \n",
       "4                                 0                                  0   \n",
       "\n",
       "  Humidity(%) Pressure(hPa) Temperature(C) Wind Direction(Meteoro. Degree)  \\\n",
       "0     1.48221      0.603976      -1.075427                        0.827983   \n",
       "1     1.48221      0.603976      -1.075427                        0.827983   \n",
       "2     1.48221      0.603976      -1.075427                        0.827983   \n",
       "3     1.48221      0.603976      -1.075427                        0.827983   \n",
       "4     1.48221      0.603976      -1.075427                        0.827983   \n",
       "\n",
       "  Wind Speed(M/S) City Center Distance Airport Distance   Elapsed  \n",
       "0        3.181182             2.659386         2.396822 -1.717593  \n",
       "1        3.181182             1.828555         1.870248 -1.717593  \n",
       "2        3.181182             0.790359        -0.357017 -1.717593  \n",
       "3        3.181182             0.762346        -0.093047 -1.717593  \n",
       "4        3.181182             0.808911         0.170834 -1.717593  \n",
       "\n",
       "[5 rows x 564 columns]"
      ]
     },
     "execution_count": 13,
     "metadata": {},
     "output_type": "execute_result"
    }
   ],
   "source": [
    "#Augmented data\n",
    "train_data.head(5)"
   ]
  },
  {
   "cell_type": "code",
   "execution_count": 14,
   "metadata": {
    "scrolled": true
   },
   "outputs": [
    {
     "name": "stdout",
     "output_type": "stream",
     "text": [
      "Continuous variables:\n",
      "['Demand (D)' 'Humidity(%)' 'Pressure(hPa)' 'Temperature(C)'\n",
      " 'Wind Direction(Meteoro. Degree)' 'Wind Speed(M/S)'\n",
      " 'City Center Distance' 'Airport Distance' 'Elapsed']\n",
      "\n",
      "Categorical variables:\n",
      "['Holiday_True' 'Holiday_False' 'Year_2015.0' 'Month_1.0' 'Month_2.0'\n",
      " 'Month_3.0' 'Month_4.0' 'Month_5.0' 'Month_6.0' 'Month_7.0' 'Month_8.0'\n",
      " 'Month_9.0' 'Month_10.0' 'Month_11.0' 'Month_12.0' 'Day_1.0' 'Day_2.0'\n",
      " 'Day_3.0' 'Day_4.0' 'Day_5.0' 'Day_6.0' 'Day_7.0' 'Day_8.0' 'Day_9.0'\n",
      " 'Day_10.0' 'Day_11.0' 'Day_12.0' 'Day_13.0' 'Day_14.0' 'Day_15.0'\n",
      " 'Day_16.0' 'Day_17.0' 'Day_18.0' 'Day_19.0' 'Day_20.0' 'Day_21.0'\n",
      " 'Day_22.0' 'Day_23.0' 'Day_24.0' 'Day_25.0' 'Day_26.0' 'Day_27.0'\n",
      " 'Day_28.0' 'Day_29.0' 'Day_30.0' 'Day_31.0' 'Dayofweek_3.0'\n",
      " 'Dayofweek_4.0' 'Dayofweek_5.0' 'Dayofweek_6.0' 'Dayofweek_0.0'\n",
      " 'Dayofweek_1.0' 'Dayofweek_2.0' 'Is_month_end_False' 'Is_month_end_True'\n",
      " 'Is_month_start_True' 'Is_month_start_False' 'Is_quarter_end_False'\n",
      " 'Is_quarter_end_True' 'Is_quarter_start_True' 'Is_quarter_start_False'\n",
      " 'Is_year_end_False' 'Is_year_end_True' 'Is_year_start_True'\n",
      " 'Is_year_start_False' 'Dayofyear_1.0' 'Dayofyear_2.0' 'Dayofyear_3.0'\n",
      " 'Dayofyear_4.0' 'Dayofyear_5.0' 'Dayofyear_6.0' 'Dayofyear_7.0'\n",
      " 'Dayofyear_8.0' 'Dayofyear_9.0' 'Dayofyear_10.0' 'Dayofyear_11.0'\n",
      " 'Dayofyear_12.0' 'Dayofyear_13.0' 'Dayofyear_14.0' 'Dayofyear_15.0'\n",
      " 'Dayofyear_16.0' 'Dayofyear_17.0' 'Dayofyear_18.0' 'Dayofyear_19.0'\n",
      " 'Dayofyear_20.0' 'Dayofyear_21.0' 'Dayofyear_22.0' 'Dayofyear_23.0'\n",
      " 'Dayofyear_24.0' 'Dayofyear_25.0' 'Dayofyear_26.0' 'Dayofyear_27.0'\n",
      " 'Dayofyear_28.0' 'Dayofyear_29.0' 'Dayofyear_30.0' 'Dayofyear_31.0'\n",
      " 'Dayofyear_32.0' 'Dayofyear_33.0' 'Dayofyear_34.0' 'Dayofyear_35.0'\n",
      " 'Dayofyear_36.0' 'Dayofyear_37.0' 'Dayofyear_38.0' 'Dayofyear_39.0'\n",
      " 'Dayofyear_40.0' 'Dayofyear_41.0' 'Dayofyear_42.0' 'Dayofyear_43.0'\n",
      " 'Dayofyear_44.0' 'Dayofyear_45.0' 'Dayofyear_46.0' 'Dayofyear_47.0'\n",
      " 'Dayofyear_48.0' 'Dayofyear_49.0' 'Dayofyear_50.0' 'Dayofyear_51.0'\n",
      " 'Dayofyear_52.0' 'Dayofyear_53.0' 'Dayofyear_54.0' 'Dayofyear_55.0'\n",
      " 'Dayofyear_56.0' 'Dayofyear_57.0' 'Dayofyear_58.0' 'Dayofyear_59.0'\n",
      " 'Dayofyear_60.0' 'Dayofyear_61.0' 'Dayofyear_62.0' 'Dayofyear_63.0'\n",
      " 'Dayofyear_64.0' 'Dayofyear_65.0' 'Dayofyear_66.0' 'Dayofyear_67.0'\n",
      " 'Dayofyear_68.0' 'Dayofyear_69.0' 'Dayofyear_70.0' 'Dayofyear_71.0'\n",
      " 'Dayofyear_72.0' 'Dayofyear_73.0' 'Dayofyear_74.0' 'Dayofyear_75.0'\n",
      " 'Dayofyear_76.0' 'Dayofyear_77.0' 'Dayofyear_78.0' 'Dayofyear_79.0'\n",
      " 'Dayofyear_80.0' 'Dayofyear_81.0' 'Dayofyear_82.0' 'Dayofyear_83.0'\n",
      " 'Dayofyear_84.0' 'Dayofyear_85.0' 'Dayofyear_86.0' 'Dayofyear_87.0'\n",
      " 'Dayofyear_88.0' 'Dayofyear_89.0' 'Dayofyear_90.0' 'Dayofyear_91.0'\n",
      " 'Dayofyear_92.0' 'Dayofyear_93.0' 'Dayofyear_94.0' 'Dayofyear_95.0'\n",
      " 'Dayofyear_96.0' 'Dayofyear_97.0' 'Dayofyear_98.0' 'Dayofyear_99.0'\n",
      " 'Dayofyear_100.0' 'Dayofyear_101.0' 'Dayofyear_102.0' 'Dayofyear_103.0'\n",
      " 'Dayofyear_104.0' 'Dayofyear_105.0' 'Dayofyear_106.0' 'Dayofyear_107.0'\n",
      " 'Dayofyear_108.0' 'Dayofyear_109.0' 'Dayofyear_110.0' 'Dayofyear_111.0'\n",
      " 'Dayofyear_112.0' 'Dayofyear_113.0' 'Dayofyear_114.0' 'Dayofyear_115.0'\n",
      " 'Dayofyear_116.0' 'Dayofyear_117.0' 'Dayofyear_118.0' 'Dayofyear_119.0'\n",
      " 'Dayofyear_120.0' 'Dayofyear_121.0' 'Dayofyear_122.0' 'Dayofyear_123.0'\n",
      " 'Dayofyear_124.0' 'Dayofyear_125.0' 'Dayofyear_126.0' 'Dayofyear_127.0'\n",
      " 'Dayofyear_128.0' 'Dayofyear_129.0' 'Dayofyear_130.0' 'Dayofyear_131.0'\n",
      " 'Dayofyear_132.0' 'Dayofyear_133.0' 'Dayofyear_134.0' 'Dayofyear_135.0'\n",
      " 'Dayofyear_136.0' 'Dayofyear_137.0' 'Dayofyear_138.0' 'Dayofyear_139.0'\n",
      " 'Dayofyear_140.0' 'Dayofyear_141.0' 'Dayofyear_142.0' 'Dayofyear_143.0'\n",
      " 'Dayofyear_144.0' 'Dayofyear_145.0' 'Dayofyear_146.0' 'Dayofyear_147.0'\n",
      " 'Dayofyear_148.0' 'Dayofyear_149.0' 'Dayofyear_150.0' 'Dayofyear_151.0'\n",
      " 'Dayofyear_152.0' 'Dayofyear_153.0' 'Dayofyear_154.0' 'Dayofyear_155.0'\n",
      " 'Dayofyear_156.0' 'Dayofyear_157.0' 'Dayofyear_158.0' 'Dayofyear_159.0'\n",
      " 'Dayofyear_160.0' 'Dayofyear_161.0' 'Dayofyear_162.0' 'Dayofyear_163.0'\n",
      " 'Dayofyear_164.0' 'Dayofyear_165.0' 'Dayofyear_166.0' 'Dayofyear_167.0'\n",
      " 'Dayofyear_168.0' 'Dayofyear_169.0' 'Dayofyear_170.0' 'Dayofyear_171.0'\n",
      " 'Dayofyear_172.0' 'Dayofyear_173.0' 'Dayofyear_174.0' 'Dayofyear_175.0'\n",
      " 'Dayofyear_176.0' 'Dayofyear_177.0' 'Dayofyear_178.0' 'Dayofyear_179.0'\n",
      " 'Dayofyear_180.0' 'Dayofyear_181.0' 'Dayofyear_182.0' 'Dayofyear_183.0'\n",
      " 'Dayofyear_184.0' 'Dayofyear_185.0' 'Dayofyear_186.0' 'Dayofyear_187.0'\n",
      " 'Dayofyear_188.0' 'Dayofyear_189.0' 'Dayofyear_190.0' 'Dayofyear_191.0'\n",
      " 'Dayofyear_192.0' 'Dayofyear_193.0' 'Dayofyear_194.0' 'Dayofyear_195.0'\n",
      " 'Dayofyear_196.0' 'Dayofyear_197.0' 'Dayofyear_198.0' 'Dayofyear_199.0'\n",
      " 'Dayofyear_200.0' 'Dayofyear_201.0' 'Dayofyear_202.0' 'Dayofyear_203.0'\n",
      " 'Dayofyear_204.0' 'Dayofyear_205.0' 'Dayofyear_206.0' 'Dayofyear_207.0'\n",
      " 'Dayofyear_208.0' 'Dayofyear_209.0' 'Dayofyear_210.0' 'Dayofyear_211.0'\n",
      " 'Dayofyear_212.0' 'Dayofyear_213.0' 'Dayofyear_214.0' 'Dayofyear_215.0'\n",
      " 'Dayofyear_216.0' 'Dayofyear_217.0' 'Dayofyear_218.0' 'Dayofyear_219.0'\n",
      " 'Dayofyear_220.0' 'Dayofyear_221.0' 'Dayofyear_222.0' 'Dayofyear_223.0'\n",
      " 'Dayofyear_224.0' 'Dayofyear_225.0' 'Dayofyear_226.0' 'Dayofyear_227.0'\n",
      " 'Dayofyear_228.0' 'Dayofyear_229.0' 'Dayofyear_230.0' 'Dayofyear_231.0'\n",
      " 'Dayofyear_232.0' 'Dayofyear_233.0' 'Dayofyear_234.0' 'Dayofyear_235.0'\n",
      " 'Dayofyear_236.0' 'Dayofyear_237.0' 'Dayofyear_238.0' 'Dayofyear_239.0'\n",
      " 'Dayofyear_240.0' 'Dayofyear_241.0' 'Dayofyear_242.0' 'Dayofyear_243.0'\n",
      " 'Dayofyear_244.0' 'Dayofyear_245.0' 'Dayofyear_246.0' 'Dayofyear_247.0'\n",
      " 'Dayofyear_248.0' 'Dayofyear_249.0' 'Dayofyear_250.0' 'Dayofyear_251.0'\n",
      " 'Dayofyear_252.0' 'Dayofyear_253.0' 'Dayofyear_254.0' 'Dayofyear_255.0'\n",
      " 'Dayofyear_256.0' 'Dayofyear_257.0' 'Dayofyear_258.0' 'Dayofyear_259.0'\n",
      " 'Dayofyear_260.0' 'Dayofyear_261.0' 'Dayofyear_262.0' 'Dayofyear_263.0'\n",
      " 'Dayofyear_264.0' 'Dayofyear_265.0' 'Dayofyear_266.0' 'Dayofyear_267.0'\n",
      " 'Dayofyear_268.0' 'Dayofyear_269.0' 'Dayofyear_270.0' 'Dayofyear_271.0'\n",
      " 'Dayofyear_272.0' 'Dayofyear_273.0' 'Dayofyear_274.0' 'Dayofyear_275.0'\n",
      " 'Dayofyear_276.0' 'Dayofyear_277.0' 'Dayofyear_278.0' 'Dayofyear_279.0'\n",
      " 'Dayofyear_280.0' 'Dayofyear_281.0' 'Dayofyear_282.0' 'Dayofyear_283.0'\n",
      " 'Dayofyear_284.0' 'Dayofyear_285.0' 'Dayofyear_286.0' 'Dayofyear_287.0'\n",
      " 'Dayofyear_288.0' 'Dayofyear_289.0' 'Dayofyear_290.0' 'Dayofyear_291.0'\n",
      " 'Dayofyear_292.0' 'Dayofyear_293.0' 'Dayofyear_294.0' 'Dayofyear_295.0'\n",
      " 'Dayofyear_296.0' 'Dayofyear_297.0' 'Dayofyear_298.0' 'Dayofyear_299.0'\n",
      " 'Dayofyear_300.0' 'Dayofyear_301.0' 'Dayofyear_302.0' 'Dayofyear_303.0'\n",
      " 'Dayofyear_304.0' 'Dayofyear_305.0' 'Dayofyear_306.0' 'Dayofyear_307.0'\n",
      " 'Dayofyear_308.0' 'Dayofyear_309.0' 'Dayofyear_310.0' 'Dayofyear_311.0'\n",
      " 'Dayofyear_312.0' 'Dayofyear_313.0' 'Dayofyear_314.0' 'Dayofyear_315.0'\n",
      " 'Dayofyear_316.0' 'Dayofyear_317.0' 'Dayofyear_318.0' 'Dayofyear_319.0'\n",
      " 'Dayofyear_320.0' 'Dayofyear_321.0' 'Dayofyear_322.0' 'Dayofyear_323.0'\n",
      " 'Dayofyear_324.0' 'Dayofyear_325.0' 'Dayofyear_326.0' 'Dayofyear_327.0'\n",
      " 'Dayofyear_328.0' 'Dayofyear_329.0' 'Dayofyear_330.0' 'Dayofyear_331.0'\n",
      " 'Dayofyear_332.0' 'Dayofyear_333.0' 'Dayofyear_334.0' 'Dayofyear_335.0'\n",
      " 'Dayofyear_336.0' 'Dayofyear_337.0' 'Dayofyear_338.0' 'Dayofyear_339.0'\n",
      " 'Dayofyear_340.0' 'Dayofyear_341.0' 'Dayofyear_342.0' 'Dayofyear_343.0'\n",
      " 'Dayofyear_344.0' 'Dayofyear_345.0' 'Dayofyear_346.0' 'Dayofyear_347.0'\n",
      " 'Dayofyear_348.0' 'Dayofyear_349.0' 'Dayofyear_350.0' 'Dayofyear_351.0'\n",
      " 'Dayofyear_352.0' 'Dayofyear_353.0' 'Dayofyear_354.0' 'Dayofyear_355.0'\n",
      " 'Dayofyear_356.0' 'Dayofyear_357.0' 'Dayofyear_358.0' 'Dayofyear_359.0'\n",
      " 'Dayofyear_360.0' 'Dayofyear_361.0' 'Dayofyear_362.0' 'Dayofyear_363.0'\n",
      " 'Dayofyear_364.0' 'Dayofyear_365.0' 'Week_1.0' 'Week_2.0' 'Week_3.0'\n",
      " 'Week_4.0' 'Week_5.0' 'Week_6.0' 'Week_7.0' 'Week_8.0' 'Week_9.0'\n",
      " 'Week_10.0' 'Week_11.0' 'Week_12.0' 'Week_13.0' 'Week_14.0' 'Week_15.0'\n",
      " 'Week_16.0' 'Week_17.0' 'Week_18.0' 'Week_19.0' 'Week_20.0' 'Week_21.0'\n",
      " 'Week_22.0' 'Week_23.0' 'Week_24.0' 'Week_25.0' 'Week_26.0' 'Week_27.0'\n",
      " 'Week_28.0' 'Week_29.0' 'Week_30.0' 'Week_31.0' 'Week_32.0' 'Week_33.0'\n",
      " 'Week_34.0' 'Week_35.0' 'Week_36.0' 'Week_37.0' 'Week_38.0' 'Week_39.0'\n",
      " 'Week_40.0' 'Week_41.0' 'Week_42.0' 'Week_43.0' 'Week_44.0' 'Week_45.0'\n",
      " 'Week_46.0' 'Week_47.0' 'Week_48.0' 'Week_49.0' 'Week_50.0' 'Week_51.0'\n",
      " 'Week_52.0' 'Week_53.0' 'hex_7_pickup_6.086613314568192e+17'\n",
      " 'hex_7_pickup_6.086613315407053e+17' 'hex_7_pickup_6.08661346740863e+17'\n",
      " 'hex_7_pickup_6.086613467576402e+17' 'hex_7_pickup_6.086613469421896e+17'\n",
      " 'hex_7_pickup_6.086613469589668e+17' 'hex_7_pickup_6.086613478146048e+17'\n",
      " 'hex_7_pickup_6.086613478481592e+17' 'hex_7_pickup_6.086613478817137e+17'\n",
      " 'hex_7_pickup_6.086613765875302e+17' 'hex_7_pickup_6.086613766378619e+17'\n",
      " 'hex_7_pickup_6.086613767049708e+17' 'hex_7_pickup_6.08661376721748e+17'\n",
      " 'hex_7_pickup_6.086613767720796e+17' 'hex_7_pickup_6.086613784162468e+17'\n",
      " 'hex_7_pickup_6.08661378433024e+17' 'hex_7_pickup_6.086613786175734e+17'\n",
      " 'hex_7_pickup_6.086613786343506e+17' 'hex_7_pickup_6.086613789531177e+17'\n",
      " 'hex_7_pickup_6.086613789698949e+17' 'hex_7_pickup_6.086613790034493e+17'\n",
      " 'hex_7_pickup_6.086613790202266e+17' 'hex_7_pickup_6.086613790370038e+17'\n",
      " 'hex_7_pickup_6.086613791041126e+17' 'hex_7_pickup_6.086613791208899e+17'\n",
      " 'hex_7_pickup_6.086613791544443e+17' 'hex_7_pickup_6.086613791879987e+17'\n",
      " 'hex_7_pickup_6.086613792215532e+17' 'hex_7_pickup_6.086613792383304e+17'\n",
      " 'hex_7_pickup_6.086613792718848e+17' 'hex_7_pickup_6.086613793054392e+17'\n",
      " 'hex_7_pickup_6.086613794899886e+17' 'hex_7_pickup_6.08661379523543e+17'\n",
      " 'hex_7_pickup_6.086613795403203e+17' 'hex_7_pickup_6.086613795738747e+17'\n",
      " 'hex_7_pickup_6.086613796913152e+17' 'hex_7_pickup_6.086613797080924e+17'\n",
      " 'hex_7_pickup_6.086613797248696e+17' 'hex_7_pickup_6.08661379758424e+17'\n",
      " 'hex_7_pickup_6.086613797752013e+17' 'hex_7_pickup_6.086613797919785e+17'\n",
      " 'hex_7_pickup_6.086613798087557e+17' 'hex_7_pickup_6.086613798255329e+17'\n",
      " 'hex_7_pickup_6.086613798590874e+17' 'hex_7_pickup_6.086613798926418e+17'\n",
      " 'hex_7_pickup_6.08661379909419e+17' 'hex_7_pickup_6.086613799429734e+17'\n",
      " 'hex_7_pickup_6.08661380060414e+17' 'hex_7_pickup_6.086613800771912e+17'\n",
      " 'hex_7_pickup_6.086613801946317e+17' 'hex_7_pickup_6.08661380295295e+17'\n",
      " 'hex_7_pickup_6.086613803120722e+17' 'hex_7_pickup_6.086613803288494e+17'\n",
      " 'hex_7_pickup_6.086613803456266e+17' 'hex_7_pickup_6.08661380379181e+17'\n",
      " 'hex_7_pickup_6.086613803959583e+17' 'hex_7_pickup_6.086613828454318e+17'\n",
      " 'hex_7_pickup_6.08661382862209e+17' 'hex_7_pickup_6.086613828789862e+17'\n",
      " 'hex_7_pickup_6.086613829125407e+17' 'hex_7_pickup_6.086613829460951e+17'\n",
      " 'hex_7_pickup_6.086613831138673e+17' 'hex_7_pickup_6.086613831306445e+17'\n",
      " 'hex_7_pickup_6.086613831641989e+17' 'hex_7_pickup_6.086781751944806e+17'\n",
      " 'hex_7_pickup_6.086781756474655e+17' 'hex_7_pickup_6.086781757145743e+17'\n",
      " 'hex_7_pickup_6.086613480830403e+17' 'hex_7_pickup_6.086613796242063e+17'\n",
      " 'hex_7_pickup_6.08661379674538e+17' 'hex_7_pickup_6.08661347831382e+17'\n",
      " 'hex_7_pickup_6.086613320104673e+17']\n"
     ]
    }
   ],
   "source": [
    "#Categorical and Continuous Variables\n",
    "print('Continuous variables:')\n",
    "print(train_data.select_dtypes(include=\"number\").columns.values)\n",
    "print('\\nCategorical variables:')\n",
    "print(train_data.select_dtypes(include=\"category\").columns.values)"
   ]
  },
  {
   "cell_type": "code",
   "execution_count": 15,
   "metadata": {
    "scrolled": true
   },
   "outputs": [
    {
     "name": "stdout",
     "output_type": "stream",
     "text": [
      "-------MODEL SCORES-------\n",
      "MAPE:  755.225 %\n",
      "MAE:  464.766\n",
      "MSE:  2548741.056\n",
      "RMSE:  1596.478\n",
      "R2:  70.031 %\n",
      "Max Residual Error:  16240.426\n"
     ]
    }
   ],
   "source": [
    "prediction_svm.prediction_svm(train_data=train_data, test_data=test_data, target='Demand (D)', s_mape=False)"
   ]
  },
  {
   "cell_type": "markdown",
   "metadata": {},
   "source": [
    "### Daily Model - Hex 6\n",
    "---"
   ]
  },
  {
   "cell_type": "code",
   "execution_count": 16,
   "metadata": {},
   "outputs": [],
   "source": [
    "#Log transformation\n",
    "daily_demand_hex_6['Demand (D)'] = np.log(daily_demand_hex_6['Demand (D)'])"
   ]
  },
  {
   "cell_type": "code",
   "execution_count": 17,
   "metadata": {},
   "outputs": [],
   "source": [
    "#Train - Validation - Test Split\n",
    "train_data, val_data, test_data = prediction_svm.split_data_sets_for_svm(daily_demand_hex_6, \n",
    "                                                                         temporal_resolution='D',\n",
    "                                                                         test_size=0.2, \n",
    "                                                                         validation_size=0.2)"
   ]
  },
  {
   "cell_type": "code",
   "execution_count": 18,
   "metadata": {},
   "outputs": [
    {
     "data": {
      "text/html": [
       "<div>\n",
       "<style scoped>\n",
       "    .dataframe tbody tr th:only-of-type {\n",
       "        vertical-align: middle;\n",
       "    }\n",
       "\n",
       "    .dataframe tbody tr th {\n",
       "        vertical-align: top;\n",
       "    }\n",
       "\n",
       "    .dataframe thead th {\n",
       "        text-align: right;\n",
       "    }\n",
       "</style>\n",
       "<table border=\"1\" class=\"dataframe\">\n",
       "  <thead>\n",
       "    <tr style=\"text-align: right;\">\n",
       "      <th></th>\n",
       "      <th>Demand (D)</th>\n",
       "      <th>hex_6_pickup_6.04157731930112e+17</th>\n",
       "      <th>hex_6_pickup_6.04157747230933e+17</th>\n",
       "      <th>hex_6_pickup_6.041577473651507e+17</th>\n",
       "      <th>hex_6_pickup_6.041577483046748e+17</th>\n",
       "      <th>hex_6_pickup_6.041577770272686e+17</th>\n",
       "      <th>hex_6_pickup_6.041577771614863e+17</th>\n",
       "      <th>hex_6_pickup_6.041577789063168e+17</th>\n",
       "      <th>hex_6_pickup_6.041577790405345e+17</th>\n",
       "      <th>hex_6_pickup_6.041577794431877e+17</th>\n",
       "      <th>...</th>\n",
       "      <th>Week_52.0</th>\n",
       "      <th>Week_53.0</th>\n",
       "      <th>Humidity(%)</th>\n",
       "      <th>Pressure(hPa)</th>\n",
       "      <th>Temperature(C)</th>\n",
       "      <th>Wind Direction(Meteoro. Degree)</th>\n",
       "      <th>Wind Speed(M/S)</th>\n",
       "      <th>City Center Distance</th>\n",
       "      <th>Airport Distance</th>\n",
       "      <th>Elapsed</th>\n",
       "    </tr>\n",
       "  </thead>\n",
       "  <tbody>\n",
       "    <tr>\n",
       "      <th>0</th>\n",
       "      <td>1.098612</td>\n",
       "      <td>0</td>\n",
       "      <td>0</td>\n",
       "      <td>0</td>\n",
       "      <td>0</td>\n",
       "      <td>0</td>\n",
       "      <td>0</td>\n",
       "      <td>0</td>\n",
       "      <td>0</td>\n",
       "      <td>0</td>\n",
       "      <td>...</td>\n",
       "      <td>0</td>\n",
       "      <td>0</td>\n",
       "      <td>1.482011</td>\n",
       "      <td>0.610523</td>\n",
       "      <td>-1.082441</td>\n",
       "      <td>0.832682</td>\n",
       "      <td>3.185224</td>\n",
       "      <td>2.043638</td>\n",
       "      <td>1.970379</td>\n",
       "      <td>-1.721428</td>\n",
       "    </tr>\n",
       "    <tr>\n",
       "      <th>1</th>\n",
       "      <td>1.098612</td>\n",
       "      <td>0</td>\n",
       "      <td>0</td>\n",
       "      <td>0</td>\n",
       "      <td>0</td>\n",
       "      <td>0</td>\n",
       "      <td>0</td>\n",
       "      <td>0</td>\n",
       "      <td>0</td>\n",
       "      <td>0</td>\n",
       "      <td>...</td>\n",
       "      <td>0</td>\n",
       "      <td>0</td>\n",
       "      <td>1.482011</td>\n",
       "      <td>0.610523</td>\n",
       "      <td>-1.082441</td>\n",
       "      <td>0.832682</td>\n",
       "      <td>3.185224</td>\n",
       "      <td>2.043638</td>\n",
       "      <td>1.970379</td>\n",
       "      <td>-1.721428</td>\n",
       "    </tr>\n",
       "    <tr>\n",
       "      <th>2</th>\n",
       "      <td>6.498282</td>\n",
       "      <td>0</td>\n",
       "      <td>0</td>\n",
       "      <td>0</td>\n",
       "      <td>0</td>\n",
       "      <td>0</td>\n",
       "      <td>0</td>\n",
       "      <td>0</td>\n",
       "      <td>0</td>\n",
       "      <td>0</td>\n",
       "      <td>...</td>\n",
       "      <td>0</td>\n",
       "      <td>0</td>\n",
       "      <td>1.482011</td>\n",
       "      <td>0.610523</td>\n",
       "      <td>-1.082441</td>\n",
       "      <td>0.832682</td>\n",
       "      <td>3.185224</td>\n",
       "      <td>0.670123</td>\n",
       "      <td>-0.390189</td>\n",
       "      <td>-1.721428</td>\n",
       "    </tr>\n",
       "    <tr>\n",
       "      <th>3</th>\n",
       "      <td>6.498282</td>\n",
       "      <td>0</td>\n",
       "      <td>0</td>\n",
       "      <td>0</td>\n",
       "      <td>0</td>\n",
       "      <td>0</td>\n",
       "      <td>0</td>\n",
       "      <td>0</td>\n",
       "      <td>0</td>\n",
       "      <td>0</td>\n",
       "      <td>...</td>\n",
       "      <td>0</td>\n",
       "      <td>0</td>\n",
       "      <td>1.482011</td>\n",
       "      <td>0.610523</td>\n",
       "      <td>-1.082441</td>\n",
       "      <td>0.832682</td>\n",
       "      <td>3.185224</td>\n",
       "      <td>0.670123</td>\n",
       "      <td>-0.390189</td>\n",
       "      <td>-1.721428</td>\n",
       "    </tr>\n",
       "    <tr>\n",
       "      <th>4</th>\n",
       "      <td>1.386294</td>\n",
       "      <td>0</td>\n",
       "      <td>0</td>\n",
       "      <td>0</td>\n",
       "      <td>0</td>\n",
       "      <td>0</td>\n",
       "      <td>0</td>\n",
       "      <td>0</td>\n",
       "      <td>0</td>\n",
       "      <td>0</td>\n",
       "      <td>...</td>\n",
       "      <td>0</td>\n",
       "      <td>0</td>\n",
       "      <td>1.482011</td>\n",
       "      <td>0.610523</td>\n",
       "      <td>-1.082441</td>\n",
       "      <td>0.832682</td>\n",
       "      <td>3.185224</td>\n",
       "      <td>1.103893</td>\n",
       "      <td>0.179528</td>\n",
       "      <td>-1.721428</td>\n",
       "    </tr>\n",
       "  </tbody>\n",
       "</table>\n",
       "<p>5 rows × 517 columns</p>\n",
       "</div>"
      ],
      "text/plain": [
       "   Demand (D) hex_6_pickup_6.04157731930112e+17  \\\n",
       "0    1.098612                                 0   \n",
       "1    1.098612                                 0   \n",
       "2    6.498282                                 0   \n",
       "3    6.498282                                 0   \n",
       "4    1.386294                                 0   \n",
       "\n",
       "  hex_6_pickup_6.04157747230933e+17 hex_6_pickup_6.041577473651507e+17  \\\n",
       "0                                 0                                  0   \n",
       "1                                 0                                  0   \n",
       "2                                 0                                  0   \n",
       "3                                 0                                  0   \n",
       "4                                 0                                  0   \n",
       "\n",
       "  hex_6_pickup_6.041577483046748e+17 hex_6_pickup_6.041577770272686e+17  \\\n",
       "0                                  0                                  0   \n",
       "1                                  0                                  0   \n",
       "2                                  0                                  0   \n",
       "3                                  0                                  0   \n",
       "4                                  0                                  0   \n",
       "\n",
       "  hex_6_pickup_6.041577771614863e+17 hex_6_pickup_6.041577789063168e+17  \\\n",
       "0                                  0                                  0   \n",
       "1                                  0                                  0   \n",
       "2                                  0                                  0   \n",
       "3                                  0                                  0   \n",
       "4                                  0                                  0   \n",
       "\n",
       "  hex_6_pickup_6.041577790405345e+17 hex_6_pickup_6.041577794431877e+17  ...  \\\n",
       "0                                  0                                  0  ...   \n",
       "1                                  0                                  0  ...   \n",
       "2                                  0                                  0  ...   \n",
       "3                                  0                                  0  ...   \n",
       "4                                  0                                  0  ...   \n",
       "\n",
       "  Week_52.0 Week_53.0 Humidity(%) Pressure(hPa) Temperature(C)  \\\n",
       "0         0         0    1.482011      0.610523      -1.082441   \n",
       "1         0         0    1.482011      0.610523      -1.082441   \n",
       "2         0         0    1.482011      0.610523      -1.082441   \n",
       "3         0         0    1.482011      0.610523      -1.082441   \n",
       "4         0         0    1.482011      0.610523      -1.082441   \n",
       "\n",
       "  Wind Direction(Meteoro. Degree) Wind Speed(M/S) City Center Distance  \\\n",
       "0                        0.832682        3.185224             2.043638   \n",
       "1                        0.832682        3.185224             2.043638   \n",
       "2                        0.832682        3.185224             0.670123   \n",
       "3                        0.832682        3.185224             0.670123   \n",
       "4                        0.832682        3.185224             1.103893   \n",
       "\n",
       "  Airport Distance   Elapsed  \n",
       "0         1.970379 -1.721428  \n",
       "1         1.970379 -1.721428  \n",
       "2        -0.390189 -1.721428  \n",
       "3        -0.390189 -1.721428  \n",
       "4         0.179528 -1.721428  \n",
       "\n",
       "[5 rows x 517 columns]"
      ]
     },
     "execution_count": 18,
     "metadata": {},
     "output_type": "execute_result"
    }
   ],
   "source": [
    "#Augmented data\n",
    "train_data.head(5)"
   ]
  },
  {
   "cell_type": "code",
   "execution_count": 19,
   "metadata": {
    "scrolled": true
   },
   "outputs": [
    {
     "name": "stdout",
     "output_type": "stream",
     "text": [
      "Continuous variables:\n",
      "['Demand (D)' 'Humidity(%)' 'Pressure(hPa)' 'Temperature(C)'\n",
      " 'Wind Direction(Meteoro. Degree)' 'Wind Speed(M/S)'\n",
      " 'City Center Distance' 'Airport Distance' 'Elapsed']\n",
      "\n",
      "Categorical variables:\n",
      "['hex_6_pickup_6.04157731930112e+17' 'hex_6_pickup_6.04157747230933e+17'\n",
      " 'hex_6_pickup_6.041577473651507e+17' 'hex_6_pickup_6.041577483046748e+17'\n",
      " 'hex_6_pickup_6.041577770272686e+17' 'hex_6_pickup_6.041577771614863e+17'\n",
      " 'hex_6_pickup_6.041577789063168e+17' 'hex_6_pickup_6.041577790405345e+17'\n",
      " 'hex_6_pickup_6.041577794431877e+17' 'hex_6_pickup_6.041577795774054e+17'\n",
      " 'hex_6_pickup_6.041577797116232e+17' 'hex_6_pickup_6.041577799800586e+17'\n",
      " 'hex_6_pickup_6.041577801142764e+17' 'hex_6_pickup_6.041577802484941e+17'\n",
      " 'hex_6_pickup_6.041577803827118e+17' 'hex_6_pickup_6.041577805169295e+17'\n",
      " 'hex_6_pickup_6.041577806511473e+17' 'hex_6_pickup_6.04157780785365e+17'\n",
      " 'hex_6_pickup_6.041577833355018e+17' 'hex_6_pickup_6.041577836039373e+17'\n",
      " 'hex_6_pickup_6.041745755838874e+17' 'hex_6_pickup_6.041745761207583e+17'\n",
      " 'hex_6_pickup_6.041577485731103e+17' 'hex_6_pickup_6.041577484388925e+17'\n",
      " 'hex_6_pickup_6.041577324669829e+17' 'Holiday_True' 'Holiday_False'\n",
      " 'Year_2015.0' 'Month_1.0' 'Month_2.0' 'Month_3.0' 'Month_4.0' 'Month_5.0'\n",
      " 'Month_6.0' 'Month_7.0' 'Month_8.0' 'Month_9.0' 'Month_10.0' 'Month_11.0'\n",
      " 'Month_12.0' 'Day_1.0' 'Day_2.0' 'Day_3.0' 'Day_4.0' 'Day_5.0' 'Day_6.0'\n",
      " 'Day_7.0' 'Day_8.0' 'Day_9.0' 'Day_10.0' 'Day_11.0' 'Day_12.0' 'Day_13.0'\n",
      " 'Day_14.0' 'Day_15.0' 'Day_16.0' 'Day_17.0' 'Day_18.0' 'Day_19.0'\n",
      " 'Day_20.0' 'Day_21.0' 'Day_22.0' 'Day_23.0' 'Day_24.0' 'Day_25.0'\n",
      " 'Day_26.0' 'Day_27.0' 'Day_28.0' 'Day_29.0' 'Day_30.0' 'Day_31.0'\n",
      " 'Dayofweek_3.0' 'Dayofweek_4.0' 'Dayofweek_5.0' 'Dayofweek_6.0'\n",
      " 'Dayofweek_0.0' 'Dayofweek_1.0' 'Dayofweek_2.0' 'Is_month_end_False'\n",
      " 'Is_month_end_True' 'Is_month_start_True' 'Is_month_start_False'\n",
      " 'Is_quarter_end_False' 'Is_quarter_end_True' 'Is_quarter_start_True'\n",
      " 'Is_quarter_start_False' 'Is_year_end_False' 'Is_year_end_True'\n",
      " 'Is_year_start_True' 'Is_year_start_False' 'Dayofyear_1.0'\n",
      " 'Dayofyear_2.0' 'Dayofyear_3.0' 'Dayofyear_4.0' 'Dayofyear_5.0'\n",
      " 'Dayofyear_6.0' 'Dayofyear_7.0' 'Dayofyear_8.0' 'Dayofyear_9.0'\n",
      " 'Dayofyear_10.0' 'Dayofyear_11.0' 'Dayofyear_12.0' 'Dayofyear_13.0'\n",
      " 'Dayofyear_14.0' 'Dayofyear_15.0' 'Dayofyear_16.0' 'Dayofyear_17.0'\n",
      " 'Dayofyear_18.0' 'Dayofyear_19.0' 'Dayofyear_20.0' 'Dayofyear_21.0'\n",
      " 'Dayofyear_22.0' 'Dayofyear_23.0' 'Dayofyear_24.0' 'Dayofyear_25.0'\n",
      " 'Dayofyear_26.0' 'Dayofyear_27.0' 'Dayofyear_28.0' 'Dayofyear_29.0'\n",
      " 'Dayofyear_30.0' 'Dayofyear_31.0' 'Dayofyear_32.0' 'Dayofyear_33.0'\n",
      " 'Dayofyear_34.0' 'Dayofyear_35.0' 'Dayofyear_36.0' 'Dayofyear_37.0'\n",
      " 'Dayofyear_38.0' 'Dayofyear_39.0' 'Dayofyear_40.0' 'Dayofyear_41.0'\n",
      " 'Dayofyear_42.0' 'Dayofyear_43.0' 'Dayofyear_44.0' 'Dayofyear_45.0'\n",
      " 'Dayofyear_46.0' 'Dayofyear_47.0' 'Dayofyear_48.0' 'Dayofyear_49.0'\n",
      " 'Dayofyear_50.0' 'Dayofyear_51.0' 'Dayofyear_52.0' 'Dayofyear_53.0'\n",
      " 'Dayofyear_54.0' 'Dayofyear_55.0' 'Dayofyear_56.0' 'Dayofyear_57.0'\n",
      " 'Dayofyear_58.0' 'Dayofyear_59.0' 'Dayofyear_60.0' 'Dayofyear_61.0'\n",
      " 'Dayofyear_62.0' 'Dayofyear_63.0' 'Dayofyear_64.0' 'Dayofyear_65.0'\n",
      " 'Dayofyear_66.0' 'Dayofyear_67.0' 'Dayofyear_68.0' 'Dayofyear_69.0'\n",
      " 'Dayofyear_70.0' 'Dayofyear_71.0' 'Dayofyear_72.0' 'Dayofyear_73.0'\n",
      " 'Dayofyear_74.0' 'Dayofyear_75.0' 'Dayofyear_76.0' 'Dayofyear_77.0'\n",
      " 'Dayofyear_78.0' 'Dayofyear_79.0' 'Dayofyear_80.0' 'Dayofyear_81.0'\n",
      " 'Dayofyear_82.0' 'Dayofyear_83.0' 'Dayofyear_84.0' 'Dayofyear_85.0'\n",
      " 'Dayofyear_86.0' 'Dayofyear_87.0' 'Dayofyear_88.0' 'Dayofyear_89.0'\n",
      " 'Dayofyear_90.0' 'Dayofyear_91.0' 'Dayofyear_92.0' 'Dayofyear_93.0'\n",
      " 'Dayofyear_94.0' 'Dayofyear_95.0' 'Dayofyear_96.0' 'Dayofyear_97.0'\n",
      " 'Dayofyear_98.0' 'Dayofyear_99.0' 'Dayofyear_100.0' 'Dayofyear_101.0'\n",
      " 'Dayofyear_102.0' 'Dayofyear_103.0' 'Dayofyear_104.0' 'Dayofyear_105.0'\n",
      " 'Dayofyear_106.0' 'Dayofyear_107.0' 'Dayofyear_108.0' 'Dayofyear_109.0'\n",
      " 'Dayofyear_110.0' 'Dayofyear_111.0' 'Dayofyear_112.0' 'Dayofyear_113.0'\n",
      " 'Dayofyear_114.0' 'Dayofyear_115.0' 'Dayofyear_116.0' 'Dayofyear_117.0'\n",
      " 'Dayofyear_118.0' 'Dayofyear_119.0' 'Dayofyear_120.0' 'Dayofyear_121.0'\n",
      " 'Dayofyear_122.0' 'Dayofyear_123.0' 'Dayofyear_124.0' 'Dayofyear_125.0'\n",
      " 'Dayofyear_126.0' 'Dayofyear_127.0' 'Dayofyear_128.0' 'Dayofyear_129.0'\n",
      " 'Dayofyear_130.0' 'Dayofyear_131.0' 'Dayofyear_132.0' 'Dayofyear_133.0'\n",
      " 'Dayofyear_134.0' 'Dayofyear_135.0' 'Dayofyear_136.0' 'Dayofyear_137.0'\n",
      " 'Dayofyear_138.0' 'Dayofyear_139.0' 'Dayofyear_140.0' 'Dayofyear_141.0'\n",
      " 'Dayofyear_142.0' 'Dayofyear_143.0' 'Dayofyear_144.0' 'Dayofyear_145.0'\n",
      " 'Dayofyear_146.0' 'Dayofyear_147.0' 'Dayofyear_148.0' 'Dayofyear_149.0'\n",
      " 'Dayofyear_150.0' 'Dayofyear_151.0' 'Dayofyear_152.0' 'Dayofyear_153.0'\n",
      " 'Dayofyear_154.0' 'Dayofyear_155.0' 'Dayofyear_156.0' 'Dayofyear_157.0'\n",
      " 'Dayofyear_158.0' 'Dayofyear_159.0' 'Dayofyear_160.0' 'Dayofyear_161.0'\n",
      " 'Dayofyear_162.0' 'Dayofyear_163.0' 'Dayofyear_164.0' 'Dayofyear_165.0'\n",
      " 'Dayofyear_166.0' 'Dayofyear_167.0' 'Dayofyear_168.0' 'Dayofyear_169.0'\n",
      " 'Dayofyear_170.0' 'Dayofyear_171.0' 'Dayofyear_172.0' 'Dayofyear_173.0'\n",
      " 'Dayofyear_174.0' 'Dayofyear_175.0' 'Dayofyear_176.0' 'Dayofyear_177.0'\n",
      " 'Dayofyear_178.0' 'Dayofyear_179.0' 'Dayofyear_180.0' 'Dayofyear_181.0'\n",
      " 'Dayofyear_182.0' 'Dayofyear_183.0' 'Dayofyear_184.0' 'Dayofyear_185.0'\n",
      " 'Dayofyear_186.0' 'Dayofyear_187.0' 'Dayofyear_188.0' 'Dayofyear_189.0'\n",
      " 'Dayofyear_190.0' 'Dayofyear_191.0' 'Dayofyear_192.0' 'Dayofyear_193.0'\n",
      " 'Dayofyear_194.0' 'Dayofyear_195.0' 'Dayofyear_196.0' 'Dayofyear_197.0'\n",
      " 'Dayofyear_198.0' 'Dayofyear_199.0' 'Dayofyear_200.0' 'Dayofyear_201.0'\n",
      " 'Dayofyear_202.0' 'Dayofyear_203.0' 'Dayofyear_204.0' 'Dayofyear_205.0'\n",
      " 'Dayofyear_206.0' 'Dayofyear_207.0' 'Dayofyear_208.0' 'Dayofyear_209.0'\n",
      " 'Dayofyear_210.0' 'Dayofyear_211.0' 'Dayofyear_212.0' 'Dayofyear_213.0'\n",
      " 'Dayofyear_214.0' 'Dayofyear_215.0' 'Dayofyear_216.0' 'Dayofyear_217.0'\n",
      " 'Dayofyear_218.0' 'Dayofyear_219.0' 'Dayofyear_220.0' 'Dayofyear_221.0'\n",
      " 'Dayofyear_222.0' 'Dayofyear_223.0' 'Dayofyear_224.0' 'Dayofyear_225.0'\n",
      " 'Dayofyear_226.0' 'Dayofyear_227.0' 'Dayofyear_228.0' 'Dayofyear_229.0'\n",
      " 'Dayofyear_230.0' 'Dayofyear_231.0' 'Dayofyear_232.0' 'Dayofyear_233.0'\n",
      " 'Dayofyear_234.0' 'Dayofyear_235.0' 'Dayofyear_236.0' 'Dayofyear_237.0'\n",
      " 'Dayofyear_238.0' 'Dayofyear_239.0' 'Dayofyear_240.0' 'Dayofyear_241.0'\n",
      " 'Dayofyear_242.0' 'Dayofyear_243.0' 'Dayofyear_244.0' 'Dayofyear_245.0'\n",
      " 'Dayofyear_246.0' 'Dayofyear_247.0' 'Dayofyear_248.0' 'Dayofyear_249.0'\n",
      " 'Dayofyear_250.0' 'Dayofyear_251.0' 'Dayofyear_252.0' 'Dayofyear_253.0'\n",
      " 'Dayofyear_254.0' 'Dayofyear_255.0' 'Dayofyear_256.0' 'Dayofyear_257.0'\n",
      " 'Dayofyear_258.0' 'Dayofyear_259.0' 'Dayofyear_260.0' 'Dayofyear_261.0'\n",
      " 'Dayofyear_262.0' 'Dayofyear_263.0' 'Dayofyear_264.0' 'Dayofyear_265.0'\n",
      " 'Dayofyear_266.0' 'Dayofyear_267.0' 'Dayofyear_268.0' 'Dayofyear_269.0'\n",
      " 'Dayofyear_270.0' 'Dayofyear_271.0' 'Dayofyear_272.0' 'Dayofyear_273.0'\n",
      " 'Dayofyear_274.0' 'Dayofyear_275.0' 'Dayofyear_276.0' 'Dayofyear_277.0'\n",
      " 'Dayofyear_278.0' 'Dayofyear_279.0' 'Dayofyear_280.0' 'Dayofyear_281.0'\n",
      " 'Dayofyear_282.0' 'Dayofyear_283.0' 'Dayofyear_284.0' 'Dayofyear_285.0'\n",
      " 'Dayofyear_286.0' 'Dayofyear_287.0' 'Dayofyear_288.0' 'Dayofyear_289.0'\n",
      " 'Dayofyear_290.0' 'Dayofyear_291.0' 'Dayofyear_292.0' 'Dayofyear_293.0'\n",
      " 'Dayofyear_294.0' 'Dayofyear_295.0' 'Dayofyear_296.0' 'Dayofyear_297.0'\n",
      " 'Dayofyear_298.0' 'Dayofyear_299.0' 'Dayofyear_300.0' 'Dayofyear_301.0'\n",
      " 'Dayofyear_302.0' 'Dayofyear_303.0' 'Dayofyear_304.0' 'Dayofyear_305.0'\n",
      " 'Dayofyear_306.0' 'Dayofyear_307.0' 'Dayofyear_308.0' 'Dayofyear_309.0'\n",
      " 'Dayofyear_310.0' 'Dayofyear_311.0' 'Dayofyear_312.0' 'Dayofyear_313.0'\n",
      " 'Dayofyear_314.0' 'Dayofyear_315.0' 'Dayofyear_316.0' 'Dayofyear_317.0'\n",
      " 'Dayofyear_318.0' 'Dayofyear_319.0' 'Dayofyear_320.0' 'Dayofyear_321.0'\n",
      " 'Dayofyear_322.0' 'Dayofyear_323.0' 'Dayofyear_324.0' 'Dayofyear_325.0'\n",
      " 'Dayofyear_326.0' 'Dayofyear_327.0' 'Dayofyear_328.0' 'Dayofyear_329.0'\n",
      " 'Dayofyear_330.0' 'Dayofyear_331.0' 'Dayofyear_332.0' 'Dayofyear_333.0'\n",
      " 'Dayofyear_334.0' 'Dayofyear_335.0' 'Dayofyear_336.0' 'Dayofyear_337.0'\n",
      " 'Dayofyear_338.0' 'Dayofyear_339.0' 'Dayofyear_340.0' 'Dayofyear_341.0'\n",
      " 'Dayofyear_342.0' 'Dayofyear_343.0' 'Dayofyear_344.0' 'Dayofyear_345.0'\n",
      " 'Dayofyear_346.0' 'Dayofyear_347.0' 'Dayofyear_348.0' 'Dayofyear_349.0'\n",
      " 'Dayofyear_350.0' 'Dayofyear_351.0' 'Dayofyear_352.0' 'Dayofyear_353.0'\n",
      " 'Dayofyear_354.0' 'Dayofyear_355.0' 'Dayofyear_356.0' 'Dayofyear_357.0'\n",
      " 'Dayofyear_358.0' 'Dayofyear_359.0' 'Dayofyear_360.0' 'Dayofyear_361.0'\n",
      " 'Dayofyear_362.0' 'Dayofyear_363.0' 'Dayofyear_364.0' 'Dayofyear_365.0'\n",
      " 'Week_1.0' 'Week_2.0' 'Week_3.0' 'Week_4.0' 'Week_5.0' 'Week_6.0'\n",
      " 'Week_7.0' 'Week_8.0' 'Week_9.0' 'Week_10.0' 'Week_11.0' 'Week_12.0'\n",
      " 'Week_13.0' 'Week_14.0' 'Week_15.0' 'Week_16.0' 'Week_17.0' 'Week_18.0'\n",
      " 'Week_19.0' 'Week_20.0' 'Week_21.0' 'Week_22.0' 'Week_23.0' 'Week_24.0'\n",
      " 'Week_25.0' 'Week_26.0' 'Week_27.0' 'Week_28.0' 'Week_29.0' 'Week_30.0'\n",
      " 'Week_31.0' 'Week_32.0' 'Week_33.0' 'Week_34.0' 'Week_35.0' 'Week_36.0'\n",
      " 'Week_37.0' 'Week_38.0' 'Week_39.0' 'Week_40.0' 'Week_41.0' 'Week_42.0'\n",
      " 'Week_43.0' 'Week_44.0' 'Week_45.0' 'Week_46.0' 'Week_47.0' 'Week_48.0'\n"
     ]
    },
    {
     "name": "stdout",
     "output_type": "stream",
     "text": [
      " 'Week_49.0' 'Week_50.0' 'Week_51.0' 'Week_52.0' 'Week_53.0']\n"
     ]
    }
   ],
   "source": [
    "#Categorical and Continuous Variables\n",
    "print('Continuous variables:')\n",
    "print(train_data.select_dtypes(include=\"number\").columns.values)\n",
    "print('\\nCategorical variables:')\n",
    "print(train_data.select_dtypes(include=\"category\").columns.values)"
   ]
  },
  {
   "cell_type": "code",
   "execution_count": 20,
   "metadata": {
    "scrolled": true
   },
   "outputs": [
    {
     "name": "stdout",
     "output_type": "stream",
     "text": [
      "-------MODEL SCORES-------\n",
      "MAPE:  411.477 %\n",
      "MAE:  1291.614\n",
      "MSE:  19167376.972\n",
      "RMSE:  4378.056\n",
      "R2:  59.285 %\n",
      "Max Residual Error:  32184.236\n"
     ]
    }
   ],
   "source": [
    "prediction_svm.prediction_svm(train_data=train_data, test_data=test_data, target='Demand (D)', s_mape=False)"
   ]
  },
  {
   "cell_type": "code",
   "execution_count": 21,
   "metadata": {},
   "outputs": [],
   "source": [
    "#Memory Cleaning\n",
    "del daily_demand\n",
    "del daily_demand_hex_6\n",
    "del daily_demand_hex_7"
   ]
  }
 ],
 "metadata": {
  "kernelspec": {
   "display_name": "Python 3",
   "language": "python",
   "name": "python3"
  },
  "language_info": {
   "codemirror_mode": {
    "name": "ipython",
    "version": 3
   },
   "file_extension": ".py",
   "mimetype": "text/x-python",
   "name": "python",
   "nbconvert_exporter": "python",
   "pygments_lexer": "ipython3",
   "version": "3.9.5"
  }
 },
 "nbformat": 4,
 "nbformat_minor": 1
}