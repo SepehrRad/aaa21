{
 "cells": [
  {
   "cell_type": "markdown",
   "metadata": {
    "collapsed": true,
    "pycharm": {
     "name": "#%% md\n"
    }
   },
   "source": [
    "# Taxi Demand Prediction - Support Vector Machine\n",
    "---\n",
    "In this notebook, we build a model for predicting taxi demand in Chicago. The model is based on the information provided by the city of Chicago in 2015.\n",
    "\n",
    "Furthermore, the model is based on all of the available data. Since the prediction target is taxi demand which is calculated by data aggregation, we won't encounter any memory problems.\n",
    "\n",
    "To build our demand prediction model, we proceed as following:\n",
    "\n",
    "- Data preparation\n",
    "    - Feature engineering (spatial and temporal features)\n",
    "    - Preprocessing\n",
    "- Model building (with different spatial attributes)\n",
    "- Finding svm architecture in an iterative process\n",
    "- Tuning the hyperparameters of the final architecture for each model (daily, 6H, and hourly)\n",
    "- Model evaluations\n",
    "- Result Analysis\n",
    "- Conclusion and outlook"
   ]
  },
  {
   "cell_type": "code",
   "execution_count": 1,
   "metadata": {
    "pycharm": {
     "name": "#%%\n"
    },
    "scrolled": false
   },
   "outputs": [
    {
     "name": "stdout",
     "output_type": "stream",
     "text": [
      "/Users/simonwolf/git/aaa21\n"
     ]
    }
   ],
   "source": [
    "cd .."
   ]
  },
  {
   "cell_type": "code",
   "execution_count": 2,
   "metadata": {
    "pycharm": {
     "name": "#%%\n"
    }
   },
   "outputs": [],
   "source": [
    "import utils, feature_engineering, geo_engineering, preprocessing, prediction_utils, prediction_svm\n",
    "import pandas as pd\n",
    "import numpy as np\n",
    "import matplotlib.pyplot as plt\n",
    "from sklearn.svm import SVR\n",
    "%matplotlib inline\n",
    "pd.options.mode.chained_assignment = None"
   ]
  },
  {
   "cell_type": "markdown",
   "metadata": {
    "pycharm": {
     "name": "#%% md\n"
    }
   },
   "source": [
    "# Daily Models\n",
    "---\n",
    "To help taxi companies prepare for daily demand in different part of the city we build a daily demand predictin model using support vector machine. This model will help the cab industry to better utilize its resources and is also beneficial for mid-long term planning. The model is based on the 2015 information.\n",
    "\n",
    "**Model input:**\n",
    "- Geographical area where the customer is expected\n",
    "- Date\n",
    "- Weather Information\n",
    "\n",
    "**Model output:**\n",
    "- Demand for the given date at the given area"
   ]
  },
  {
   "cell_type": "markdown",
   "metadata": {},
   "source": [
    "## Data Preparation\n",
    "---"
   ]
  },
  {
   "cell_type": "code",
   "execution_count": 41,
   "metadata": {
    "pycharm": {
     "name": "#%%\n"
    }
   },
   "outputs": [],
   "source": [
    "# Takes few minutes to run (16 GB RAM)\n",
    "chicago_df = utils.read_parquet('Taxi_Trips_Cleaned.parquet',\n",
    "                                columns=['Trip ID','Trip Start Timestamp','Pickup Community Area',\n",
    "                                         'Dropoff Community Area'])\n",
    "weather_df = utils.read_parquet('Weather.parquet',columns = ['Trip Start Timestamp','Humidity(%)',\n",
    "                                    'Pressure(hPa)','Temperature(C)',\n",
    "                                    'Wind Direction(Meteoro. Degree)','Wind Speed(M/S)'])\n",
    "\n",
    "daily_demand = preprocessing.create_aggregated_data(df=chicago_df,weather_df=weather_df,temporal_resolution='D')\n",
    "daily_demand_hex_7 = preprocessing.create_aggregated_data(df=chicago_df,weather_df=weather_df,temporal_resolution='D',\n",
    "                                            use_hexes=True,hex_resolution=7)\n",
    "daily_demand_hex_6 = preprocessing.create_aggregated_data(df=chicago_df,weather_df=weather_df,temporal_resolution='D',\n",
    "                                            use_hexes=True,hex_resolution=6)\n",
    "\n",
    "del chicago_df\n",
    "del weather_df"
   ]
  },
  {
   "cell_type": "markdown",
   "metadata": {},
   "source": [
    "### Feature Engineering\n",
    "---\n",
    "In this section we add the following spatial and temporal features to our data before prediction.\n",
    "- Distance to Chicago City Center\n",
    "- Distance to Chicago Airport\n",
    "- Holiday Events"
   ]
  },
  {
   "cell_type": "code",
   "execution_count": 42,
   "metadata": {},
   "outputs": [],
   "source": [
    "#Spatial Features\n",
    "daily_demand = feature_engineering.add_spatial_features(daily_demand)\n",
    "daily_demand_hex_7 = feature_engineering.add_spatial_features(daily_demand_hex_7,with_hex=7,hex_res=7)\n",
    "daily_demand_hex_6 = feature_engineering.add_spatial_features(daily_demand_hex_6,with_hex=6,hex_res=6)\n",
    "#Holidays\n",
    "daily_demand = feature_engineering.add_holidays(daily_demand)\n",
    "daily_demand_hex_6 = feature_engineering.add_holidays(daily_demand_hex_6)\n",
    "daily_demand_hex_7 = feature_engineering.add_holidays(daily_demand_hex_7)"
   ]
  },
  {
   "cell_type": "markdown",
   "metadata": {},
   "source": [
    "### Model Architecture\n",
    "---\n",
    "To gain a better understanding of our data and the amount of complexity needed in the svm architecture we first start our daily model by a simple linear kernel. After observing the behavoiur of the model we adjust the model. First by changing kernels, second by increasing/decreasing our hyperparameters. For the sake of brevity this notebook does not show all tested svm architectures."
   ]
  },
  {
   "cell_type": "markdown",
   "metadata": {},
   "source": [
    "### Suitable Metrics\n",
    "---\n",
    "To gain a better understanding which metrics we should apply to our problem we plot the prediction target to identify the distribution type."
   ]
  },
  {
   "cell_type": "code",
   "execution_count": 5,
   "metadata": {
    "pycharm": {
     "name": "#%%\n"
    }
   },
   "outputs": [
    {
     "data": {
      "image/png": "[encoded data removed]",
      "text/plain": [
       "<Figure size 432x288 with 1 Axes>"
      ]
     },
     "metadata": {
      "needs_background": "light"
     },
     "output_type": "display_data"
    }
   ],
   "source": [
    "daily_demand['Demand (D)'].plot.hist()\n",
    "plt.show()"
   ]
  },
  {
   "cell_type": "markdown",
   "metadata": {},
   "source": [
    "As we expected the target is extremely skewed. Which would make the prediction metrics non telling. To tackle this obstacle, we transform the target logarithmically. And use the mean squared logarithmic error as our metric."
   ]
  },
  {
   "cell_type": "code",
   "execution_count": 6,
   "metadata": {
    "pycharm": {
     "name": "#%%\n"
    }
   },
   "outputs": [
    {
     "data": {
      "image/png": "[encoded data removed]",
      "text/plain": [
       "<Figure size 432x288 with 1 Axes>"
      ]
     },
     "metadata": {
      "needs_background": "light"
     },
     "output_type": "display_data"
    }
   ],
   "source": [
    "daily_demand['Demand (D)'] = np.log(daily_demand['Demand (D)'])\n",
    "daily_demand['Demand (D)'].plot.hist()\n",
    "plt.show()"
   ]
  },
  {
   "cell_type": "markdown",
   "metadata": {
    "pycharm": {
     "name": "#%% md\n"
    }
   },
   "source": [
    "### Preprocessing\n",
    "---"
   ]
  },
  {
   "cell_type": "code",
   "execution_count": 7,
   "metadata": {},
   "outputs": [],
   "source": [
    "daily_demand, target, cont_vars, cat_vars = (prediction_utils.\n",
    "                                             preprocess_data_for_prediction(daily_demand, \n",
    "                                                                            temporal_resolution='D'))"
   ]
  },
  {
   "cell_type": "code",
   "execution_count": 8,
   "metadata": {},
   "outputs": [
    {
     "data": {
      "text/html": [
       "<div>\n",
       "<style scoped>\n",
       "    .dataframe tbody tr th:only-of-type {\n",
       "        vertical-align: middle;\n",
       "    }\n",
       "\n",
       "    .dataframe tbody tr th {\n",
       "        vertical-align: top;\n",
       "    }\n",
       "\n",
       "    .dataframe thead th {\n",
       "        text-align: right;\n",
       "    }\n",
       "</style>\n",
       "<table border=\"1\" class=\"dataframe\">\n",
       "  <thead>\n",
       "    <tr style=\"text-align: right;\">\n",
       "      <th></th>\n",
       "      <th>Pickup Community Area</th>\n",
       "      <th>Demand (D)</th>\n",
       "      <th>Humidity(%)</th>\n",
       "      <th>Pressure(hPa)</th>\n",
       "      <th>Temperature(C)</th>\n",
       "      <th>Wind Direction(Meteoro. Degree)</th>\n",
       "      <th>Wind Speed(M/S)</th>\n",
       "      <th>City Center Distance</th>\n",
       "      <th>Airport Distance</th>\n",
       "      <th>Holiday</th>\n",
       "      <th>...</th>\n",
       "      <th>Day</th>\n",
       "      <th>Dayofweek</th>\n",
       "      <th>Dayofyear</th>\n",
       "      <th>Is_month_end</th>\n",
       "      <th>Is_month_start</th>\n",
       "      <th>Is_quarter_end</th>\n",
       "      <th>Is_quarter_start</th>\n",
       "      <th>Is_year_end</th>\n",
       "      <th>Is_year_start</th>\n",
       "      <th>Elapsed</th>\n",
       "    </tr>\n",
       "  </thead>\n",
       "  <tbody>\n",
       "    <tr>\n",
       "      <th>0</th>\n",
       "      <td>1</td>\n",
       "      <td>6.006353</td>\n",
       "      <td>100.0</td>\n",
       "      <td>1034.250777</td>\n",
       "      <td>-5.435774</td>\n",
       "      <td>249.09522</td>\n",
       "      <td>9.069681</td>\n",
       "      <td>14.731612</td>\n",
       "      <td>19.688474</td>\n",
       "      <td>True</td>\n",
       "      <td>...</td>\n",
       "      <td>1</td>\n",
       "      <td>3</td>\n",
       "      <td>1</td>\n",
       "      <td>False</td>\n",
       "      <td>True</td>\n",
       "      <td>False</td>\n",
       "      <td>True</td>\n",
       "      <td>False</td>\n",
       "      <td>True</td>\n",
       "      <td>1420070400</td>\n",
       "    </tr>\n",
       "    <tr>\n",
       "      <th>1</th>\n",
       "      <td>10</td>\n",
       "      <td>3.465736</td>\n",
       "      <td>100.0</td>\n",
       "      <td>1034.250777</td>\n",
       "      <td>-5.435774</td>\n",
       "      <td>249.09522</td>\n",
       "      <td>9.069681</td>\n",
       "      <td>18.830572</td>\n",
       "      <td>8.403423</td>\n",
       "      <td>True</td>\n",
       "      <td>...</td>\n",
       "      <td>1</td>\n",
       "      <td>3</td>\n",
       "      <td>1</td>\n",
       "      <td>False</td>\n",
       "      <td>True</td>\n",
       "      <td>False</td>\n",
       "      <td>True</td>\n",
       "      <td>False</td>\n",
       "      <td>True</td>\n",
       "      <td>1420070400</td>\n",
       "    </tr>\n",
       "    <tr>\n",
       "      <th>2</th>\n",
       "      <td>11</td>\n",
       "      <td>4.290459</td>\n",
       "      <td>100.0</td>\n",
       "      <td>1034.250777</td>\n",
       "      <td>-5.435774</td>\n",
       "      <td>249.09522</td>\n",
       "      <td>9.069681</td>\n",
       "      <td>16.315833</td>\n",
       "      <td>11.040063</td>\n",
       "      <td>True</td>\n",
       "      <td>...</td>\n",
       "      <td>1</td>\n",
       "      <td>3</td>\n",
       "      <td>1</td>\n",
       "      <td>False</td>\n",
       "      <td>True</td>\n",
       "      <td>False</td>\n",
       "      <td>True</td>\n",
       "      <td>False</td>\n",
       "      <td>True</td>\n",
       "      <td>1420070400</td>\n",
       "    </tr>\n",
       "    <tr>\n",
       "      <th>3</th>\n",
       "      <td>12</td>\n",
       "      <td>2.708050</td>\n",
       "      <td>100.0</td>\n",
       "      <td>1034.250777</td>\n",
       "      <td>-5.435774</td>\n",
       "      <td>249.09522</td>\n",
       "      <td>9.069681</td>\n",
       "      <td>16.744923</td>\n",
       "      <td>12.216892</td>\n",
       "      <td>True</td>\n",
       "      <td>...</td>\n",
       "      <td>1</td>\n",
       "      <td>3</td>\n",
       "      <td>1</td>\n",
       "      <td>False</td>\n",
       "      <td>True</td>\n",
       "      <td>False</td>\n",
       "      <td>True</td>\n",
       "      <td>False</td>\n",
       "      <td>True</td>\n",
       "      <td>1420070400</td>\n",
       "    </tr>\n",
       "    <tr>\n",
       "      <th>4</th>\n",
       "      <td>13</td>\n",
       "      <td>3.663562</td>\n",
       "      <td>100.0</td>\n",
       "      <td>1034.250777</td>\n",
       "      <td>-5.435774</td>\n",
       "      <td>249.09522</td>\n",
       "      <td>9.069681</td>\n",
       "      <td>14.040299</td>\n",
       "      <td>14.983269</td>\n",
       "      <td>True</td>\n",
       "      <td>...</td>\n",
       "      <td>1</td>\n",
       "      <td>3</td>\n",
       "      <td>1</td>\n",
       "      <td>False</td>\n",
       "      <td>True</td>\n",
       "      <td>False</td>\n",
       "      <td>True</td>\n",
       "      <td>False</td>\n",
       "      <td>True</td>\n",
       "      <td>1420070400</td>\n",
       "    </tr>\n",
       "  </tbody>\n",
       "</table>\n",
       "<p>5 rows × 23 columns</p>\n",
       "</div>"
      ],
      "text/plain": [
       "  Pickup Community Area  Demand (D)  Humidity(%)  Pressure(hPa)  \\\n",
       "0                     1    6.006353        100.0    1034.250777   \n",
       "1                    10    3.465736        100.0    1034.250777   \n",
       "2                    11    4.290459        100.0    1034.250777   \n",
       "3                    12    2.708050        100.0    1034.250777   \n",
       "4                    13    3.663562        100.0    1034.250777   \n",
       "\n",
       "   Temperature(C)  Wind Direction(Meteoro. Degree)  Wind Speed(M/S)  \\\n",
       "0       -5.435774                        249.09522         9.069681   \n",
       "1       -5.435774                        249.09522         9.069681   \n",
       "2       -5.435774                        249.09522         9.069681   \n",
       "3       -5.435774                        249.09522         9.069681   \n",
       "4       -5.435774                        249.09522         9.069681   \n",
       "\n",
       "   City Center Distance  Airport Distance  Holiday  ...  Day  Dayofweek  \\\n",
       "0             14.731612         19.688474     True  ...    1          3   \n",
       "1             18.830572          8.403423     True  ...    1          3   \n",
       "2             16.315833         11.040063     True  ...    1          3   \n",
       "3             16.744923         12.216892     True  ...    1          3   \n",
       "4             14.040299         14.983269     True  ...    1          3   \n",
       "\n",
       "   Dayofyear  Is_month_end  Is_month_start  Is_quarter_end  Is_quarter_start  \\\n",
       "0          1         False            True           False              True   \n",
       "1          1         False            True           False              True   \n",
       "2          1         False            True           False              True   \n",
       "3          1         False            True           False              True   \n",
       "4          1         False            True           False              True   \n",
       "\n",
       "   Is_year_end  Is_year_start     Elapsed  \n",
       "0        False           True  1420070400  \n",
       "1        False           True  1420070400  \n",
       "2        False           True  1420070400  \n",
       "3        False           True  1420070400  \n",
       "4        False           True  1420070400  \n",
       "\n",
       "[5 rows x 23 columns]"
      ]
     },
     "execution_count": 8,
     "metadata": {},
     "output_type": "execute_result"
    }
   ],
   "source": [
    "#Preprocessed data\n",
    "daily_demand.head(5)"
   ]
  },
  {
   "cell_type": "code",
   "execution_count": 9,
   "metadata": {
    "scrolled": false
   },
   "outputs": [],
   "source": [
    "#Train - Test Split\n",
    "daily_demand_train, daily_demand_test = prediction_svm.split_data_sets_for_svm(daily_demand, test_size=0.2)"
   ]
  },
  {
   "cell_type": "code",
   "execution_count": 10,
   "metadata": {
    "scrolled": false
   },
   "outputs": [
    {
     "name": "stdout",
     "output_type": "stream",
     "text": [
      "Continuous variables:\n",
      "['Humidity(%)', 'Pressure(hPa)', 'Temperature(C)', 'Wind Direction(Meteoro. Degree)', 'Wind Speed(M/S)', 'City Center Distance', 'Airport Distance', 'Elapsed']\n",
      "\n",
      "Categorical variables:\n",
      "['Pickup Community Area', 'Holiday', 'Year', 'Month', 'Day', 'Dayofweek', 'Is_month_end', 'Is_month_start', 'Is_quarter_end', 'Is_quarter_start', 'Is_year_end', 'Is_year_start', 'Dayofyear', 'Week']\n"
     ]
    }
   ],
   "source": [
    "#Categorical and Continuous Variables\n",
    "print('Continuous variables:')\n",
    "print(cont_vars)\n",
    "print('\\nCategorical variables:')\n",
    "print(cat_vars)"
   ]
  },
  {
   "cell_type": "markdown",
   "metadata": {},
   "source": [
    "## Model Building\n",
    "## Daily Model - Community Areas\n",
    "---\n",
    "\n",
    "In this section we build our svm model for demand prediction using community areas as our geographical attributes. we build different models and opt for the final model by comparing the overall evaluation metrics. Later on, we will use this model for prediction using differenct geographical attributes.\n",
    "\n",
    "---\n"
   ]
  },
  {
   "cell_type": "code",
   "execution_count": 11,
   "metadata": {},
   "outputs": [],
   "source": [
    "# Target Extraction\n",
    "daily_demand_train_target = daily_demand_train.pop(target)\n",
    "daily_demand_test_target = daily_demand_test[target]\n",
    "X_test = daily_demand_test.drop(columns=[target])"
   ]
  },
  {
   "cell_type": "markdown",
   "metadata": {},
   "source": [
    "### SVM Model With Linear Kernel\n",
    "\n",
    "- without regularization\n",
    "- using default values for hyperparameters\n",
    "---"
   ]
  },
  {
   "cell_type": "code",
   "execution_count": 12,
   "metadata": {},
   "outputs": [
    {
     "data": {
      "text/plain": [
       "Pipeline(steps=[('preprocessor',\n",
       "                 ColumnTransformer(transformers=[('numerical scaler',\n",
       "                                                  Pipeline(steps=[('standard_scaler',\n",
       "                                                                   StandardScaler())]),\n",
       "                                                  ['Humidity(%)',\n",
       "                                                   'Pressure(hPa)',\n",
       "                                                   'Temperature(C)',\n",
       "                                                   'Wind Direction(Meteoro. '\n",
       "                                                   'Degree)',\n",
       "                                                   'Wind Speed(M/S)',\n",
       "                                                   'City Center Distance',\n",
       "                                                   'Airport Distance',\n",
       "                                                   'Elapsed']),\n",
       "                                                 ('one hot encoder',\n",
       "                                                  Pipeline(steps=[('one_hot_encoder',\n",
       "                                                                   OneHotEncoder(handle_unknown='ignore'))]),\n",
       "                                                  ['Pickup Community Area',\n",
       "                                                   'Holiday', 'Year', 'Month',\n",
       "                                                   'Day', 'Dayofweek',\n",
       "                                                   'Is_month_end',\n",
       "                                                   'Is_month_start',\n",
       "                                                   'Is_quarter_end',\n",
       "                                                   'Is_quarter_start',\n",
       "                                                   'Is_year_end',\n",
       "                                                   'Is_year_start', 'Dayofyear',\n",
       "                                                   'Week'])])),\n",
       "                ('svr model', SVR(kernel='linear'))])"
      ]
     },
     "execution_count": 12,
     "metadata": {},
     "output_type": "execute_result"
    }
   ],
   "source": [
    "svr_linear = SVR(kernel='linear')\n",
    "\n",
    "pipeline = prediction_svm.make_pipeline_for_svm(cat_vars, cont_vars, svr_linear)\n",
    "\n",
    "pipeline"
   ]
  },
  {
   "cell_type": "code",
   "execution_count": 13,
   "metadata": {
    "scrolled": true
   },
   "outputs": [],
   "source": [
    "# Training SVM Linear Kernel\n",
    "svr_linear_fitted = pipeline.fit(daily_demand_train, daily_demand_train_target)"
   ]
  },
  {
   "cell_type": "markdown",
   "metadata": {},
   "source": [
    "#### Linear Model Evaluation\n",
    "---\n",
    "To get the result for our baseline linear model we use the test set for evaluation"
   ]
  },
  {
   "cell_type": "code",
   "execution_count": 14,
   "metadata": {
    "scrolled": true
   },
   "outputs": [
    {
     "name": "stdout",
     "output_type": "stream",
     "text": [
      "-------MODEL SCORES-------\n",
      "MAPE:  45.839 %\n",
      "sMAPE:  34.270 %\n",
      "MAE:  208.832\n",
      "MSE:  819604.170\n",
      "RMSE:  905.320\n",
      "R2:  90.511 %\n",
      "Max Residual Error:  16207.762\n"
     ]
    }
   ],
   "source": [
    "# Model Scores\n",
    "y_pred = pipeline.predict(X_test)\n",
    "\n",
    "prediction_utils.get_prediction_scores(y_true=np.exp(daily_demand_test_target), \n",
    "                                       y_predicted=np.exp(y_pred), \n",
    "                                       s_mape=True,\n",
    "                                       prediction_type='svr')"
   ]
  },
  {
   "cell_type": "markdown",
   "metadata": {},
   "source": [
    "The above shows the result of our first model. We see that a linear model is already quite a good fit, by catching 90% of the variability of the dependent variable. Still, other metrics demonstrate some downsights e.g. the mean average error exhibits a value of over 200 trips. "
   ]
  },
  {
   "cell_type": "markdown",
   "metadata": {},
   "source": [
    "### SVM Model With Polynomial Kernel\n",
    "\n",
    "Analogously, we create a further baseline model by just changing the kernel to a polynomial one. This contributes to later on being able to select the best performing kernel. \n",
    "\n",
    "As degree one has already been build above, we proceed with degree two. Afterwards, we try higher degrees as long as our metrics are improving.\n",
    "\n",
    "---"
   ]
  },
  {
   "cell_type": "markdown",
   "metadata": {},
   "source": [
    "#### Degree 2\n",
    "---"
   ]
  },
  {
   "cell_type": "code",
   "execution_count": 15,
   "metadata": {},
   "outputs": [
    {
     "data": {
      "text/plain": [
       "Pipeline(steps=[('preprocessor',\n",
       "                 ColumnTransformer(transformers=[('numerical scaler',\n",
       "                                                  Pipeline(steps=[('standard_scaler',\n",
       "                                                                   StandardScaler())]),\n",
       "                                                  ['Humidity(%)',\n",
       "                                                   'Pressure(hPa)',\n",
       "                                                   'Temperature(C)',\n",
       "                                                   'Wind Direction(Meteoro. '\n",
       "                                                   'Degree)',\n",
       "                                                   'Wind Speed(M/S)',\n",
       "                                                   'City Center Distance',\n",
       "                                                   'Airport Distance',\n",
       "                                                   'Elapsed']),\n",
       "                                                 ('one hot encoder',\n",
       "                                                  Pipeline(steps=[('one_hot_encoder',\n",
       "                                                                   OneHotEncoder(handle_unknown='ignore'))]),\n",
       "                                                  ['Pickup Community Area',\n",
       "                                                   'Holiday', 'Year', 'Month',\n",
       "                                                   'Day', 'Dayofweek',\n",
       "                                                   'Is_month_end',\n",
       "                                                   'Is_month_start',\n",
       "                                                   'Is_quarter_end',\n",
       "                                                   'Is_quarter_start',\n",
       "                                                   'Is_year_end',\n",
       "                                                   'Is_year_start', 'Dayofyear',\n",
       "                                                   'Week'])])),\n",
       "                ('svr model', SVR(degree=2, kernel='poly'))])"
      ]
     },
     "execution_count": 15,
     "metadata": {},
     "output_type": "execute_result"
    }
   ],
   "source": [
    "svr_poly_2 = SVR(kernel='poly', degree=2)\n",
    "\n",
    "pipeline = prediction_svm.make_pipeline_for_svm(cat_vars, cont_vars, svr_poly_2)\n",
    "\n",
    "pipeline"
   ]
  },
  {
   "cell_type": "code",
   "execution_count": 16,
   "metadata": {
    "scrolled": true
   },
   "outputs": [],
   "source": [
    "# Training SVM Polynomial Degree 2 Kernel\n",
    "svr_poly_2_fitted = pipeline.fit(daily_demand_train, daily_demand_train_target)"
   ]
  },
  {
   "cell_type": "markdown",
   "metadata": {},
   "source": [
    "#### Polynomial Model Evaluation (degree 2)\n",
    "---\n",
    "To get the result for our baseline polynomial model with degree 2 we use the test set for evaluation"
   ]
  },
  {
   "cell_type": "code",
   "execution_count": 17,
   "metadata": {
    "scrolled": true
   },
   "outputs": [
    {
     "name": "stdout",
     "output_type": "stream",
     "text": [
      "-------MODEL SCORES-------\n",
      "MAPE:  45.873 %\n",
      "sMAPE:  33.242 %\n",
      "MAE:  187.268\n",
      "MSE:  677499.353\n",
      "RMSE:  823.103\n",
      "R2:  92.156 %\n",
      "Max Residual Error:  12829.874\n"
     ]
    }
   ],
   "source": [
    "# Model Scores\n",
    "y_pred = pipeline.predict(X_test)\n",
    "\n",
    "prediction_utils.get_prediction_scores(y_true=np.exp(daily_demand_test_target), \n",
    "                                       y_predicted=np.exp(y_pred), \n",
    "                                       s_mape=True,\n",
    "                                       prediction_type='svr')"
   ]
  },
  {
   "cell_type": "markdown",
   "metadata": {},
   "source": [
    "The above shows the result of our first model. We obwerve a significant improvement in cotrast to the linear model, as now the mean absolute error decresed to less than 200, namely 180, while also improving catching the variance with 92%."
   ]
  },
  {
   "cell_type": "markdown",
   "metadata": {},
   "source": [
    "#### Degree 3\n",
    "---"
   ]
  },
  {
   "cell_type": "code",
   "execution_count": 18,
   "metadata": {},
   "outputs": [
    {
     "data": {
      "text/plain": [
       "Pipeline(steps=[('preprocessor',\n",
       "                 ColumnTransformer(transformers=[('numerical scaler',\n",
       "                                                  Pipeline(steps=[('standard_scaler',\n",
       "                                                                   StandardScaler())]),\n",
       "                                                  ['Humidity(%)',\n",
       "                                                   'Pressure(hPa)',\n",
       "                                                   'Temperature(C)',\n",
       "                                                   'Wind Direction(Meteoro. '\n",
       "                                                   'Degree)',\n",
       "                                                   'Wind Speed(M/S)',\n",
       "                                                   'City Center Distance',\n",
       "                                                   'Airport Distance',\n",
       "                                                   'Elapsed']),\n",
       "                                                 ('one hot encoder',\n",
       "                                                  Pipeline(steps=[('one_hot_encoder',\n",
       "                                                                   OneHotEncoder(handle_unknown='ignore'))]),\n",
       "                                                  ['Pickup Community Area',\n",
       "                                                   'Holiday', 'Year', 'Month',\n",
       "                                                   'Day', 'Dayofweek',\n",
       "                                                   'Is_month_end',\n",
       "                                                   'Is_month_start',\n",
       "                                                   'Is_quarter_end',\n",
       "                                                   'Is_quarter_start',\n",
       "                                                   'Is_year_end',\n",
       "                                                   'Is_year_start', 'Dayofyear',\n",
       "                                                   'Week'])])),\n",
       "                ('svr model', SVR(kernel='poly'))])"
      ]
     },
     "execution_count": 18,
     "metadata": {},
     "output_type": "execute_result"
    }
   ],
   "source": [
    "svr_poly_3 = SVR(kernel='poly', degree=3)\n",
    "\n",
    "pipeline = prediction_svm.make_pipeline_for_svm(cat_vars, cont_vars, svr_poly_3)\n",
    "\n",
    "pipeline"
   ]
  },
  {
   "cell_type": "code",
   "execution_count": 19,
   "metadata": {
    "scrolled": true
   },
   "outputs": [],
   "source": [
    "# Training SVM Polynomial Degree 3 Kernel\n",
    "svr_poly_3_fitted = pipeline.fit(daily_demand_train, daily_demand_train_target)"
   ]
  },
  {
   "cell_type": "code",
   "execution_count": 20,
   "metadata": {
    "scrolled": true
   },
   "outputs": [
    {
     "name": "stdout",
     "output_type": "stream",
     "text": [
      "-------MODEL SCORES-------\n",
      "MAPE:  51.566 %\n",
      "sMAPE:  35.960 %\n",
      "MAE:  209.153\n",
      "MSE:  866579.410\n",
      "RMSE:  930.902\n",
      "R2:  89.967 %\n",
      "Max Residual Error:  16351.016\n"
     ]
    }
   ],
   "source": [
    "# Model Scores\n",
    "y_pred = pipeline.predict(X_test)\n",
    "\n",
    "prediction_utils.get_prediction_scores(y_true=np.exp(daily_demand_test_target), \n",
    "                                       y_predicted=np.exp(y_pred), \n",
    "                                       s_mape=True,\n",
    "                                       prediction_type='svr')"
   ]
  },
  {
   "cell_type": "markdown",
   "metadata": {},
   "source": [
    "### SVM Model With RBF Kernel\n",
    "---"
   ]
  },
  {
   "cell_type": "code",
   "execution_count": 21,
   "metadata": {},
   "outputs": [
    {
     "data": {
      "text/plain": [
       "Pipeline(steps=[('preprocessor',\n",
       "                 ColumnTransformer(transformers=[('numerical scaler',\n",
       "                                                  Pipeline(steps=[('standard_scaler',\n",
       "                                                                   StandardScaler())]),\n",
       "                                                  ['Humidity(%)',\n",
       "                                                   'Pressure(hPa)',\n",
       "                                                   'Temperature(C)',\n",
       "                                                   'Wind Direction(Meteoro. '\n",
       "                                                   'Degree)',\n",
       "                                                   'Wind Speed(M/S)',\n",
       "                                                   'City Center Distance',\n",
       "                                                   'Airport Distance',\n",
       "                                                   'Elapsed']),\n",
       "                                                 ('one hot encoder',\n",
       "                                                  Pipeline(steps=[('one_hot_encoder',\n",
       "                                                                   OneHotEncoder(handle_unknown='ignore'))]),\n",
       "                                                  ['Pickup Community Area',\n",
       "                                                   'Holiday', 'Year', 'Month',\n",
       "                                                   'Day', 'Dayofweek',\n",
       "                                                   'Is_month_end',\n",
       "                                                   'Is_month_start',\n",
       "                                                   'Is_quarter_end',\n",
       "                                                   'Is_quarter_start',\n",
       "                                                   'Is_year_end',\n",
       "                                                   'Is_year_start', 'Dayofyear',\n",
       "                                                   'Week'])])),\n",
       "                ('svr model', SVR())])"
      ]
     },
     "execution_count": 21,
     "metadata": {},
     "output_type": "execute_result"
    }
   ],
   "source": [
    "svr_rbf = SVR(kernel='rbf')\n",
    "\n",
    "pipeline = prediction_svm.make_pipeline_for_svm(cat_vars, cont_vars, svr_rbf)\n",
    "\n",
    "pipeline"
   ]
  },
  {
   "cell_type": "code",
   "execution_count": 22,
   "metadata": {
    "scrolled": true
   },
   "outputs": [],
   "source": [
    "# Training SVM RBF Kernel\n",
    "svr_rbf_fitted = pipeline.fit(daily_demand_train, daily_demand_train_target)"
   ]
  },
  {
   "cell_type": "code",
   "execution_count": 23,
   "metadata": {
    "scrolled": true
   },
   "outputs": [
    {
     "name": "stdout",
     "output_type": "stream",
     "text": [
      "-------MODEL SCORES-------\n",
      "MAPE:  65.211 %\n",
      "sMAPE:  42.001 %\n",
      "MAE:  272.302\n",
      "MSE:  1695807.462\n",
      "RMSE:  1302.232\n",
      "R2:  80.366 %\n",
      "Max Residual Error:  18734.702\n"
     ]
    }
   ],
   "source": [
    "# Model Scores\n",
    "y_pred = pipeline.predict(X_test)\n",
    "\n",
    "prediction_utils.get_prediction_scores(y_true=np.exp(daily_demand_test_target), \n",
    "                                       y_predicted=np.exp(y_pred), \n",
    "                                       s_mape=True,\n",
    "                                       prediction_type='svr')"
   ]
  },
  {
   "cell_type": "markdown",
   "metadata": {},
   "source": [
    "Overfit to training data -> tune hyperparameter!"
   ]
  },
  {
   "cell_type": "markdown",
   "metadata": {},
   "source": [
    "## Hyperparameter Tunig for Final Model\n",
    "---\n",
    "\n",
    "We perform a grid search with five time series splits on the training set using our final model.\n",
    "\n",
    "Doing so, we tune the following hyper parameters to avoid overfitting:\n",
    "- Regularization\n",
    "- Independent term in kernel function\n",
    "- Epsilon (Kernel coefficient)\n",
    "- Gamma (area within which no penalty is associated in the training loss function with predictions within the distance epsilon from the actual value)"
   ]
  },
  {
   "cell_type": "code",
   "execution_count": 24,
   "metadata": {},
   "outputs": [
    {
     "data": {
      "text/plain": [
       "Pipeline(steps=[('preprocessor',\n",
       "                 ColumnTransformer(transformers=[('numerical scaler',\n",
       "                                                  Pipeline(steps=[('standard_scaler',\n",
       "                                                                   StandardScaler())]),\n",
       "                                                  ['Humidity(%)',\n",
       "                                                   'Pressure(hPa)',\n",
       "                                                   'Temperature(C)',\n",
       "                                                   'Wind Direction(Meteoro. '\n",
       "                                                   'Degree)',\n",
       "                                                   'Wind Speed(M/S)',\n",
       "                                                   'City Center Distance',\n",
       "                                                   'Airport Distance',\n",
       "                                                   'Elapsed']),\n",
       "                                                 ('one hot encoder',\n",
       "                                                  Pipeline(steps=[('one_hot_encoder',\n",
       "                                                                   OneHotEncoder(handle_unknown='ignore'))]),\n",
       "                                                  ['Pickup Community Area',\n",
       "                                                   'Holiday', 'Year', 'Month',\n",
       "                                                   'Day', 'Dayofweek',\n",
       "                                                   'Is_month_end',\n",
       "                                                   'Is_month_start',\n",
       "                                                   'Is_quarter_end',\n",
       "                                                   'Is_quarter_start',\n",
       "                                                   'Is_year_end',\n",
       "                                                   'Is_year_start', 'Dayofyear',\n",
       "                                                   'Week'])])),\n",
       "                ('svr model', SVR(degree=2, kernel='poly'))])"
      ]
     },
     "execution_count": 24,
     "metadata": {},
     "output_type": "execute_result"
    }
   ],
   "source": [
    "svr_poly_2 = SVR(kernel='poly', degree=2)\n",
    "\n",
    "pipeline = prediction_svm.make_pipeline_for_svm(cat_vars, cont_vars, svr_poly_2)\n",
    "\n",
    "pipeline"
   ]
  },
  {
   "cell_type": "code",
   "execution_count": 25,
   "metadata": {},
   "outputs": [],
   "source": [
    "# Define Model Parameters for Grid Search [0.5, 4, 32, 256]\n",
    "model_params = {\n",
    "                'svr model__C':[2**j for j in range(-1,10,3)],        \n",
    "                'svr model__epsilon':[2**j for j in range(-1,10,3)],  \n",
    "                'svr model__coef0':[2**j for j in range(-1,10,3)],    \n",
    "                'svr model__gamma':[2**j for j in range(-1,10,3)]    \n",
    "                }"
   ]
  },
  {
   "cell_type": "code",
   "execution_count": 26,
   "metadata": {
    "scrolled": false
   },
   "outputs": [
    {
     "name": "stdout",
     "output_type": "stream",
     "text": [
      "Running grid search for the model based on neg_mean_absolute_error\n",
      "Fitting 5 folds for each of 100 candidates, totalling 500 fits\n",
      "Best neg_mean_absolute_error Score was: -0.37834259640609386\n",
      "The best hyper parameters for the model are:\n",
      "{'svr model__gamma': 0.5, 'svr model__epsilon': 0.5, 'svr model__coef0': 256, 'svr model__C': 32}\n"
     ]
    }
   ],
   "source": [
    "# Grid Search\n",
    "prediction_svm.find_best_parameters_for_model(pipeline, \n",
    "                                              daily_demand_train, \n",
    "                                              daily_demand_train_target, \n",
    "                                              model_params, \n",
    "                                              scoring='neg_mean_absolute_error',\n",
    "                                              n_iter=100,\n",
    "                                              verbose=10)"
   ]
  },
  {
   "cell_type": "code",
   "execution_count": 27,
   "metadata": {},
   "outputs": [
    {
     "data": {
      "text/plain": [
       "Pipeline(steps=[('preprocessor',\n",
       "                 ColumnTransformer(transformers=[('numerical scaler',\n",
       "                                                  Pipeline(steps=[('standard_scaler',\n",
       "                                                                   StandardScaler())]),\n",
       "                                                  ['Humidity(%)',\n",
       "                                                   'Pressure(hPa)',\n",
       "                                                   'Temperature(C)',\n",
       "                                                   'Wind Direction(Meteoro. '\n",
       "                                                   'Degree)',\n",
       "                                                   'Wind Speed(M/S)',\n",
       "                                                   'City Center Distance',\n",
       "                                                   'Airport Distance',\n",
       "                                                   'Elapsed']),\n",
       "                                                 ('one hot encoder',\n",
       "                                                  Pipeline(steps=[('one_hot_encoder',\n",
       "                                                                   OneHotEncoder(handle_unknown='ignore'))]),\n",
       "                                                  ['Pickup Community Area',\n",
       "                                                   'Holiday', 'Year', 'Month',\n",
       "                                                   'Day', 'Dayofweek',\n",
       "                                                   'Is_month_end',\n",
       "                                                   'Is_month_start',\n",
       "                                                   'Is_quarter_end',\n",
       "                                                   'Is_quarter_start',\n",
       "                                                   'Is_year_end',\n",
       "                                                   'Is_year_start', 'Dayofyear',\n",
       "                                                   'Week'])])),\n",
       "                ('svr model',\n",
       "                 SVR(C=32, coef0=256, degree=2, epsilon=0.5, gamma=0.5,\n",
       "                     kernel='poly'))])"
      ]
     },
     "execution_count": 27,
     "metadata": {},
     "output_type": "execute_result"
    }
   ],
   "source": [
    "# Train Model with fitted hyperparameters\n",
    "svr_tuned = SVR(kernel='poly', degree=2, C=32, gamma=0.5, epsilon=0.5, coef0=256)\n",
    "\n",
    "pipeline = prediction_svm.make_pipeline_for_svm(cat_vars, cont_vars, svr_tuned)\n",
    "\n",
    "pipeline"
   ]
  },
  {
   "cell_type": "code",
   "execution_count": 28,
   "metadata": {},
   "outputs": [],
   "source": [
    "svr_tuned_fitted = pipeline.fit(daily_demand_train, daily_demand_train_target)"
   ]
  },
  {
   "cell_type": "code",
   "execution_count": 29,
   "metadata": {},
   "outputs": [
    {
     "name": "stdout",
     "output_type": "stream",
     "text": [
      "-------MODEL SCORES-------\n",
      "MAPE:  46.376 %\n",
      "sMAPE:  35.817 %\n",
      "MAE:  188.069\n",
      "MSE:  542813.288\n",
      "RMSE:  736.759\n",
      "R2:  93.715 %\n",
      "Max Residual Error:  13915.167\n"
     ]
    }
   ],
   "source": [
    "# Model Scores\n",
    "y_pred = pipeline.predict(X_test)\n",
    "\n",
    "prediction_utils.get_prediction_scores(y_true=np.exp(daily_demand_test_target), \n",
    "                                       y_predicted=np.exp(y_pred), \n",
    "                                       s_mape=True,\n",
    "                                       prediction_type='svr')"
   ]
  },
  {
   "cell_type": "markdown",
   "metadata": {},
   "source": [
    "### Adding Demand to visualize Prediction in the end\n",
    "---"
   ]
  },
  {
   "cell_type": "code",
   "execution_count": 30,
   "metadata": {
    "scrolled": false
   },
   "outputs": [
    {
     "data": {
      "text/html": [
       "<div>\n",
       "<style scoped>\n",
       "    .dataframe tbody tr th:only-of-type {\n",
       "        vertical-align: middle;\n",
       "    }\n",
       "\n",
       "    .dataframe tbody tr th {\n",
       "        vertical-align: top;\n",
       "    }\n",
       "\n",
       "    .dataframe thead th {\n",
       "        text-align: right;\n",
       "    }\n",
       "</style>\n",
       "<table border=\"1\" class=\"dataframe\">\n",
       "  <thead>\n",
       "    <tr style=\"text-align: right;\">\n",
       "      <th></th>\n",
       "      <th>Pickup Community Area</th>\n",
       "      <th>Demand (D)</th>\n",
       "      <th>Humidity(%)</th>\n",
       "      <th>Pressure(hPa)</th>\n",
       "      <th>Temperature(C)</th>\n",
       "      <th>Wind Direction(Meteoro. Degree)</th>\n",
       "      <th>Wind Speed(M/S)</th>\n",
       "      <th>City Center Distance</th>\n",
       "      <th>Airport Distance</th>\n",
       "      <th>Holiday</th>\n",
       "      <th>...</th>\n",
       "      <th>Dayofweek</th>\n",
       "      <th>Dayofyear</th>\n",
       "      <th>Is_month_end</th>\n",
       "      <th>Is_month_start</th>\n",
       "      <th>Is_quarter_end</th>\n",
       "      <th>Is_quarter_start</th>\n",
       "      <th>Is_year_end</th>\n",
       "      <th>Is_year_start</th>\n",
       "      <th>Elapsed</th>\n",
       "      <th>Demand (D) Prediction</th>\n",
       "    </tr>\n",
       "  </thead>\n",
       "  <tbody>\n",
       "    <tr>\n",
       "      <th>20196</th>\n",
       "      <td>66</td>\n",
       "      <td>2</td>\n",
       "      <td>36.060457</td>\n",
       "      <td>1022.337191</td>\n",
       "      <td>13.970258</td>\n",
       "      <td>198.297404</td>\n",
       "      <td>7.391849</td>\n",
       "      <td>13.624895</td>\n",
       "      <td>28.778173</td>\n",
       "      <td>False</td>\n",
       "      <td>...</td>\n",
       "      <td>0</td>\n",
       "      <td>292</td>\n",
       "      <td>False</td>\n",
       "      <td>False</td>\n",
       "      <td>False</td>\n",
       "      <td>False</td>\n",
       "      <td>False</td>\n",
       "      <td>False</td>\n",
       "      <td>1445212800</td>\n",
       "      <td>2</td>\n",
       "    </tr>\n",
       "    <tr>\n",
       "      <th>20197</th>\n",
       "      <td>67</td>\n",
       "      <td>4</td>\n",
       "      <td>36.060457</td>\n",
       "      <td>1022.337191</td>\n",
       "      <td>13.970258</td>\n",
       "      <td>198.297404</td>\n",
       "      <td>7.391849</td>\n",
       "      <td>12.313010</td>\n",
       "      <td>29.943480</td>\n",
       "      <td>False</td>\n",
       "      <td>...</td>\n",
       "      <td>0</td>\n",
       "      <td>292</td>\n",
       "      <td>False</td>\n",
       "      <td>False</td>\n",
       "      <td>False</td>\n",
       "      <td>False</td>\n",
       "      <td>False</td>\n",
       "      <td>False</td>\n",
       "      <td>1445212800</td>\n",
       "      <td>2</td>\n",
       "    </tr>\n",
       "    <tr>\n",
       "      <th>20198</th>\n",
       "      <td>68</td>\n",
       "      <td>4</td>\n",
       "      <td>36.060457</td>\n",
       "      <td>1022.337191</td>\n",
       "      <td>13.970258</td>\n",
       "      <td>198.297404</td>\n",
       "      <td>7.391849</td>\n",
       "      <td>11.744408</td>\n",
       "      <td>31.191740</td>\n",
       "      <td>False</td>\n",
       "      <td>...</td>\n",
       "      <td>0</td>\n",
       "      <td>292</td>\n",
       "      <td>False</td>\n",
       "      <td>False</td>\n",
       "      <td>False</td>\n",
       "      <td>False</td>\n",
       "      <td>False</td>\n",
       "      <td>False</td>\n",
       "      <td>1445212800</td>\n",
       "      <td>5</td>\n",
       "    </tr>\n",
       "    <tr>\n",
       "      <th>20199</th>\n",
       "      <td>69</td>\n",
       "      <td>10</td>\n",
       "      <td>36.060457</td>\n",
       "      <td>1022.337191</td>\n",
       "      <td>13.970258</td>\n",
       "      <td>198.297404</td>\n",
       "      <td>7.391849</td>\n",
       "      <td>13.198950</td>\n",
       "      <td>33.830087</td>\n",
       "      <td>False</td>\n",
       "      <td>...</td>\n",
       "      <td>0</td>\n",
       "      <td>292</td>\n",
       "      <td>False</td>\n",
       "      <td>False</td>\n",
       "      <td>False</td>\n",
       "      <td>False</td>\n",
       "      <td>False</td>\n",
       "      <td>False</td>\n",
       "      <td>1445212800</td>\n",
       "      <td>4</td>\n",
       "    </tr>\n",
       "    <tr>\n",
       "      <th>20200</th>\n",
       "      <td>7</td>\n",
       "      <td>1699</td>\n",
       "      <td>36.060457</td>\n",
       "      <td>1022.337191</td>\n",
       "      <td>13.970258</td>\n",
       "      <td>198.297404</td>\n",
       "      <td>7.391849</td>\n",
       "      <td>5.037754</td>\n",
       "      <td>22.004336</td>\n",
       "      <td>False</td>\n",
       "      <td>...</td>\n",
       "      <td>0</td>\n",
       "      <td>292</td>\n",
       "      <td>False</td>\n",
       "      <td>False</td>\n",
       "      <td>False</td>\n",
       "      <td>False</td>\n",
       "      <td>False</td>\n",
       "      <td>False</td>\n",
       "      <td>1445212800</td>\n",
       "      <td>2552</td>\n",
       "    </tr>\n",
       "    <tr>\n",
       "      <th>...</th>\n",
       "      <td>...</td>\n",
       "      <td>...</td>\n",
       "      <td>...</td>\n",
       "      <td>...</td>\n",
       "      <td>...</td>\n",
       "      <td>...</td>\n",
       "      <td>...</td>\n",
       "      <td>...</td>\n",
       "      <td>...</td>\n",
       "      <td>...</td>\n",
       "      <td>...</td>\n",
       "      <td>...</td>\n",
       "      <td>...</td>\n",
       "      <td>...</td>\n",
       "      <td>...</td>\n",
       "      <td>...</td>\n",
       "      <td>...</td>\n",
       "      <td>...</td>\n",
       "      <td>...</td>\n",
       "      <td>...</td>\n",
       "      <td>...</td>\n",
       "    </tr>\n",
       "    <tr>\n",
       "      <th>25240</th>\n",
       "      <td>73</td>\n",
       "      <td>1</td>\n",
       "      <td>75.061278</td>\n",
       "      <td>1024.788420</td>\n",
       "      <td>-2.917027</td>\n",
       "      <td>265.509481</td>\n",
       "      <td>5.001468</td>\n",
       "      <td>18.397504</td>\n",
       "      <td>35.945244</td>\n",
       "      <td>False</td>\n",
       "      <td>...</td>\n",
       "      <td>3</td>\n",
       "      <td>365</td>\n",
       "      <td>True</td>\n",
       "      <td>False</td>\n",
       "      <td>True</td>\n",
       "      <td>False</td>\n",
       "      <td>True</td>\n",
       "      <td>False</td>\n",
       "      <td>1451520000</td>\n",
       "      <td>3</td>\n",
       "    </tr>\n",
       "    <tr>\n",
       "      <th>25241</th>\n",
       "      <td>75</td>\n",
       "      <td>1</td>\n",
       "      <td>75.061278</td>\n",
       "      <td>1024.788420</td>\n",
       "      <td>-2.917027</td>\n",
       "      <td>265.509481</td>\n",
       "      <td>5.001468</td>\n",
       "      <td>21.696836</td>\n",
       "      <td>37.590629</td>\n",
       "      <td>False</td>\n",
       "      <td>...</td>\n",
       "      <td>3</td>\n",
       "      <td>365</td>\n",
       "      <td>True</td>\n",
       "      <td>False</td>\n",
       "      <td>True</td>\n",
       "      <td>False</td>\n",
       "      <td>True</td>\n",
       "      <td>False</td>\n",
       "      <td>1451520000</td>\n",
       "      <td>1</td>\n",
       "    </tr>\n",
       "    <tr>\n",
       "      <th>25242</th>\n",
       "      <td>76</td>\n",
       "      <td>1450</td>\n",
       "      <td>75.061278</td>\n",
       "      <td>1024.788420</td>\n",
       "      <td>-2.917027</td>\n",
       "      <td>265.509481</td>\n",
       "      <td>5.001468</td>\n",
       "      <td>24.693040</td>\n",
       "      <td>0.967604</td>\n",
       "      <td>False</td>\n",
       "      <td>...</td>\n",
       "      <td>3</td>\n",
       "      <td>365</td>\n",
       "      <td>True</td>\n",
       "      <td>False</td>\n",
       "      <td>True</td>\n",
       "      <td>False</td>\n",
       "      <td>True</td>\n",
       "      <td>False</td>\n",
       "      <td>1451520000</td>\n",
       "      <td>3722</td>\n",
       "    </tr>\n",
       "    <tr>\n",
       "      <th>25243</th>\n",
       "      <td>77</td>\n",
       "      <td>736</td>\n",
       "      <td>75.061278</td>\n",
       "      <td>1024.788420</td>\n",
       "      <td>-2.917027</td>\n",
       "      <td>265.509481</td>\n",
       "      <td>5.001468</td>\n",
       "      <td>12.127869</td>\n",
       "      <td>19.965937</td>\n",
       "      <td>False</td>\n",
       "      <td>...</td>\n",
       "      <td>3</td>\n",
       "      <td>365</td>\n",
       "      <td>True</td>\n",
       "      <td>False</td>\n",
       "      <td>True</td>\n",
       "      <td>False</td>\n",
       "      <td>True</td>\n",
       "      <td>False</td>\n",
       "      <td>1451520000</td>\n",
       "      <td>606</td>\n",
       "    </tr>\n",
       "    <tr>\n",
       "      <th>25244</th>\n",
       "      <td>8</td>\n",
       "      <td>17965</td>\n",
       "      <td>75.061278</td>\n",
       "      <td>1024.788420</td>\n",
       "      <td>-2.917027</td>\n",
       "      <td>265.509481</td>\n",
       "      <td>5.001468</td>\n",
       "      <td>2.146581</td>\n",
       "      <td>24.107313</td>\n",
       "      <td>False</td>\n",
       "      <td>...</td>\n",
       "      <td>3</td>\n",
       "      <td>365</td>\n",
       "      <td>True</td>\n",
       "      <td>False</td>\n",
       "      <td>True</td>\n",
       "      <td>False</td>\n",
       "      <td>True</td>\n",
       "      <td>False</td>\n",
       "      <td>1451520000</td>\n",
       "      <td>14561</td>\n",
       "    </tr>\n",
       "  </tbody>\n",
       "</table>\n",
       "<p>5049 rows × 24 columns</p>\n",
       "</div>"
      ],
      "text/plain": [
       "      Pickup Community Area  Demand (D)  Humidity(%)  Pressure(hPa)  \\\n",
       "20196                    66           2    36.060457    1022.337191   \n",
       "20197                    67           4    36.060457    1022.337191   \n",
       "20198                    68           4    36.060457    1022.337191   \n",
       "20199                    69          10    36.060457    1022.337191   \n",
       "20200                     7        1699    36.060457    1022.337191   \n",
       "...                     ...         ...          ...            ...   \n",
       "25240                    73           1    75.061278    1024.788420   \n",
       "25241                    75           1    75.061278    1024.788420   \n",
       "25242                    76        1450    75.061278    1024.788420   \n",
       "25243                    77         736    75.061278    1024.788420   \n",
       "25244                     8       17965    75.061278    1024.788420   \n",
       "\n",
       "       Temperature(C)  Wind Direction(Meteoro. Degree)  Wind Speed(M/S)  \\\n",
       "20196       13.970258                       198.297404         7.391849   \n",
       "20197       13.970258                       198.297404         7.391849   \n",
       "20198       13.970258                       198.297404         7.391849   \n",
       "20199       13.970258                       198.297404         7.391849   \n",
       "20200       13.970258                       198.297404         7.391849   \n",
       "...               ...                              ...              ...   \n",
       "25240       -2.917027                       265.509481         5.001468   \n",
       "25241       -2.917027                       265.509481         5.001468   \n",
       "25242       -2.917027                       265.509481         5.001468   \n",
       "25243       -2.917027                       265.509481         5.001468   \n",
       "25244       -2.917027                       265.509481         5.001468   \n",
       "\n",
       "       City Center Distance  Airport Distance  Holiday  ...  Dayofweek  \\\n",
       "20196             13.624895         28.778173    False  ...          0   \n",
       "20197             12.313010         29.943480    False  ...          0   \n",
       "20198             11.744408         31.191740    False  ...          0   \n",
       "20199             13.198950         33.830087    False  ...          0   \n",
       "20200              5.037754         22.004336    False  ...          0   \n",
       "...                     ...               ...      ...  ...        ...   \n",
       "25240             18.397504         35.945244    False  ...          3   \n",
       "25241             21.696836         37.590629    False  ...          3   \n",
       "25242             24.693040          0.967604    False  ...          3   \n",
       "25243             12.127869         19.965937    False  ...          3   \n",
       "25244              2.146581         24.107313    False  ...          3   \n",
       "\n",
       "       Dayofyear  Is_month_end  Is_month_start  Is_quarter_end  \\\n",
       "20196        292         False           False           False   \n",
       "20197        292         False           False           False   \n",
       "20198        292         False           False           False   \n",
       "20199        292         False           False           False   \n",
       "20200        292         False           False           False   \n",
       "...          ...           ...             ...             ...   \n",
       "25240        365          True           False            True   \n",
       "25241        365          True           False            True   \n",
       "25242        365          True           False            True   \n",
       "25243        365          True           False            True   \n",
       "25244        365          True           False            True   \n",
       "\n",
       "       Is_quarter_start  Is_year_end  Is_year_start     Elapsed  \\\n",
       "20196             False        False          False  1445212800   \n",
       "20197             False        False          False  1445212800   \n",
       "20198             False        False          False  1445212800   \n",
       "20199             False        False          False  1445212800   \n",
       "20200             False        False          False  1445212800   \n",
       "...                 ...          ...            ...         ...   \n",
       "25240             False         True          False  1451520000   \n",
       "25241             False         True          False  1451520000   \n",
       "25242             False         True          False  1451520000   \n",
       "25243             False         True          False  1451520000   \n",
       "25244             False         True          False  1451520000   \n",
       "\n",
       "       Demand (D) Prediction  \n",
       "20196                      2  \n",
       "20197                      2  \n",
       "20198                      5  \n",
       "20199                      4  \n",
       "20200                   2552  \n",
       "...                      ...  \n",
       "25240                      3  \n",
       "25241                      1  \n",
       "25242                   3722  \n",
       "25243                    606  \n",
       "25244                  14561  \n",
       "\n",
       "[5049 rows x 24 columns]"
      ]
     },
     "execution_count": 30,
     "metadata": {},
     "output_type": "execute_result"
    }
   ],
   "source": [
    "daily_demand_test['Demand (D)'] = np.exp(daily_demand_test['Demand (D)']).astype(int)\n",
    "daily_demand_test['Demand (D) Prediction'] = np.exp(y_pred).astype(int)\n",
    "daily_demand_test"
   ]
  },
  {
   "cell_type": "markdown",
   "metadata": {},
   "source": [
    "## Daily Model - Hex 7\n",
    "---\n",
    "\n",
    "In this section we build our svm model for demand prediction using hex 7 as our geographical attributes. We build different models and opt for the final model by comparing the overall evaluation metrics.\n",
    "\n",
    "---"
   ]
  },
  {
   "cell_type": "code",
   "execution_count": 43,
   "metadata": {},
   "outputs": [],
   "source": [
    "#Log transformation\n",
    "daily_demand_hex_7['Demand (D)'] = np.log(daily_demand_hex_7['Demand (D)'])"
   ]
  },
  {
   "cell_type": "code",
   "execution_count": 44,
   "metadata": {},
   "outputs": [],
   "source": [
    "daily_demand_hex_7, target, cont_vars, cat_vars = (prediction_utils.\n",
    "                                             preprocess_data_for_prediction(daily_demand_hex_7, \n",
    "                                                                            temporal_resolution='D'))"
   ]
  },
  {
   "cell_type": "code",
   "execution_count": 45,
   "metadata": {},
   "outputs": [],
   "source": [
    "#Train - Test Split\n",
    "daily_demand_hex_7_train, daily_demand_hex_7_test = prediction_svm.split_data_sets_for_svm(daily_demand_hex_7, test_size=0.2)"
   ]
  },
  {
   "cell_type": "code",
   "execution_count": 46,
   "metadata": {},
   "outputs": [
    {
     "data": {
      "text/html": [
       "<div>\n",
       "<style scoped>\n",
       "    .dataframe tbody tr th:only-of-type {\n",
       "        vertical-align: middle;\n",
       "    }\n",
       "\n",
       "    .dataframe tbody tr th {\n",
       "        vertical-align: top;\n",
       "    }\n",
       "\n",
       "    .dataframe thead th {\n",
       "        text-align: right;\n",
       "    }\n",
       "</style>\n",
       "<table border=\"1\" class=\"dataframe\">\n",
       "  <thead>\n",
       "    <tr style=\"text-align: right;\">\n",
       "      <th></th>\n",
       "      <th>hex_7_pickup</th>\n",
       "      <th>Demand (D)</th>\n",
       "      <th>Humidity(%)</th>\n",
       "      <th>Pressure(hPa)</th>\n",
       "      <th>Temperature(C)</th>\n",
       "      <th>Wind Direction(Meteoro. Degree)</th>\n",
       "      <th>Wind Speed(M/S)</th>\n",
       "      <th>City Center Distance</th>\n",
       "      <th>Airport Distance</th>\n",
       "      <th>Holiday</th>\n",
       "      <th>...</th>\n",
       "      <th>Day</th>\n",
       "      <th>Dayofweek</th>\n",
       "      <th>Dayofyear</th>\n",
       "      <th>Is_month_end</th>\n",
       "      <th>Is_month_start</th>\n",
       "      <th>Is_quarter_end</th>\n",
       "      <th>Is_quarter_start</th>\n",
       "      <th>Is_year_end</th>\n",
       "      <th>Is_year_start</th>\n",
       "      <th>Elapsed</th>\n",
       "    </tr>\n",
       "  </thead>\n",
       "  <tbody>\n",
       "    <tr>\n",
       "      <th>0</th>\n",
       "      <td>608661331456819199</td>\n",
       "      <td>0.000000</td>\n",
       "      <td>100.0</td>\n",
       "      <td>1034.250777</td>\n",
       "      <td>-5.435774</td>\n",
       "      <td>249.09522</td>\n",
       "      <td>9.069681</td>\n",
       "      <td>25.700209</td>\n",
       "      <td>46.914475</td>\n",
       "      <td>True</td>\n",
       "      <td>...</td>\n",
       "      <td>1</td>\n",
       "      <td>3</td>\n",
       "      <td>1</td>\n",
       "      <td>False</td>\n",
       "      <td>True</td>\n",
       "      <td>False</td>\n",
       "      <td>True</td>\n",
       "      <td>False</td>\n",
       "      <td>True</td>\n",
       "      <td>1420070400</td>\n",
       "    </tr>\n",
       "    <tr>\n",
       "      <th>1</th>\n",
       "      <td>608661331540705279</td>\n",
       "      <td>0.693147</td>\n",
       "      <td>100.0</td>\n",
       "      <td>1034.250777</td>\n",
       "      <td>-5.435774</td>\n",
       "      <td>249.09522</td>\n",
       "      <td>9.069681</td>\n",
       "      <td>21.400592</td>\n",
       "      <td>41.959487</td>\n",
       "      <td>True</td>\n",
       "      <td>...</td>\n",
       "      <td>1</td>\n",
       "      <td>3</td>\n",
       "      <td>1</td>\n",
       "      <td>False</td>\n",
       "      <td>True</td>\n",
       "      <td>False</td>\n",
       "      <td>True</td>\n",
       "      <td>False</td>\n",
       "      <td>True</td>\n",
       "      <td>1420070400</td>\n",
       "    </tr>\n",
       "    <tr>\n",
       "      <th>2</th>\n",
       "      <td>608661346740862975</td>\n",
       "      <td>6.493754</td>\n",
       "      <td>100.0</td>\n",
       "      <td>1034.250777</td>\n",
       "      <td>-5.435774</td>\n",
       "      <td>249.09522</td>\n",
       "      <td>9.069681</td>\n",
       "      <td>16.027851</td>\n",
       "      <td>22.801143</td>\n",
       "      <td>True</td>\n",
       "      <td>...</td>\n",
       "      <td>1</td>\n",
       "      <td>3</td>\n",
       "      <td>1</td>\n",
       "      <td>False</td>\n",
       "      <td>True</td>\n",
       "      <td>False</td>\n",
       "      <td>True</td>\n",
       "      <td>False</td>\n",
       "      <td>True</td>\n",
       "      <td>1420070400</td>\n",
       "    </tr>\n",
       "    <tr>\n",
       "      <th>3</th>\n",
       "      <td>608661346757640191</td>\n",
       "      <td>1.098612</td>\n",
       "      <td>100.0</td>\n",
       "      <td>1034.250777</td>\n",
       "      <td>-5.435774</td>\n",
       "      <td>249.09522</td>\n",
       "      <td>9.069681</td>\n",
       "      <td>15.882880</td>\n",
       "      <td>25.185694</td>\n",
       "      <td>True</td>\n",
       "      <td>...</td>\n",
       "      <td>1</td>\n",
       "      <td>3</td>\n",
       "      <td>1</td>\n",
       "      <td>False</td>\n",
       "      <td>True</td>\n",
       "      <td>False</td>\n",
       "      <td>True</td>\n",
       "      <td>False</td>\n",
       "      <td>True</td>\n",
       "      <td>1420070400</td>\n",
       "    </tr>\n",
       "    <tr>\n",
       "      <th>4</th>\n",
       "      <td>608661346942189567</td>\n",
       "      <td>0.000000</td>\n",
       "      <td>100.0</td>\n",
       "      <td>1034.250777</td>\n",
       "      <td>-5.435774</td>\n",
       "      <td>249.09522</td>\n",
       "      <td>9.069681</td>\n",
       "      <td>16.123857</td>\n",
       "      <td>27.587471</td>\n",
       "      <td>True</td>\n",
       "      <td>...</td>\n",
       "      <td>1</td>\n",
       "      <td>3</td>\n",
       "      <td>1</td>\n",
       "      <td>False</td>\n",
       "      <td>True</td>\n",
       "      <td>False</td>\n",
       "      <td>True</td>\n",
       "      <td>False</td>\n",
       "      <td>True</td>\n",
       "      <td>1420070400</td>\n",
       "    </tr>\n",
       "  </tbody>\n",
       "</table>\n",
       "<p>5 rows × 23 columns</p>\n",
       "</div>"
      ],
      "text/plain": [
       "         hex_7_pickup  Demand (D)  Humidity(%)  Pressure(hPa)  Temperature(C)  \\\n",
       "0  608661331456819199    0.000000        100.0    1034.250777       -5.435774   \n",
       "1  608661331540705279    0.693147        100.0    1034.250777       -5.435774   \n",
       "2  608661346740862975    6.493754        100.0    1034.250777       -5.435774   \n",
       "3  608661346757640191    1.098612        100.0    1034.250777       -5.435774   \n",
       "4  608661346942189567    0.000000        100.0    1034.250777       -5.435774   \n",
       "\n",
       "   Wind Direction(Meteoro. Degree)  Wind Speed(M/S)  City Center Distance  \\\n",
       "0                        249.09522         9.069681             25.700209   \n",
       "1                        249.09522         9.069681             21.400592   \n",
       "2                        249.09522         9.069681             16.027851   \n",
       "3                        249.09522         9.069681             15.882880   \n",
       "4                        249.09522         9.069681             16.123857   \n",
       "\n",
       "   Airport Distance  Holiday  ...  Day  Dayofweek  Dayofyear  Is_month_end  \\\n",
       "0         46.914475     True  ...    1          3          1         False   \n",
       "1         41.959487     True  ...    1          3          1         False   \n",
       "2         22.801143     True  ...    1          3          1         False   \n",
       "3         25.185694     True  ...    1          3          1         False   \n",
       "4         27.587471     True  ...    1          3          1         False   \n",
       "\n",
       "   Is_month_start  Is_quarter_end  Is_quarter_start  Is_year_end  \\\n",
       "0            True           False              True        False   \n",
       "1            True           False              True        False   \n",
       "2            True           False              True        False   \n",
       "3            True           False              True        False   \n",
       "4            True           False              True        False   \n",
       "\n",
       "   Is_year_start     Elapsed  \n",
       "0           True  1420070400  \n",
       "1           True  1420070400  \n",
       "2           True  1420070400  \n",
       "3           True  1420070400  \n",
       "4           True  1420070400  \n",
       "\n",
       "[5 rows x 23 columns]"
      ]
     },
     "execution_count": 46,
     "metadata": {},
     "output_type": "execute_result"
    }
   ],
   "source": [
    "#Augmented data\n",
    "daily_demand_hex_7_train.head(5)"
   ]
  },
  {
   "cell_type": "code",
   "execution_count": 47,
   "metadata": {
    "scrolled": true
   },
   "outputs": [
    {
     "name": "stdout",
     "output_type": "stream",
     "text": [
      "Continuous variables:\n",
      "['Humidity(%)', 'Pressure(hPa)', 'Temperature(C)', 'Wind Direction(Meteoro. Degree)', 'Wind Speed(M/S)', 'City Center Distance', 'Airport Distance', 'Elapsed']\n",
      "\n",
      "Categorical variables:\n",
      "['Holiday', 'Year', 'Month', 'Day', 'Dayofweek', 'Is_month_end', 'Is_month_start', 'Is_quarter_end', 'Is_quarter_start', 'Is_year_end', 'Is_year_start', 'Dayofyear', 'Week', 'hex_7_pickup']\n"
     ]
    }
   ],
   "source": [
    "#Categorical and Continuous Variables\n",
    "print('Continuous variables:')\n",
    "print(cont_vars)\n",
    "print('\\nCategorical variables:')\n",
    "print(cat_vars)"
   ]
  },
  {
   "cell_type": "code",
   "execution_count": 48,
   "metadata": {
    "scrolled": true
   },
   "outputs": [],
   "source": [
    "# Target Extraction\n",
    "daily_demand_hex_7_train_target = daily_demand_hex_7_train.pop(target)\n",
    "daily_demand_hex_7_test_target = daily_demand_hex_7_test[target]\n",
    "X_test = daily_demand_hex_7_test.drop(columns=[target])"
   ]
  },
  {
   "cell_type": "code",
   "execution_count": 49,
   "metadata": {},
   "outputs": [
    {
     "data": {
      "text/plain": [
       "Pipeline(steps=[('preprocessor',\n",
       "                 ColumnTransformer(transformers=[('numerical scaler',\n",
       "                                                  Pipeline(steps=[('standard_scaler',\n",
       "                                                                   StandardScaler())]),\n",
       "                                                  ['Humidity(%)',\n",
       "                                                   'Pressure(hPa)',\n",
       "                                                   'Temperature(C)',\n",
       "                                                   'Wind Direction(Meteoro. '\n",
       "                                                   'Degree)',\n",
       "                                                   'Wind Speed(M/S)',\n",
       "                                                   'City Center Distance',\n",
       "                                                   'Airport Distance',\n",
       "                                                   'Elapsed']),\n",
       "                                                 ('one hot encoder',\n",
       "                                                  Pipeline(steps=[('one_hot_encoder',\n",
       "                                                                   OneHotEncoder(handle_unknown='ignore'))]),\n",
       "                                                  ['Holiday', 'Year', 'Month',\n",
       "                                                   'Day', 'Dayofweek',\n",
       "                                                   'Is_month_end',\n",
       "                                                   'Is_month_start',\n",
       "                                                   'Is_quarter_end',\n",
       "                                                   'Is_quarter_start',\n",
       "                                                   'Is_year_end',\n",
       "                                                   'Is_year_start', 'Dayofyear',\n",
       "                                                   'Week', 'hex_7_pickup'])])),\n",
       "                ('svr model',\n",
       "                 SVR(C=32, coef0=256, degree=2, epsilon=0.5, gamma=0.5,\n",
       "                     kernel='poly'))])"
      ]
     },
     "execution_count": 49,
     "metadata": {},
     "output_type": "execute_result"
    }
   ],
   "source": [
    "# Train same model with fitted hyperparameters\n",
    "svr_tuned = SVR(kernel='poly', degree=2, C=32, gamma=0.5, epsilon=0.5, coef0=256)\n",
    "\n",
    "pipeline = prediction_svm.make_pipeline_for_svm(cat_vars, cont_vars, svr_tuned)\n",
    "\n",
    "pipeline"
   ]
  },
  {
   "cell_type": "code",
   "execution_count": 50,
   "metadata": {},
   "outputs": [],
   "source": [
    "svr_tuned_fitted = pipeline.fit(daily_demand_hex_7_train, daily_demand_hex_7_train_target)"
   ]
  },
  {
   "cell_type": "code",
   "execution_count": 51,
   "metadata": {},
   "outputs": [
    {
     "name": "stdout",
     "output_type": "stream",
     "text": [
      "-------MODEL SCORES-------\n",
      "MAPE:  44.400 %\n",
      "sMAPE:  35.012 %\n",
      "MAE:  178.721\n",
      "MSE:  515523.767\n",
      "RMSE:  718.000\n",
      "R2:  93.938 %\n",
      "Max Residual Error:  13031.193\n"
     ]
    }
   ],
   "source": [
    "# Model Scores\n",
    "y_pred = pipeline.predict(X_test)\n",
    "\n",
    "prediction_utils.get_prediction_scores(y_true=np.exp(daily_demand_hex_7_test_target), \n",
    "                                       y_predicted=np.exp(y_pred), \n",
    "                                       s_mape=True,\n",
    "                                       prediction_type='svr')"
   ]
  },
  {
   "cell_type": "markdown",
   "metadata": {},
   "source": [
    "## Daily Model - Hex 6\n",
    "---\n",
    "\n",
    "In this section we build our svm model for demand prediction using hex 6 as our geographical attributes. We build different models and opt for the final model by comparing the overall evaluation metrics.\n",
    "\n",
    "---"
   ]
  },
  {
   "cell_type": "code",
   "execution_count": 52,
   "metadata": {},
   "outputs": [],
   "source": [
    "#Log transformation\n",
    "daily_demand_hex_6['Demand (D)'] = np.log(daily_demand_hex_6['Demand (D)'])"
   ]
  },
  {
   "cell_type": "code",
   "execution_count": 53,
   "metadata": {},
   "outputs": [],
   "source": [
    "daily_demand_hex_6, target, cont_vars, cat_vars = (prediction_utils.\n",
    "                                             preprocess_data_for_prediction(daily_demand_hex_6, \n",
    "                                                                            temporal_resolution='D'))"
   ]
  },
  {
   "cell_type": "code",
   "execution_count": 54,
   "metadata": {},
   "outputs": [],
   "source": [
    "#Train - Test Split\n",
    "daily_demand_hex_6_train, daily_demand_hex_6_test = prediction_svm.split_data_sets_for_svm(daily_demand_hex_6, test_size=0.2)"
   ]
  },
  {
   "cell_type": "code",
   "execution_count": 55,
   "metadata": {},
   "outputs": [
    {
     "data": {
      "text/html": [
       "<div>\n",
       "<style scoped>\n",
       "    .dataframe tbody tr th:only-of-type {\n",
       "        vertical-align: middle;\n",
       "    }\n",
       "\n",
       "    .dataframe tbody tr th {\n",
       "        vertical-align: top;\n",
       "    }\n",
       "\n",
       "    .dataframe thead th {\n",
       "        text-align: right;\n",
       "    }\n",
       "</style>\n",
       "<table border=\"1\" class=\"dataframe\">\n",
       "  <thead>\n",
       "    <tr style=\"text-align: right;\">\n",
       "      <th></th>\n",
       "      <th>hex_6_pickup</th>\n",
       "      <th>Demand (D)</th>\n",
       "      <th>Humidity(%)</th>\n",
       "      <th>Pressure(hPa)</th>\n",
       "      <th>Temperature(C)</th>\n",
       "      <th>Wind Direction(Meteoro. Degree)</th>\n",
       "      <th>Wind Speed(M/S)</th>\n",
       "      <th>City Center Distance</th>\n",
       "      <th>Airport Distance</th>\n",
       "      <th>Holiday</th>\n",
       "      <th>...</th>\n",
       "      <th>Day</th>\n",
       "      <th>Dayofweek</th>\n",
       "      <th>Dayofyear</th>\n",
       "      <th>Is_month_end</th>\n",
       "      <th>Is_month_start</th>\n",
       "      <th>Is_quarter_end</th>\n",
       "      <th>Is_quarter_start</th>\n",
       "      <th>Is_year_end</th>\n",
       "      <th>Is_year_start</th>\n",
       "      <th>Elapsed</th>\n",
       "    </tr>\n",
       "  </thead>\n",
       "  <tbody>\n",
       "    <tr>\n",
       "      <th>0</th>\n",
       "      <td>604157731930111999</td>\n",
       "      <td>1.098612</td>\n",
       "      <td>100.0</td>\n",
       "      <td>1034.250777</td>\n",
       "      <td>-5.435774</td>\n",
       "      <td>249.09522</td>\n",
       "      <td>9.069681</td>\n",
       "      <td>23.517915</td>\n",
       "      <td>44.436933</td>\n",
       "      <td>True</td>\n",
       "      <td>...</td>\n",
       "      <td>1</td>\n",
       "      <td>3</td>\n",
       "      <td>1</td>\n",
       "      <td>False</td>\n",
       "      <td>True</td>\n",
       "      <td>False</td>\n",
       "      <td>True</td>\n",
       "      <td>False</td>\n",
       "      <td>True</td>\n",
       "      <td>1420070400</td>\n",
       "    </tr>\n",
       "    <tr>\n",
       "      <th>1</th>\n",
       "      <td>604157731930111999</td>\n",
       "      <td>1.098612</td>\n",
       "      <td>100.0</td>\n",
       "      <td>1034.250777</td>\n",
       "      <td>-5.435774</td>\n",
       "      <td>249.09522</td>\n",
       "      <td>9.069681</td>\n",
       "      <td>23.517915</td>\n",
       "      <td>44.436933</td>\n",
       "      <td>True</td>\n",
       "      <td>...</td>\n",
       "      <td>1</td>\n",
       "      <td>3</td>\n",
       "      <td>1</td>\n",
       "      <td>False</td>\n",
       "      <td>True</td>\n",
       "      <td>False</td>\n",
       "      <td>True</td>\n",
       "      <td>False</td>\n",
       "      <td>True</td>\n",
       "      <td>1420070400</td>\n",
       "    </tr>\n",
       "    <tr>\n",
       "      <th>2</th>\n",
       "      <td>604157747230932991</td>\n",
       "      <td>6.498282</td>\n",
       "      <td>100.0</td>\n",
       "      <td>1034.250777</td>\n",
       "      <td>-5.435774</td>\n",
       "      <td>249.09522</td>\n",
       "      <td>9.069681</td>\n",
       "      <td>16.027851</td>\n",
       "      <td>22.801143</td>\n",
       "      <td>True</td>\n",
       "      <td>...</td>\n",
       "      <td>1</td>\n",
       "      <td>3</td>\n",
       "      <td>1</td>\n",
       "      <td>False</td>\n",
       "      <td>True</td>\n",
       "      <td>False</td>\n",
       "      <td>True</td>\n",
       "      <td>False</td>\n",
       "      <td>True</td>\n",
       "      <td>1420070400</td>\n",
       "    </tr>\n",
       "    <tr>\n",
       "      <th>3</th>\n",
       "      <td>604157747230932991</td>\n",
       "      <td>6.498282</td>\n",
       "      <td>100.0</td>\n",
       "      <td>1034.250777</td>\n",
       "      <td>-5.435774</td>\n",
       "      <td>249.09522</td>\n",
       "      <td>9.069681</td>\n",
       "      <td>16.027851</td>\n",
       "      <td>22.801143</td>\n",
       "      <td>True</td>\n",
       "      <td>...</td>\n",
       "      <td>1</td>\n",
       "      <td>3</td>\n",
       "      <td>1</td>\n",
       "      <td>False</td>\n",
       "      <td>True</td>\n",
       "      <td>False</td>\n",
       "      <td>True</td>\n",
       "      <td>False</td>\n",
       "      <td>True</td>\n",
       "      <td>1420070400</td>\n",
       "    </tr>\n",
       "    <tr>\n",
       "      <th>4</th>\n",
       "      <td>604157747365150719</td>\n",
       "      <td>1.386294</td>\n",
       "      <td>100.0</td>\n",
       "      <td>1034.250777</td>\n",
       "      <td>-5.435774</td>\n",
       "      <td>249.09522</td>\n",
       "      <td>9.069681</td>\n",
       "      <td>18.393286</td>\n",
       "      <td>29.242876</td>\n",
       "      <td>True</td>\n",
       "      <td>...</td>\n",
       "      <td>1</td>\n",
       "      <td>3</td>\n",
       "      <td>1</td>\n",
       "      <td>False</td>\n",
       "      <td>True</td>\n",
       "      <td>False</td>\n",
       "      <td>True</td>\n",
       "      <td>False</td>\n",
       "      <td>True</td>\n",
       "      <td>1420070400</td>\n",
       "    </tr>\n",
       "  </tbody>\n",
       "</table>\n",
       "<p>5 rows × 23 columns</p>\n",
       "</div>"
      ],
      "text/plain": [
       "         hex_6_pickup  Demand (D)  Humidity(%)  Pressure(hPa)  Temperature(C)  \\\n",
       "0  604157731930111999    1.098612        100.0    1034.250777       -5.435774   \n",
       "1  604157731930111999    1.098612        100.0    1034.250777       -5.435774   \n",
       "2  604157747230932991    6.498282        100.0    1034.250777       -5.435774   \n",
       "3  604157747230932991    6.498282        100.0    1034.250777       -5.435774   \n",
       "4  604157747365150719    1.386294        100.0    1034.250777       -5.435774   \n",
       "\n",
       "   Wind Direction(Meteoro. Degree)  Wind Speed(M/S)  City Center Distance  \\\n",
       "0                        249.09522         9.069681             23.517915   \n",
       "1                        249.09522         9.069681             23.517915   \n",
       "2                        249.09522         9.069681             16.027851   \n",
       "3                        249.09522         9.069681             16.027851   \n",
       "4                        249.09522         9.069681             18.393286   \n",
       "\n",
       "   Airport Distance  Holiday  ...  Day  Dayofweek  Dayofyear  Is_month_end  \\\n",
       "0         44.436933     True  ...    1          3          1         False   \n",
       "1         44.436933     True  ...    1          3          1         False   \n",
       "2         22.801143     True  ...    1          3          1         False   \n",
       "3         22.801143     True  ...    1          3          1         False   \n",
       "4         29.242876     True  ...    1          3          1         False   \n",
       "\n",
       "   Is_month_start  Is_quarter_end  Is_quarter_start  Is_year_end  \\\n",
       "0            True           False              True        False   \n",
       "1            True           False              True        False   \n",
       "2            True           False              True        False   \n",
       "3            True           False              True        False   \n",
       "4            True           False              True        False   \n",
       "\n",
       "   Is_year_start     Elapsed  \n",
       "0           True  1420070400  \n",
       "1           True  1420070400  \n",
       "2           True  1420070400  \n",
       "3           True  1420070400  \n",
       "4           True  1420070400  \n",
       "\n",
       "[5 rows x 23 columns]"
      ]
     },
     "execution_count": 55,
     "metadata": {},
     "output_type": "execute_result"
    }
   ],
   "source": [
    "#Augmented data\n",
    "daily_demand_hex_6_train.head(5)"
   ]
  },
  {
   "cell_type": "code",
   "execution_count": 56,
   "metadata": {
    "scrolled": true
   },
   "outputs": [
    {
     "name": "stdout",
     "output_type": "stream",
     "text": [
      "Continuous variables:\n",
      "['Humidity(%)', 'Pressure(hPa)', 'Temperature(C)', 'Wind Direction(Meteoro. Degree)', 'Wind Speed(M/S)', 'City Center Distance', 'Airport Distance', 'Elapsed']\n",
      "\n",
      "Categorical variables:\n",
      "['hex_6_pickup', 'Holiday', 'Year', 'Month', 'Day', 'Dayofweek', 'Is_month_end', 'Is_month_start', 'Is_quarter_end', 'Is_quarter_start', 'Is_year_end', 'Is_year_start', 'Dayofyear', 'Week']\n"
     ]
    }
   ],
   "source": [
    "#Categorical and Continuous Variables\n",
    "print('Continuous variables:')\n",
    "print(cont_vars)\n",
    "print('\\nCategorical variables:')\n",
    "print(cat_vars)"
   ]
  },
  {
   "cell_type": "code",
   "execution_count": 57,
   "metadata": {
    "scrolled": true
   },
   "outputs": [],
   "source": [
    "# Target Extraction\n",
    "daily_demand_hex_6_train_target = daily_demand_hex_6_train.pop(target)\n",
    "daily_demand_hex_6_test_target = daily_demand_hex_6_test[target]\n",
    "X_test = daily_demand_hex_6_test.drop(columns=[target])"
   ]
  },
  {
   "cell_type": "code",
   "execution_count": 58,
   "metadata": {},
   "outputs": [
    {
     "data": {
      "text/plain": [
       "Pipeline(steps=[('preprocessor',\n",
       "                 ColumnTransformer(transformers=[('numerical scaler',\n",
       "                                                  Pipeline(steps=[('standard_scaler',\n",
       "                                                                   StandardScaler())]),\n",
       "                                                  ['Humidity(%)',\n",
       "                                                   'Pressure(hPa)',\n",
       "                                                   'Temperature(C)',\n",
       "                                                   'Wind Direction(Meteoro. '\n",
       "                                                   'Degree)',\n",
       "                                                   'Wind Speed(M/S)',\n",
       "                                                   'City Center Distance',\n",
       "                                                   'Airport Distance',\n",
       "                                                   'Elapsed']),\n",
       "                                                 ('one hot encoder',\n",
       "                                                  Pipeline(steps=[('one_hot_encoder',\n",
       "                                                                   OneHotEncoder(handle_unknown='ignore'))]),\n",
       "                                                  ['hex_6_pickup', 'Holiday',\n",
       "                                                   'Year', 'Month', 'Day',\n",
       "                                                   'Dayofweek', 'Is_month_end',\n",
       "                                                   'Is_month_start',\n",
       "                                                   'Is_quarter_end',\n",
       "                                                   'Is_quarter_start',\n",
       "                                                   'Is_year_end',\n",
       "                                                   'Is_year_start', 'Dayofyear',\n",
       "                                                   'Week'])])),\n",
       "                ('svr model',\n",
       "                 SVR(C=32, coef0=256, degree=2, epsilon=0.5, gamma=0.5,\n",
       "                     kernel='poly'))])"
      ]
     },
     "execution_count": 58,
     "metadata": {},
     "output_type": "execute_result"
    }
   ],
   "source": [
    "# Train same model with fitted hyperparameters\n",
    "svr_tuned = SVR(kernel='poly', degree=2, C=32, gamma=0.5, epsilon=0.5, coef0=256)\n",
    "\n",
    "pipeline = prediction_svm.make_pipeline_for_svm(cat_vars, cont_vars, svr_tuned)\n",
    "\n",
    "pipeline"
   ]
  },
  {
   "cell_type": "code",
   "execution_count": 59,
   "metadata": {},
   "outputs": [],
   "source": [
    "svr_tuned_fitted = pipeline.fit(daily_demand_hex_6_train, daily_demand_hex_6_train_target)"
   ]
  },
  {
   "cell_type": "code",
   "execution_count": 60,
   "metadata": {},
   "outputs": [
    {
     "name": "stdout",
     "output_type": "stream",
     "text": [
      "-------MODEL SCORES-------\n",
      "MAPE:  45.451 %\n",
      "sMAPE:  32.101 %\n",
      "MAE:  551.743\n",
      "MSE:  4162838.324\n",
      "RMSE:  2040.303\n",
      "R2:  91.157 %\n",
      "Max Residual Error:  31007.687\n"
     ]
    }
   ],
   "source": [
    "# Model Scores\n",
    "y_pred = pipeline.predict(X_test)\n",
    "\n",
    "prediction_utils.get_prediction_scores(y_true=np.exp(daily_demand_hex_6_test_target), \n",
    "                                       y_predicted=np.exp(y_pred), \n",
    "                                       s_mape=True,\n",
    "                                       prediction_type='svr')"
   ]
  },
  {
   "cell_type": "code",
   "execution_count": 61,
   "metadata": {},
   "outputs": [],
   "source": [
    "#Memory Cleaning\n",
    "del daily_demand\n",
    "del daily_demand_hex_6\n",
    "del daily_demand_hex_7"
   ]
  },
  {
   "cell_type": "markdown",
   "metadata": {},
   "source": [
    "# 6h Models\n",
    "---"
   ]
  },
  {
   "cell_type": "markdown",
   "metadata": {},
   "source": [
    "## Data Preparation\n",
    "---"
   ]
  },
  {
   "cell_type": "code",
   "execution_count": 62,
   "metadata": {
    "pycharm": {
     "name": "#%%\n"
    }
   },
   "outputs": [],
   "source": [
    "# Takes few minutes to run (16 GB RAM)\n",
    "chicago_df = utils.read_parquet('Taxi_Trips_Cleaned.parquet',\n",
    "                                columns=['Trip ID','Trip Start Timestamp','Pickup Community Area',\n",
    "                                         'Dropoff Community Area'])\n",
    "weather_df = utils.read_parquet('Weather.parquet',columns = ['Trip Start Timestamp','Humidity(%)',\n",
    "                                    'Pressure(hPa)','Temperature(C)',\n",
    "                                    'Wind Direction(Meteoro. Degree)','Wind Speed(M/S)'])\n",
    "\n",
    "six_hour_demand = preprocessing.create_aggregated_data(df=chicago_df,weather_df=weather_df,temporal_resolution='6H')\n",
    "six_hour_demand_hex_7 = preprocessing.create_aggregated_data(df=chicago_df,weather_df=weather_df,temporal_resolution='6H',\n",
    "                                            use_hexes=True,hex_resolution=7)\n",
    "six_hour_demand_hex_6 = preprocessing.create_aggregated_data(df=chicago_df,weather_df=weather_df,temporal_resolution='6H',\n",
    "                                            use_hexes=True,hex_resolution=6)\n",
    "\n",
    "del chicago_df\n",
    "del weather_df"
   ]
  },
  {
   "cell_type": "markdown",
   "metadata": {},
   "source": [
    "### Feature Engineering\n",
    "---\n",
    "In this section we add the following spatial and temporal features to our data before prediction.\n",
    "- Distance to Chicago City Center\n",
    "- Distance to Chicago Airport\n",
    "- Holiday Events"
   ]
  },
  {
   "cell_type": "code",
   "execution_count": 63,
   "metadata": {},
   "outputs": [],
   "source": [
    "#Spatial Features\n",
    "six_hour_demand = feature_engineering.add_spatial_features(six_hour_demand)\n",
    "six_hour_demand_hex_7 = feature_engineering.add_spatial_features(six_hour_demand_hex_7,with_hex=7,hex_res=7)\n",
    "six_hour_demand_hex_6 = feature_engineering.add_spatial_features(six_hour_demand_hex_6,with_hex=6,hex_res=6)\n",
    "#Holidays\n",
    "six_hour_demand = feature_engineering.add_holidays(six_hour_demand)\n",
    "six_hour_demand_hex_6 = feature_engineering.add_holidays(six_hour_demand_hex_6)\n",
    "six_hour_demand_hex_7 = feature_engineering.add_holidays(six_hour_demand_hex_7)"
   ]
  },
  {
   "cell_type": "markdown",
   "metadata": {},
   "source": [
    "### Model Architecture\n",
    "---\n",
    "To gain a better understanding of our data and the amount of complexity needed in the svm architecture we first start our daily model by a simple linear kernel. After observing the behavoiur of the model we adjust the model. First by changing kernels, second by increasing/decreasing our hyperparameters. For the sake of brevity this notebook does not show all tested svm architectures."
   ]
  },
  {
   "cell_type": "markdown",
   "metadata": {},
   "source": [
    "### Suitable Metrics\n",
    "---\n",
    "To gain a better understanding which metrics we should apply to our problem we plot the prediction target to identify the distribution type."
   ]
  },
  {
   "cell_type": "code",
   "execution_count": 64,
   "metadata": {
    "pycharm": {
     "name": "#%%\n"
    }
   },
   "outputs": [
    {
     "data": {
      "image/png": "[encoded data removed]",
      "text/plain": [
       "<Figure size 432x288 with 1 Axes>"
      ]
     },
     "metadata": {
      "needs_background": "light"
     },
     "output_type": "display_data"
    }
   ],
   "source": [
    "six_hour_demand['Demand (6H)'].plot.hist()\n",
    "plt.show()"
   ]
  },
  {
   "cell_type": "markdown",
   "metadata": {},
   "source": [
    "As we expected the target is extremely skewed. Which would make the prediction metrics non telling. To tackle this obstacle, we transform the target logarithmically. And use the mean squared logarithmic error as our metric."
   ]
  },
  {
   "cell_type": "code",
   "execution_count": 65,
   "metadata": {
    "pycharm": {
     "name": "#%%\n"
    }
   },
   "outputs": [
    {
     "data": {
      "image/png": "[encoded data removed]",
      "text/plain": [
       "<Figure size 432x288 with 1 Axes>"
      ]
     },
     "metadata": {
      "needs_background": "light"
     },
     "output_type": "display_data"
    }
   ],
   "source": [
    "six_hour_demand['Demand (6H)'] = np.log(six_hour_demand['Demand (6H)'])\n",
    "six_hour_demand['Demand (6H)'].plot.hist()\n",
    "plt.show()"
   ]
  },
  {
   "cell_type": "markdown",
   "metadata": {
    "pycharm": {
     "name": "#%% md\n"
    }
   },
   "source": [
    "### Preprocessing\n",
    "---"
   ]
  },
  {
   "cell_type": "code",
   "execution_count": 66,
   "metadata": {},
   "outputs": [],
   "source": [
    "six_hour_demand, target, cont_vars, cat_vars = (prediction_utils.\n",
    "                                             preprocess_data_for_prediction(six_hour_demand, \n",
    "                                                                            temporal_resolution='6H'))"
   ]
  },
  {
   "cell_type": "code",
   "execution_count": 67,
   "metadata": {},
   "outputs": [
    {
     "data": {
      "text/html": [
       "<div>\n",
       "<style scoped>\n",
       "    .dataframe tbody tr th:only-of-type {\n",
       "        vertical-align: middle;\n",
       "    }\n",
       "\n",
       "    .dataframe tbody tr th {\n",
       "        vertical-align: top;\n",
       "    }\n",
       "\n",
       "    .dataframe thead th {\n",
       "        text-align: right;\n",
       "    }\n",
       "</style>\n",
       "<table border=\"1\" class=\"dataframe\">\n",
       "  <thead>\n",
       "    <tr style=\"text-align: right;\">\n",
       "      <th></th>\n",
       "      <th>Pickup Community Area</th>\n",
       "      <th>Demand (6H)</th>\n",
       "      <th>Humidity(%)</th>\n",
       "      <th>Pressure(hPa)</th>\n",
       "      <th>Temperature(C)</th>\n",
       "      <th>Wind Direction(Meteoro. Degree)</th>\n",
       "      <th>Wind Speed(M/S)</th>\n",
       "      <th>City Center Distance</th>\n",
       "      <th>Airport Distance</th>\n",
       "      <th>Holiday</th>\n",
       "      <th>...</th>\n",
       "      <th>Dayofweek</th>\n",
       "      <th>Dayofyear</th>\n",
       "      <th>Is_month_end</th>\n",
       "      <th>Is_month_start</th>\n",
       "      <th>Is_quarter_end</th>\n",
       "      <th>Is_quarter_start</th>\n",
       "      <th>Is_year_end</th>\n",
       "      <th>Is_year_start</th>\n",
       "      <th>Hour</th>\n",
       "      <th>Elapsed</th>\n",
       "    </tr>\n",
       "  </thead>\n",
       "  <tbody>\n",
       "    <tr>\n",
       "      <th>0</th>\n",
       "      <td>1</td>\n",
       "      <td>5.529429</td>\n",
       "      <td>100.0</td>\n",
       "      <td>1037.346969</td>\n",
       "      <td>-6.504509</td>\n",
       "      <td>247.772577</td>\n",
       "      <td>9.826516</td>\n",
       "      <td>14.731612</td>\n",
       "      <td>19.688474</td>\n",
       "      <td>False</td>\n",
       "      <td>...</td>\n",
       "      <td>2</td>\n",
       "      <td>365</td>\n",
       "      <td>True</td>\n",
       "      <td>False</td>\n",
       "      <td>True</td>\n",
       "      <td>False</td>\n",
       "      <td>True</td>\n",
       "      <td>False</td>\n",
       "      <td>23</td>\n",
       "      <td>1420066800</td>\n",
       "    </tr>\n",
       "    <tr>\n",
       "      <th>1</th>\n",
       "      <td>10</td>\n",
       "      <td>2.197225</td>\n",
       "      <td>100.0</td>\n",
       "      <td>1037.346969</td>\n",
       "      <td>-6.504509</td>\n",
       "      <td>247.772577</td>\n",
       "      <td>9.826516</td>\n",
       "      <td>18.830572</td>\n",
       "      <td>8.403423</td>\n",
       "      <td>False</td>\n",
       "      <td>...</td>\n",
       "      <td>2</td>\n",
       "      <td>365</td>\n",
       "      <td>True</td>\n",
       "      <td>False</td>\n",
       "      <td>True</td>\n",
       "      <td>False</td>\n",
       "      <td>True</td>\n",
       "      <td>False</td>\n",
       "      <td>23</td>\n",
       "      <td>1420066800</td>\n",
       "    </tr>\n",
       "    <tr>\n",
       "      <th>2</th>\n",
       "      <td>11</td>\n",
       "      <td>3.555348</td>\n",
       "      <td>100.0</td>\n",
       "      <td>1037.346969</td>\n",
       "      <td>-6.504509</td>\n",
       "      <td>247.772577</td>\n",
       "      <td>9.826516</td>\n",
       "      <td>16.315833</td>\n",
       "      <td>11.040063</td>\n",
       "      <td>False</td>\n",
       "      <td>...</td>\n",
       "      <td>2</td>\n",
       "      <td>365</td>\n",
       "      <td>True</td>\n",
       "      <td>False</td>\n",
       "      <td>True</td>\n",
       "      <td>False</td>\n",
       "      <td>True</td>\n",
       "      <td>False</td>\n",
       "      <td>23</td>\n",
       "      <td>1420066800</td>\n",
       "    </tr>\n",
       "    <tr>\n",
       "      <th>3</th>\n",
       "      <td>12</td>\n",
       "      <td>1.098612</td>\n",
       "      <td>100.0</td>\n",
       "      <td>1037.346969</td>\n",
       "      <td>-6.504509</td>\n",
       "      <td>247.772577</td>\n",
       "      <td>9.826516</td>\n",
       "      <td>16.744923</td>\n",
       "      <td>12.216892</td>\n",
       "      <td>False</td>\n",
       "      <td>...</td>\n",
       "      <td>2</td>\n",
       "      <td>365</td>\n",
       "      <td>True</td>\n",
       "      <td>False</td>\n",
       "      <td>True</td>\n",
       "      <td>False</td>\n",
       "      <td>True</td>\n",
       "      <td>False</td>\n",
       "      <td>23</td>\n",
       "      <td>1420066800</td>\n",
       "    </tr>\n",
       "    <tr>\n",
       "      <th>4</th>\n",
       "      <td>13</td>\n",
       "      <td>2.639057</td>\n",
       "      <td>100.0</td>\n",
       "      <td>1037.346969</td>\n",
       "      <td>-6.504509</td>\n",
       "      <td>247.772577</td>\n",
       "      <td>9.826516</td>\n",
       "      <td>14.040299</td>\n",
       "      <td>14.983269</td>\n",
       "      <td>False</td>\n",
       "      <td>...</td>\n",
       "      <td>2</td>\n",
       "      <td>365</td>\n",
       "      <td>True</td>\n",
       "      <td>False</td>\n",
       "      <td>True</td>\n",
       "      <td>False</td>\n",
       "      <td>True</td>\n",
       "      <td>False</td>\n",
       "      <td>23</td>\n",
       "      <td>1420066800</td>\n",
       "    </tr>\n",
       "  </tbody>\n",
       "</table>\n",
       "<p>5 rows × 24 columns</p>\n",
       "</div>"
      ],
      "text/plain": [
       "  Pickup Community Area  Demand (6H)  Humidity(%)  Pressure(hPa)  \\\n",
       "0                     1     5.529429        100.0    1037.346969   \n",
       "1                    10     2.197225        100.0    1037.346969   \n",
       "2                    11     3.555348        100.0    1037.346969   \n",
       "3                    12     1.098612        100.0    1037.346969   \n",
       "4                    13     2.639057        100.0    1037.346969   \n",
       "\n",
       "   Temperature(C)  Wind Direction(Meteoro. Degree)  Wind Speed(M/S)  \\\n",
       "0       -6.504509                       247.772577         9.826516   \n",
       "1       -6.504509                       247.772577         9.826516   \n",
       "2       -6.504509                       247.772577         9.826516   \n",
       "3       -6.504509                       247.772577         9.826516   \n",
       "4       -6.504509                       247.772577         9.826516   \n",
       "\n",
       "   City Center Distance  Airport Distance  Holiday  ...  Dayofweek  Dayofyear  \\\n",
       "0             14.731612         19.688474    False  ...          2        365   \n",
       "1             18.830572          8.403423    False  ...          2        365   \n",
       "2             16.315833         11.040063    False  ...          2        365   \n",
       "3             16.744923         12.216892    False  ...          2        365   \n",
       "4             14.040299         14.983269    False  ...          2        365   \n",
       "\n",
       "   Is_month_end  Is_month_start  Is_quarter_end  Is_quarter_start  \\\n",
       "0          True           False            True             False   \n",
       "1          True           False            True             False   \n",
       "2          True           False            True             False   \n",
       "3          True           False            True             False   \n",
       "4          True           False            True             False   \n",
       "\n",
       "   Is_year_end  Is_year_start  Hour     Elapsed  \n",
       "0         True          False    23  1420066800  \n",
       "1         True          False    23  1420066800  \n",
       "2         True          False    23  1420066800  \n",
       "3         True          False    23  1420066800  \n",
       "4         True          False    23  1420066800  \n",
       "\n",
       "[5 rows x 24 columns]"
      ]
     },
     "execution_count": 67,
     "metadata": {},
     "output_type": "execute_result"
    }
   ],
   "source": [
    "#Preprocessed data\n",
    "six_hour_demand.head(5)"
   ]
  },
  {
   "cell_type": "code",
   "execution_count": 68,
   "metadata": {
    "scrolled": false
   },
   "outputs": [],
   "source": [
    "#Train - Test Split\n",
    "six_hour_demand_train, six_hour_demand_test = prediction_svm.split_data_sets_for_svm(six_hour_demand, test_size=0.2)"
   ]
  },
  {
   "cell_type": "code",
   "execution_count": 69,
   "metadata": {
    "scrolled": false
   },
   "outputs": [
    {
     "name": "stdout",
     "output_type": "stream",
     "text": [
      "Continuous variables:\n",
      "['Humidity(%)', 'Pressure(hPa)', 'Temperature(C)', 'Wind Direction(Meteoro. Degree)', 'Wind Speed(M/S)', 'City Center Distance', 'Airport Distance', 'Elapsed']\n",
      "\n",
      "Categorical variables:\n",
      "['Pickup Community Area', 'Holiday', 'Year', 'Month', 'Day', 'Dayofweek', 'Is_month_end', 'Is_month_start', 'Is_quarter_end', 'Is_quarter_start', 'Is_year_end', 'Is_year_start', 'Hour', 'Dayofyear', 'Week']\n"
     ]
    }
   ],
   "source": [
    "#Categorical and Continuous Variables\n",
    "print('Continuous variables:')\n",
    "print(cont_vars)\n",
    "print('\\nCategorical variables:')\n",
    "print(cat_vars)"
   ]
  },
  {
   "cell_type": "markdown",
   "metadata": {},
   "source": [
    "## Model Building\n",
    "## 6h - Community Areas\n",
    "---\n",
    "\n",
    "In this section we build our svm model for demand prediction using community areas as our geographical attributes. we build different models and opt for the final model by comparing the overall evaluation metrics. Later on, we will use this model for prediction using differenct geographical attributes.\n",
    "\n",
    "---\n"
   ]
  },
  {
   "cell_type": "code",
   "execution_count": 70,
   "metadata": {},
   "outputs": [],
   "source": [
    "# Target Extraction\n",
    "six_hour_demand_train_target = six_hour_demand_train.pop(target)\n",
    "six_hour_demand_test_target = six_hour_demand_test[target]\n",
    "X_test = six_hour_demand_test.drop(columns=[target])"
   ]
  },
  {
   "cell_type": "markdown",
   "metadata": {},
   "source": [
    "### SVM Model With Linear Kernel\n",
    "\n",
    "- without regularization\n",
    "- using default values for hyperparameters\n",
    "---"
   ]
  },
  {
   "cell_type": "code",
   "execution_count": 71,
   "metadata": {},
   "outputs": [
    {
     "data": {
      "text/plain": [
       "Pipeline(steps=[('preprocessor',\n",
       "                 ColumnTransformer(transformers=[('numerical scaler',\n",
       "                                                  Pipeline(steps=[('standard_scaler',\n",
       "                                                                   StandardScaler())]),\n",
       "                                                  ['Humidity(%)',\n",
       "                                                   'Pressure(hPa)',\n",
       "                                                   'Temperature(C)',\n",
       "                                                   'Wind Direction(Meteoro. '\n",
       "                                                   'Degree)',\n",
       "                                                   'Wind Speed(M/S)',\n",
       "                                                   'City Center Distance',\n",
       "                                                   'Airport Distance',\n",
       "                                                   'Elapsed']),\n",
       "                                                 ('one hot encoder',\n",
       "                                                  Pipeline(steps=[('one_hot_encoder',\n",
       "                                                                   OneHotEncoder(handle_unknown='ignore'))]),\n",
       "                                                  ['Pickup Community Area',\n",
       "                                                   'Holiday', 'Year', 'Month',\n",
       "                                                   'Day', 'Dayofweek',\n",
       "                                                   'Is_month_end',\n",
       "                                                   'Is_month_start',\n",
       "                                                   'Is_quarter_end',\n",
       "                                                   'Is_quarter_start',\n",
       "                                                   'Is_year_end',\n",
       "                                                   'Is_year_start', 'Hour',\n",
       "                                                   'Dayofyear', 'Week'])])),\n",
       "                ('svr model', SVR(kernel='linear'))])"
      ]
     },
     "execution_count": 71,
     "metadata": {},
     "output_type": "execute_result"
    }
   ],
   "source": [
    "svr_linear = SVR(kernel='linear')\n",
    "\n",
    "pipeline = prediction_svm.make_pipeline_for_svm(cat_vars, cont_vars, svr_linear)\n",
    "\n",
    "pipeline"
   ]
  },
  {
   "cell_type": "code",
   "execution_count": 72,
   "metadata": {
    "scrolled": true
   },
   "outputs": [],
   "source": [
    "# Training SVM Linear Kernel\n",
    "svr_linear_fitted = pipeline.fit(six_hour_demand_train, six_hour_demand_train_target)"
   ]
  },
  {
   "cell_type": "markdown",
   "metadata": {},
   "source": [
    "#### Linear Model Evaluation\n",
    "---\n",
    "To get the result for our baseline linear model we use the test set for evaluation"
   ]
  },
  {
   "cell_type": "code",
   "execution_count": 73,
   "metadata": {
    "scrolled": true
   },
   "outputs": [
    {
     "name": "stdout",
     "output_type": "stream",
     "text": [
      "-------MODEL SCORES-------\n",
      "MAPE:  55.179 %\n",
      "sMAPE:  44.379 %\n",
      "MAE:  107.797\n",
      "MSE:  221465.679\n",
      "RMSE:  470.601\n",
      "R2:  73.752 %\n",
      "Max Residual Error:  6302.095\n"
     ]
    }
   ],
   "source": [
    "# Model Scores\n",
    "y_pred = pipeline.predict(X_test)\n",
    "\n",
    "prediction_utils.get_prediction_scores(y_true=np.exp(six_hour_demand_test_target), \n",
    "                                       y_predicted=np.exp(y_pred), \n",
    "                                       s_mape=True,\n",
    "                                       prediction_type='svr')"
   ]
  },
  {
   "cell_type": "markdown",
   "metadata": {},
   "source": [
    "The above shows the result of our first model. We see that a linear model is already quite a good fit, by catching 90% of the variability of the dependent variable. Still, other metrics demonstrate some downsights e.g. the mean average error exhibits a value of over 200 trips. "
   ]
  },
  {
   "cell_type": "markdown",
   "metadata": {},
   "source": [
    "### SVM Model With Polynomial Kernel\n",
    "\n",
    "Analogously, we create a further baseline model by just changing the kernel to a polynomial one. This contributes to later on being able to select the best performing kernel. \n",
    "\n",
    "As degree one has already been build above, we proceed with degree two. Afterwards, we try higher degrees as long as our metrics are improving.\n",
    "\n",
    "---"
   ]
  },
  {
   "cell_type": "markdown",
   "metadata": {},
   "source": [
    "#### Degree 2\n",
    "---"
   ]
  },
  {
   "cell_type": "code",
   "execution_count": 74,
   "metadata": {},
   "outputs": [
    {
     "data": {
      "text/plain": [
       "Pipeline(steps=[('preprocessor',\n",
       "                 ColumnTransformer(transformers=[('numerical scaler',\n",
       "                                                  Pipeline(steps=[('standard_scaler',\n",
       "                                                                   StandardScaler())]),\n",
       "                                                  ['Humidity(%)',\n",
       "                                                   'Pressure(hPa)',\n",
       "                                                   'Temperature(C)',\n",
       "                                                   'Wind Direction(Meteoro. '\n",
       "                                                   'Degree)',\n",
       "                                                   'Wind Speed(M/S)',\n",
       "                                                   'City Center Distance',\n",
       "                                                   'Airport Distance',\n",
       "                                                   'Elapsed']),\n",
       "                                                 ('one hot encoder',\n",
       "                                                  Pipeline(steps=[('one_hot_encoder',\n",
       "                                                                   OneHotEncoder(handle_unknown='ignore'))]),\n",
       "                                                  ['Pickup Community Area',\n",
       "                                                   'Holiday', 'Year', 'Month',\n",
       "                                                   'Day', 'Dayofweek',\n",
       "                                                   'Is_month_end',\n",
       "                                                   'Is_month_start',\n",
       "                                                   'Is_quarter_end',\n",
       "                                                   'Is_quarter_start',\n",
       "                                                   'Is_year_end',\n",
       "                                                   'Is_year_start', 'Hour',\n",
       "                                                   'Dayofyear', 'Week'])])),\n",
       "                ('svr model', SVR(degree=2, kernel='poly'))])"
      ]
     },
     "execution_count": 74,
     "metadata": {},
     "output_type": "execute_result"
    }
   ],
   "source": [
    "svr_poly_2 = SVR(kernel='poly', degree=2)\n",
    "\n",
    "pipeline = prediction_svm.make_pipeline_for_svm(cat_vars, cont_vars, svr_poly_2)\n",
    "\n",
    "pipeline"
   ]
  },
  {
   "cell_type": "code",
   "execution_count": 75,
   "metadata": {
    "scrolled": true
   },
   "outputs": [],
   "source": [
    "# Training SVM Polynomial Degree 2 Kernel\n",
    "svr_poly_2_fitted = pipeline.fit(six_hour_demand_train, six_hour_demand_train_target)"
   ]
  },
  {
   "cell_type": "markdown",
   "metadata": {},
   "source": [
    "#### Polynomial Model Evaluation (degree 2)\n",
    "---\n",
    "To get the result for our baseline polynomial model with degree 2 we use the test set for evaluation"
   ]
  },
  {
   "cell_type": "code",
   "execution_count": 76,
   "metadata": {
    "scrolled": true
   },
   "outputs": [
    {
     "name": "stdout",
     "output_type": "stream",
     "text": [
      "-------MODEL SCORES-------\n",
      "MAPE:  51.647 %\n",
      "sMAPE:  37.305 %\n",
      "MAE:  65.844\n",
      "MSE:  85149.208\n",
      "RMSE:  291.803\n",
      "R2:  89.908 %\n",
      "Max Residual Error:  5705.277\n"
     ]
    }
   ],
   "source": [
    "# Model Scores\n",
    "y_pred = pipeline.predict(X_test)\n",
    "\n",
    "prediction_utils.get_prediction_scores(y_true=np.exp(six_hour_demand_test_target), \n",
    "                                       y_predicted=np.exp(y_pred), \n",
    "                                       s_mape=True,\n",
    "                                       prediction_type='svr')"
   ]
  },
  {
   "cell_type": "markdown",
   "metadata": {},
   "source": [
    "The above shows the result of our first model. We obwerve a significant improvement in cotrast to the linear model, as now the mean absolute error decresed to less than 200, namely 180, while also improving catching the variance with 92%."
   ]
  },
  {
   "cell_type": "markdown",
   "metadata": {},
   "source": [
    "#### Degree 3\n",
    "---"
   ]
  },
  {
   "cell_type": "code",
   "execution_count": 77,
   "metadata": {},
   "outputs": [
    {
     "data": {
      "text/plain": [
       "Pipeline(steps=[('preprocessor',\n",
       "                 ColumnTransformer(transformers=[('numerical scaler',\n",
       "                                                  Pipeline(steps=[('standard_scaler',\n",
       "                                                                   StandardScaler())]),\n",
       "                                                  ['Humidity(%)',\n",
       "                                                   'Pressure(hPa)',\n",
       "                                                   'Temperature(C)',\n",
       "                                                   'Wind Direction(Meteoro. '\n",
       "                                                   'Degree)',\n",
       "                                                   'Wind Speed(M/S)',\n",
       "                                                   'City Center Distance',\n",
       "                                                   'Airport Distance',\n",
       "                                                   'Elapsed']),\n",
       "                                                 ('one hot encoder',\n",
       "                                                  Pipeline(steps=[('one_hot_encoder',\n",
       "                                                                   OneHotEncoder(handle_unknown='ignore'))]),\n",
       "                                                  ['Pickup Community Area',\n",
       "                                                   'Holiday', 'Year', 'Month',\n",
       "                                                   'Day', 'Dayofweek',\n",
       "                                                   'Is_month_end',\n",
       "                                                   'Is_month_start',\n",
       "                                                   'Is_quarter_end',\n",
       "                                                   'Is_quarter_start',\n",
       "                                                   'Is_year_end',\n",
       "                                                   'Is_year_start', 'Hour',\n",
       "                                                   'Dayofyear', 'Week'])])),\n",
       "                ('svr model', SVR(kernel='poly'))])"
      ]
     },
     "execution_count": 77,
     "metadata": {},
     "output_type": "execute_result"
    }
   ],
   "source": [
    "svr_poly_3 = SVR(kernel='poly', degree=3)\n",
    "\n",
    "pipeline = prediction_svm.make_pipeline_for_svm(cat_vars, cont_vars, svr_poly_3)\n",
    "\n",
    "pipeline"
   ]
  },
  {
   "cell_type": "code",
   "execution_count": 78,
   "metadata": {
    "scrolled": true
   },
   "outputs": [],
   "source": [
    "# Training SVM Polynomial Degree 3 Kernel\n",
    "svr_poly_3_fitted = pipeline.fit(six_hour_demand_train, six_hour_demand_train_target)"
   ]
  },
  {
   "cell_type": "code",
   "execution_count": 79,
   "metadata": {
    "scrolled": true
   },
   "outputs": [
    {
     "name": "stdout",
     "output_type": "stream",
     "text": [
      "-------MODEL SCORES-------\n",
      "MAPE:  53.230 %\n",
      "sMAPE:  37.779 %\n",
      "MAE:  63.345\n",
      "MSE:  79479.762\n",
      "RMSE:  281.922\n",
      "R2:  90.580 %\n",
      "Max Residual Error:  5872.099\n"
     ]
    }
   ],
   "source": [
    "# Model Scores\n",
    "y_pred = pipeline.predict(X_test)\n",
    "\n",
    "prediction_utils.get_prediction_scores(y_true=np.exp(six_hour_demand_test_target), \n",
    "                                       y_predicted=np.exp(y_pred), \n",
    "                                       s_mape=True,\n",
    "                                       prediction_type='svr')"
   ]
  },
  {
   "cell_type": "markdown",
   "metadata": {},
   "source": [
    "### SVM Model With RBF Kernel\n",
    "---"
   ]
  },
  {
   "cell_type": "code",
   "execution_count": 80,
   "metadata": {},
   "outputs": [
    {
     "data": {
      "text/plain": [
       "Pipeline(steps=[('preprocessor',\n",
       "                 ColumnTransformer(transformers=[('numerical scaler',\n",
       "                                                  Pipeline(steps=[('standard_scaler',\n",
       "                                                                   StandardScaler())]),\n",
       "                                                  ['Humidity(%)',\n",
       "                                                   'Pressure(hPa)',\n",
       "                                                   'Temperature(C)',\n",
       "                                                   'Wind Direction(Meteoro. '\n",
       "                                                   'Degree)',\n",
       "                                                   'Wind Speed(M/S)',\n",
       "                                                   'City Center Distance',\n",
       "                                                   'Airport Distance',\n",
       "                                                   'Elapsed']),\n",
       "                                                 ('one hot encoder',\n",
       "                                                  Pipeline(steps=[('one_hot_encoder',\n",
       "                                                                   OneHotEncoder(handle_unknown='ignore'))]),\n",
       "                                                  ['Pickup Community Area',\n",
       "                                                   'Holiday', 'Year', 'Month',\n",
       "                                                   'Day', 'Dayofweek',\n",
       "                                                   'Is_month_end',\n",
       "                                                   'Is_month_start',\n",
       "                                                   'Is_quarter_end',\n",
       "                                                   'Is_quarter_start',\n",
       "                                                   'Is_year_end',\n",
       "                                                   'Is_year_start', 'Hour',\n",
       "                                                   'Dayofyear', 'Week'])])),\n",
       "                ('svr model', SVR())])"
      ]
     },
     "execution_count": 80,
     "metadata": {},
     "output_type": "execute_result"
    }
   ],
   "source": [
    "svr_rbf = SVR(kernel='rbf')\n",
    "\n",
    "pipeline = prediction_svm.make_pipeline_for_svm(cat_vars, cont_vars, svr_rbf)\n",
    "\n",
    "pipeline"
   ]
  },
  {
   "cell_type": "code",
   "execution_count": 81,
   "metadata": {
    "scrolled": true
   },
   "outputs": [],
   "source": [
    "# Training SVM RBF Kernel\n",
    "svr_rbf_fitted = pipeline.fit(six_hour_demand_train, six_hour_demand_train_target)"
   ]
  },
  {
   "cell_type": "code",
   "execution_count": 82,
   "metadata": {
    "scrolled": true
   },
   "outputs": [
    {
     "name": "stdout",
     "output_type": "stream",
     "text": [
      "-------MODEL SCORES-------\n",
      "MAPE:  68.438 %\n",
      "sMAPE:  43.981 %\n",
      "MAE:  83.798\n",
      "MSE:  158496.028\n",
      "RMSE:  398.116\n",
      "R2:  81.215 %\n",
      "Max Residual Error:  6994.572\n"
     ]
    }
   ],
   "source": [
    "# Model Scores\n",
    "y_pred = pipeline.predict(X_test)\n",
    "\n",
    "prediction_utils.get_prediction_scores(y_true=np.exp(six_hour_demand_test_target), \n",
    "                                       y_predicted=np.exp(y_pred), \n",
    "                                       s_mape=True,\n",
    "                                       prediction_type='svr')"
   ]
  },
  {
   "cell_type": "markdown",
   "metadata": {},
   "source": [
    "Overfit to training data -> tune hyperparameter!"
   ]
  },
  {
   "cell_type": "markdown",
   "metadata": {},
   "source": [
    "## Hyperparameter Tunig for Final Model\n",
    "---\n",
    "\n",
    "We perform a grid search with five time series splits on the training set using our final model.\n",
    "\n",
    "Doing so, we tune the following hyper parameters to avoid overfitting:\n",
    "- Regularization\n",
    "- Independent term in kernel function\n",
    "- Epsilon (Kernel coefficient)\n",
    "- Gamma (area within which no penalty is associated in the training loss function with predictions within the distance epsilon from the actual value)"
   ]
  },
  {
   "cell_type": "code",
   "execution_count": 83,
   "metadata": {},
   "outputs": [
    {
     "data": {
      "text/plain": [
       "Pipeline(steps=[('preprocessor',\n",
       "                 ColumnTransformer(transformers=[('numerical scaler',\n",
       "                                                  Pipeline(steps=[('standard_scaler',\n",
       "                                                                   StandardScaler())]),\n",
       "                                                  ['Humidity(%)',\n",
       "                                                   'Pressure(hPa)',\n",
       "                                                   'Temperature(C)',\n",
       "                                                   'Wind Direction(Meteoro. '\n",
       "                                                   'Degree)',\n",
       "                                                   'Wind Speed(M/S)',\n",
       "                                                   'City Center Distance',\n",
       "                                                   'Airport Distance',\n",
       "                                                   'Elapsed']),\n",
       "                                                 ('one hot encoder',\n",
       "                                                  Pipeline(steps=[('one_hot_encoder',\n",
       "                                                                   OneHotEncoder(handle_unknown='ignore'))]),\n",
       "                                                  ['Pickup Community Area',\n",
       "                                                   'Holiday', 'Year', 'Month',\n",
       "                                                   'Day', 'Dayofweek',\n",
       "                                                   'Is_month_end',\n",
       "                                                   'Is_month_start',\n",
       "                                                   'Is_quarter_end',\n",
       "                                                   'Is_quarter_start',\n",
       "                                                   'Is_year_end',\n",
       "                                                   'Is_year_start', 'Hour',\n",
       "                                                   'Dayofyear', 'Week'])])),\n",
       "                ('svr model', SVR(degree=2, kernel='poly'))])"
      ]
     },
     "execution_count": 83,
     "metadata": {},
     "output_type": "execute_result"
    }
   ],
   "source": [
    "svr_poly_2 = SVR(kernel='poly', degree=2)\n",
    "\n",
    "pipeline = prediction_svm.make_pipeline_for_svm(cat_vars, cont_vars, svr_poly_2)\n",
    "\n",
    "pipeline"
   ]
  },
  {
   "cell_type": "code",
   "execution_count": 90,
   "metadata": {},
   "outputs": [],
   "source": [
    "# Define Model Parameters for Grid Search [0.5, 4, 32, 256]\n",
    "model_params = {\n",
    "                'svr model__C':[2**j for j in range(-1,10,3)],        \n",
    "                'svr model__epsilon':[2**j for j in range(-1,10,3)],  \n",
    "                'svr model__coef0':[2**j for j in range(-1,10,3)],    \n",
    "                'svr model__gamma':[2**j for j in range(-1,10,3)]    \n",
    "                }"
   ]
  },
  {
   "cell_type": "code",
   "execution_count": 91,
   "metadata": {
    "scrolled": false
   },
   "outputs": [
    {
     "name": "stdout",
     "output_type": "stream",
     "text": [
      "Running grid search for the model based on neg_mean_absolute_error\n",
      "Fitting 5 folds for each of 100 candidates, totalling 500 fits\n"
     ]
    },
    {
     "ename": "KeyboardInterrupt",
     "evalue": "",
     "output_type": "error",
     "traceback": [
      "\u001B[0;31m---------------------------------------------------------------------------\u001B[0m",
      "\u001B[0;31mKeyboardInterrupt\u001B[0m                         Traceback (most recent call last)",
      "\u001B[0;32m<ipython-input-91-32d226b7d433>\u001B[0m in \u001B[0;36m<module>\u001B[0;34m\u001B[0m\n\u001B[1;32m      1\u001B[0m \u001B[0;31m# Grid Search\u001B[0m\u001B[0;34m\u001B[0m\u001B[0;34m\u001B[0m\u001B[0;34m\u001B[0m\u001B[0m\n\u001B[0;32m----> 2\u001B[0;31m prediction_svm.find_best_parameters_for_model(pipeline, \n\u001B[0m\u001B[1;32m      3\u001B[0m                                               \u001B[0msix_hour_demand_train\u001B[0m\u001B[0;34m,\u001B[0m\u001B[0;34m\u001B[0m\u001B[0;34m\u001B[0m\u001B[0m\n\u001B[1;32m      4\u001B[0m                                               \u001B[0msix_hour_demand_train_target\u001B[0m\u001B[0;34m,\u001B[0m\u001B[0;34m\u001B[0m\u001B[0;34m\u001B[0m\u001B[0m\n\u001B[1;32m      5\u001B[0m                                               \u001B[0mmodel_params\u001B[0m\u001B[0;34m,\u001B[0m\u001B[0;34m\u001B[0m\u001B[0;34m\u001B[0m\u001B[0m\n",
      "\u001B[0;32m~/git/aaa21/prediction_svm.py\u001B[0m in \u001B[0;36mfind_best_parameters_for_model\u001B[0;34m(pipeline, X_train, y_train, model_params, scoring, n_iter, verbose)\u001B[0m\n\u001B[1;32m     60\u001B[0m         \u001B[0mverbose\u001B[0m\u001B[0;34m=\u001B[0m\u001B[0mverbose\u001B[0m\u001B[0;34m,\u001B[0m\u001B[0;34m\u001B[0m\u001B[0;34m\u001B[0m\u001B[0m\n\u001B[1;32m     61\u001B[0m     )\n\u001B[0;32m---> 62\u001B[0;31m     \u001B[0mgrid_pipeline\u001B[0m\u001B[0;34m.\u001B[0m\u001B[0mfit\u001B[0m\u001B[0;34m(\u001B[0m\u001B[0mX_train\u001B[0m\u001B[0;34m,\u001B[0m \u001B[0my_train\u001B[0m\u001B[0;34m)\u001B[0m\u001B[0;34m\u001B[0m\u001B[0;34m\u001B[0m\u001B[0m\n\u001B[0m\u001B[1;32m     63\u001B[0m     \u001B[0mprint\u001B[0m\u001B[0;34m(\u001B[0m\u001B[0;34mf\"Best {scoring} Score was: {grid_pipeline.best_score_}\"\u001B[0m\u001B[0;34m)\u001B[0m\u001B[0;34m\u001B[0m\u001B[0;34m\u001B[0m\u001B[0m\n\u001B[1;32m     64\u001B[0m     \u001B[0mprint\u001B[0m\u001B[0;34m(\u001B[0m\u001B[0;34mf\"The best hyper parameters for the model are:\"\u001B[0m\u001B[0;34m)\u001B[0m\u001B[0;34m\u001B[0m\u001B[0;34m\u001B[0m\u001B[0m\n",
      "\u001B[0;32m~/opt/anaconda3/envs/aaa21/lib/python3.9/site-packages/sklearn/utils/validation.py\u001B[0m in \u001B[0;36minner_f\u001B[0;34m(*args, **kwargs)\u001B[0m\n\u001B[1;32m     61\u001B[0m             \u001B[0mextra_args\u001B[0m \u001B[0;34m=\u001B[0m \u001B[0mlen\u001B[0m\u001B[0;34m(\u001B[0m\u001B[0margs\u001B[0m\u001B[0;34m)\u001B[0m \u001B[0;34m-\u001B[0m \u001B[0mlen\u001B[0m\u001B[0;34m(\u001B[0m\u001B[0mall_args\u001B[0m\u001B[0;34m)\u001B[0m\u001B[0;34m\u001B[0m\u001B[0;34m\u001B[0m\u001B[0m\n\u001B[1;32m     62\u001B[0m             \u001B[0;32mif\u001B[0m \u001B[0mextra_args\u001B[0m \u001B[0;34m<=\u001B[0m \u001B[0;36m0\u001B[0m\u001B[0;34m:\u001B[0m\u001B[0;34m\u001B[0m\u001B[0;34m\u001B[0m\u001B[0m\n\u001B[0;32m---> 63\u001B[0;31m                 \u001B[0;32mreturn\u001B[0m \u001B[0mf\u001B[0m\u001B[0;34m(\u001B[0m\u001B[0;34m*\u001B[0m\u001B[0margs\u001B[0m\u001B[0;34m,\u001B[0m \u001B[0;34m**\u001B[0m\u001B[0mkwargs\u001B[0m\u001B[0;34m)\u001B[0m\u001B[0;34m\u001B[0m\u001B[0;34m\u001B[0m\u001B[0m\n\u001B[0m\u001B[1;32m     64\u001B[0m \u001B[0;34m\u001B[0m\u001B[0m\n\u001B[1;32m     65\u001B[0m             \u001B[0;31m# extra_args > 0\u001B[0m\u001B[0;34m\u001B[0m\u001B[0;34m\u001B[0m\u001B[0;34m\u001B[0m\u001B[0m\n",
      "\u001B[0;32m~/opt/anaconda3/envs/aaa21/lib/python3.9/site-packages/sklearn/model_selection/_search.py\u001B[0m in \u001B[0;36mfit\u001B[0;34m(self, X, y, groups, **fit_params)\u001B[0m\n\u001B[1;32m    839\u001B[0m                 \u001B[0;32mreturn\u001B[0m \u001B[0mresults\u001B[0m\u001B[0;34m\u001B[0m\u001B[0;34m\u001B[0m\u001B[0m\n\u001B[1;32m    840\u001B[0m \u001B[0;34m\u001B[0m\u001B[0m\n\u001B[0;32m--> 841\u001B[0;31m             \u001B[0mself\u001B[0m\u001B[0;34m.\u001B[0m\u001B[0m_run_search\u001B[0m\u001B[0;34m(\u001B[0m\u001B[0mevaluate_candidates\u001B[0m\u001B[0;34m)\u001B[0m\u001B[0;34m\u001B[0m\u001B[0;34m\u001B[0m\u001B[0m\n\u001B[0m\u001B[1;32m    842\u001B[0m \u001B[0;34m\u001B[0m\u001B[0m\n\u001B[1;32m    843\u001B[0m             \u001B[0;31m# multimetric is determined here because in the case of a callable\u001B[0m\u001B[0;34m\u001B[0m\u001B[0;34m\u001B[0m\u001B[0;34m\u001B[0m\u001B[0m\n",
      "\u001B[0;32m~/opt/anaconda3/envs/aaa21/lib/python3.9/site-packages/sklearn/model_selection/_search.py\u001B[0m in \u001B[0;36m_run_search\u001B[0;34m(self, evaluate_candidates)\u001B[0m\n\u001B[1;32m   1631\u001B[0m     \u001B[0;32mdef\u001B[0m \u001B[0m_run_search\u001B[0m\u001B[0;34m(\u001B[0m\u001B[0mself\u001B[0m\u001B[0;34m,\u001B[0m \u001B[0mevaluate_candidates\u001B[0m\u001B[0;34m)\u001B[0m\u001B[0;34m:\u001B[0m\u001B[0;34m\u001B[0m\u001B[0;34m\u001B[0m\u001B[0m\n\u001B[1;32m   1632\u001B[0m         \u001B[0;34m\"\"\"Search n_iter candidates from param_distributions\"\"\"\u001B[0m\u001B[0;34m\u001B[0m\u001B[0;34m\u001B[0m\u001B[0m\n\u001B[0;32m-> 1633\u001B[0;31m         evaluate_candidates(ParameterSampler(\n\u001B[0m\u001B[1;32m   1634\u001B[0m             \u001B[0mself\u001B[0m\u001B[0;34m.\u001B[0m\u001B[0mparam_distributions\u001B[0m\u001B[0;34m,\u001B[0m \u001B[0mself\u001B[0m\u001B[0;34m.\u001B[0m\u001B[0mn_iter\u001B[0m\u001B[0;34m,\u001B[0m\u001B[0;34m\u001B[0m\u001B[0;34m\u001B[0m\u001B[0m\n\u001B[1;32m   1635\u001B[0m             random_state=self.random_state))\n",
      "\u001B[0;32m~/opt/anaconda3/envs/aaa21/lib/python3.9/site-packages/sklearn/model_selection/_search.py\u001B[0m in \u001B[0;36mevaluate_candidates\u001B[0;34m(candidate_params, cv, more_results)\u001B[0m\n\u001B[1;32m    793\u001B[0m                               n_splits, n_candidates, n_candidates * n_splits))\n\u001B[1;32m    794\u001B[0m \u001B[0;34m\u001B[0m\u001B[0m\n\u001B[0;32m--> 795\u001B[0;31m                 out = parallel(delayed(_fit_and_score)(clone(base_estimator),\n\u001B[0m\u001B[1;32m    796\u001B[0m                                                        \u001B[0mX\u001B[0m\u001B[0;34m,\u001B[0m \u001B[0my\u001B[0m\u001B[0;34m,\u001B[0m\u001B[0;34m\u001B[0m\u001B[0;34m\u001B[0m\u001B[0m\n\u001B[1;32m    797\u001B[0m                                                        \u001B[0mtrain\u001B[0m\u001B[0;34m=\u001B[0m\u001B[0mtrain\u001B[0m\u001B[0;34m,\u001B[0m \u001B[0mtest\u001B[0m\u001B[0;34m=\u001B[0m\u001B[0mtest\u001B[0m\u001B[0;34m,\u001B[0m\u001B[0;34m\u001B[0m\u001B[0;34m\u001B[0m\u001B[0m\n",
      "\u001B[0;32m~/opt/anaconda3/envs/aaa21/lib/python3.9/site-packages/joblib/parallel.py\u001B[0m in \u001B[0;36m__call__\u001B[0;34m(self, iterable)\u001B[0m\n\u001B[1;32m   1052\u001B[0m \u001B[0;34m\u001B[0m\u001B[0m\n\u001B[1;32m   1053\u001B[0m             \u001B[0;32mwith\u001B[0m \u001B[0mself\u001B[0m\u001B[0;34m.\u001B[0m\u001B[0m_backend\u001B[0m\u001B[0;34m.\u001B[0m\u001B[0mretrieval_context\u001B[0m\u001B[0;34m(\u001B[0m\u001B[0;34m)\u001B[0m\u001B[0;34m:\u001B[0m\u001B[0;34m\u001B[0m\u001B[0;34m\u001B[0m\u001B[0m\n\u001B[0;32m-> 1054\u001B[0;31m                 \u001B[0mself\u001B[0m\u001B[0;34m.\u001B[0m\u001B[0mretrieve\u001B[0m\u001B[0;34m(\u001B[0m\u001B[0;34m)\u001B[0m\u001B[0;34m\u001B[0m\u001B[0;34m\u001B[0m\u001B[0m\n\u001B[0m\u001B[1;32m   1055\u001B[0m             \u001B[0;31m# Make sure that we get a last message telling us we are done\u001B[0m\u001B[0;34m\u001B[0m\u001B[0;34m\u001B[0m\u001B[0;34m\u001B[0m\u001B[0m\n\u001B[1;32m   1056\u001B[0m             \u001B[0melapsed_time\u001B[0m \u001B[0;34m=\u001B[0m \u001B[0mtime\u001B[0m\u001B[0;34m.\u001B[0m\u001B[0mtime\u001B[0m\u001B[0;34m(\u001B[0m\u001B[0;34m)\u001B[0m \u001B[0;34m-\u001B[0m \u001B[0mself\u001B[0m\u001B[0;34m.\u001B[0m\u001B[0m_start_time\u001B[0m\u001B[0;34m\u001B[0m\u001B[0;34m\u001B[0m\u001B[0m\n",
      "\u001B[0;32m~/opt/anaconda3/envs/aaa21/lib/python3.9/site-packages/joblib/parallel.py\u001B[0m in \u001B[0;36mretrieve\u001B[0;34m(self)\u001B[0m\n\u001B[1;32m    931\u001B[0m             \u001B[0;32mtry\u001B[0m\u001B[0;34m:\u001B[0m\u001B[0;34m\u001B[0m\u001B[0;34m\u001B[0m\u001B[0m\n\u001B[1;32m    932\u001B[0m                 \u001B[0;32mif\u001B[0m \u001B[0mgetattr\u001B[0m\u001B[0;34m(\u001B[0m\u001B[0mself\u001B[0m\u001B[0;34m.\u001B[0m\u001B[0m_backend\u001B[0m\u001B[0;34m,\u001B[0m \u001B[0;34m'supports_timeout'\u001B[0m\u001B[0;34m,\u001B[0m \u001B[0;32mFalse\u001B[0m\u001B[0;34m)\u001B[0m\u001B[0;34m:\u001B[0m\u001B[0;34m\u001B[0m\u001B[0;34m\u001B[0m\u001B[0m\n\u001B[0;32m--> 933\u001B[0;31m                     \u001B[0mself\u001B[0m\u001B[0;34m.\u001B[0m\u001B[0m_output\u001B[0m\u001B[0;34m.\u001B[0m\u001B[0mextend\u001B[0m\u001B[0;34m(\u001B[0m\u001B[0mjob\u001B[0m\u001B[0;34m.\u001B[0m\u001B[0mget\u001B[0m\u001B[0;34m(\u001B[0m\u001B[0mtimeout\u001B[0m\u001B[0;34m=\u001B[0m\u001B[0mself\u001B[0m\u001B[0;34m.\u001B[0m\u001B[0mtimeout\u001B[0m\u001B[0;34m)\u001B[0m\u001B[0;34m)\u001B[0m\u001B[0;34m\u001B[0m\u001B[0;34m\u001B[0m\u001B[0m\n\u001B[0m\u001B[1;32m    934\u001B[0m                 \u001B[0;32melse\u001B[0m\u001B[0;34m:\u001B[0m\u001B[0;34m\u001B[0m\u001B[0;34m\u001B[0m\u001B[0m\n\u001B[1;32m    935\u001B[0m                     \u001B[0mself\u001B[0m\u001B[0;34m.\u001B[0m\u001B[0m_output\u001B[0m\u001B[0;34m.\u001B[0m\u001B[0mextend\u001B[0m\u001B[0;34m(\u001B[0m\u001B[0mjob\u001B[0m\u001B[0;34m.\u001B[0m\u001B[0mget\u001B[0m\u001B[0;34m(\u001B[0m\u001B[0;34m)\u001B[0m\u001B[0;34m)\u001B[0m\u001B[0;34m\u001B[0m\u001B[0;34m\u001B[0m\u001B[0m\n",
      "\u001B[0;32m~/opt/anaconda3/envs/aaa21/lib/python3.9/site-packages/joblib/_parallel_backends.py\u001B[0m in \u001B[0;36mwrap_future_result\u001B[0;34m(future, timeout)\u001B[0m\n\u001B[1;32m    540\u001B[0m         AsyncResults.get from multiprocessing.\"\"\"\n\u001B[1;32m    541\u001B[0m         \u001B[0;32mtry\u001B[0m\u001B[0;34m:\u001B[0m\u001B[0;34m\u001B[0m\u001B[0;34m\u001B[0m\u001B[0m\n\u001B[0;32m--> 542\u001B[0;31m             \u001B[0;32mreturn\u001B[0m \u001B[0mfuture\u001B[0m\u001B[0;34m.\u001B[0m\u001B[0mresult\u001B[0m\u001B[0;34m(\u001B[0m\u001B[0mtimeout\u001B[0m\u001B[0;34m=\u001B[0m\u001B[0mtimeout\u001B[0m\u001B[0;34m)\u001B[0m\u001B[0;34m\u001B[0m\u001B[0;34m\u001B[0m\u001B[0m\n\u001B[0m\u001B[1;32m    543\u001B[0m         \u001B[0;32mexcept\u001B[0m \u001B[0mCfTimeoutError\u001B[0m \u001B[0;32mas\u001B[0m \u001B[0me\u001B[0m\u001B[0;34m:\u001B[0m\u001B[0;34m\u001B[0m\u001B[0;34m\u001B[0m\u001B[0m\n\u001B[1;32m    544\u001B[0m             \u001B[0;32mraise\u001B[0m \u001B[0mTimeoutError\u001B[0m \u001B[0;32mfrom\u001B[0m \u001B[0me\u001B[0m\u001B[0;34m\u001B[0m\u001B[0;34m\u001B[0m\u001B[0m\n",
      "\u001B[0;32m~/opt/anaconda3/envs/aaa21/lib/python3.9/concurrent/futures/_base.py\u001B[0m in \u001B[0;36mresult\u001B[0;34m(self, timeout)\u001B[0m\n\u001B[1;32m    438\u001B[0m                     \u001B[0;32mreturn\u001B[0m \u001B[0mself\u001B[0m\u001B[0;34m.\u001B[0m\u001B[0m__get_result\u001B[0m\u001B[0;34m(\u001B[0m\u001B[0;34m)\u001B[0m\u001B[0;34m\u001B[0m\u001B[0;34m\u001B[0m\u001B[0m\n\u001B[1;32m    439\u001B[0m \u001B[0;34m\u001B[0m\u001B[0m\n\u001B[0;32m--> 440\u001B[0;31m                 \u001B[0mself\u001B[0m\u001B[0;34m.\u001B[0m\u001B[0m_condition\u001B[0m\u001B[0;34m.\u001B[0m\u001B[0mwait\u001B[0m\u001B[0;34m(\u001B[0m\u001B[0mtimeout\u001B[0m\u001B[0;34m)\u001B[0m\u001B[0;34m\u001B[0m\u001B[0;34m\u001B[0m\u001B[0m\n\u001B[0m\u001B[1;32m    441\u001B[0m \u001B[0;34m\u001B[0m\u001B[0m\n\u001B[1;32m    442\u001B[0m                 \u001B[0;32mif\u001B[0m \u001B[0mself\u001B[0m\u001B[0;34m.\u001B[0m\u001B[0m_state\u001B[0m \u001B[0;32min\u001B[0m \u001B[0;34m[\u001B[0m\u001B[0mCANCELLED\u001B[0m\u001B[0;34m,\u001B[0m \u001B[0mCANCELLED_AND_NOTIFIED\u001B[0m\u001B[0;34m]\u001B[0m\u001B[0;34m:\u001B[0m\u001B[0;34m\u001B[0m\u001B[0;34m\u001B[0m\u001B[0m\n",
      "\u001B[0;32m~/opt/anaconda3/envs/aaa21/lib/python3.9/threading.py\u001B[0m in \u001B[0;36mwait\u001B[0;34m(self, timeout)\u001B[0m\n\u001B[1;32m    310\u001B[0m         \u001B[0;32mtry\u001B[0m\u001B[0;34m:\u001B[0m    \u001B[0;31m# restore state no matter what (e.g., KeyboardInterrupt)\u001B[0m\u001B[0;34m\u001B[0m\u001B[0;34m\u001B[0m\u001B[0m\n\u001B[1;32m    311\u001B[0m             \u001B[0;32mif\u001B[0m \u001B[0mtimeout\u001B[0m \u001B[0;32mis\u001B[0m \u001B[0;32mNone\u001B[0m\u001B[0;34m:\u001B[0m\u001B[0;34m\u001B[0m\u001B[0;34m\u001B[0m\u001B[0m\n\u001B[0;32m--> 312\u001B[0;31m                 \u001B[0mwaiter\u001B[0m\u001B[0;34m.\u001B[0m\u001B[0macquire\u001B[0m\u001B[0;34m(\u001B[0m\u001B[0;34m)\u001B[0m\u001B[0;34m\u001B[0m\u001B[0;34m\u001B[0m\u001B[0m\n\u001B[0m\u001B[1;32m    313\u001B[0m                 \u001B[0mgotit\u001B[0m \u001B[0;34m=\u001B[0m \u001B[0;32mTrue\u001B[0m\u001B[0;34m\u001B[0m\u001B[0;34m\u001B[0m\u001B[0m\n\u001B[1;32m    314\u001B[0m             \u001B[0;32melse\u001B[0m\u001B[0;34m:\u001B[0m\u001B[0;34m\u001B[0m\u001B[0;34m\u001B[0m\u001B[0m\n",
      "\u001B[0;31mKeyboardInterrupt\u001B[0m: "
     ]
    }
   ],
   "source": [
    "# Grid Search\n",
    "prediction_svm.find_best_parameters_for_model(pipeline, \n",
    "                                              six_hour_demand_train, \n",
    "                                              six_hour_demand_train_target, \n",
    "                                              model_params, \n",
    "                                              scoring='neg_mean_absolute_error',\n",
    "                                              n_iter=100,\n",
    "                                              verbose=10)"
   ]
  },
  {
   "cell_type": "code",
   "execution_count": 60,
   "metadata": {},
   "outputs": [
    {
     "data": {
      "text/plain": [
       "Pipeline(steps=[('preprocessor',\n",
       "                 ColumnTransformer(transformers=[('numerical scaler',\n",
       "                                                  Pipeline(steps=[('standard_scaler',\n",
       "                                                                   StandardScaler())]),\n",
       "                                                  ['Humidity(%)',\n",
       "                                                   'Pressure(hPa)',\n",
       "                                                   'Temperature(C)',\n",
       "                                                   'Wind Direction(Meteoro. '\n",
       "                                                   'Degree)',\n",
       "                                                   'Wind Speed(M/S)',\n",
       "                                                   'City Center Distance',\n",
       "                                                   'Airport Distance',\n",
       "                                                   'Elapsed']),\n",
       "                                                 ('one hot encoder',\n",
       "                                                  Pipeline(steps=[('one_hot_encoder',\n",
       "                                                                   OneHotEncoder(handle_unknown='ignore'))]),\n",
       "                                                  ['Pickup Community Area',\n",
       "                                                   'Holiday', 'Year', 'Month',\n",
       "                                                   'Day', 'Dayofweek',\n",
       "                                                   'Is_month_end',\n",
       "                                                   'Is_month_start',\n",
       "                                                   'Is_quarter_end',\n",
       "                                                   'Is_quarter_start',\n",
       "                                                   'Is_year_end',\n",
       "                                                   'Is_year_start', 'Dayofyear',\n",
       "                                                   'Week'])])),\n",
       "                ('svr model',\n",
       "                 SVR(C=32, coef0=256, degree=2, epsilon=0.5, gamma=0.5,\n",
       "                     kernel='poly'))])"
      ]
     },
     "execution_count": 60,
     "metadata": {},
     "output_type": "execute_result"
    }
   ],
   "source": [
    "# Train Model with fitted hyperparameters\n",
    "svr_tuned = SVR(kernel='poly', degree=2, C=32, gamma=0.5, epsilon=0.5, coef0=256)\n",
    "\n",
    "pipeline = prediction_svm.make_pipeline_for_svm(cat_vars, cont_vars, svr_tuned)\n",
    "\n",
    "pipeline"
   ]
  },
  {
   "cell_type": "code",
   "execution_count": 61,
   "metadata": {},
   "outputs": [],
   "source": [
    "svr_tuned_fitted = pipeline.fit(six_hour_demand_train, six_hour_demand_train_target)"
   ]
  },
  {
   "cell_type": "code",
   "execution_count": 62,
   "metadata": {},
   "outputs": [
    {
     "name": "stdout",
     "output_type": "stream",
     "text": [
      "-------MODEL SCORES-------\n",
      "MAPE:  46.376 %\n",
      "sMAPE:  35.817 %\n",
      "MAE:  188.069\n",
      "MSE:  542813.288\n",
      "RMSE:  736.759\n",
      "R2:  93.715 %\n",
      "Max Residual Error:  13915.167\n"
     ]
    }
   ],
   "source": [
    "# Model Scores\n",
    "y_pred = pipeline.predict(X_test)\n",
    "\n",
    "prediction_utils.get_prediction_scores(y_true=np.exp(six_hour_demand_test_target), \n",
    "                                       y_predicted=np.exp(y_pred), \n",
    "                                       s_mape=True,\n",
    "                                       prediction_type='svr')"
   ]
  },
  {
   "cell_type": "markdown",
   "metadata": {},
   "source": [
    "### Adding Demand to visualize Prediction in the end\n",
    "---"
   ]
  },
  {
   "cell_type": "code",
   "execution_count": null,
   "metadata": {
    "scrolled": false
   },
   "outputs": [],
   "source": [
    "six_hour_demand_test['Demand (6H)'] = np.exp(six_hour_demand_test['Demand (6H)']).astype(int)\n",
    "six_hour_demand_test['Demand (6H) Prediction'] = np.exp(y_pred).astype(int)\n",
    "six_hour_demand_test"
   ]
  },
  {
   "cell_type": "markdown",
   "metadata": {},
   "source": [
    "## 6h Model - Hex 7\n",
    "---\n",
    "\n",
    "In this section we build our svm model for demand prediction using hex 7 as our geographical attributes. We build different models and opt for the final model by comparing the overall evaluation metrics.\n",
    "\n",
    "---"
   ]
  },
  {
   "cell_type": "code",
   "execution_count": 65,
   "metadata": {},
   "outputs": [],
   "source": [
    "#Log transformation\n",
    "six_hour_demand_hex_7['Demand (6H)'] = np.log(six_hour_demand_hex_7['Demand (6H)'])"
   ]
  },
  {
   "cell_type": "code",
   "execution_count": 66,
   "metadata": {},
   "outputs": [],
   "source": [
    "six_hour_demand_hex_7, target, cont_vars, cat_vars = (prediction_utils.\n",
    "                                             preprocess_data_for_prediction(six_hour_demand_hex_7, \n",
    "                                                                            temporal_resolution='6H'))"
   ]
  },
  {
   "cell_type": "code",
   "execution_count": 67,
   "metadata": {},
   "outputs": [],
   "source": [
    "#Train - Test Split\n",
    "six_hour_demand_hex_7_train, six_hour_demand_hex_7_test = prediction_svm.split_data_sets_for_svm(six_hour_demand_hex_7, test_size=0.2)"
   ]
  },
  {
   "cell_type": "code",
   "execution_count": 68,
   "metadata": {},
   "outputs": [
    {
     "data": {
      "text/html": [
       "<div>\n",
       "<style scoped>\n",
       "    .dataframe tbody tr th:only-of-type {\n",
       "        vertical-align: middle;\n",
       "    }\n",
       "\n",
       "    .dataframe tbody tr th {\n",
       "        vertical-align: top;\n",
       "    }\n",
       "\n",
       "    .dataframe thead th {\n",
       "        text-align: right;\n",
       "    }\n",
       "</style>\n",
       "<table border=\"1\" class=\"dataframe\">\n",
       "  <thead>\n",
       "    <tr style=\"text-align: right;\">\n",
       "      <th></th>\n",
       "      <th>hex_7_pickup</th>\n",
       "      <th>Demand (D)</th>\n",
       "      <th>Humidity(%)</th>\n",
       "      <th>Pressure(hPa)</th>\n",
       "      <th>Temperature(C)</th>\n",
       "      <th>Wind Direction(Meteoro. Degree)</th>\n",
       "      <th>Wind Speed(M/S)</th>\n",
       "      <th>City Center Distance</th>\n",
       "      <th>Airport Distance</th>\n",
       "      <th>Holiday</th>\n",
       "      <th>...</th>\n",
       "      <th>Day</th>\n",
       "      <th>Dayofweek</th>\n",
       "      <th>Dayofyear</th>\n",
       "      <th>Is_month_end</th>\n",
       "      <th>Is_month_start</th>\n",
       "      <th>Is_quarter_end</th>\n",
       "      <th>Is_quarter_start</th>\n",
       "      <th>Is_year_end</th>\n",
       "      <th>Is_year_start</th>\n",
       "      <th>Elapsed</th>\n",
       "    </tr>\n",
       "  </thead>\n",
       "  <tbody>\n",
       "    <tr>\n",
       "      <th>0</th>\n",
       "      <td>608661331456819199</td>\n",
       "      <td>0.000000</td>\n",
       "      <td>100.0</td>\n",
       "      <td>1034.250777</td>\n",
       "      <td>-5.435774</td>\n",
       "      <td>249.09522</td>\n",
       "      <td>9.069681</td>\n",
       "      <td>25.700209</td>\n",
       "      <td>46.914475</td>\n",
       "      <td>True</td>\n",
       "      <td>...</td>\n",
       "      <td>1</td>\n",
       "      <td>3</td>\n",
       "      <td>1</td>\n",
       "      <td>False</td>\n",
       "      <td>True</td>\n",
       "      <td>False</td>\n",
       "      <td>True</td>\n",
       "      <td>False</td>\n",
       "      <td>True</td>\n",
       "      <td>1420070400</td>\n",
       "    </tr>\n",
       "    <tr>\n",
       "      <th>1</th>\n",
       "      <td>608661331540705279</td>\n",
       "      <td>0.693147</td>\n",
       "      <td>100.0</td>\n",
       "      <td>1034.250777</td>\n",
       "      <td>-5.435774</td>\n",
       "      <td>249.09522</td>\n",
       "      <td>9.069681</td>\n",
       "      <td>21.400592</td>\n",
       "      <td>41.959487</td>\n",
       "      <td>True</td>\n",
       "      <td>...</td>\n",
       "      <td>1</td>\n",
       "      <td>3</td>\n",
       "      <td>1</td>\n",
       "      <td>False</td>\n",
       "      <td>True</td>\n",
       "      <td>False</td>\n",
       "      <td>True</td>\n",
       "      <td>False</td>\n",
       "      <td>True</td>\n",
       "      <td>1420070400</td>\n",
       "    </tr>\n",
       "    <tr>\n",
       "      <th>2</th>\n",
       "      <td>608661346740862975</td>\n",
       "      <td>6.493754</td>\n",
       "      <td>100.0</td>\n",
       "      <td>1034.250777</td>\n",
       "      <td>-5.435774</td>\n",
       "      <td>249.09522</td>\n",
       "      <td>9.069681</td>\n",
       "      <td>16.027851</td>\n",
       "      <td>22.801143</td>\n",
       "      <td>True</td>\n",
       "      <td>...</td>\n",
       "      <td>1</td>\n",
       "      <td>3</td>\n",
       "      <td>1</td>\n",
       "      <td>False</td>\n",
       "      <td>True</td>\n",
       "      <td>False</td>\n",
       "      <td>True</td>\n",
       "      <td>False</td>\n",
       "      <td>True</td>\n",
       "      <td>1420070400</td>\n",
       "    </tr>\n",
       "    <tr>\n",
       "      <th>3</th>\n",
       "      <td>608661346757640191</td>\n",
       "      <td>1.098612</td>\n",
       "      <td>100.0</td>\n",
       "      <td>1034.250777</td>\n",
       "      <td>-5.435774</td>\n",
       "      <td>249.09522</td>\n",
       "      <td>9.069681</td>\n",
       "      <td>15.882880</td>\n",
       "      <td>25.185694</td>\n",
       "      <td>True</td>\n",
       "      <td>...</td>\n",
       "      <td>1</td>\n",
       "      <td>3</td>\n",
       "      <td>1</td>\n",
       "      <td>False</td>\n",
       "      <td>True</td>\n",
       "      <td>False</td>\n",
       "      <td>True</td>\n",
       "      <td>False</td>\n",
       "      <td>True</td>\n",
       "      <td>1420070400</td>\n",
       "    </tr>\n",
       "    <tr>\n",
       "      <th>4</th>\n",
       "      <td>608661346942189567</td>\n",
       "      <td>0.000000</td>\n",
       "      <td>100.0</td>\n",
       "      <td>1034.250777</td>\n",
       "      <td>-5.435774</td>\n",
       "      <td>249.09522</td>\n",
       "      <td>9.069681</td>\n",
       "      <td>16.123857</td>\n",
       "      <td>27.587471</td>\n",
       "      <td>True</td>\n",
       "      <td>...</td>\n",
       "      <td>1</td>\n",
       "      <td>3</td>\n",
       "      <td>1</td>\n",
       "      <td>False</td>\n",
       "      <td>True</td>\n",
       "      <td>False</td>\n",
       "      <td>True</td>\n",
       "      <td>False</td>\n",
       "      <td>True</td>\n",
       "      <td>1420070400</td>\n",
       "    </tr>\n",
       "  </tbody>\n",
       "</table>\n",
       "<p>5 rows × 23 columns</p>\n",
       "</div>"
      ],
      "text/plain": [
       "         hex_7_pickup  Demand (D)  Humidity(%)  Pressure(hPa)  Temperature(C)  \\\n",
       "0  608661331456819199    0.000000        100.0    1034.250777       -5.435774   \n",
       "1  608661331540705279    0.693147        100.0    1034.250777       -5.435774   \n",
       "2  608661346740862975    6.493754        100.0    1034.250777       -5.435774   \n",
       "3  608661346757640191    1.098612        100.0    1034.250777       -5.435774   \n",
       "4  608661346942189567    0.000000        100.0    1034.250777       -5.435774   \n",
       "\n",
       "   Wind Direction(Meteoro. Degree)  Wind Speed(M/S)  City Center Distance  \\\n",
       "0                        249.09522         9.069681             25.700209   \n",
       "1                        249.09522         9.069681             21.400592   \n",
       "2                        249.09522         9.069681             16.027851   \n",
       "3                        249.09522         9.069681             15.882880   \n",
       "4                        249.09522         9.069681             16.123857   \n",
       "\n",
       "   Airport Distance  Holiday  ...  Day  Dayofweek  Dayofyear  Is_month_end  \\\n",
       "0         46.914475     True  ...    1          3          1         False   \n",
       "1         41.959487     True  ...    1          3          1         False   \n",
       "2         22.801143     True  ...    1          3          1         False   \n",
       "3         25.185694     True  ...    1          3          1         False   \n",
       "4         27.587471     True  ...    1          3          1         False   \n",
       "\n",
       "   Is_month_start  Is_quarter_end  Is_quarter_start  Is_year_end  \\\n",
       "0            True           False              True        False   \n",
       "1            True           False              True        False   \n",
       "2            True           False              True        False   \n",
       "3            True           False              True        False   \n",
       "4            True           False              True        False   \n",
       "\n",
       "   Is_year_start     Elapsed  \n",
       "0           True  1420070400  \n",
       "1           True  1420070400  \n",
       "2           True  1420070400  \n",
       "3           True  1420070400  \n",
       "4           True  1420070400  \n",
       "\n",
       "[5 rows x 23 columns]"
      ]
     },
     "execution_count": 68,
     "metadata": {},
     "output_type": "execute_result"
    }
   ],
   "source": [
    "#Augmented data\n",
    "six_hour_demand_hex_7_train.head(5)"
   ]
  },
  {
   "cell_type": "code",
   "execution_count": 69,
   "metadata": {
    "scrolled": true
   },
   "outputs": [
    {
     "name": "stdout",
     "output_type": "stream",
     "text": [
      "Continuous variables:\n",
      "['Humidity(%)', 'Pressure(hPa)', 'Temperature(C)', 'Wind Direction(Meteoro. Degree)', 'Wind Speed(M/S)', 'City Center Distance', 'Airport Distance', 'Elapsed']\n",
      "\n",
      "Categorical variables:\n",
      "['Holiday', 'Year', 'Month', 'Day', 'Dayofweek', 'Is_month_end', 'Is_month_start', 'Is_quarter_end', 'Is_quarter_start', 'Is_year_end', 'Is_year_start', 'Dayofyear', 'Week', 'hex_7_pickup']\n"
     ]
    }
   ],
   "source": [
    "#Categorical and Continuous Variables\n",
    "print('Continuous variables:')\n",
    "print(cont_vars)\n",
    "print('\\nCategorical variables:')\n",
    "print(cat_vars)"
   ]
  },
  {
   "cell_type": "code",
   "execution_count": 70,
   "metadata": {
    "scrolled": true
   },
   "outputs": [],
   "source": [
    "# Target Extraction\n",
    "six_hour_demand_hex_7_train_target = six_hour_demand_hex_7_train.pop(target)\n",
    "six_hour_demand_hex_7_test_target = six_hour_demand_hex_7_test[target]\n",
    "X_test = six_hour_demand_hex_7_test.drop(columns=[target])"
   ]
  },
  {
   "cell_type": "code",
   "execution_count": 71,
   "metadata": {},
   "outputs": [
    {
     "data": {
      "text/plain": [
       "Pipeline(steps=[('preprocessor',\n",
       "                 ColumnTransformer(transformers=[('numerical scaler',\n",
       "                                                  Pipeline(steps=[('standard_scaler',\n",
       "                                                                   StandardScaler())]),\n",
       "                                                  ['Humidity(%)',\n",
       "                                                   'Pressure(hPa)',\n",
       "                                                   'Temperature(C)',\n",
       "                                                   'Wind Direction(Meteoro. '\n",
       "                                                   'Degree)',\n",
       "                                                   'Wind Speed(M/S)',\n",
       "                                                   'City Center Distance',\n",
       "                                                   'Airport Distance',\n",
       "                                                   'Elapsed']),\n",
       "                                                 ('one hot encoder',\n",
       "                                                  Pipeline(steps=[('one_hot_encoder',\n",
       "                                                                   OneHotEncoder(handle_unknown='ignore'))]),\n",
       "                                                  ['Holiday', 'Year', 'Month',\n",
       "                                                   'Day', 'Dayofweek',\n",
       "                                                   'Is_month_end',\n",
       "                                                   'Is_month_start',\n",
       "                                                   'Is_quarter_end',\n",
       "                                                   'Is_quarter_start',\n",
       "                                                   'Is_year_end',\n",
       "                                                   'Is_year_start', 'Dayofyear',\n",
       "                                                   'Week', 'hex_7_pickup'])])),\n",
       "                ('svr model',\n",
       "                 SVR(C=32, coef0=256, degree=2, epsilon=0.5, gamma=0.5,\n",
       "                     kernel='poly'))])"
      ]
     },
     "execution_count": 71,
     "metadata": {},
     "output_type": "execute_result"
    }
   ],
   "source": [
    "# Train same model with fitted hyperparameters\n",
    "svr_tuned = SVR(kernel='poly', degree=2, C=32, gamma=0.5, epsilon=0.5, coef0=256)\n",
    "\n",
    "pipeline = prediction_svm.make_pipeline_for_svm(cat_vars, cont_vars, svr_tuned)\n",
    "\n",
    "pipeline"
   ]
  },
  {
   "cell_type": "code",
   "execution_count": 61,
   "metadata": {},
   "outputs": [],
   "source": [
    "svr_tuned_fitted = pipeline.fit(six_hour_demand_hex_7_train, six_hour_demand_hex_7_train_target)"
   ]
  },
  {
   "cell_type": "code",
   "execution_count": 62,
   "metadata": {},
   "outputs": [
    {
     "name": "stdout",
     "output_type": "stream",
     "text": [
      "-------MODEL SCORES-------\n",
      "MAPE:  46.376 %\n",
      "sMAPE:  35.817 %\n",
      "MAE:  188.069\n",
      "MSE:  542813.288\n",
      "RMSE:  736.759\n",
      "R2:  93.715 %\n",
      "Max Residual Error:  13915.167\n"
     ]
    }
   ],
   "source": [
    "# Model Scores\n",
    "y_pred = pipeline.predict(X_test)\n",
    "\n",
    "prediction_utils.get_prediction_scores(y_true=np.exp(six_hour_demand_hex_7_test_target), \n",
    "                                       y_predicted=np.exp(y_pred), \n",
    "                                       s_mape=True,\n",
    "                                       prediction_type='svr')"
   ]
  },
  {
   "cell_type": "markdown",
   "metadata": {},
   "source": [
    "## 6h Model - Hex 6\n",
    "---\n",
    "\n",
    "In this section we build our svm model for demand prediction using hex 6 as our geographical attributes. We build different models and opt for the final model by comparing the overall evaluation metrics.\n",
    "\n",
    "---"
   ]
  },
  {
   "cell_type": "code",
   "execution_count": 72,
   "metadata": {},
   "outputs": [],
   "source": [
    "#Log transformation\n",
    "six_hour_demand_hex_6['Demand (6H)'] = np.log(six_hour_demand_hex_6['Demand (6H)'])"
   ]
  },
  {
   "cell_type": "code",
   "execution_count": 73,
   "metadata": {},
   "outputs": [],
   "source": [
    "six_hour_demand_hex_6, target, cont_vars, cat_vars = (prediction_utils.\n",
    "                                             preprocess_data_for_prediction(six_hour_demand_hex_6, \n",
    "                                                                            temporal_resolution='6H'))"
   ]
  },
  {
   "cell_type": "code",
   "execution_count": 74,
   "metadata": {},
   "outputs": [],
   "source": [
    "#Train - Test Split\n",
    "six_hour_demand_hex_6_train, six_hour_demand_hex_6_test = prediction_svm.split_data_sets_for_svm(six_hour_demand_hex_6, test_size=0.2)"
   ]
  },
  {
   "cell_type": "code",
   "execution_count": 75,
   "metadata": {},
   "outputs": [
    {
     "data": {
      "text/html": [
       "<div>\n",
       "<style scoped>\n",
       "    .dataframe tbody tr th:only-of-type {\n",
       "        vertical-align: middle;\n",
       "    }\n",
       "\n",
       "    .dataframe tbody tr th {\n",
       "        vertical-align: top;\n",
       "    }\n",
       "\n",
       "    .dataframe thead th {\n",
       "        text-align: right;\n",
       "    }\n",
       "</style>\n",
       "<table border=\"1\" class=\"dataframe\">\n",
       "  <thead>\n",
       "    <tr style=\"text-align: right;\">\n",
       "      <th></th>\n",
       "      <th>hex_6_pickup</th>\n",
       "      <th>Demand (D)</th>\n",
       "      <th>Humidity(%)</th>\n",
       "      <th>Pressure(hPa)</th>\n",
       "      <th>Temperature(C)</th>\n",
       "      <th>Wind Direction(Meteoro. Degree)</th>\n",
       "      <th>Wind Speed(M/S)</th>\n",
       "      <th>City Center Distance</th>\n",
       "      <th>Airport Distance</th>\n",
       "      <th>Holiday</th>\n",
       "      <th>...</th>\n",
       "      <th>Day</th>\n",
       "      <th>Dayofweek</th>\n",
       "      <th>Dayofyear</th>\n",
       "      <th>Is_month_end</th>\n",
       "      <th>Is_month_start</th>\n",
       "      <th>Is_quarter_end</th>\n",
       "      <th>Is_quarter_start</th>\n",
       "      <th>Is_year_end</th>\n",
       "      <th>Is_year_start</th>\n",
       "      <th>Elapsed</th>\n",
       "    </tr>\n",
       "  </thead>\n",
       "  <tbody>\n",
       "    <tr>\n",
       "      <th>0</th>\n",
       "      <td>604157731930111999</td>\n",
       "      <td>1.098612</td>\n",
       "      <td>100.0</td>\n",
       "      <td>1034.250777</td>\n",
       "      <td>-5.435774</td>\n",
       "      <td>249.09522</td>\n",
       "      <td>9.069681</td>\n",
       "      <td>23.517915</td>\n",
       "      <td>44.436933</td>\n",
       "      <td>True</td>\n",
       "      <td>...</td>\n",
       "      <td>1</td>\n",
       "      <td>3</td>\n",
       "      <td>1</td>\n",
       "      <td>False</td>\n",
       "      <td>True</td>\n",
       "      <td>False</td>\n",
       "      <td>True</td>\n",
       "      <td>False</td>\n",
       "      <td>True</td>\n",
       "      <td>1420070400</td>\n",
       "    </tr>\n",
       "    <tr>\n",
       "      <th>1</th>\n",
       "      <td>604157731930111999</td>\n",
       "      <td>1.098612</td>\n",
       "      <td>100.0</td>\n",
       "      <td>1034.250777</td>\n",
       "      <td>-5.435774</td>\n",
       "      <td>249.09522</td>\n",
       "      <td>9.069681</td>\n",
       "      <td>23.517915</td>\n",
       "      <td>44.436933</td>\n",
       "      <td>True</td>\n",
       "      <td>...</td>\n",
       "      <td>1</td>\n",
       "      <td>3</td>\n",
       "      <td>1</td>\n",
       "      <td>False</td>\n",
       "      <td>True</td>\n",
       "      <td>False</td>\n",
       "      <td>True</td>\n",
       "      <td>False</td>\n",
       "      <td>True</td>\n",
       "      <td>1420070400</td>\n",
       "    </tr>\n",
       "    <tr>\n",
       "      <th>2</th>\n",
       "      <td>604157747230932991</td>\n",
       "      <td>6.498282</td>\n",
       "      <td>100.0</td>\n",
       "      <td>1034.250777</td>\n",
       "      <td>-5.435774</td>\n",
       "      <td>249.09522</td>\n",
       "      <td>9.069681</td>\n",
       "      <td>16.027851</td>\n",
       "      <td>22.801143</td>\n",
       "      <td>True</td>\n",
       "      <td>...</td>\n",
       "      <td>1</td>\n",
       "      <td>3</td>\n",
       "      <td>1</td>\n",
       "      <td>False</td>\n",
       "      <td>True</td>\n",
       "      <td>False</td>\n",
       "      <td>True</td>\n",
       "      <td>False</td>\n",
       "      <td>True</td>\n",
       "      <td>1420070400</td>\n",
       "    </tr>\n",
       "    <tr>\n",
       "      <th>3</th>\n",
       "      <td>604157747230932991</td>\n",
       "      <td>6.498282</td>\n",
       "      <td>100.0</td>\n",
       "      <td>1034.250777</td>\n",
       "      <td>-5.435774</td>\n",
       "      <td>249.09522</td>\n",
       "      <td>9.069681</td>\n",
       "      <td>16.027851</td>\n",
       "      <td>22.801143</td>\n",
       "      <td>True</td>\n",
       "      <td>...</td>\n",
       "      <td>1</td>\n",
       "      <td>3</td>\n",
       "      <td>1</td>\n",
       "      <td>False</td>\n",
       "      <td>True</td>\n",
       "      <td>False</td>\n",
       "      <td>True</td>\n",
       "      <td>False</td>\n",
       "      <td>True</td>\n",
       "      <td>1420070400</td>\n",
       "    </tr>\n",
       "    <tr>\n",
       "      <th>4</th>\n",
       "      <td>604157747365150719</td>\n",
       "      <td>1.386294</td>\n",
       "      <td>100.0</td>\n",
       "      <td>1034.250777</td>\n",
       "      <td>-5.435774</td>\n",
       "      <td>249.09522</td>\n",
       "      <td>9.069681</td>\n",
       "      <td>18.393286</td>\n",
       "      <td>29.242876</td>\n",
       "      <td>True</td>\n",
       "      <td>...</td>\n",
       "      <td>1</td>\n",
       "      <td>3</td>\n",
       "      <td>1</td>\n",
       "      <td>False</td>\n",
       "      <td>True</td>\n",
       "      <td>False</td>\n",
       "      <td>True</td>\n",
       "      <td>False</td>\n",
       "      <td>True</td>\n",
       "      <td>1420070400</td>\n",
       "    </tr>\n",
       "  </tbody>\n",
       "</table>\n",
       "<p>5 rows × 23 columns</p>\n",
       "</div>"
      ],
      "text/plain": [
       "         hex_6_pickup  Demand (D)  Humidity(%)  Pressure(hPa)  Temperature(C)  \\\n",
       "0  604157731930111999    1.098612        100.0    1034.250777       -5.435774   \n",
       "1  604157731930111999    1.098612        100.0    1034.250777       -5.435774   \n",
       "2  604157747230932991    6.498282        100.0    1034.250777       -5.435774   \n",
       "3  604157747230932991    6.498282        100.0    1034.250777       -5.435774   \n",
       "4  604157747365150719    1.386294        100.0    1034.250777       -5.435774   \n",
       "\n",
       "   Wind Direction(Meteoro. Degree)  Wind Speed(M/S)  City Center Distance  \\\n",
       "0                        249.09522         9.069681             23.517915   \n",
       "1                        249.09522         9.069681             23.517915   \n",
       "2                        249.09522         9.069681             16.027851   \n",
       "3                        249.09522         9.069681             16.027851   \n",
       "4                        249.09522         9.069681             18.393286   \n",
       "\n",
       "   Airport Distance  Holiday  ...  Day  Dayofweek  Dayofyear  Is_month_end  \\\n",
       "0         44.436933     True  ...    1          3          1         False   \n",
       "1         44.436933     True  ...    1          3          1         False   \n",
       "2         22.801143     True  ...    1          3          1         False   \n",
       "3         22.801143     True  ...    1          3          1         False   \n",
       "4         29.242876     True  ...    1          3          1         False   \n",
       "\n",
       "   Is_month_start  Is_quarter_end  Is_quarter_start  Is_year_end  \\\n",
       "0            True           False              True        False   \n",
       "1            True           False              True        False   \n",
       "2            True           False              True        False   \n",
       "3            True           False              True        False   \n",
       "4            True           False              True        False   \n",
       "\n",
       "   Is_year_start     Elapsed  \n",
       "0           True  1420070400  \n",
       "1           True  1420070400  \n",
       "2           True  1420070400  \n",
       "3           True  1420070400  \n",
       "4           True  1420070400  \n",
       "\n",
       "[5 rows x 23 columns]"
      ]
     },
     "execution_count": 75,
     "metadata": {},
     "output_type": "execute_result"
    }
   ],
   "source": [
    "#Augmented data\n",
    "six_hour_demand_hex_6_train.head(5)"
   ]
  },
  {
   "cell_type": "code",
   "execution_count": 76,
   "metadata": {
    "scrolled": true
   },
   "outputs": [
    {
     "name": "stdout",
     "output_type": "stream",
     "text": [
      "Continuous variables:\n",
      "['Humidity(%)', 'Pressure(hPa)', 'Temperature(C)', 'Wind Direction(Meteoro. Degree)', 'Wind Speed(M/S)', 'City Center Distance', 'Airport Distance', 'Elapsed']\n",
      "\n",
      "Categorical variables:\n",
      "['hex_6_pickup', 'Holiday', 'Year', 'Month', 'Day', 'Dayofweek', 'Is_month_end', 'Is_month_start', 'Is_quarter_end', 'Is_quarter_start', 'Is_year_end', 'Is_year_start', 'Dayofyear', 'Week']\n"
     ]
    }
   ],
   "source": [
    "#Categorical and Continuous Variables\n",
    "print('Continuous variables:')\n",
    "print(cont_vars)\n",
    "print('\\nCategorical variables:')\n",
    "print(cat_vars)"
   ]
  },
  {
   "cell_type": "code",
   "execution_count": 77,
   "metadata": {
    "scrolled": true
   },
   "outputs": [],
   "source": [
    "# Target Extraction\n",
    "six_hour_demand_hex_6_train_target = six_hour_demand_hex_6_train.pop(target)\n",
    "six_hour_demand_hex_6_test_target = six_hour_demand_hex_6_test[target]\n",
    "X_test = six_hour_demand_hex_6_test.drop(columns=[target])"
   ]
  },
  {
   "cell_type": "code",
   "execution_count": 78,
   "metadata": {},
   "outputs": [
    {
     "data": {
      "text/plain": [
       "Pipeline(steps=[('preprocessor',\n",
       "                 ColumnTransformer(transformers=[('numerical scaler',\n",
       "                                                  Pipeline(steps=[('standard_scaler',\n",
       "                                                                   StandardScaler())]),\n",
       "                                                  ['Humidity(%)',\n",
       "                                                   'Pressure(hPa)',\n",
       "                                                   'Temperature(C)',\n",
       "                                                   'Wind Direction(Meteoro. '\n",
       "                                                   'Degree)',\n",
       "                                                   'Wind Speed(M/S)',\n",
       "                                                   'City Center Distance',\n",
       "                                                   'Airport Distance',\n",
       "                                                   'Elapsed']),\n",
       "                                                 ('one hot encoder',\n",
       "                                                  Pipeline(steps=[('one_hot_encoder',\n",
       "                                                                   OneHotEncoder(handle_unknown='ignore'))]),\n",
       "                                                  ['hex_6_pickup', 'Holiday',\n",
       "                                                   'Year', 'Month', 'Day',\n",
       "                                                   'Dayofweek', 'Is_month_end',\n",
       "                                                   'Is_month_start',\n",
       "                                                   'Is_quarter_end',\n",
       "                                                   'Is_quarter_start',\n",
       "                                                   'Is_year_end',\n",
       "                                                   'Is_year_start', 'Dayofyear',\n",
       "                                                   'Week'])])),\n",
       "                ('svr model',\n",
       "                 SVR(C=32, coef0=256, degree=2, epsilon=0.5, gamma=0.5,\n",
       "                     kernel='poly'))])"
      ]
     },
     "execution_count": 78,
     "metadata": {},
     "output_type": "execute_result"
    }
   ],
   "source": [
    "# Train same model with fitted hyperparameters\n",
    "svr_tuned = SVR(kernel='poly', degree=2, C=32, gamma=0.5, epsilon=0.5, coef0=256)\n",
    "\n",
    "pipeline = prediction_svm.make_pipeline_for_svm(cat_vars, cont_vars, svr_tuned)\n",
    "\n",
    "pipeline"
   ]
  },
  {
   "cell_type": "code",
   "execution_count": 61,
   "metadata": {},
   "outputs": [],
   "source": [
    "svr_tuned_fitted = pipeline.fit(six_hour_demand_hex_6_train, six_hour_demand_hex_6_train_target)"
   ]
  },
  {
   "cell_type": "code",
   "execution_count": 62,
   "metadata": {},
   "outputs": [
    {
     "name": "stdout",
     "output_type": "stream",
     "text": [
      "-------MODEL SCORES-------\n",
      "MAPE:  46.376 %\n",
      "sMAPE:  35.817 %\n",
      "MAE:  188.069\n",
      "MSE:  542813.288\n",
      "RMSE:  736.759\n",
      "R2:  93.715 %\n",
      "Max Residual Error:  13915.167\n"
     ]
    }
   ],
   "source": [
    "# Model Scores\n",
    "y_pred = pipeline.predict(X_test)\n",
    "\n",
    "prediction_utils.get_prediction_scores(y_true=np.exp(six_hour_demand_hex_6_test_target), \n",
    "                                       y_predicted=np.exp(y_pred), \n",
    "                                       s_mape=True,\n",
    "                                       prediction_type='svr')"
   ]
  },
  {
   "cell_type": "code",
   "execution_count": 21,
   "metadata": {},
   "outputs": [],
   "source": [
    "#Memory Cleaning\n",
    "del six_hour_demand\n",
    "del six_hour_demand_hex_6\n",
    "del six_hour_demand_hex_7"
   ]
  },
  {
   "cell_type": "markdown",
   "metadata": {},
   "source": [
    "# Hourly Models\n",
    "---"
   ]
  },
  {
   "cell_type": "markdown",
   "metadata": {},
   "source": [
    "## Data Preparation\n",
    "---"
   ]
  },
  {
   "cell_type": "code",
   "execution_count": 80,
   "metadata": {
    "pycharm": {
     "name": "#%%\n"
    }
   },
   "outputs": [],
   "source": [
    "# Takes few minutes to run (16 GB RAM)\n",
    "chicago_df = utils.read_parquet('Taxi_Trips_Cleaned.parquet',\n",
    "                                columns=['Trip ID','Trip Start Timestamp','Pickup Community Area',\n",
    "                                         'Dropoff Community Area'])\n",
    "weather_df = utils.read_parquet('Weather.parquet',columns = ['Trip Start Timestamp','Humidity(%)',\n",
    "                                    'Pressure(hPa)','Temperature(C)',\n",
    "                                    'Wind Direction(Meteoro. Degree)','Wind Speed(M/S)'])\n",
    "\n",
    "hourly_demand = preprocessing.create_aggregated_data(df=chicago_df,weather_df=weather_df,temporal_resolution='H')\n",
    "hourly_demand_hex_7 = preprocessing.create_aggregated_data(df=chicago_df,weather_df=weather_df,temporal_resolution='H',\n",
    "                                            use_hexes=True,hex_resolution=7)\n",
    "hourly_demand_hex_6 = preprocessing.create_aggregated_data(df=chicago_df,weather_df=weather_df,temporal_resolution='H',\n",
    "                                            use_hexes=True,hex_resolution=6)\n",
    "\n",
    "del chicago_df\n",
    "del weather_df"
   ]
  },
  {
   "cell_type": "markdown",
   "metadata": {},
   "source": [
    "### Feature Engineering\n",
    "---\n",
    "In this section we add the following spatial and temporal features to our data before prediction.\n",
    "- Distance to Chicago City Center\n",
    "- Distance to Chicago Airport\n",
    "- Holiday Events"
   ]
  },
  {
   "cell_type": "code",
   "execution_count": 81,
   "metadata": {},
   "outputs": [],
   "source": [
    "#Spatial Features\n",
    "hourly_demand = feature_engineering.add_spatial_features(hourly_demand)\n",
    "hourly_demand_hex_7 = feature_engineering.add_spatial_features(hourly_demand_hex_7,with_hex=7,hex_res=7)\n",
    "hourly_demand_hex_6 = feature_engineering.add_spatial_features(hourly_demand_hex_6,with_hex=6,hex_res=6)\n",
    "#Holidays\n",
    "hourly_demand = feature_engineering.add_holidays(hourly_demand)\n",
    "hourly_demand_hex_6 = feature_engineering.add_holidays(hourly_demand_hex_6)\n",
    "hourly_demand_hex_7 = feature_engineering.add_holidays(hourly_demand_hex_7)"
   ]
  },
  {
   "cell_type": "markdown",
   "metadata": {},
   "source": [
    "### Model Architecture\n",
    "---\n",
    "To gain a better understanding of our data and the amount of complexity needed in the svm architecture we first start our daily model by a simple linear kernel. After observing the behavoiur of the model we adjust the model. First by changing kernels, second by increasing/decreasing our hyperparameters. For the sake of brevity this notebook does not show all tested svm architectures."
   ]
  },
  {
   "cell_type": "markdown",
   "metadata": {},
   "source": [
    "### Suitable Metrics\n",
    "---\n",
    "To gain a better understanding which metrics we should apply to our problem we plot the prediction target to identify the distribution type."
   ]
  },
  {
   "cell_type": "code",
   "execution_count": 82,
   "metadata": {
    "pycharm": {
     "name": "#%%\n"
    }
   },
   "outputs": [
    {
     "data": {
      "image/png": "[encoded data removed]",
      "text/plain": [
       "<Figure size 432x288 with 1 Axes>"
      ]
     },
     "metadata": {
      "needs_background": "light"
     },
     "output_type": "display_data"
    }
   ],
   "source": [
    "hourly_demand['Demand (H)'].plot.hist()\n",
    "plt.show()"
   ]
  },
  {
   "cell_type": "markdown",
   "metadata": {},
   "source": [
    "As we expected the target is extremely skewed. Which would make the prediction metrics non telling. To tackle this obstacle, we transform the target logarithmically. And use the mean squared logarithmic error as our metric."
   ]
  },
  {
   "cell_type": "code",
   "execution_count": 83,
   "metadata": {
    "pycharm": {
     "name": "#%%\n"
    }
   },
   "outputs": [
    {
     "data": {
      "image/png": "[encoded data removed]",
      "text/plain": [
       "<Figure size 432x288 with 1 Axes>"
      ]
     },
     "metadata": {
      "needs_background": "light"
     },
     "output_type": "display_data"
    }
   ],
   "source": [
    "hourly_demand['Demand (H)'] = np.log(hourly_demand['Demand (H)'])\n",
    "hourly_demand['Demand (H)'].plot.hist()\n",
    "plt.show()"
   ]
  },
  {
   "cell_type": "markdown",
   "metadata": {
    "pycharm": {
     "name": "#%% md\n"
    }
   },
   "source": [
    "### Preprocessing\n",
    "---"
   ]
  },
  {
   "cell_type": "code",
   "execution_count": 84,
   "metadata": {},
   "outputs": [],
   "source": [
    "hourly_demand, target, cont_vars, cat_vars = (prediction_utils.\n",
    "                                             preprocess_data_for_prediction(hourly_demand, \n",
    "                                                                            temporal_resolution='H'))"
   ]
  },
  {
   "cell_type": "code",
   "execution_count": 85,
   "metadata": {},
   "outputs": [
    {
     "data": {
      "text/html": [
       "<div>\n",
       "<style scoped>\n",
       "    .dataframe tbody tr th:only-of-type {\n",
       "        vertical-align: middle;\n",
       "    }\n",
       "\n",
       "    .dataframe tbody tr th {\n",
       "        vertical-align: top;\n",
       "    }\n",
       "\n",
       "    .dataframe thead th {\n",
       "        text-align: right;\n",
       "    }\n",
       "</style>\n",
       "<table border=\"1\" class=\"dataframe\">\n",
       "  <thead>\n",
       "    <tr style=\"text-align: right;\">\n",
       "      <th></th>\n",
       "      <th>Pickup Community Area</th>\n",
       "      <th>Demand (6H)</th>\n",
       "      <th>Humidity(%)</th>\n",
       "      <th>Pressure(hPa)</th>\n",
       "      <th>Temperature(C)</th>\n",
       "      <th>Wind Direction(Meteoro. Degree)</th>\n",
       "      <th>Wind Speed(M/S)</th>\n",
       "      <th>City Center Distance</th>\n",
       "      <th>Airport Distance</th>\n",
       "      <th>Holiday</th>\n",
       "      <th>...</th>\n",
       "      <th>Dayofweek</th>\n",
       "      <th>Dayofyear</th>\n",
       "      <th>Is_month_end</th>\n",
       "      <th>Is_month_start</th>\n",
       "      <th>Is_quarter_end</th>\n",
       "      <th>Is_quarter_start</th>\n",
       "      <th>Is_year_end</th>\n",
       "      <th>Is_year_start</th>\n",
       "      <th>Hour</th>\n",
       "      <th>Elapsed</th>\n",
       "    </tr>\n",
       "  </thead>\n",
       "  <tbody>\n",
       "    <tr>\n",
       "      <th>0</th>\n",
       "      <td>1</td>\n",
       "      <td>5.529429</td>\n",
       "      <td>100.0</td>\n",
       "      <td>1037.346969</td>\n",
       "      <td>-6.504509</td>\n",
       "      <td>247.772577</td>\n",
       "      <td>9.826516</td>\n",
       "      <td>14.731612</td>\n",
       "      <td>19.688474</td>\n",
       "      <td>False</td>\n",
       "      <td>...</td>\n",
       "      <td>2</td>\n",
       "      <td>365</td>\n",
       "      <td>True</td>\n",
       "      <td>False</td>\n",
       "      <td>True</td>\n",
       "      <td>False</td>\n",
       "      <td>True</td>\n",
       "      <td>False</td>\n",
       "      <td>23</td>\n",
       "      <td>1420066800</td>\n",
       "    </tr>\n",
       "    <tr>\n",
       "      <th>1</th>\n",
       "      <td>10</td>\n",
       "      <td>2.197225</td>\n",
       "      <td>100.0</td>\n",
       "      <td>1037.346969</td>\n",
       "      <td>-6.504509</td>\n",
       "      <td>247.772577</td>\n",
       "      <td>9.826516</td>\n",
       "      <td>18.830572</td>\n",
       "      <td>8.403423</td>\n",
       "      <td>False</td>\n",
       "      <td>...</td>\n",
       "      <td>2</td>\n",
       "      <td>365</td>\n",
       "      <td>True</td>\n",
       "      <td>False</td>\n",
       "      <td>True</td>\n",
       "      <td>False</td>\n",
       "      <td>True</td>\n",
       "      <td>False</td>\n",
       "      <td>23</td>\n",
       "      <td>1420066800</td>\n",
       "    </tr>\n",
       "    <tr>\n",
       "      <th>2</th>\n",
       "      <td>11</td>\n",
       "      <td>3.555348</td>\n",
       "      <td>100.0</td>\n",
       "      <td>1037.346969</td>\n",
       "      <td>-6.504509</td>\n",
       "      <td>247.772577</td>\n",
       "      <td>9.826516</td>\n",
       "      <td>16.315833</td>\n",
       "      <td>11.040063</td>\n",
       "      <td>False</td>\n",
       "      <td>...</td>\n",
       "      <td>2</td>\n",
       "      <td>365</td>\n",
       "      <td>True</td>\n",
       "      <td>False</td>\n",
       "      <td>True</td>\n",
       "      <td>False</td>\n",
       "      <td>True</td>\n",
       "      <td>False</td>\n",
       "      <td>23</td>\n",
       "      <td>1420066800</td>\n",
       "    </tr>\n",
       "    <tr>\n",
       "      <th>3</th>\n",
       "      <td>12</td>\n",
       "      <td>1.098612</td>\n",
       "      <td>100.0</td>\n",
       "      <td>1037.346969</td>\n",
       "      <td>-6.504509</td>\n",
       "      <td>247.772577</td>\n",
       "      <td>9.826516</td>\n",
       "      <td>16.744923</td>\n",
       "      <td>12.216892</td>\n",
       "      <td>False</td>\n",
       "      <td>...</td>\n",
       "      <td>2</td>\n",
       "      <td>365</td>\n",
       "      <td>True</td>\n",
       "      <td>False</td>\n",
       "      <td>True</td>\n",
       "      <td>False</td>\n",
       "      <td>True</td>\n",
       "      <td>False</td>\n",
       "      <td>23</td>\n",
       "      <td>1420066800</td>\n",
       "    </tr>\n",
       "    <tr>\n",
       "      <th>4</th>\n",
       "      <td>13</td>\n",
       "      <td>2.639057</td>\n",
       "      <td>100.0</td>\n",
       "      <td>1037.346969</td>\n",
       "      <td>-6.504509</td>\n",
       "      <td>247.772577</td>\n",
       "      <td>9.826516</td>\n",
       "      <td>14.040299</td>\n",
       "      <td>14.983269</td>\n",
       "      <td>False</td>\n",
       "      <td>...</td>\n",
       "      <td>2</td>\n",
       "      <td>365</td>\n",
       "      <td>True</td>\n",
       "      <td>False</td>\n",
       "      <td>True</td>\n",
       "      <td>False</td>\n",
       "      <td>True</td>\n",
       "      <td>False</td>\n",
       "      <td>23</td>\n",
       "      <td>1420066800</td>\n",
       "    </tr>\n",
       "  </tbody>\n",
       "</table>\n",
       "<p>5 rows × 24 columns</p>\n",
       "</div>"
      ],
      "text/plain": [
       "  Pickup Community Area  Demand (6H)  Humidity(%)  Pressure(hPa)  \\\n",
       "0                     1     5.529429        100.0    1037.346969   \n",
       "1                    10     2.197225        100.0    1037.346969   \n",
       "2                    11     3.555348        100.0    1037.346969   \n",
       "3                    12     1.098612        100.0    1037.346969   \n",
       "4                    13     2.639057        100.0    1037.346969   \n",
       "\n",
       "   Temperature(C)  Wind Direction(Meteoro. Degree)  Wind Speed(M/S)  \\\n",
       "0       -6.504509                       247.772577         9.826516   \n",
       "1       -6.504509                       247.772577         9.826516   \n",
       "2       -6.504509                       247.772577         9.826516   \n",
       "3       -6.504509                       247.772577         9.826516   \n",
       "4       -6.504509                       247.772577         9.826516   \n",
       "\n",
       "   City Center Distance  Airport Distance  Holiday  ...  Dayofweek  Dayofyear  \\\n",
       "0             14.731612         19.688474    False  ...          2        365   \n",
       "1             18.830572          8.403423    False  ...          2        365   \n",
       "2             16.315833         11.040063    False  ...          2        365   \n",
       "3             16.744923         12.216892    False  ...          2        365   \n",
       "4             14.040299         14.983269    False  ...          2        365   \n",
       "\n",
       "   Is_month_end  Is_month_start  Is_quarter_end  Is_quarter_start  \\\n",
       "0          True           False            True             False   \n",
       "1          True           False            True             False   \n",
       "2          True           False            True             False   \n",
       "3          True           False            True             False   \n",
       "4          True           False            True             False   \n",
       "\n",
       "   Is_year_end  Is_year_start  Hour     Elapsed  \n",
       "0         True          False    23  1420066800  \n",
       "1         True          False    23  1420066800  \n",
       "2         True          False    23  1420066800  \n",
       "3         True          False    23  1420066800  \n",
       "4         True          False    23  1420066800  \n",
       "\n",
       "[5 rows x 24 columns]"
      ]
     },
     "execution_count": 85,
     "metadata": {},
     "output_type": "execute_result"
    }
   ],
   "source": [
    "#Preprocessed data\n",
    "hourly_demand.head(5)"
   ]
  },
  {
   "cell_type": "code",
   "execution_count": 87,
   "metadata": {
    "scrolled": false
   },
   "outputs": [],
   "source": [
    "#Train - Test Split\n",
    "hourly_demand_train, hourly_demand_test = prediction_svm.split_data_sets_for_svm(hourly_demand, test_size=0.2)"
   ]
  },
  {
   "cell_type": "code",
   "execution_count": 88,
   "metadata": {
    "scrolled": false
   },
   "outputs": [
    {
     "name": "stdout",
     "output_type": "stream",
     "text": [
      "Continuous variables:\n",
      "['Humidity(%)', 'Pressure(hPa)', 'Temperature(C)', 'Wind Direction(Meteoro. Degree)', 'Wind Speed(M/S)', 'City Center Distance', 'Airport Distance', 'Elapsed']\n",
      "\n",
      "Categorical variables:\n",
      "['Pickup Community Area', 'Holiday', 'Year', 'Month', 'Day', 'Dayofweek', 'Is_month_end', 'Is_month_start', 'Is_quarter_end', 'Is_quarter_start', 'Is_year_end', 'Is_year_start', 'Hour', 'Dayofyear', 'Week']\n"
     ]
    }
   ],
   "source": [
    "#Categorical and Continuous Variables\n",
    "print('Continuous variables:')\n",
    "print(cont_vars)\n",
    "print('\\nCategorical variables:')\n",
    "print(cat_vars)"
   ]
  },
  {
   "cell_type": "markdown",
   "metadata": {},
   "source": [
    "## Model Building\n",
    "## Hourly - Community Areas\n",
    "---\n",
    "\n",
    "In this section we build our svm model for demand prediction using community areas as our geographical attributes. we build different models and opt for the final model by comparing the overall evaluation metrics. Later on, we will use this model for prediction using differenct geographical attributes.\n",
    "\n",
    "---\n"
   ]
  },
  {
   "cell_type": "code",
   "execution_count": 89,
   "metadata": {},
   "outputs": [],
   "source": [
    "# Target Extraction\n",
    "hourly_demand_train_target = hourly_demand_train.pop(target)\n",
    "hourly_demand_test_target = hourly_demand_test[target]\n",
    "X_test = hourly_demand_test.drop(columns=[target])"
   ]
  },
  {
   "cell_type": "markdown",
   "metadata": {},
   "source": [
    "### SVM Model With Linear Kernel\n",
    "\n",
    "- without regularization\n",
    "- using default values for hyperparameters\n",
    "---"
   ]
  },
  {
   "cell_type": "code",
   "execution_count": 90,
   "metadata": {},
   "outputs": [
    {
     "data": {
      "text/plain": [
       "Pipeline(steps=[('preprocessor',\n",
       "                 ColumnTransformer(transformers=[('numerical scaler',\n",
       "                                                  Pipeline(steps=[('standard_scaler',\n",
       "                                                                   StandardScaler())]),\n",
       "                                                  ['Humidity(%)',\n",
       "                                                   'Pressure(hPa)',\n",
       "                                                   'Temperature(C)',\n",
       "                                                   'Wind Direction(Meteoro. '\n",
       "                                                   'Degree)',\n",
       "                                                   'Wind Speed(M/S)',\n",
       "                                                   'City Center Distance',\n",
       "                                                   'Airport Distance',\n",
       "                                                   'Elapsed']),\n",
       "                                                 ('one hot encoder',\n",
       "                                                  Pipeline(steps=[('one_hot_encoder',\n",
       "                                                                   OneHotEncoder(handle_unknown='ignore'))]),\n",
       "                                                  ['Pickup Community Area',\n",
       "                                                   'Holiday', 'Year', 'Month',\n",
       "                                                   'Day', 'Dayofweek',\n",
       "                                                   'Is_month_end',\n",
       "                                                   'Is_month_start',\n",
       "                                                   'Is_quarter_end',\n",
       "                                                   'Is_quarter_start',\n",
       "                                                   'Is_year_end',\n",
       "                                                   'Is_year_start', 'Hour',\n",
       "                                                   'Dayofyear', 'Week'])])),\n",
       "                ('svr model', SVR(kernel='linear'))])"
      ]
     },
     "execution_count": 90,
     "metadata": {},
     "output_type": "execute_result"
    }
   ],
   "source": [
    "svr_linear = SVR(kernel='linear')\n",
    "\n",
    "pipeline = prediction_svm.make_pipeline_for_svm(cat_vars, cont_vars, svr_linear)\n",
    "\n",
    "pipeline"
   ]
  },
  {
   "cell_type": "code",
   "execution_count": null,
   "metadata": {
    "scrolled": true
   },
   "outputs": [],
   "source": [
    "# Training SVM Linear Kernel\n",
    "svr_linear_fitted = pipeline.fit(hourly_demand_train, hourly_demand_train_target)"
   ]
  },
  {
   "cell_type": "markdown",
   "metadata": {},
   "source": [
    "#### Linear Model Evaluation\n",
    "---\n",
    "To get the result for our baseline linear model we use the test set for evaluation"
   ]
  },
  {
   "cell_type": "code",
   "execution_count": null,
   "metadata": {
    "scrolled": true
   },
   "outputs": [],
   "source": [
    "# Model Scores\n",
    "y_pred = pipeline.predict(X_test)\n",
    "\n",
    "prediction_utils.get_prediction_scores(y_true=np.exp(hourly_demand_test_target), \n",
    "                                       y_predicted=np.exp(y_pred), \n",
    "                                       s_mape=True,\n",
    "                                       prediction_type='svr')"
   ]
  },
  {
   "cell_type": "markdown",
   "metadata": {},
   "source": [
    "The above shows the result of our first model. We see that a linear model is already quite a good fit, by catching 90% of the variability of the dependent variable. Still, other metrics demonstrate some downsights e.g. the mean average error exhibits a value of over 200 trips. "
   ]
  },
  {
   "cell_type": "markdown",
   "metadata": {},
   "source": [
    "### SVM Model With Polynomial Kernel\n",
    "\n",
    "Analogously, we create a further baseline model by just changing the kernel to a polynomial one. This contributes to later on being able to select the best performing kernel. \n",
    "\n",
    "As degree one has already been build above, we proceed with degree two. Afterwards, we try higher degrees as long as our metrics are improving.\n",
    "\n",
    "---"
   ]
  },
  {
   "cell_type": "markdown",
   "metadata": {},
   "source": [
    "#### Degree 2\n",
    "---"
   ]
  },
  {
   "cell_type": "code",
   "execution_count": null,
   "metadata": {},
   "outputs": [],
   "source": [
    "svr_poly_2 = SVR(kernel='poly', degree=2)\n",
    "\n",
    "pipeline = prediction_svm.make_pipeline_for_svm(cat_vars, cont_vars, svr_poly_2)\n",
    "\n",
    "pipeline"
   ]
  },
  {
   "cell_type": "code",
   "execution_count": null,
   "metadata": {
    "scrolled": true
   },
   "outputs": [],
   "source": [
    "# Training SVM Polynomial Degree 2 Kernel\n",
    "svr_poly_2_fitted = pipeline.fit(hourly_demand_train, hourly_demand_train_target)"
   ]
  },
  {
   "cell_type": "markdown",
   "metadata": {},
   "source": [
    "#### Polynomial Model Evaluation (degree 2)\n",
    "---\n",
    "To get the result for our baseline polynomial model with degree 2 we use the test set for evaluation"
   ]
  },
  {
   "cell_type": "code",
   "execution_count": null,
   "metadata": {
    "scrolled": true
   },
   "outputs": [],
   "source": [
    "# Model Scores\n",
    "y_pred = pipeline.predict(X_test)\n",
    "\n",
    "prediction_utils.get_prediction_scores(y_true=np.exp(hourly_demand_test_target), \n",
    "                                       y_predicted=np.exp(y_pred), \n",
    "                                       s_mape=True,\n",
    "                                       prediction_type='svr')"
   ]
  },
  {
   "cell_type": "markdown",
   "metadata": {},
   "source": [
    "The above shows the result of our first model. We obwerve a significant improvement in cotrast to the linear model, as now the mean absolute error decresed to less than 200, namely 180, while also improving catching the variance with 92%."
   ]
  },
  {
   "cell_type": "markdown",
   "metadata": {},
   "source": [
    "#### Degree 3\n",
    "---"
   ]
  },
  {
   "cell_type": "code",
   "execution_count": null,
   "metadata": {},
   "outputs": [],
   "source": [
    "svr_poly_3 = SVR(kernel='poly', degree=3)\n",
    "\n",
    "pipeline = prediction_svm.make_pipeline_for_svm(cat_vars, cont_vars, svr_poly_3)\n",
    "\n",
    "pipeline"
   ]
  },
  {
   "cell_type": "code",
   "execution_count": null,
   "metadata": {
    "scrolled": true
   },
   "outputs": [],
   "source": [
    "# Training SVM Polynomial Degree 3 Kernel\n",
    "svr_poly_3_fitted = pipeline.fit(hourly_demand_train, hourly_demand_train_target)"
   ]
  },
  {
   "cell_type": "code",
   "execution_count": null,
   "metadata": {
    "scrolled": true
   },
   "outputs": [],
   "source": [
    "# Model Scores\n",
    "y_pred = pipeline.predict(X_test)\n",
    "\n",
    "prediction_utils.get_prediction_scores(y_true=np.exp(hourly_demand_test_target), \n",
    "                                       y_predicted=np.exp(y_pred), \n",
    "                                       s_mape=True,\n",
    "                                       prediction_type='svr')"
   ]
  },
  {
   "cell_type": "markdown",
   "metadata": {},
   "source": [
    "### SVM Model With RBF Kernel\n",
    "---"
   ]
  },
  {
   "cell_type": "code",
   "execution_count": null,
   "metadata": {},
   "outputs": [],
   "source": [
    "svr_rbf = SVR(kernel='rbf')\n",
    "\n",
    "pipeline = prediction_svm.make_pipeline_for_svm(cat_vars, cont_vars, svr_rbf)\n",
    "\n",
    "pipeline"
   ]
  },
  {
   "cell_type": "code",
   "execution_count": null,
   "metadata": {
    "scrolled": true
   },
   "outputs": [],
   "source": [
    "# Training SVM RBF Kernel\n",
    "svr_rbf_fitted = pipeline.fit(hourly_demand_train, hourly_demand_train_target)"
   ]
  },
  {
   "cell_type": "code",
   "execution_count": null,
   "metadata": {
    "scrolled": true
   },
   "outputs": [],
   "source": [
    "# Model Scores\n",
    "y_pred = pipeline.predict(X_test)\n",
    "\n",
    "prediction_utils.get_prediction_scores(y_true=np.exp(hourly_demand_test_target), \n",
    "                                       y_predicted=np.exp(y_pred), \n",
    "                                       s_mape=True,\n",
    "                                       prediction_type='svr')"
   ]
  },
  {
   "cell_type": "markdown",
   "metadata": {},
   "source": [
    "Overfit to training data -> tune hyperparameter!"
   ]
  },
  {
   "cell_type": "markdown",
   "metadata": {},
   "source": [
    "## Hyperparameter Tunig for Final Model\n",
    "---\n",
    "\n",
    "We perform a grid search with five time series splits on the training set using our final model.\n",
    "\n",
    "Doing so, we tune the following hyper parameters to avoid overfitting:\n",
    "- Regularization\n",
    "- Independent term in kernel function\n",
    "- Epsilon (Kernel coefficient)\n",
    "- Gamma (area within which no penalty is associated in the training loss function with predictions within the distance epsilon from the actual value)"
   ]
  },
  {
   "cell_type": "code",
   "execution_count": 24,
   "metadata": {},
   "outputs": [
    {
     "data": {
      "text/plain": [
       "Pipeline(steps=[('preprocessor',\n",
       "                 ColumnTransformer(transformers=[('numerical scaler',\n",
       "                                                  Pipeline(steps=[('standard_scaler',\n",
       "                                                                   StandardScaler())]),\n",
       "                                                  ['Humidity(%)',\n",
       "                                                   'Pressure(hPa)',\n",
       "                                                   'Temperature(C)',\n",
       "                                                   'Wind Direction(Meteoro. '\n",
       "                                                   'Degree)',\n",
       "                                                   'Wind Speed(M/S)',\n",
       "                                                   'City Center Distance',\n",
       "                                                   'Airport Distance',\n",
       "                                                   'Elapsed']),\n",
       "                                                 ('one hot encoder',\n",
       "                                                  Pipeline(steps=[('one_hot_encoder',\n",
       "                                                                   OneHotEncoder(handle_unknown='ignore'))]),\n",
       "                                                  ['Pickup Community Area',\n",
       "                                                   'Holiday', 'Year', 'Month',\n",
       "                                                   'Day', 'Dayofweek',\n",
       "                                                   'Is_month_end',\n",
       "                                                   'Is_month_start',\n",
       "                                                   'Is_quarter_end',\n",
       "                                                   'Is_quarter_start',\n",
       "                                                   'Is_year_end',\n",
       "                                                   'Is_year_start', 'Dayofyear',\n",
       "                                                   'Week'])])),\n",
       "                ('svr model', SVR(degree=2, kernel='poly'))])"
      ]
     },
     "execution_count": 24,
     "metadata": {},
     "output_type": "execute_result"
    }
   ],
   "source": [
    "svr_poly_2 = SVR(kernel='poly', degree=2)\n",
    "\n",
    "pipeline = prediction_svm.make_pipeline_for_svm(cat_vars, cont_vars, svr_poly_2)\n",
    "\n",
    "pipeline"
   ]
  },
  {
   "cell_type": "code",
   "execution_count": 47,
   "metadata": {},
   "outputs": [],
   "source": [
    "# Define Model Parameters for Grid Search [0.5, 4, 32, 256]\n",
    "model_params = {\n",
    "                'svr model__C':[2**j for j in range(-1,10,3)],        \n",
    "                'svr model__epsilon':[2**j for j in range(-1,10,3)],  \n",
    "                'svr model__coef0':[2**j for j in range(-1,10,3)],    \n",
    "                'svr model__gamma':[2**j for j in range(-1,10,3)]    \n",
    "                }"
   ]
  },
  {
   "cell_type": "code",
   "execution_count": 48,
   "metadata": {
    "scrolled": false
   },
   "outputs": [
    {
     "name": "stdout",
     "output_type": "stream",
     "text": [
      "Running grid search for the model based on neg_mean_absolute_error\n",
      "Fitting 5 folds for each of 100 candidates, totalling 500 fits\n",
      "Best neg_mean_absolute_error Score was: -0.37834259640609386\n",
      "The best hyper parameters for the model are:\n",
      "{'svr model__gamma': 0.5, 'svr model__epsilon': 0.5, 'svr model__coef0': 256, 'svr model__C': 32}\n"
     ]
    }
   ],
   "source": [
    "# Grid Search\n",
    "prediction_svm.find_best_parameters_for_model(pipeline, \n",
    "                                              hourly_demand_train, \n",
    "                                              hourly_demand_train_target, \n",
    "                                              model_params, \n",
    "                                              scoring='neg_mean_absolute_error',\n",
    "                                              n_iter=100,\n",
    "                                              verbose=10)"
   ]
  },
  {
   "cell_type": "code",
   "execution_count": 60,
   "metadata": {},
   "outputs": [
    {
     "data": {
      "text/plain": [
       "Pipeline(steps=[('preprocessor',\n",
       "                 ColumnTransformer(transformers=[('numerical scaler',\n",
       "                                                  Pipeline(steps=[('standard_scaler',\n",
       "                                                                   StandardScaler())]),\n",
       "                                                  ['Humidity(%)',\n",
       "                                                   'Pressure(hPa)',\n",
       "                                                   'Temperature(C)',\n",
       "                                                   'Wind Direction(Meteoro. '\n",
       "                                                   'Degree)',\n",
       "                                                   'Wind Speed(M/S)',\n",
       "                                                   'City Center Distance',\n",
       "                                                   'Airport Distance',\n",
       "                                                   'Elapsed']),\n",
       "                                                 ('one hot encoder',\n",
       "                                                  Pipeline(steps=[('one_hot_encoder',\n",
       "                                                                   OneHotEncoder(handle_unknown='ignore'))]),\n",
       "                                                  ['Pickup Community Area',\n",
       "                                                   'Holiday', 'Year', 'Month',\n",
       "                                                   'Day', 'Dayofweek',\n",
       "                                                   'Is_month_end',\n",
       "                                                   'Is_month_start',\n",
       "                                                   'Is_quarter_end',\n",
       "                                                   'Is_quarter_start',\n",
       "                                                   'Is_year_end',\n",
       "                                                   'Is_year_start', 'Dayofyear',\n",
       "                                                   'Week'])])),\n",
       "                ('svr model',\n",
       "                 SVR(C=32, coef0=256, degree=2, epsilon=0.5, gamma=0.5,\n",
       "                     kernel='poly'))])"
      ]
     },
     "execution_count": 60,
     "metadata": {},
     "output_type": "execute_result"
    }
   ],
   "source": [
    "# Train Model with fitted hyperparameters\n",
    "svr_tuned = SVR(kernel='poly', degree=2, C=32, gamma=0.5, epsilon=0.5, coef0=256)\n",
    "\n",
    "pipeline = prediction_svm.make_pipeline_for_svm(cat_vars, cont_vars, svr_tuned)\n",
    "\n",
    "pipeline"
   ]
  },
  {
   "cell_type": "code",
   "execution_count": 61,
   "metadata": {},
   "outputs": [],
   "source": [
    "svr_tuned_fitted = pipeline.fit(hourly_demand_train, hourly_demand_train_target)"
   ]
  },
  {
   "cell_type": "code",
   "execution_count": 62,
   "metadata": {},
   "outputs": [
    {
     "name": "stdout",
     "output_type": "stream",
     "text": [
      "-------MODEL SCORES-------\n",
      "MAPE:  46.376 %\n",
      "sMAPE:  35.817 %\n",
      "MAE:  188.069\n",
      "MSE:  542813.288\n",
      "RMSE:  736.759\n",
      "R2:  93.715 %\n",
      "Max Residual Error:  13915.167\n"
     ]
    }
   ],
   "source": [
    "# Model Scores\n",
    "y_pred = pipeline.predict(X_test)\n",
    "\n",
    "prediction_utils.get_prediction_scores(y_true=np.exp(hourly_demand_test_target), \n",
    "                                       y_predicted=np.exp(y_pred), \n",
    "                                       s_mape=True,\n",
    "                                       prediction_type='svr')"
   ]
  },
  {
   "cell_type": "markdown",
   "metadata": {},
   "source": [
    "### Adding Demand to visualize Prediction in the end\n",
    "---"
   ]
  },
  {
   "cell_type": "code",
   "execution_count": null,
   "metadata": {
    "scrolled": false
   },
   "outputs": [],
   "source": [
    "hourly_demand_test['Demand (H)'] = np.exp(hourly_demand_test['Demand (H)']).astype(int)\n",
    "hourly_demand_test['Demand (H) Prediction'] = np.exp(y_pred).astype(int)\n",
    "hourly_demand_test"
   ]
  },
  {
   "cell_type": "markdown",
   "metadata": {},
   "source": [
    "## Hourly Model - Hex 7\n",
    "---\n",
    "\n",
    "In this section we build our svm model for demand prediction using hex 7 as our geographical attributes. We build different models and opt for the final model by comparing the overall evaluation metrics.\n",
    "\n",
    "---"
   ]
  },
  {
   "cell_type": "code",
   "execution_count": 65,
   "metadata": {},
   "outputs": [],
   "source": [
    "#Log transformation\n",
    "hourly_demand_hex_7['Demand (H)'] = np.log(hourly_demand_hex_7['Demand (H)'])"
   ]
  },
  {
   "cell_type": "code",
   "execution_count": 66,
   "metadata": {},
   "outputs": [],
   "source": [
    "hourly_demand_hex_7, target, cont_vars, cat_vars = (prediction_utils.\n",
    "                                             preprocess_data_for_prediction(hourly_demand_hex_7, \n",
    "                                                                            temporal_resolution='H'))"
   ]
  },
  {
   "cell_type": "code",
   "execution_count": 67,
   "metadata": {},
   "outputs": [],
   "source": [
    "#Train - Test Split\n",
    "hourly_demand_hex_7_train, hourly_demand_hex_7_test = prediction_svm.split_data_sets_for_svm(hourly_demand_hex_7, test_size=0.2)"
   ]
  },
  {
   "cell_type": "code",
   "execution_count": 68,
   "metadata": {},
   "outputs": [
    {
     "data": {
      "text/html": [
       "<div>\n",
       "<style scoped>\n",
       "    .dataframe tbody tr th:only-of-type {\n",
       "        vertical-align: middle;\n",
       "    }\n",
       "\n",
       "    .dataframe tbody tr th {\n",
       "        vertical-align: top;\n",
       "    }\n",
       "\n",
       "    .dataframe thead th {\n",
       "        text-align: right;\n",
       "    }\n",
       "</style>\n",
       "<table border=\"1\" class=\"dataframe\">\n",
       "  <thead>\n",
       "    <tr style=\"text-align: right;\">\n",
       "      <th></th>\n",
       "      <th>hex_7_pickup</th>\n",
       "      <th>Demand (D)</th>\n",
       "      <th>Humidity(%)</th>\n",
       "      <th>Pressure(hPa)</th>\n",
       "      <th>Temperature(C)</th>\n",
       "      <th>Wind Direction(Meteoro. Degree)</th>\n",
       "      <th>Wind Speed(M/S)</th>\n",
       "      <th>City Center Distance</th>\n",
       "      <th>Airport Distance</th>\n",
       "      <th>Holiday</th>\n",
       "      <th>...</th>\n",
       "      <th>Day</th>\n",
       "      <th>Dayofweek</th>\n",
       "      <th>Dayofyear</th>\n",
       "      <th>Is_month_end</th>\n",
       "      <th>Is_month_start</th>\n",
       "      <th>Is_quarter_end</th>\n",
       "      <th>Is_quarter_start</th>\n",
       "      <th>Is_year_end</th>\n",
       "      <th>Is_year_start</th>\n",
       "      <th>Elapsed</th>\n",
       "    </tr>\n",
       "  </thead>\n",
       "  <tbody>\n",
       "    <tr>\n",
       "      <th>0</th>\n",
       "      <td>608661331456819199</td>\n",
       "      <td>0.000000</td>\n",
       "      <td>100.0</td>\n",
       "      <td>1034.250777</td>\n",
       "      <td>-5.435774</td>\n",
       "      <td>249.09522</td>\n",
       "      <td>9.069681</td>\n",
       "      <td>25.700209</td>\n",
       "      <td>46.914475</td>\n",
       "      <td>True</td>\n",
       "      <td>...</td>\n",
       "      <td>1</td>\n",
       "      <td>3</td>\n",
       "      <td>1</td>\n",
       "      <td>False</td>\n",
       "      <td>True</td>\n",
       "      <td>False</td>\n",
       "      <td>True</td>\n",
       "      <td>False</td>\n",
       "      <td>True</td>\n",
       "      <td>1420070400</td>\n",
       "    </tr>\n",
       "    <tr>\n",
       "      <th>1</th>\n",
       "      <td>608661331540705279</td>\n",
       "      <td>0.693147</td>\n",
       "      <td>100.0</td>\n",
       "      <td>1034.250777</td>\n",
       "      <td>-5.435774</td>\n",
       "      <td>249.09522</td>\n",
       "      <td>9.069681</td>\n",
       "      <td>21.400592</td>\n",
       "      <td>41.959487</td>\n",
       "      <td>True</td>\n",
       "      <td>...</td>\n",
       "      <td>1</td>\n",
       "      <td>3</td>\n",
       "      <td>1</td>\n",
       "      <td>False</td>\n",
       "      <td>True</td>\n",
       "      <td>False</td>\n",
       "      <td>True</td>\n",
       "      <td>False</td>\n",
       "      <td>True</td>\n",
       "      <td>1420070400</td>\n",
       "    </tr>\n",
       "    <tr>\n",
       "      <th>2</th>\n",
       "      <td>608661346740862975</td>\n",
       "      <td>6.493754</td>\n",
       "      <td>100.0</td>\n",
       "      <td>1034.250777</td>\n",
       "      <td>-5.435774</td>\n",
       "      <td>249.09522</td>\n",
       "      <td>9.069681</td>\n",
       "      <td>16.027851</td>\n",
       "      <td>22.801143</td>\n",
       "      <td>True</td>\n",
       "      <td>...</td>\n",
       "      <td>1</td>\n",
       "      <td>3</td>\n",
       "      <td>1</td>\n",
       "      <td>False</td>\n",
       "      <td>True</td>\n",
       "      <td>False</td>\n",
       "      <td>True</td>\n",
       "      <td>False</td>\n",
       "      <td>True</td>\n",
       "      <td>1420070400</td>\n",
       "    </tr>\n",
       "    <tr>\n",
       "      <th>3</th>\n",
       "      <td>608661346757640191</td>\n",
       "      <td>1.098612</td>\n",
       "      <td>100.0</td>\n",
       "      <td>1034.250777</td>\n",
       "      <td>-5.435774</td>\n",
       "      <td>249.09522</td>\n",
       "      <td>9.069681</td>\n",
       "      <td>15.882880</td>\n",
       "      <td>25.185694</td>\n",
       "      <td>True</td>\n",
       "      <td>...</td>\n",
       "      <td>1</td>\n",
       "      <td>3</td>\n",
       "      <td>1</td>\n",
       "      <td>False</td>\n",
       "      <td>True</td>\n",
       "      <td>False</td>\n",
       "      <td>True</td>\n",
       "      <td>False</td>\n",
       "      <td>True</td>\n",
       "      <td>1420070400</td>\n",
       "    </tr>\n",
       "    <tr>\n",
       "      <th>4</th>\n",
       "      <td>608661346942189567</td>\n",
       "      <td>0.000000</td>\n",
       "      <td>100.0</td>\n",
       "      <td>1034.250777</td>\n",
       "      <td>-5.435774</td>\n",
       "      <td>249.09522</td>\n",
       "      <td>9.069681</td>\n",
       "      <td>16.123857</td>\n",
       "      <td>27.587471</td>\n",
       "      <td>True</td>\n",
       "      <td>...</td>\n",
       "      <td>1</td>\n",
       "      <td>3</td>\n",
       "      <td>1</td>\n",
       "      <td>False</td>\n",
       "      <td>True</td>\n",
       "      <td>False</td>\n",
       "      <td>True</td>\n",
       "      <td>False</td>\n",
       "      <td>True</td>\n",
       "      <td>1420070400</td>\n",
       "    </tr>\n",
       "  </tbody>\n",
       "</table>\n",
       "<p>5 rows × 23 columns</p>\n",
       "</div>"
      ],
      "text/plain": [
       "         hex_7_pickup  Demand (D)  Humidity(%)  Pressure(hPa)  Temperature(C)  \\\n",
       "0  608661331456819199    0.000000        100.0    1034.250777       -5.435774   \n",
       "1  608661331540705279    0.693147        100.0    1034.250777       -5.435774   \n",
       "2  608661346740862975    6.493754        100.0    1034.250777       -5.435774   \n",
       "3  608661346757640191    1.098612        100.0    1034.250777       -5.435774   \n",
       "4  608661346942189567    0.000000        100.0    1034.250777       -5.435774   \n",
       "\n",
       "   Wind Direction(Meteoro. Degree)  Wind Speed(M/S)  City Center Distance  \\\n",
       "0                        249.09522         9.069681             25.700209   \n",
       "1                        249.09522         9.069681             21.400592   \n",
       "2                        249.09522         9.069681             16.027851   \n",
       "3                        249.09522         9.069681             15.882880   \n",
       "4                        249.09522         9.069681             16.123857   \n",
       "\n",
       "   Airport Distance  Holiday  ...  Day  Dayofweek  Dayofyear  Is_month_end  \\\n",
       "0         46.914475     True  ...    1          3          1         False   \n",
       "1         41.959487     True  ...    1          3          1         False   \n",
       "2         22.801143     True  ...    1          3          1         False   \n",
       "3         25.185694     True  ...    1          3          1         False   \n",
       "4         27.587471     True  ...    1          3          1         False   \n",
       "\n",
       "   Is_month_start  Is_quarter_end  Is_quarter_start  Is_year_end  \\\n",
       "0            True           False              True        False   \n",
       "1            True           False              True        False   \n",
       "2            True           False              True        False   \n",
       "3            True           False              True        False   \n",
       "4            True           False              True        False   \n",
       "\n",
       "   Is_year_start     Elapsed  \n",
       "0           True  1420070400  \n",
       "1           True  1420070400  \n",
       "2           True  1420070400  \n",
       "3           True  1420070400  \n",
       "4           True  1420070400  \n",
       "\n",
       "[5 rows x 23 columns]"
      ]
     },
     "execution_count": 68,
     "metadata": {},
     "output_type": "execute_result"
    }
   ],
   "source": [
    "#Augmented data\n",
    "hourly_demand_hex_7_train.head(5)"
   ]
  },
  {
   "cell_type": "code",
   "execution_count": 69,
   "metadata": {
    "scrolled": true
   },
   "outputs": [
    {
     "name": "stdout",
     "output_type": "stream",
     "text": [
      "Continuous variables:\n",
      "['Humidity(%)', 'Pressure(hPa)', 'Temperature(C)', 'Wind Direction(Meteoro. Degree)', 'Wind Speed(M/S)', 'City Center Distance', 'Airport Distance', 'Elapsed']\n",
      "\n",
      "Categorical variables:\n",
      "['Holiday', 'Year', 'Month', 'Day', 'Dayofweek', 'Is_month_end', 'Is_month_start', 'Is_quarter_end', 'Is_quarter_start', 'Is_year_end', 'Is_year_start', 'Dayofyear', 'Week', 'hex_7_pickup']\n"
     ]
    }
   ],
   "source": [
    "#Categorical and Continuous Variables\n",
    "print('Continuous variables:')\n",
    "print(cont_vars)\n",
    "print('\\nCategorical variables:')\n",
    "print(cat_vars)"
   ]
  },
  {
   "cell_type": "code",
   "execution_count": 70,
   "metadata": {
    "scrolled": true
   },
   "outputs": [],
   "source": [
    "# Target Extraction\n",
    "hourly_demand_hex_7_train_target = hourly_demand_hex_7_train.pop(target)\n",
    "hourly_demand_hex_7_test_target = hourly_demand_hex_7_test[target]\n",
    "X_test = hourly_demand_hex_7_test.drop(columns=[target])"
   ]
  },
  {
   "cell_type": "code",
   "execution_count": 71,
   "metadata": {},
   "outputs": [
    {
     "data": {
      "text/plain": [
       "Pipeline(steps=[('preprocessor',\n",
       "                 ColumnTransformer(transformers=[('numerical scaler',\n",
       "                                                  Pipeline(steps=[('standard_scaler',\n",
       "                                                                   StandardScaler())]),\n",
       "                                                  ['Humidity(%)',\n",
       "                                                   'Pressure(hPa)',\n",
       "                                                   'Temperature(C)',\n",
       "                                                   'Wind Direction(Meteoro. '\n",
       "                                                   'Degree)',\n",
       "                                                   'Wind Speed(M/S)',\n",
       "                                                   'City Center Distance',\n",
       "                                                   'Airport Distance',\n",
       "                                                   'Elapsed']),\n",
       "                                                 ('one hot encoder',\n",
       "                                                  Pipeline(steps=[('one_hot_encoder',\n",
       "                                                                   OneHotEncoder(handle_unknown='ignore'))]),\n",
       "                                                  ['Holiday', 'Year', 'Month',\n",
       "                                                   'Day', 'Dayofweek',\n",
       "                                                   'Is_month_end',\n",
       "                                                   'Is_month_start',\n",
       "                                                   'Is_quarter_end',\n",
       "                                                   'Is_quarter_start',\n",
       "                                                   'Is_year_end',\n",
       "                                                   'Is_year_start', 'Dayofyear',\n",
       "                                                   'Week', 'hex_7_pickup'])])),\n",
       "                ('svr model',\n",
       "                 SVR(C=32, coef0=256, degree=2, epsilon=0.5, gamma=0.5,\n",
       "                     kernel='poly'))])"
      ]
     },
     "execution_count": 71,
     "metadata": {},
     "output_type": "execute_result"
    }
   ],
   "source": [
    "# Train same model with fitted hyperparameters\n",
    "svr_tuned = SVR(kernel='poly', degree=2, C=32, gamma=0.5, epsilon=0.5, coef0=256)\n",
    "\n",
    "pipeline = prediction_svm.make_pipeline_for_svm(cat_vars, cont_vars, svr_tuned)\n",
    "\n",
    "pipeline"
   ]
  },
  {
   "cell_type": "code",
   "execution_count": 61,
   "metadata": {},
   "outputs": [],
   "source": [
    "svr_tuned_fitted = pipeline.fit(hourly_demand_hex_7_train, hourly_demand_hex_7_train_target)"
   ]
  },
  {
   "cell_type": "code",
   "execution_count": 62,
   "metadata": {},
   "outputs": [
    {
     "name": "stdout",
     "output_type": "stream",
     "text": [
      "-------MODEL SCORES-------\n",
      "MAPE:  46.376 %\n",
      "sMAPE:  35.817 %\n",
      "MAE:  188.069\n",
      "MSE:  542813.288\n",
      "RMSE:  736.759\n",
      "R2:  93.715 %\n",
      "Max Residual Error:  13915.167\n"
     ]
    }
   ],
   "source": [
    "# Model Scores\n",
    "y_pred = pipeline.predict(X_test)\n",
    "\n",
    "prediction_utils.get_prediction_scores(y_true=np.exp(hourly_demand_hex_7_test_target), \n",
    "                                       y_predicted=np.exp(y_pred), \n",
    "                                       s_mape=True,\n",
    "                                       prediction_type='svr')"
   ]
  },
  {
   "cell_type": "markdown",
   "metadata": {},
   "source": [
    "## Hourly Model - Hex 6\n",
    "---\n",
    "\n",
    "In this section we build our svm model for demand prediction using hex 6 as our geographical attributes. We build different models and opt for the final model by comparing the overall evaluation metrics.\n",
    "\n",
    "---"
   ]
  },
  {
   "cell_type": "code",
   "execution_count": 72,
   "metadata": {},
   "outputs": [],
   "source": [
    "#Log transformation\n",
    "hourly_demand_hex_6['Demand (H)'] = np.log(hourly_demand_hex_6['Demand (H)'])"
   ]
  },
  {
   "cell_type": "code",
   "execution_count": 73,
   "metadata": {},
   "outputs": [],
   "source": [
    "hourly_demand_hex_6, target, cont_vars, cat_vars = (prediction_utils.\n",
    "                                             preprocess_data_for_prediction(hourly_demand_hex_6, \n",
    "                                                                            temporal_resolution='H'))"
   ]
  },
  {
   "cell_type": "code",
   "execution_count": 74,
   "metadata": {},
   "outputs": [],
   "source": [
    "#Train - Test Split\n",
    "hourly_demand_hex_6_train, hourly_demand_hex_6_test = prediction_svm.split_data_sets_for_svm(hourly_demand_hex_6, test_size=0.2)"
   ]
  },
  {
   "cell_type": "code",
   "execution_count": 75,
   "metadata": {},
   "outputs": [
    {
     "data": {
      "text/html": [
       "<div>\n",
       "<style scoped>\n",
       "    .dataframe tbody tr th:only-of-type {\n",
       "        vertical-align: middle;\n",
       "    }\n",
       "\n",
       "    .dataframe tbody tr th {\n",
       "        vertical-align: top;\n",
       "    }\n",
       "\n",
       "    .dataframe thead th {\n",
       "        text-align: right;\n",
       "    }\n",
       "</style>\n",
       "<table border=\"1\" class=\"dataframe\">\n",
       "  <thead>\n",
       "    <tr style=\"text-align: right;\">\n",
       "      <th></th>\n",
       "      <th>hex_6_pickup</th>\n",
       "      <th>Demand (D)</th>\n",
       "      <th>Humidity(%)</th>\n",
       "      <th>Pressure(hPa)</th>\n",
       "      <th>Temperature(C)</th>\n",
       "      <th>Wind Direction(Meteoro. Degree)</th>\n",
       "      <th>Wind Speed(M/S)</th>\n",
       "      <th>City Center Distance</th>\n",
       "      <th>Airport Distance</th>\n",
       "      <th>Holiday</th>\n",
       "      <th>...</th>\n",
       "      <th>Day</th>\n",
       "      <th>Dayofweek</th>\n",
       "      <th>Dayofyear</th>\n",
       "      <th>Is_month_end</th>\n",
       "      <th>Is_month_start</th>\n",
       "      <th>Is_quarter_end</th>\n",
       "      <th>Is_quarter_start</th>\n",
       "      <th>Is_year_end</th>\n",
       "      <th>Is_year_start</th>\n",
       "      <th>Elapsed</th>\n",
       "    </tr>\n",
       "  </thead>\n",
       "  <tbody>\n",
       "    <tr>\n",
       "      <th>0</th>\n",
       "      <td>604157731930111999</td>\n",
       "      <td>1.098612</td>\n",
       "      <td>100.0</td>\n",
       "      <td>1034.250777</td>\n",
       "      <td>-5.435774</td>\n",
       "      <td>249.09522</td>\n",
       "      <td>9.069681</td>\n",
       "      <td>23.517915</td>\n",
       "      <td>44.436933</td>\n",
       "      <td>True</td>\n",
       "      <td>...</td>\n",
       "      <td>1</td>\n",
       "      <td>3</td>\n",
       "      <td>1</td>\n",
       "      <td>False</td>\n",
       "      <td>True</td>\n",
       "      <td>False</td>\n",
       "      <td>True</td>\n",
       "      <td>False</td>\n",
       "      <td>True</td>\n",
       "      <td>1420070400</td>\n",
       "    </tr>\n",
       "    <tr>\n",
       "      <th>1</th>\n",
       "      <td>604157731930111999</td>\n",
       "      <td>1.098612</td>\n",
       "      <td>100.0</td>\n",
       "      <td>1034.250777</td>\n",
       "      <td>-5.435774</td>\n",
       "      <td>249.09522</td>\n",
       "      <td>9.069681</td>\n",
       "      <td>23.517915</td>\n",
       "      <td>44.436933</td>\n",
       "      <td>True</td>\n",
       "      <td>...</td>\n",
       "      <td>1</td>\n",
       "      <td>3</td>\n",
       "      <td>1</td>\n",
       "      <td>False</td>\n",
       "      <td>True</td>\n",
       "      <td>False</td>\n",
       "      <td>True</td>\n",
       "      <td>False</td>\n",
       "      <td>True</td>\n",
       "      <td>1420070400</td>\n",
       "    </tr>\n",
       "    <tr>\n",
       "      <th>2</th>\n",
       "      <td>604157747230932991</td>\n",
       "      <td>6.498282</td>\n",
       "      <td>100.0</td>\n",
       "      <td>1034.250777</td>\n",
       "      <td>-5.435774</td>\n",
       "      <td>249.09522</td>\n",
       "      <td>9.069681</td>\n",
       "      <td>16.027851</td>\n",
       "      <td>22.801143</td>\n",
       "      <td>True</td>\n",
       "      <td>...</td>\n",
       "      <td>1</td>\n",
       "      <td>3</td>\n",
       "      <td>1</td>\n",
       "      <td>False</td>\n",
       "      <td>True</td>\n",
       "      <td>False</td>\n",
       "      <td>True</td>\n",
       "      <td>False</td>\n",
       "      <td>True</td>\n",
       "      <td>1420070400</td>\n",
       "    </tr>\n",
       "    <tr>\n",
       "      <th>3</th>\n",
       "      <td>604157747230932991</td>\n",
       "      <td>6.498282</td>\n",
       "      <td>100.0</td>\n",
       "      <td>1034.250777</td>\n",
       "      <td>-5.435774</td>\n",
       "      <td>249.09522</td>\n",
       "      <td>9.069681</td>\n",
       "      <td>16.027851</td>\n",
       "      <td>22.801143</td>\n",
       "      <td>True</td>\n",
       "      <td>...</td>\n",
       "      <td>1</td>\n",
       "      <td>3</td>\n",
       "      <td>1</td>\n",
       "      <td>False</td>\n",
       "      <td>True</td>\n",
       "      <td>False</td>\n",
       "      <td>True</td>\n",
       "      <td>False</td>\n",
       "      <td>True</td>\n",
       "      <td>1420070400</td>\n",
       "    </tr>\n",
       "    <tr>\n",
       "      <th>4</th>\n",
       "      <td>604157747365150719</td>\n",
       "      <td>1.386294</td>\n",
       "      <td>100.0</td>\n",
       "      <td>1034.250777</td>\n",
       "      <td>-5.435774</td>\n",
       "      <td>249.09522</td>\n",
       "      <td>9.069681</td>\n",
       "      <td>18.393286</td>\n",
       "      <td>29.242876</td>\n",
       "      <td>True</td>\n",
       "      <td>...</td>\n",
       "      <td>1</td>\n",
       "      <td>3</td>\n",
       "      <td>1</td>\n",
       "      <td>False</td>\n",
       "      <td>True</td>\n",
       "      <td>False</td>\n",
       "      <td>True</td>\n",
       "      <td>False</td>\n",
       "      <td>True</td>\n",
       "      <td>1420070400</td>\n",
       "    </tr>\n",
       "  </tbody>\n",
       "</table>\n",
       "<p>5 rows × 23 columns</p>\n",
       "</div>"
      ],
      "text/plain": [
       "         hex_6_pickup  Demand (D)  Humidity(%)  Pressure(hPa)  Temperature(C)  \\\n",
       "0  604157731930111999    1.098612        100.0    1034.250777       -5.435774   \n",
       "1  604157731930111999    1.098612        100.0    1034.250777       -5.435774   \n",
       "2  604157747230932991    6.498282        100.0    1034.250777       -5.435774   \n",
       "3  604157747230932991    6.498282        100.0    1034.250777       -5.435774   \n",
       "4  604157747365150719    1.386294        100.0    1034.250777       -5.435774   \n",
       "\n",
       "   Wind Direction(Meteoro. Degree)  Wind Speed(M/S)  City Center Distance  \\\n",
       "0                        249.09522         9.069681             23.517915   \n",
       "1                        249.09522         9.069681             23.517915   \n",
       "2                        249.09522         9.069681             16.027851   \n",
       "3                        249.09522         9.069681             16.027851   \n",
       "4                        249.09522         9.069681             18.393286   \n",
       "\n",
       "   Airport Distance  Holiday  ...  Day  Dayofweek  Dayofyear  Is_month_end  \\\n",
       "0         44.436933     True  ...    1          3          1         False   \n",
       "1         44.436933     True  ...    1          3          1         False   \n",
       "2         22.801143     True  ...    1          3          1         False   \n",
       "3         22.801143     True  ...    1          3          1         False   \n",
       "4         29.242876     True  ...    1          3          1         False   \n",
       "\n",
       "   Is_month_start  Is_quarter_end  Is_quarter_start  Is_year_end  \\\n",
       "0            True           False              True        False   \n",
       "1            True           False              True        False   \n",
       "2            True           False              True        False   \n",
       "3            True           False              True        False   \n",
       "4            True           False              True        False   \n",
       "\n",
       "   Is_year_start     Elapsed  \n",
       "0           True  1420070400  \n",
       "1           True  1420070400  \n",
       "2           True  1420070400  \n",
       "3           True  1420070400  \n",
       "4           True  1420070400  \n",
       "\n",
       "[5 rows x 23 columns]"
      ]
     },
     "execution_count": 75,
     "metadata": {},
     "output_type": "execute_result"
    }
   ],
   "source": [
    "#Augmented data\n",
    "hourly_demand_hex_6_train.head(5)"
   ]
  },
  {
   "cell_type": "code",
   "execution_count": 76,
   "metadata": {
    "scrolled": true
   },
   "outputs": [
    {
     "name": "stdout",
     "output_type": "stream",
     "text": [
      "Continuous variables:\n",
      "['Humidity(%)', 'Pressure(hPa)', 'Temperature(C)', 'Wind Direction(Meteoro. Degree)', 'Wind Speed(M/S)', 'City Center Distance', 'Airport Distance', 'Elapsed']\n",
      "\n",
      "Categorical variables:\n",
      "['hex_6_pickup', 'Holiday', 'Year', 'Month', 'Day', 'Dayofweek', 'Is_month_end', 'Is_month_start', 'Is_quarter_end', 'Is_quarter_start', 'Is_year_end', 'Is_year_start', 'Dayofyear', 'Week']\n"
     ]
    }
   ],
   "source": [
    "#Categorical and Continuous Variables\n",
    "print('Continuous variables:')\n",
    "print(cont_vars)\n",
    "print('\\nCategorical variables:')\n",
    "print(cat_vars)"
   ]
  },
  {
   "cell_type": "code",
   "execution_count": 77,
   "metadata": {
    "scrolled": true
   },
   "outputs": [],
   "source": [
    "# Target Extraction\n",
    "hourly_demand_hex_6_train_target = hourly_demand_hex_6_train.pop(target)\n",
    "hourly_demand_hex_6_test_target = hourly_demand_hex_6_test[target]\n",
    "X_test = hourly_demand_hex_6_test.drop(columns=[target])"
   ]
  },
  {
   "cell_type": "code",
   "execution_count": 78,
   "metadata": {},
   "outputs": [
    {
     "data": {
      "text/plain": [
       "Pipeline(steps=[('preprocessor',\n",
       "                 ColumnTransformer(transformers=[('numerical scaler',\n",
       "                                                  Pipeline(steps=[('standard_scaler',\n",
       "                                                                   StandardScaler())]),\n",
       "                                                  ['Humidity(%)',\n",
       "                                                   'Pressure(hPa)',\n",
       "                                                   'Temperature(C)',\n",
       "                                                   'Wind Direction(Meteoro. '\n",
       "                                                   'Degree)',\n",
       "                                                   'Wind Speed(M/S)',\n",
       "                                                   'City Center Distance',\n",
       "                                                   'Airport Distance',\n",
       "                                                   'Elapsed']),\n",
       "                                                 ('one hot encoder',\n",
       "                                                  Pipeline(steps=[('one_hot_encoder',\n",
       "                                                                   OneHotEncoder(handle_unknown='ignore'))]),\n",
       "                                                  ['hex_6_pickup', 'Holiday',\n",
       "                                                   'Year', 'Month', 'Day',\n",
       "                                                   'Dayofweek', 'Is_month_end',\n",
       "                                                   'Is_month_start',\n",
       "                                                   'Is_quarter_end',\n",
       "                                                   'Is_quarter_start',\n",
       "                                                   'Is_year_end',\n",
       "                                                   'Is_year_start', 'Dayofyear',\n",
       "                                                   'Week'])])),\n",
       "                ('svr model',\n",
       "                 SVR(C=32, coef0=256, degree=2, epsilon=0.5, gamma=0.5,\n",
       "                     kernel='poly'))])"
      ]
     },
     "execution_count": 78,
     "metadata": {},
     "output_type": "execute_result"
    }
   ],
   "source": [
    "# Train same model with fitted hyperparameters\n",
    "svr_tuned = SVR(kernel='poly', degree=2, C=32, gamma=0.5, epsilon=0.5, coef0=256)\n",
    "\n",
    "pipeline = prediction_svm.make_pipeline_for_svm(cat_vars, cont_vars, svr_tuned)\n",
    "\n",
    "pipeline"
   ]
  },
  {
   "cell_type": "code",
   "execution_count": 61,
   "metadata": {},
   "outputs": [],
   "source": [
    "svr_tuned_fitted = pipeline.fit(hourly_demand_hex_6_train, hourly_demand_hex_6_train_target)"
   ]
  },
  {
   "cell_type": "code",
   "execution_count": 62,
   "metadata": {},
   "outputs": [
    {
     "name": "stdout",
     "output_type": "stream",
     "text": [
      "-------MODEL SCORES-------\n",
      "MAPE:  46.376 %\n",
      "sMAPE:  35.817 %\n",
      "MAE:  188.069\n",
      "MSE:  542813.288\n",
      "RMSE:  736.759\n",
      "R2:  93.715 %\n",
      "Max Residual Error:  13915.167\n"
     ]
    }
   ],
   "source": [
    "# Model Scores\n",
    "y_pred = pipeline.predict(X_test)\n",
    "\n",
    "prediction_utils.get_prediction_scores(y_true=np.exp(hourly_demand_hex_6_test_target), \n",
    "                                       y_predicted=np.exp(y_pred), \n",
    "                                       s_mape=True,\n",
    "                                       prediction_type='svr')"
   ]
  },
  {
   "cell_type": "code",
   "execution_count": 21,
   "metadata": {},
   "outputs": [],
   "source": [
    "#Memory Cleaning\n",
    "del hourly_demand\n",
    "del hourly_demand_hex_6\n",
    "del hourly_demand_hex_7"
   ]
  },
  {
   "cell_type": "markdown",
   "metadata": {},
   "source": [
    "## SVR Result Analysis\n",
    "---\n",
    "In this section we visualize part of our prediction results and comment on their shortfalls."
   ]
  },
  {
   "cell_type": "markdown",
   "metadata": {},
   "source": [
    "### Daily Model\n",
    "---\n",
    "First we will visualize the daily model predictions and comment on its shortfalls."
   ]
  },
  {
   "cell_type": "code",
   "execution_count": null,
   "metadata": {
    "pycharm": {
     "name": "#%%\n"
    }
   },
   "outputs": [],
   "source": [
    "create_prediction_error_line_plt_nn(daily_demand_test,\"D\")"
   ]
  },
  {
   "cell_type": "markdown",
   "metadata": {},
   "source": [
    "The above graph shows comparison of the the average actual daily demand by day and the predicted demand. As we observed the model has learnt the time series seasonality of the date but struggles to adapt to spacial event/days. This will cause the model to over estimate the demand at these days."
   ]
  },
  {
   "cell_type": "code",
   "execution_count": null,
   "metadata": {
    "pycharm": {
     "name": "#%%\n"
    }
   },
   "outputs": [],
   "source": [
    "#Residual Column\n",
    "daily_demand_test['Residual Error'] = np.abs(daily_demand_test['Demand (D)'] -\n",
    "                                      daily_demand_test['Demand (D) Predictions'])\n",
    "#Daily Residual Error Choropleth\n",
    "eda.create_choropleth(df = daily_demand_test,target_col = 'Residual Error',\n",
    "                  agg_col='Pickup Community Area',target_name='Avg. Residual Error',\n",
    "                      agg_strategy='mean',cmap=\"BuPu\")"
   ]
  },
  {
   "cell_type": "markdown",
   "metadata": {},
   "source": [
    "As we expected our model struggles the most in the community areas with high demand per day like Chicago city center. The model can be also improved upon with respect to the air port demand predictions."
   ]
  },
  {
   "cell_type": "markdown",
   "metadata": {},
   "source": [
    "### 6H Model\n",
    "---\n",
    "After analyzing the daily model, we will visualize the six hour model and compare the results with daily model. We show thus the effect of decreasing the time span in predicting the taxi demand in Chicago."
   ]
  },
  {
   "cell_type": "code",
   "execution_count": null,
   "metadata": {
    "pycharm": {
     "name": "#%%\n"
    }
   },
   "outputs": [],
   "source": [
    "create_prediction_error_line_plt_nn(six_hour_demand_test,\"6H\")"
   ]
  },
  {
   "cell_type": "markdown",
   "metadata": {},
   "source": [
    "As expected now the model behaves better toward anamolies in the data, since the aggregated number of trips are reduced in each time bucket in comparison to the daily model. The 6H model is also to capture the seasonality of the data like the daily model."
   ]
  },
  {
   "cell_type": "code",
   "execution_count": null,
   "metadata": {
    "pycharm": {
     "name": "#%%\n"
    }
   },
   "outputs": [],
   "source": [
    "#Residual Column\n",
    "six_hour_demand_test['Residual Error'] = np.abs(six_hour_demand_test['Demand (6H)'] -\n",
    "                                      six_hour_demand_test['Demand (6H) Predictions'])\n",
    "#6H Residual Error Choropleth\n",
    "eda.create_choropleth(df = six_hour_demand_test,target_col = 'Residual Error',\n",
    "                  agg_col='Pickup Community Area',target_name='Avg. Residual Error',\n",
    "                      agg_strategy='mean',cmap=\"BuPu\")"
   ]
  },
  {
   "cell_type": "markdown",
   "metadata": {},
   "source": [
    "Like the daily mode, the 6H model also struggles the most in the community areas with high demand per day like the city center and the community areas near the center. This model also shows weakness in capturing the demand pattern of the air port."
   ]
  },
  {
   "cell_type": "markdown",
   "metadata": {},
   "source": [
    "### Hourly Model\n",
    "---\n",
    "After analyzing the daily and 6H models, we will visualize our hourly model and compare the results with the last two models."
   ]
  },
  {
   "cell_type": "code",
   "execution_count": null,
   "metadata": {
    "pycharm": {
     "name": "#%%\n"
    }
   },
   "outputs": [],
   "source": [
    "create_prediction_error_line_plt_nn(hourly_demand_test,\"H\")"
   ]
  },
  {
   "cell_type": "markdown",
   "metadata": {},
   "source": [
    "The hourly model performs significantly better towards demand anomalies as we already expected."
   ]
  },
  {
   "cell_type": "code",
   "execution_count": null,
   "metadata": {
    "pycharm": {
     "name": "#%%\n"
    }
   },
   "outputs": [],
   "source": [
    "#Residual Column\n",
    "hourly_demand_test['Residual Error'] = np.abs(hourly_demand_test['Demand (H)'] -\n",
    "                                      hourly_demand_test['Demand (H) Predictions'])\n",
    "#Hourly Residual Error Choropleth\n",
    "eda.create_choropleth(df = hourly_demand_test,target_col = 'Residual Error',\n",
    "                  agg_col='Pickup Community Area',target_name='Avg. Residual Error',\n",
    "                      agg_strategy='mean',cmap=\"BuPu\")"
   ]
  },
  {
   "cell_type": "markdown",
   "metadata": {},
   "source": [
    "The daily and 6H geographical error pattern holds true for the hourly data, showing the significant variance in the date even when aggregated hourly."
   ]
  },
  {
   "cell_type": "markdown",
   "metadata": {},
   "source": [
    "## Overall Scores & Outlook\n",
    "---\n",
    "In this notebook, we have built three models predicting the Chicago taxi demand pattern in 2015 using neural networks.\n",
    "\n",
    "We used a feed-forward network model to predict daily,6H, and hourly taxi demand in Chicago. We found out that the underlying data has high variance and data has temporal seasonality. In Addition, we observed a positive improvement in our models when we used hex 6 as the spatial input attributes rather than community areas. (All the metrics are listed in the table below)\n",
    "The models can however be improved using more data (E.g. the taxi data in 2016) so that the model learns all relevant seasonalities. One of the shortcomings of all the models was the inability to detect anomalies in the data. The main reason for this is the cut-off that we used for the test set. This cut-off makes highly relevant features like week number or day of the year nonrelevant for predicting the demand since the model did not see these features in the training data. Using random splitting was also not a viable option since we have time-series data.\n",
    "\n",
    "Furthermore, a stochastic grid search can be performed to tune the hyperparameters and the structure of the models even further, using libraries like scorch. Lastly, since one of our customer segments is airport passengers with a substantial impact on demand, we could benefit from a calendar detailing flight schedules.\n",
    "\n",
    "Lastly, an LTSM network can be used instead of a feed-forward network in future projects in this area. The use of an LTSM network will enable the model to remember the temporal seasonalities more effectively."
   ]
  },
  {
   "cell_type": "markdown",
   "metadata": {},
   "source": [
    "**Overall SVR Metrics (TODO)**"
   ]
  },
  {
   "cell_type": "markdown",
   "metadata": {},
   "source": [
    "| Model | Spatial Resolution | MAE | MAPE | sMAPE | R2 | RMSE | MSE | Max Res. Error |\n",
    "| --- | --- | --- | --- | --- | --- | --- | --- | --- |\n",
    "| **Daily** | Community Areas | 181.01 | 33.98% | 38.07% | 93.20% | 766.17 | 587015.87 | 12184.10\n",
    "|  | Hex 7 | 204.95 | 35.46% | 39.64% | 90.73% | 887.56 | 787777.37 | 17869.43\n",
    "|  | Hex 6 | 528.16 | 34.77% | 27.75% | 91.28% | 2025.03 | 4100764.0 | 32912.37\n",
    "| **6H** | Community Areas | 69.33 | 49.52% | 37.09% | 89.26% | 300.98 | 90592.17 | 7447.84\n",
    "|  | Hex 7 | 72.51 | 49.18% | 36.86% | 90.32% | 293.96 | 86414.59 | 7918.62\n",
    "|  | Hex 6 | 145.04 | 49.00% | 34.64% | 92.65% | 536.15 | 287457.34 | 9768.53\n",
    "| **Hourly** | Community Areas | 17.53 | 48.91% | 35.53% | 89.97% | 61.57 | 3791.27 | 1492.38\n",
    "|  | Hex 7 | 17.68 | 48.49% | 35.97% | 89.07% | 62.75 | 3937.80 | 1411.58\n",
    "|  | Hex 6 | 30.65 | 50.24% | 35.55% | 90.22% | 117.63 | 13837.09 | 2553.89"
   ]
  },
  {
   "cell_type": "code",
   "execution_count": null,
   "metadata": {
    "pycharm": {
     "name": "#%%\n"
    }
   },
   "outputs": [],
   "source": []
  }
 ],
 "metadata": {
  "kernelspec": {
   "display_name": "Python 3",
   "language": "python",
   "name": "python3"
  },
  "language_info": {
   "codemirror_mode": {
    "name": "ipython",
    "version": 3
   },
   "file_extension": ".py",
   "mimetype": "text/x-python",
   "name": "python",
   "nbconvert_exporter": "python",
   "pygments_lexer": "ipython3",
   "version": "3.9.5"
  }
 },
 "nbformat": 4,
 "nbformat_minor": 1
}